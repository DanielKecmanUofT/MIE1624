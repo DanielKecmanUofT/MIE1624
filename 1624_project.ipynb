{
  "nbformat": 4,
  "nbformat_minor": 0,
  "metadata": {
    "kernelspec": {
      "display_name": "Python 3",
      "language": "python",
      "name": "python3"
    },
    "language_info": {
      "codemirror_mode": {
        "name": "ipython",
        "version": 3
      },
      "file_extension": ".py",
      "mimetype": "text/x-python",
      "name": "python",
      "nbconvert_exporter": "python",
      "pygments_lexer": "ipython3",
      "version": "3.6.5"
    },
    "colab": {
      "name": "1624 project.ipynb",
      "provenance": []
    }
  },
  "cells": [
    {
      "cell_type": "code",
      "metadata": {
        "scrolled": true,
        "id": "Fihk_H32uC43",
        "colab_type": "code",
        "colab": {},
        "outputId": "a5267787-046c-4655-bb01-08d204baf6e0"
      },
      "source": [
        "import json\n",
        "import pandas as pd\n",
        "from sklearn.feature_extraction.text import CountVectorizer\n",
        "from sklearn.feature_extraction.text import TfidfTransformer\n",
        "import numpy as np\n",
        "import pandas as pd\n",
        "import re\n",
        "import collections\n",
        "import nltk  \n",
        "import bs4 as bs  \n",
        "import urllib.request  \n",
        "import nltk \n",
        "nltk.download('stopwords')\n",
        "from nltk.corpus import stopwords \n",
        "stop_words = set(stopwords.words('english'))\n",
        "from nltk.tokenize import word_tokenize\n",
        "nltk.download('punkt')\n",
        "import pandas as pd\n",
        "import gensim\n",
        "import seaborn as sns\n",
        "import matplotlib.pyplot as plt\n",
        "import numpy as np\n",
        "import xgboost as xgb\n",
        "from sklearn.linear_model import LogisticRegression\n",
        "from sklearn.model_selection import train_test_split\n",
        "from sklearn import preprocessing"
      ],
      "execution_count": 0,
      "outputs": [
        {
          "output_type": "stream",
          "text": [
            "[nltk_data] Downloading package stopwords to\n",
            "[nltk_data]     C:\\Users\\周奇寰\\AppData\\Roaming\\nltk_data...\n",
            "[nltk_data]   Package stopwords is already up-to-date!\n",
            "[nltk_data] Downloading package punkt to\n",
            "[nltk_data]     C:\\Users\\周奇寰\\AppData\\Roaming\\nltk_data...\n",
            "[nltk_data]   Package punkt is already up-to-date!\n"
          ],
          "name": "stdout"
        }
      ]
    },
    {
      "cell_type": "code",
      "metadata": {
        "id": "5-okBFVguC5E",
        "colab_type": "code",
        "colab": {},
        "outputId": "4f41b5a2-093e-4e54-eddc-4defa9cff16a"
      },
      "source": [
        "#Read a pre-trained word2vec model\n",
        "model = gensim.models.KeyedVectors.load_word2vec_format('GoogleNews-vectors-negative300.bin', binary = True) \n",
        "\n",
        "model.vector_size"
      ],
      "execution_count": 0,
      "outputs": [
        {
          "output_type": "execute_result",
          "data": {
            "text/plain": [
              "300"
            ]
          },
          "metadata": {
            "tags": []
          },
          "execution_count": 2
        }
      ]
    },
    {
      "cell_type": "code",
      "metadata": {
        "id": "1GrgSb2buC5S",
        "colab_type": "code",
        "colab": {},
        "outputId": "afc1f3a8-7fc9-479c-d729-1551e117261d"
      },
      "source": [
        "#Read the metadata file\n",
        "with open('C:/Users/周奇寰/Desktop/train/train.json') as json_file:\n",
        "    data = json.load(json_file)\n",
        "    \n",
        "csv_result = pd.DataFrame(data)\n",
        "csv_result\n"
      ],
      "execution_count": 0,
      "outputs": [
        {
          "output_type": "execute_result",
          "data": {
            "text/html": [
              "<div>\n",
              "<style scoped>\n",
              "    .dataframe tbody tr th:only-of-type {\n",
              "        vertical-align: middle;\n",
              "    }\n",
              "\n",
              "    .dataframe tbody tr th {\n",
              "        vertical-align: top;\n",
              "    }\n",
              "\n",
              "    .dataframe thead th {\n",
              "        text-align: right;\n",
              "    }\n",
              "</style>\n",
              "<table border=\"1\" class=\"dataframe\">\n",
              "  <thead>\n",
              "    <tr style=\"text-align: right;\">\n",
              "      <th></th>\n",
              "      <th>claim</th>\n",
              "      <th>claimant</th>\n",
              "      <th>date</th>\n",
              "      <th>id</th>\n",
              "      <th>label</th>\n",
              "      <th>related_articles</th>\n",
              "    </tr>\n",
              "  </thead>\n",
              "  <tbody>\n",
              "    <tr>\n",
              "      <th>0</th>\n",
              "      <td>A line from George Orwell's novel 1984 predict...</td>\n",
              "      <td></td>\n",
              "      <td>2017-07-17</td>\n",
              "      <td>0</td>\n",
              "      <td>0</td>\n",
              "      <td>[122094, 122580, 130685, 134765]</td>\n",
              "    </tr>\n",
              "    <tr>\n",
              "      <th>1</th>\n",
              "      <td>Maine legislature candidate Leslie Gibson insu...</td>\n",
              "      <td></td>\n",
              "      <td>2018-03-17</td>\n",
              "      <td>1</td>\n",
              "      <td>2</td>\n",
              "      <td>[106868, 127320, 128060]</td>\n",
              "    </tr>\n",
              "    <tr>\n",
              "      <th>2</th>\n",
              "      <td>A 17-year-old girl named Alyssa Carson is bein...</td>\n",
              "      <td></td>\n",
              "      <td>2018-07-18</td>\n",
              "      <td>4</td>\n",
              "      <td>1</td>\n",
              "      <td>[132130, 132132, 149722]</td>\n",
              "    </tr>\n",
              "    <tr>\n",
              "      <th>3</th>\n",
              "      <td>In 1988 author Roald Dahl penned an open lette...</td>\n",
              "      <td></td>\n",
              "      <td>2019-02-04</td>\n",
              "      <td>5</td>\n",
              "      <td>2</td>\n",
              "      <td>[123254, 123418, 127464]</td>\n",
              "    </tr>\n",
              "    <tr>\n",
              "      <th>4</th>\n",
              "      <td>When it comes to fighting terrorism, \"Another ...</td>\n",
              "      <td>Hillary Clinton</td>\n",
              "      <td>2016-03-22</td>\n",
              "      <td>6</td>\n",
              "      <td>2</td>\n",
              "      <td>[41099, 89899, 72543, 82644, 95344, 88361]</td>\n",
              "    </tr>\n",
              "    <tr>\n",
              "      <th>5</th>\n",
              "      <td>Rhode Island is \"almost dead last\" among North...</td>\n",
              "      <td>Leonidas Raptakis</td>\n",
              "      <td>2014-02-11</td>\n",
              "      <td>7</td>\n",
              "      <td>2</td>\n",
              "      <td>[8284, 3768, 20091, 82368, 73148, 4493]</td>\n",
              "    </tr>\n",
              "    <tr>\n",
              "      <th>6</th>\n",
              "      <td>The poorest counties in the U.S. are in Appala...</td>\n",
              "      <td>Jim Webb</td>\n",
              "      <td>2014-11-19</td>\n",
              "      <td>8</td>\n",
              "      <td>1</td>\n",
              "      <td>[70709, 70708]</td>\n",
              "    </tr>\n",
              "    <tr>\n",
              "      <th>7</th>\n",
              "      <td>Koch Industries paid the legal fees of George ...</td>\n",
              "      <td></td>\n",
              "      <td>2013-07-18</td>\n",
              "      <td>9</td>\n",
              "      <td>0</td>\n",
              "      <td>[120591, 120592, 127866, 129483]</td>\n",
              "    </tr>\n",
              "    <tr>\n",
              "      <th>8</th>\n",
              "      <td>\"Minnesota, Michigan, Iowa already have 70 mph...</td>\n",
              "      <td>Robin Vos</td>\n",
              "      <td>2013-08-22</td>\n",
              "      <td>11</td>\n",
              "      <td>1</td>\n",
              "      <td>[69547, 80095, 7994, 81116, 77621]</td>\n",
              "    </tr>\n",
              "    <tr>\n",
              "      <th>9</th>\n",
              "      <td>\"FBI Uniform Crime Report for 2016 shows more ...</td>\n",
              "      <td>Nick Schroer</td>\n",
              "      <td>2017-10-17</td>\n",
              "      <td>12</td>\n",
              "      <td>1</td>\n",
              "      <td>[72012, 26005, 43481, 55671]</td>\n",
              "    </tr>\n",
              "    <tr>\n",
              "      <th>10</th>\n",
              "      <td>\"Pelosi Sinks to New Low, Tells Dems: If You ...</td>\n",
              "      <td>Western Journal</td>\n",
              "      <td>2018-08-21</td>\n",
              "      <td>13</td>\n",
              "      <td>0</td>\n",
              "      <td>[27062, 27061, 20679, 61872, 20677]</td>\n",
              "    </tr>\n",
              "    <tr>\n",
              "      <th>11</th>\n",
              "      <td>Socialist teachers at South Charlotte Middle S...</td>\n",
              "      <td></td>\n",
              "      <td>2018-10-17</td>\n",
              "      <td>14</td>\n",
              "      <td>1</td>\n",
              "      <td>[104287, 144516]</td>\n",
              "    </tr>\n",
              "    <tr>\n",
              "      <th>12</th>\n",
              "      <td>Says that in the U.S. Capitol, \"Stephen F. Aus...</td>\n",
              "      <td>Jonathan Saenz</td>\n",
              "      <td>2018-03-28</td>\n",
              "      <td>16</td>\n",
              "      <td>1</td>\n",
              "      <td>[16639, 16657, 16667]</td>\n",
              "    </tr>\n",
              "    <tr>\n",
              "      <th>13</th>\n",
              "      <td>NASA Has Just Confirmed Earth Has A New Moon</td>\n",
              "      <td>Bloggers</td>\n",
              "      <td>2018-03-29</td>\n",
              "      <td>17</td>\n",
              "      <td>0</td>\n",
              "      <td>[91455, 72179, 18903, 42080]</td>\n",
              "    </tr>\n",
              "    <tr>\n",
              "      <th>14</th>\n",
              "      <td>\"We are always going to need architects, docto...</td>\n",
              "      <td>Mike Parson</td>\n",
              "      <td>2019-01-24</td>\n",
              "      <td>18</td>\n",
              "      <td>2</td>\n",
              "      <td>[42685, 32007, 33562]</td>\n",
              "    </tr>\n",
              "    <tr>\n",
              "      <th>15</th>\n",
              "      <td>\"Justin Amash is rated Michigan’s No. 1 conser...</td>\n",
              "      <td>Justin Amash</td>\n",
              "      <td>2014-07-01</td>\n",
              "      <td>19</td>\n",
              "      <td>0</td>\n",
              "      <td>[22383, 72467, 72466, 86512, 73422, 83732, 83730]</td>\n",
              "    </tr>\n",
              "    <tr>\n",
              "      <th>16</th>\n",
              "      <td>BREAKING: NFL Owner Listens to Trump, Fires P...</td>\n",
              "      <td>Multiple websites</td>\n",
              "      <td>2017-09-29</td>\n",
              "      <td>20</td>\n",
              "      <td>0</td>\n",
              "      <td>[20907, 73380, 22540, 2010]</td>\n",
              "    </tr>\n",
              "    <tr>\n",
              "      <th>17</th>\n",
              "      <td>Says one year ago, \"no cities in the South had...</td>\n",
              "      <td>Greg Casar</td>\n",
              "      <td>2019-04-24</td>\n",
              "      <td>21</td>\n",
              "      <td>0</td>\n",
              "      <td>[87410, 18608, 57313, 35767, 85310, 43631]</td>\n",
              "    </tr>\n",
              "    <tr>\n",
              "      <th>18</th>\n",
              "      <td>Says North Carolina Republican Senate candidat...</td>\n",
              "      <td>Kay  Hagan</td>\n",
              "      <td>2014-04-17</td>\n",
              "      <td>22</td>\n",
              "      <td>1</td>\n",
              "      <td>[81476, 67734, 73202, 96584, 73198]</td>\n",
              "    </tr>\n",
              "    <tr>\n",
              "      <th>19</th>\n",
              "      <td>Says \"the mandate is 71 times that a child’s b...</td>\n",
              "      <td>Jason Conger</td>\n",
              "      <td>2013-06-19</td>\n",
              "      <td>23</td>\n",
              "      <td>0</td>\n",
              "      <td>[87273, 87227, 11765]</td>\n",
              "    </tr>\n",
              "    <tr>\n",
              "      <th>20</th>\n",
              "      <td>Mergers and integration in agribusiness \"squee...</td>\n",
              "      <td>Elizabeth Warren</td>\n",
              "      <td>2019-03-27</td>\n",
              "      <td>24</td>\n",
              "      <td>1</td>\n",
              "      <td>[20286, 48586, 20910, 36432, 36441, 36437, 569...</td>\n",
              "    </tr>\n",
              "    <tr>\n",
              "      <th>21</th>\n",
              "      <td>Says the Human Rights Campaign is secretly funded</td>\n",
              "      <td>Pat McCrory</td>\n",
              "      <td>2016-05-24</td>\n",
              "      <td>25</td>\n",
              "      <td>1</td>\n",
              "      <td>[19453, 48239, 48228, 69167]</td>\n",
              "    </tr>\n",
              "    <tr>\n",
              "      <th>22</th>\n",
              "      <td>A scientific study demonstrated that conspirac...</td>\n",
              "      <td></td>\n",
              "      <td>2018-09-13</td>\n",
              "      <td>26</td>\n",
              "      <td>0</td>\n",
              "      <td>[105261, 150637, 154409]</td>\n",
              "    </tr>\n",
              "    <tr>\n",
              "      <th>23</th>\n",
              "      <td>Eggs and popcorn kernels can be cooked by plac...</td>\n",
              "      <td></td>\n",
              "      <td>2017-11-06</td>\n",
              "      <td>27</td>\n",
              "      <td>0</td>\n",
              "      <td>[111152, 142303]</td>\n",
              "    </tr>\n",
              "    <tr>\n",
              "      <th>24</th>\n",
              "      <td>Says Bernie Sanders \"was against the auto bail...</td>\n",
              "      <td>Hillary Clinton</td>\n",
              "      <td>2016-03-06</td>\n",
              "      <td>28</td>\n",
              "      <td>1</td>\n",
              "      <td>[95550, 56194, 60046, 78162, 21930]</td>\n",
              "    </tr>\n",
              "    <tr>\n",
              "      <th>25</th>\n",
              "      <td>Congress has approved the creation of a taxpay...</td>\n",
              "      <td></td>\n",
              "      <td>2016-12-29</td>\n",
              "      <td>29</td>\n",
              "      <td>1</td>\n",
              "      <td>[122509, 124298, 128806, 162047]</td>\n",
              "    </tr>\n",
              "    <tr>\n",
              "      <th>26</th>\n",
              "      <td>In 2008, \"candidate Obama, he's not even presi...</td>\n",
              "      <td>Kimberley Strassel</td>\n",
              "      <td>2017-05-28</td>\n",
              "      <td>30</td>\n",
              "      <td>0</td>\n",
              "      <td>[79629, 21682, 75456, 78190, 46593, 60479, 87559]</td>\n",
              "    </tr>\n",
              "    <tr>\n",
              "      <th>27</th>\n",
              "      <td>\"This war has been going on for over five year...</td>\n",
              "      <td>Vitaly Churkin</td>\n",
              "      <td>2016-10-14</td>\n",
              "      <td>32</td>\n",
              "      <td>1</td>\n",
              "      <td>[115012, 122194, 115826]</td>\n",
              "    </tr>\n",
              "    <tr>\n",
              "      <th>28</th>\n",
              "      <td>\"Chicago now has City ID Cards which allow ill...</td>\n",
              "      <td>Bloggers</td>\n",
              "      <td>2019-02-28</td>\n",
              "      <td>33</td>\n",
              "      <td>0</td>\n",
              "      <td>[32175, 50380, 49922, 49555, 14758]</td>\n",
              "    </tr>\n",
              "    <tr>\n",
              "      <th>29</th>\n",
              "      <td>The Wharton School wrote an open letter to Don...</td>\n",
              "      <td></td>\n",
              "      <td>2016-07-17</td>\n",
              "      <td>34</td>\n",
              "      <td>1</td>\n",
              "      <td>[134147, 161983]</td>\n",
              "    </tr>\n",
              "    <tr>\n",
              "      <th>...</th>\n",
              "      <td>...</td>\n",
              "      <td>...</td>\n",
              "      <td>...</td>\n",
              "      <td>...</td>\n",
              "      <td>...</td>\n",
              "      <td>...</td>\n",
              "    </tr>\n",
              "    <tr>\n",
              "      <th>15525</th>\n",
              "      <td>\"We have an 80 percent graduation rate in high...</td>\n",
              "      <td>Jeb Bush</td>\n",
              "      <td>2015-04-17</td>\n",
              "      <td>17111</td>\n",
              "      <td>2</td>\n",
              "      <td>[79715, 4966, 32220, 92822]</td>\n",
              "    </tr>\n",
              "    <tr>\n",
              "      <th>15526</th>\n",
              "      <td>\"Democrat Jon Ossoff would be a disaster in Co...</td>\n",
              "      <td>Donald Trump</td>\n",
              "      <td>2017-04-18</td>\n",
              "      <td>17112</td>\n",
              "      <td>1</td>\n",
              "      <td>[59229, 58243, 59052, 58923, 59238, 88895, 768...</td>\n",
              "    </tr>\n",
              "    <tr>\n",
              "      <th>15527</th>\n",
              "      <td>Reddit postings show the shooter in Jacksonvi...</td>\n",
              "      <td>Various websites</td>\n",
              "      <td>2018-08-30</td>\n",
              "      <td>17113</td>\n",
              "      <td>0</td>\n",
              "      <td>[33298, 27066, 41639, 27071, 27072, 27070, 270...</td>\n",
              "    </tr>\n",
              "    <tr>\n",
              "      <th>15528</th>\n",
              "      <td>“We’re making more than  ever off oil and gas ...</td>\n",
              "      <td>Jerry Patterson</td>\n",
              "      <td>2010-04-27</td>\n",
              "      <td>17114</td>\n",
              "      <td>1</td>\n",
              "      <td>[92265, 90352]</td>\n",
              "    </tr>\n",
              "    <tr>\n",
              "      <th>15529</th>\n",
              "      <td>\"The government is trying to now close the Lin...</td>\n",
              "      <td>Glenn Beck</td>\n",
              "      <td>2010-06-28</td>\n",
              "      <td>17115</td>\n",
              "      <td>0</td>\n",
              "      <td>[78697, 86478]</td>\n",
              "    </tr>\n",
              "    <tr>\n",
              "      <th>15530</th>\n",
              "      <td>The Trump administration blocked public access...</td>\n",
              "      <td></td>\n",
              "      <td>2018-03-14</td>\n",
              "      <td>17116</td>\n",
              "      <td>1</td>\n",
              "      <td>[127389, 129926, 132953, 143459, 143460, 14346...</td>\n",
              "    </tr>\n",
              "    <tr>\n",
              "      <th>15531</th>\n",
              "      <td>WalMart has put all their Christian employees ...</td>\n",
              "      <td></td>\n",
              "      <td>2015-04-08</td>\n",
              "      <td>17117</td>\n",
              "      <td>0</td>\n",
              "      <td>[108442, 114152]</td>\n",
              "    </tr>\n",
              "    <tr>\n",
              "      <th>15532</th>\n",
              "      <td>Sen. Joe Lieberman's \"home state has a public ...</td>\n",
              "      <td>Keith Olbermann</td>\n",
              "      <td>2009-10-27</td>\n",
              "      <td>17119</td>\n",
              "      <td>1</td>\n",
              "      <td>[84153, 91761]</td>\n",
              "    </tr>\n",
              "    <tr>\n",
              "      <th>15533</th>\n",
              "      <td>“These are the same people that said Saddam Hu...</td>\n",
              "      <td>Donald Trump</td>\n",
              "      <td>2016-12-09</td>\n",
              "      <td>17120</td>\n",
              "      <td>1</td>\n",
              "      <td>[61264, 80263, 57526, 54087]</td>\n",
              "    </tr>\n",
              "    <tr>\n",
              "      <th>15534</th>\n",
              "      <td>\"One-third of the counties — think of it, one-...</td>\n",
              "      <td>Donald Trump</td>\n",
              "      <td>2017-03-13</td>\n",
              "      <td>17121</td>\n",
              "      <td>2</td>\n",
              "      <td>[62819, 7821]</td>\n",
              "    </tr>\n",
              "    <tr>\n",
              "      <th>15535</th>\n",
              "      <td>Says Rep. Martha McSally \"is a #FlipFlopBorder...</td>\n",
              "      <td>Kelli  Ward</td>\n",
              "      <td>2018-03-16</td>\n",
              "      <td>17122</td>\n",
              "      <td>1</td>\n",
              "      <td>[67183, 20180, 41193, 28711, 20181, 34090, 201...</td>\n",
              "    </tr>\n",
              "    <tr>\n",
              "      <th>15536</th>\n",
              "      <td>Californians pay \"the highest electricity bill...</td>\n",
              "      <td>John Cox</td>\n",
              "      <td>2017-10-21</td>\n",
              "      <td>17123</td>\n",
              "      <td>0</td>\n",
              "      <td>[72463, 32554, 82046]</td>\n",
              "    </tr>\n",
              "    <tr>\n",
              "      <th>15537</th>\n",
              "      <td>Says the Steele dossier \"was responsible for s...</td>\n",
              "      <td>Donald Trump</td>\n",
              "      <td>2018-07-23</td>\n",
              "      <td>17124</td>\n",
              "      <td>0</td>\n",
              "      <td>[50977, 50988, 47338]</td>\n",
              "    </tr>\n",
              "    <tr>\n",
              "      <th>15538</th>\n",
              "      <td>Donald Trump dropped out of the presidential r...</td>\n",
              "      <td></td>\n",
              "      <td>2016-08-20</td>\n",
              "      <td>17125</td>\n",
              "      <td>0</td>\n",
              "      <td>[91555, 91556, 91557]</td>\n",
              "    </tr>\n",
              "    <tr>\n",
              "      <th>15539</th>\n",
              "      <td>A photograph shows a musher riding over snowle...</td>\n",
              "      <td></td>\n",
              "      <td>2017-11-06</td>\n",
              "      <td>17126</td>\n",
              "      <td>2</td>\n",
              "      <td>[108255, 109040, 110398, 114040, 114042, 11410...</td>\n",
              "    </tr>\n",
              "    <tr>\n",
              "      <th>15540</th>\n",
              "      <td>\"5.7 million -- that’s how many illegal immigr...</td>\n",
              "      <td>Ainsley Earhardt</td>\n",
              "      <td>2017-06-20</td>\n",
              "      <td>17127</td>\n",
              "      <td>0</td>\n",
              "      <td>[81362, 54803, 88380, 79869, 59084, 59582, 595...</td>\n",
              "    </tr>\n",
              "    <tr>\n",
              "      <th>15541</th>\n",
              "      <td>\"Evidence surfaces of Vatican funding caravans...</td>\n",
              "      <td>PuppetStringNews.com</td>\n",
              "      <td>2018-11-25</td>\n",
              "      <td>17128</td>\n",
              "      <td>0</td>\n",
              "      <td>[30308, 43940]</td>\n",
              "    </tr>\n",
              "    <tr>\n",
              "      <th>15542</th>\n",
              "      <td>\"The average premium across this country has ...</td>\n",
              "      <td>Mike Pence</td>\n",
              "      <td>2017-05-25</td>\n",
              "      <td>17129</td>\n",
              "      <td>0</td>\n",
              "      <td>[32457, 7958]</td>\n",
              "    </tr>\n",
              "    <tr>\n",
              "      <th>15543</th>\n",
              "      <td>At an Arizona town hall event, Sen. Jeff Flake...</td>\n",
              "      <td></td>\n",
              "      <td>2017-04-17</td>\n",
              "      <td>17130</td>\n",
              "      <td>1</td>\n",
              "      <td>[143451, 145474]</td>\n",
              "    </tr>\n",
              "    <tr>\n",
              "      <th>15544</th>\n",
              "      <td>A photograph shows Donald Trump, Muhammad Ali,...</td>\n",
              "      <td></td>\n",
              "      <td>2018-08-13</td>\n",
              "      <td>17131</td>\n",
              "      <td>2</td>\n",
              "      <td>[118938, 125644, 127592]</td>\n",
              "    </tr>\n",
              "    <tr>\n",
              "      <th>15545</th>\n",
              "      <td>A photograph shows a man mowing his lawn durin...</td>\n",
              "      <td></td>\n",
              "      <td>2017-06-05</td>\n",
              "      <td>17132</td>\n",
              "      <td>2</td>\n",
              "      <td>[107244, 115705, 142189]</td>\n",
              "    </tr>\n",
              "    <tr>\n",
              "      <th>15546</th>\n",
              "      <td>President Obama signed a law permanently prote...</td>\n",
              "      <td></td>\n",
              "      <td>2017-01-09</td>\n",
              "      <td>17133</td>\n",
              "      <td>1</td>\n",
              "      <td>[107369, 122972, 147969, 38987, 151939]</td>\n",
              "    </tr>\n",
              "    <tr>\n",
              "      <th>15547</th>\n",
              "      <td>\"I haven’t really proposed (phasing out aid to...</td>\n",
              "      <td>Rand Paul</td>\n",
              "      <td>2014-08-04</td>\n",
              "      <td>17134</td>\n",
              "      <td>0</td>\n",
              "      <td>[88399, 91476, 11371, 91483, 7021]</td>\n",
              "    </tr>\n",
              "    <tr>\n",
              "      <th>15548</th>\n",
              "      <td>Says Aaron Rodgers \"is not the highest tax rat...</td>\n",
              "      <td>Paul Ryan</td>\n",
              "      <td>2017-08-21</td>\n",
              "      <td>17135</td>\n",
              "      <td>1</td>\n",
              "      <td>[53671, 30934, 94982, 30953, 30949]</td>\n",
              "    </tr>\n",
              "    <tr>\n",
              "      <th>15549</th>\n",
              "      <td>\"They (Clinton and Obama) have never to my kno...</td>\n",
              "      <td>John McCain</td>\n",
              "      <td>2008-05-13</td>\n",
              "      <td>17136</td>\n",
              "      <td>0</td>\n",
              "      <td>[67611, 67699, 67610, 82239, 86166, 3653, 7112...</td>\n",
              "    </tr>\n",
              "    <tr>\n",
              "      <th>15550</th>\n",
              "      <td>The omnibus spending bill has \"9,427 pork barr...</td>\n",
              "      <td>John McCain</td>\n",
              "      <td>2009-02-25</td>\n",
              "      <td>17137</td>\n",
              "      <td>2</td>\n",
              "      <td>[82947, 93503]</td>\n",
              "    </tr>\n",
              "    <tr>\n",
              "      <th>15551</th>\n",
              "      <td>Representative Maxine Waters said Muslims were...</td>\n",
              "      <td></td>\n",
              "      <td>2017-06-06</td>\n",
              "      <td>17138</td>\n",
              "      <td>0</td>\n",
              "      <td>[103780, 104726, 126025]</td>\n",
              "    </tr>\n",
              "    <tr>\n",
              "      <th>15552</th>\n",
              "      <td>\"We were not, I repeat, were not told that wat...</td>\n",
              "      <td>Nancy Pelosi</td>\n",
              "      <td>2009-04-23</td>\n",
              "      <td>17139</td>\n",
              "      <td>0</td>\n",
              "      <td>[11331, 68915, 2186, 2185, 88418, 81950]</td>\n",
              "    </tr>\n",
              "    <tr>\n",
              "      <th>15553</th>\n",
              "      <td>As of August 2017, members of the public could...</td>\n",
              "      <td></td>\n",
              "      <td>2018-05-14</td>\n",
              "      <td>17140</td>\n",
              "      <td>2</td>\n",
              "      <td>[121353, 152864, 154411]</td>\n",
              "    </tr>\n",
              "    <tr>\n",
              "      <th>15554</th>\n",
              "      <td>\"We don't get any of that information\" from th...</td>\n",
              "      <td>Scott Walker</td>\n",
              "      <td>2016-12-23</td>\n",
              "      <td>17141</td>\n",
              "      <td>1</td>\n",
              "      <td>[69545, 88929, 14698]</td>\n",
              "    </tr>\n",
              "  </tbody>\n",
              "</table>\n",
              "<p>15555 rows × 6 columns</p>\n",
              "</div>"
            ],
            "text/plain": [
              "                                                   claim  \\\n",
              "0      A line from George Orwell's novel 1984 predict...   \n",
              "1      Maine legislature candidate Leslie Gibson insu...   \n",
              "2      A 17-year-old girl named Alyssa Carson is bein...   \n",
              "3      In 1988 author Roald Dahl penned an open lette...   \n",
              "4      When it comes to fighting terrorism, \"Another ...   \n",
              "5      Rhode Island is \"almost dead last\" among North...   \n",
              "6      The poorest counties in the U.S. are in Appala...   \n",
              "7      Koch Industries paid the legal fees of George ...   \n",
              "8      \"Minnesota, Michigan, Iowa already have 70 mph...   \n",
              "9      \"FBI Uniform Crime Report for 2016 shows more ...   \n",
              "10      \"Pelosi Sinks to New Low, Tells Dems: If You ...   \n",
              "11     Socialist teachers at South Charlotte Middle S...   \n",
              "12     Says that in the U.S. Capitol, \"Stephen F. Aus...   \n",
              "13          NASA Has Just Confirmed Earth Has A New Moon   \n",
              "14     \"We are always going to need architects, docto...   \n",
              "15     \"Justin Amash is rated Michigan’s No. 1 conser...   \n",
              "16      BREAKING: NFL Owner Listens to Trump, Fires P...   \n",
              "17     Says one year ago, \"no cities in the South had...   \n",
              "18     Says North Carolina Republican Senate candidat...   \n",
              "19     Says \"the mandate is 71 times that a child’s b...   \n",
              "20     Mergers and integration in agribusiness \"squee...   \n",
              "21     Says the Human Rights Campaign is secretly funded   \n",
              "22     A scientific study demonstrated that conspirac...   \n",
              "23     Eggs and popcorn kernels can be cooked by plac...   \n",
              "24     Says Bernie Sanders \"was against the auto bail...   \n",
              "25     Congress has approved the creation of a taxpay...   \n",
              "26     In 2008, \"candidate Obama, he's not even presi...   \n",
              "27     \"This war has been going on for over five year...   \n",
              "28     \"Chicago now has City ID Cards which allow ill...   \n",
              "29     The Wharton School wrote an open letter to Don...   \n",
              "...                                                  ...   \n",
              "15525  \"We have an 80 percent graduation rate in high...   \n",
              "15526  \"Democrat Jon Ossoff would be a disaster in Co...   \n",
              "15527   Reddit postings show the shooter in Jacksonvi...   \n",
              "15528  “We’re making more than  ever off oil and gas ...   \n",
              "15529  \"The government is trying to now close the Lin...   \n",
              "15530  The Trump administration blocked public access...   \n",
              "15531  WalMart has put all their Christian employees ...   \n",
              "15532  Sen. Joe Lieberman's \"home state has a public ...   \n",
              "15533  “These are the same people that said Saddam Hu...   \n",
              "15534  \"One-third of the counties — think of it, one-...   \n",
              "15535  Says Rep. Martha McSally \"is a #FlipFlopBorder...   \n",
              "15536  Californians pay \"the highest electricity bill...   \n",
              "15537  Says the Steele dossier \"was responsible for s...   \n",
              "15538  Donald Trump dropped out of the presidential r...   \n",
              "15539  A photograph shows a musher riding over snowle...   \n",
              "15540  \"5.7 million -- that’s how many illegal immigr...   \n",
              "15541  \"Evidence surfaces of Vatican funding caravans...   \n",
              "15542   \"The average premium across this country has ...   \n",
              "15543  At an Arizona town hall event, Sen. Jeff Flake...   \n",
              "15544  A photograph shows Donald Trump, Muhammad Ali,...   \n",
              "15545  A photograph shows a man mowing his lawn durin...   \n",
              "15546  President Obama signed a law permanently prote...   \n",
              "15547  \"I haven’t really proposed (phasing out aid to...   \n",
              "15548  Says Aaron Rodgers \"is not the highest tax rat...   \n",
              "15549  \"They (Clinton and Obama) have never to my kno...   \n",
              "15550  The omnibus spending bill has \"9,427 pork barr...   \n",
              "15551  Representative Maxine Waters said Muslims were...   \n",
              "15552  \"We were not, I repeat, were not told that wat...   \n",
              "15553  As of August 2017, members of the public could...   \n",
              "15554  \"We don't get any of that information\" from th...   \n",
              "\n",
              "                   claimant        date     id  label  \\\n",
              "0                            2017-07-17      0      0   \n",
              "1                            2018-03-17      1      2   \n",
              "2                            2018-07-18      4      1   \n",
              "3                            2019-02-04      5      2   \n",
              "4           Hillary Clinton  2016-03-22      6      2   \n",
              "5         Leonidas Raptakis  2014-02-11      7      2   \n",
              "6                  Jim Webb  2014-11-19      8      1   \n",
              "7                            2013-07-18      9      0   \n",
              "8                 Robin Vos  2013-08-22     11      1   \n",
              "9              Nick Schroer  2017-10-17     12      1   \n",
              "10          Western Journal  2018-08-21     13      0   \n",
              "11                           2018-10-17     14      1   \n",
              "12           Jonathan Saenz  2018-03-28     16      1   \n",
              "13                 Bloggers  2018-03-29     17      0   \n",
              "14              Mike Parson  2019-01-24     18      2   \n",
              "15             Justin Amash  2014-07-01     19      0   \n",
              "16        Multiple websites  2017-09-29     20      0   \n",
              "17               Greg Casar  2019-04-24     21      0   \n",
              "18               Kay  Hagan  2014-04-17     22      1   \n",
              "19             Jason Conger  2013-06-19     23      0   \n",
              "20         Elizabeth Warren  2019-03-27     24      1   \n",
              "21              Pat McCrory  2016-05-24     25      1   \n",
              "22                           2018-09-13     26      0   \n",
              "23                           2017-11-06     27      0   \n",
              "24          Hillary Clinton  2016-03-06     28      1   \n",
              "25                           2016-12-29     29      1   \n",
              "26       Kimberley Strassel  2017-05-28     30      0   \n",
              "27           Vitaly Churkin  2016-10-14     32      1   \n",
              "28                 Bloggers  2019-02-28     33      0   \n",
              "29                           2016-07-17     34      1   \n",
              "...                     ...         ...    ...    ...   \n",
              "15525              Jeb Bush  2015-04-17  17111      2   \n",
              "15526          Donald Trump  2017-04-18  17112      1   \n",
              "15527      Various websites  2018-08-30  17113      0   \n",
              "15528       Jerry Patterson  2010-04-27  17114      1   \n",
              "15529            Glenn Beck  2010-06-28  17115      0   \n",
              "15530                        2018-03-14  17116      1   \n",
              "15531                        2015-04-08  17117      0   \n",
              "15532       Keith Olbermann  2009-10-27  17119      1   \n",
              "15533          Donald Trump  2016-12-09  17120      1   \n",
              "15534          Donald Trump  2017-03-13  17121      2   \n",
              "15535           Kelli  Ward  2018-03-16  17122      1   \n",
              "15536              John Cox  2017-10-21  17123      0   \n",
              "15537          Donald Trump  2018-07-23  17124      0   \n",
              "15538                        2016-08-20  17125      0   \n",
              "15539                        2017-11-06  17126      2   \n",
              "15540      Ainsley Earhardt  2017-06-20  17127      0   \n",
              "15541  PuppetStringNews.com  2018-11-25  17128      0   \n",
              "15542            Mike Pence  2017-05-25  17129      0   \n",
              "15543                        2017-04-17  17130      1   \n",
              "15544                        2018-08-13  17131      2   \n",
              "15545                        2017-06-05  17132      2   \n",
              "15546                        2017-01-09  17133      1   \n",
              "15547             Rand Paul  2014-08-04  17134      0   \n",
              "15548             Paul Ryan  2017-08-21  17135      1   \n",
              "15549           John McCain  2008-05-13  17136      0   \n",
              "15550           John McCain  2009-02-25  17137      2   \n",
              "15551                        2017-06-06  17138      0   \n",
              "15552          Nancy Pelosi  2009-04-23  17139      0   \n",
              "15553                        2018-05-14  17140      2   \n",
              "15554          Scott Walker  2016-12-23  17141      1   \n",
              "\n",
              "                                        related_articles  \n",
              "0                       [122094, 122580, 130685, 134765]  \n",
              "1                               [106868, 127320, 128060]  \n",
              "2                               [132130, 132132, 149722]  \n",
              "3                               [123254, 123418, 127464]  \n",
              "4             [41099, 89899, 72543, 82644, 95344, 88361]  \n",
              "5                [8284, 3768, 20091, 82368, 73148, 4493]  \n",
              "6                                         [70709, 70708]  \n",
              "7                       [120591, 120592, 127866, 129483]  \n",
              "8                     [69547, 80095, 7994, 81116, 77621]  \n",
              "9                           [72012, 26005, 43481, 55671]  \n",
              "10                   [27062, 27061, 20679, 61872, 20677]  \n",
              "11                                      [104287, 144516]  \n",
              "12                                 [16639, 16657, 16667]  \n",
              "13                          [91455, 72179, 18903, 42080]  \n",
              "14                                 [42685, 32007, 33562]  \n",
              "15     [22383, 72467, 72466, 86512, 73422, 83732, 83730]  \n",
              "16                           [20907, 73380, 22540, 2010]  \n",
              "17            [87410, 18608, 57313, 35767, 85310, 43631]  \n",
              "18                   [81476, 67734, 73202, 96584, 73198]  \n",
              "19                                 [87273, 87227, 11765]  \n",
              "20     [20286, 48586, 20910, 36432, 36441, 36437, 569...  \n",
              "21                          [19453, 48239, 48228, 69167]  \n",
              "22                              [105261, 150637, 154409]  \n",
              "23                                      [111152, 142303]  \n",
              "24                   [95550, 56194, 60046, 78162, 21930]  \n",
              "25                      [122509, 124298, 128806, 162047]  \n",
              "26     [79629, 21682, 75456, 78190, 46593, 60479, 87559]  \n",
              "27                              [115012, 122194, 115826]  \n",
              "28                   [32175, 50380, 49922, 49555, 14758]  \n",
              "29                                      [134147, 161983]  \n",
              "...                                                  ...  \n",
              "15525                        [79715, 4966, 32220, 92822]  \n",
              "15526  [59229, 58243, 59052, 58923, 59238, 88895, 768...  \n",
              "15527  [33298, 27066, 41639, 27071, 27072, 27070, 270...  \n",
              "15528                                     [92265, 90352]  \n",
              "15529                                     [78697, 86478]  \n",
              "15530  [127389, 129926, 132953, 143459, 143460, 14346...  \n",
              "15531                                   [108442, 114152]  \n",
              "15532                                     [84153, 91761]  \n",
              "15533                       [61264, 80263, 57526, 54087]  \n",
              "15534                                      [62819, 7821]  \n",
              "15535  [67183, 20180, 41193, 28711, 20181, 34090, 201...  \n",
              "15536                              [72463, 32554, 82046]  \n",
              "15537                              [50977, 50988, 47338]  \n",
              "15538                              [91555, 91556, 91557]  \n",
              "15539  [108255, 109040, 110398, 114040, 114042, 11410...  \n",
              "15540  [81362, 54803, 88380, 79869, 59084, 59582, 595...  \n",
              "15541                                     [30308, 43940]  \n",
              "15542                                      [32457, 7958]  \n",
              "15543                                   [143451, 145474]  \n",
              "15544                           [118938, 125644, 127592]  \n",
              "15545                           [107244, 115705, 142189]  \n",
              "15546            [107369, 122972, 147969, 38987, 151939]  \n",
              "15547                 [88399, 91476, 11371, 91483, 7021]  \n",
              "15548                [53671, 30934, 94982, 30953, 30949]  \n",
              "15549  [67611, 67699, 67610, 82239, 86166, 3653, 7112...  \n",
              "15550                                     [82947, 93503]  \n",
              "15551                           [103780, 104726, 126025]  \n",
              "15552           [11331, 68915, 2186, 2185, 88418, 81950]  \n",
              "15553                           [121353, 152864, 154411]  \n",
              "15554                              [69545, 88929, 14698]  \n",
              "\n",
              "[15555 rows x 6 columns]"
            ]
          },
          "metadata": {
            "tags": []
          },
          "execution_count": 3
        }
      ]
    },
    {
      "cell_type": "code",
      "metadata": {
        "id": "iNnM7hDGuC5e",
        "colab_type": "code",
        "colab": {}
      },
      "source": [
        "#Read leabels\n",
        "labels = csv_result['label']\n",
        "labels_list = [label for label in labels]"
      ],
      "execution_count": 0,
      "outputs": []
    },
    {
      "cell_type": "code",
      "metadata": {
        "id": "a_jtG9qXuC5l",
        "colab_type": "code",
        "colab": {}
      },
      "source": [
        "#Convert to vectors\n",
        "def document_vector(word2vec_model, doc):\n",
        "    # remove out-of-vocabulary words\n",
        "    doc = [word for word in doc if word in model.vocab]\n",
        "    return np.mean(model[doc], axis=0)"
      ],
      "execution_count": 0,
      "outputs": []
    },
    {
      "cell_type": "code",
      "metadata": {
        "id": "xD-hrtPMuC5x",
        "colab_type": "code",
        "colab": {}
      },
      "source": [
        "#Preprocessing the data\n",
        "def preprocess(text):\n",
        "    text = text.lower()\n",
        "    doc = word_tokenize(text)\n",
        "    doc = [word for word in doc if word not in stop_words]\n",
        "    doc = [word for word in doc if word.isalpha()] \n",
        "    return doc"
      ],
      "execution_count": 0,
      "outputs": []
    },
    {
      "cell_type": "code",
      "metadata": {
        "id": "tzhQuwWVuC55",
        "colab_type": "code",
        "colab": {},
        "outputId": "479350a8-5835-439b-f218-efb55e2b87bf"
      },
      "source": [
        "# Grab all the titles \n",
        "article_titles = csv_result['claim']\n",
        "# Create a list of strings, one for each title\n",
        "titles_list = [title for title in article_titles]\n",
        "\n",
        "claim_result = []\n",
        "# Preprocessing the claim\n",
        "for i in range(len(article_titles)):\n",
        "    string = ''.join(article_titles[i])\n",
        "    claim_result.append(preprocess(string))"
      ],
      "execution_count": 0,
      "outputs": [
        {
          "output_type": "stream",
          "text": [
            "['line', 'george', 'orwell', 'novel', 'predicts', 'power', 'smartphones']\n"
          ],
          "name": "stdout"
        }
      ]
    },
    {
      "cell_type": "code",
      "metadata": {
        "id": "TBrfChp1uC6D",
        "colab_type": "code",
        "colab": {},
        "outputId": "97221a40-a7cb-41df-c84c-421421040d4a"
      },
      "source": [
        "# Convert the claims to 300-dim vectors\n",
        "claim_vec = []\n",
        "for i in range(len(claim_result)):\n",
        "    claim_vec.append(document_vector(model, claim_result[i]))\n",
        "claim_vec[0]"
      ],
      "execution_count": 0,
      "outputs": [
        {
          "output_type": "execute_result",
          "data": {
            "text/plain": [
              "array([ 7.94270858e-02, -1.83919277e-02, -3.47391777e-02,  1.34358719e-01,\n",
              "       -1.22477211e-01, -5.63964844e-02, -1.23697920e-02, -1.24145508e-01,\n",
              "        9.46451798e-02,  9.33837891e-03, -6.65995255e-02, -5.34667969e-02,\n",
              "        6.69148788e-02, -5.07202148e-02, -4.69360352e-02,  1.22070312e-02,\n",
              "        1.56656895e-02,  9.26310197e-02,  4.64274101e-02, -9.47265625e-02,\n",
              "       -6.33290634e-02, -3.67838554e-02,  1.28458664e-01, -9.21122208e-02,\n",
              "       -1.02539062e-02,  5.58064766e-02, -1.55517578e-01,  1.25284836e-01,\n",
              "        1.31022139e-02,  2.03857422e-02, -8.52966309e-02, -6.64062500e-02,\n",
              "       -7.83996582e-02,  5.30598946e-02, -6.38834620e-03, -2.57161465e-02,\n",
              "       -1.32588699e-01,  9.53741074e-02,  4.39656563e-02, -8.95182311e-04,\n",
              "        1.62760422e-04, -1.11490883e-01,  1.56290695e-01,  4.88993339e-02,\n",
              "       -4.74039698e-03, -4.56746407e-02,  1.14542646e-02, -5.27750663e-02,\n",
              "       -1.23432793e-01, -5.76985665e-02,  2.51668300e-02,  2.79134121e-02,\n",
              "        3.44238281e-02, -5.47281886e-03,  9.04223099e-02,  7.62856826e-02,\n",
              "       -5.56844063e-02, -1.00443520e-01,  4.61298637e-02, -2.52024326e-02,\n",
              "       -1.15559893e-02,  4.51812744e-02, -1.14257812e-01,  3.36507149e-02,\n",
              "       -4.61101532e-03,  5.04964180e-02, -1.13901772e-01,  2.27620438e-01,\n",
              "       -1.15763349e-02,  7.07855225e-02,  3.85640450e-02, -1.42374679e-01,\n",
              "        7.51953125e-02,  2.31933594e-02, -1.29592896e-01, -1.44571945e-01,\n",
              "       -5.28971374e-04,  1.45284012e-01,  9.29361954e-02,  5.67626953e-02,\n",
              "        6.99869776e-03,  8.34960938e-02,  4.39046212e-02, -5.43619804e-02,\n",
              "        7.18587264e-02,  1.88395176e-02, -6.18489599e-03,  1.69453934e-01,\n",
              "       -9.18375626e-02, -4.93164062e-02,  8.42895508e-02, -2.06095383e-01,\n",
              "       -1.03997551e-01,  8.41267873e-03, -2.48209629e-02, -5.09440117e-02,\n",
              "       -6.26424178e-02, -8.27026367e-02,  1.21040344e-01, -3.38541679e-02,\n",
              "       -1.05794275e-03, -1.06516518e-01,  1.33829758e-01,  7.76367188e-02,\n",
              "        3.83300781e-02, -1.05224609e-01, -1.28987625e-01, -1.30818682e-02,\n",
              "       -1.13932288e-03,  3.44034843e-02,  1.31225586e-03, -6.88883439e-02,\n",
              "        3.81266288e-02,  3.64176445e-02,  1.00931801e-01,  4.36197929e-02,\n",
              "       -5.35888672e-02, -3.01513672e-02,  7.87582397e-02,  6.82576513e-03,\n",
              "       -5.54606132e-02,  2.90934253e-03, -3.48103829e-02, -3.95507812e-02,\n",
              "        1.42578125e-01, -1.18672691e-01, -8.66394043e-02,  8.10495988e-02,\n",
              "       -1.34114578e-01,  8.72802734e-03, -2.56093349e-02, -5.15543632e-02,\n",
              "        8.81347656e-02,  1.42822266e-02,  1.42008467e-02,  5.41992188e-02,\n",
              "        2.56551113e-02,  6.85424805e-02, -2.30712891e-02,  2.07519531e-03,\n",
              "        8.94775391e-02, -6.38020858e-02, -6.22558594e-03,  1.13525391e-01,\n",
              "        9.04947892e-02, -3.91972847e-02,  9.37703475e-02, -3.93473320e-02,\n",
              "        1.46090193e-02, -1.47054031e-01,  6.07096367e-02, -1.73828125e-01,\n",
              "       -5.98958321e-02,  1.39404297e-01, -1.01725258e-04, -8.62935409e-02,\n",
              "       -4.90722656e-02,  1.29801435e-02, -1.05967201e-01, -1.40513107e-01,\n",
              "       -3.23079415e-02,  1.12050371e-02, -3.52376290e-02, -5.61218262e-02,\n",
              "       -6.31713867e-03,  4.62646484e-02,  9.82259139e-02, -5.15543632e-02,\n",
              "       -1.01628624e-01, -7.58666992e-02, -1.01888023e-01, -1.48620605e-02,\n",
              "       -4.91536446e-02, -1.51448563e-01, -2.50244141e-02, -8.45336914e-03,\n",
              "        2.09704086e-01, -1.30696610e-01, -2.38444004e-02,  6.01908378e-02,\n",
              "       -1.04347624e-01, -6.84814453e-02, -7.75146484e-02, -2.23185215e-02,\n",
              "       -8.32926407e-02, -5.90006495e-03,  6.40055314e-02,  2.51337681e-02,\n",
              "        3.52376290e-02,  5.54110222e-02,  1.31032303e-01,  7.24283829e-02,\n",
              "       -1.10493980e-01, -8.51236954e-02, -3.89709473e-02,  9.65372697e-02,\n",
              "       -5.02115898e-02,  1.98160801e-02, -9.97924805e-02, -1.61804199e-01,\n",
              "       -4.13920097e-02, -8.42285156e-03,  1.16984047e-01,  3.02530918e-02,\n",
              "       -3.30403633e-02,  4.73022461e-02,  2.44140625e-04, -6.89290389e-02,\n",
              "       -1.18876137e-01, -2.74658203e-03, -5.11881523e-02,  1.05997719e-01,\n",
              "       -1.83715820e-02, -4.71191406e-02, -5.34667969e-02, -2.72115078e-02,\n",
              "        5.90413399e-02, -9.85107422e-02, -1.25610352e-01,  1.24104815e-02,\n",
              "        1.41520187e-01,  4.51253243e-02,  1.15987144e-01,  8.49812850e-02,\n",
              "        2.32988987e-02,  1.88395176e-02, -3.60514335e-02,  2.80761719e-02,\n",
              "        2.33459473e-02, -2.91544590e-02, -3.10872402e-02,  2.68554688e-03,\n",
              "       -1.34684248e-02,  1.93634033e-02,  2.43390407e-02,  4.32840968e-03,\n",
              "       -1.11816406e-01,  5.11678075e-03, -2.36511230e-03,  7.69042969e-02,\n",
              "        1.14257812e-01,  2.37528477e-02,  6.48702011e-02, -1.45833328e-01,\n",
              "       -8.15022811e-02, -7.32421875e-03, -6.40869141e-03,  1.39892578e-01,\n",
              "        8.69140625e-02,  2.55533848e-02, -1.24145508e-01, -1.21663408e-02,\n",
              "        1.02050781e-01,  1.38142899e-01,  7.14518204e-02, -1.68273926e-01,\n",
              "        2.19726562e-03, -7.64567032e-02, -9.46146622e-02, -1.83512364e-02,\n",
              "        6.63248682e-03, -2.23795581e-03, -6.31510392e-02,  6.71386719e-03,\n",
              "        6.36393204e-02,  1.52384445e-01, -1.05753578e-01, -1.03964485e-01,\n",
              "        2.65706386e-02, -4.69563790e-02,  1.25676468e-01, -2.48209643e-03,\n",
              "       -8.50296021e-02, -1.08520508e-01,  1.39083862e-02,  1.27034500e-01,\n",
              "        1.19628906e-02, -1.00754738e-01,  2.42004395e-02,  1.57297775e-01,\n",
              "       -4.89908867e-02,  6.26831055e-02,  4.62239571e-02, -1.71712246e-02,\n",
              "        5.01505546e-02,  8.13802052e-03, -1.14949541e-02,  1.03373207e-01,\n",
              "        8.98437500e-02, -3.97949219e-02,  1.40787764e-02,  7.37864152e-02,\n",
              "       -9.61100236e-02, -1.02132158e-02, -2.60620117e-02, -1.49495438e-01,\n",
              "       -1.53147383e-02, -1.19628906e-02, -2.59806309e-02,  8.50016251e-02],\n",
              "      dtype=float32)"
            ]
          },
          "metadata": {
            "tags": []
          },
          "execution_count": 12
        }
      ]
    },
    {
      "cell_type": "code",
      "metadata": {
        "scrolled": true,
        "id": "w6HUjfvguC6N",
        "colab_type": "code",
        "colab": {},
        "outputId": "d4eebcc6-f8c2-4592-a83f-ac607b63a0c2"
      },
      "source": [
        "# Grab all docs of each claim\n",
        "document_lists = csv_result['related_articles']\n",
        "result = []\n",
        "for i in range(len(document_lists)):\n",
        "    inti = []\n",
        "    for m in range(len(document_lists[i])):\n",
        "        f = open(\"C:/Users/周奇寰/Desktop/train/train_articles/\"+str(document_lists[i][m])+\".txt\", \"r\",encoding='utf-8')\n",
        "        inti.append(f.read())\n",
        "    final = \"\"\n",
        "    final = [final+i for i in inti]\n",
        "    result.append(final)\n",
        "print(\"finished\")   "
      ],
      "execution_count": 0,
      "outputs": [
        {
          "output_type": "stream",
          "text": [
            "finished\n"
          ],
          "name": "stdout"
        }
      ]
    },
    {
      "cell_type": "code",
      "metadata": {
        "id": "3SvFcB9QuC6W",
        "colab_type": "code",
        "colab": {},
        "outputId": "b0a8e21d-1b2a-44a8-a300-ff97cf7f6c1d"
      },
      "source": [
        "len(result)"
      ],
      "execution_count": 0,
      "outputs": [
        {
          "output_type": "execute_result",
          "data": {
            "text/plain": [
              "15555"
            ]
          },
          "metadata": {
            "tags": []
          },
          "execution_count": 28
        }
      ]
    },
    {
      "cell_type": "code",
      "metadata": {
        "scrolled": true,
        "id": "fC5Ef6KPuC6g",
        "colab_type": "code",
        "colab": {},
        "outputId": "40bafdd9-4d1a-4bc2-ed5a-1cfa84a95689"
      },
      "source": [
        "final_result = []\n",
        "print(result[0])\n",
        "for i in range(len(result)):\n",
        "    string = ''.join(result[i])\n",
        "    final_result.append(preprocess(string))\n",
        "    \n",
        "    "
      ],
      "execution_count": 0,
      "outputs": [
        {
          "output_type": "stream",
          "text": [
            "['1984: George Orwell predicted 2017 almost 70 years ago\\nApril, 1984. 13:00. Comrade 6079, Winston Smith, thinks a thought, starts a diary, and falls in love. But Big Brother is always watching. Set in a world where an invasive government keeps a malevolently watchful eye on its citizens, this radical and much-lauded staging explores surveillance, identity and why Orwell?s vision of the future is as relevant now as ever. Now with a brand new Australian cast, we bring adapter-directors Robert Icke and Duncan Macmillan?s thrilling vision back to Australia for a national tour.\\n\\nTHERE was no crystal ball, no religious apparitions or voices from the dead when George Orwell wrote Nineteen Eighty-Four, accurately depicted our present almost 70 years ago.\\n\\nIt’s no coincidence that Orwell’s 1949 novel had climbed back into multiple bestseller lists this year — people have realised its scarily accurate foretelling.\\n\\nIn 2013 its relevance — still strong and worryingly reliable — led to the West End smash hit adaptation of the book, which is currently showing in Australia.\\n\\nThe book is one of the greatest dystopian novels every written. It looks at a future where people are controlled into what to think, how to act and how to live by the Government known as Big Brother. It uses telescreens, fearmongering, media control and corruption to control the masses. The main protagonist is the initially apathetic Winston who craves something more than the controlled world he inhabits.\\n\\nCorey McMahon, the associate director of the 1984 production in Australia, said the book’s reach and resonance will always continue as it speaks to more than a literary audience.\\n\\n“It speaks to a world filled with unpopular policies and world leaders,” McMahon said.\\n\\nThe production takes a deeper look into some of the core themes of the novel such as governmental surveillance through the subconscious co-operation of the public through their screens. You are reading this very line on one of your ‘screens’.\\n\\nMcMahon said the production looks to act as a sort of catalyst for its audiences to look at the world in a different light. To question what is true and what isn’t, to look beyond the political spin.\\n\\n“We are so busy Facebooking, Snapchatting, Tweeting etc that we are missing what is happening in the world,” he said.\\n\\nHe pointed to a quote from the production he said not only sticks out to him every time, but one that he think will challenge audiences to really think about the world they inhabit and how they chose to be a part of it.\\n\\nThe line is from one of the characters that works for the Government, otherwise known as Big Brother. He says: “The people will not revolt. They will not look up from their screens long enough to notice what’s happening.”\\n\\nOrwell didn’t have a crystal ball, what he did have was an understanding of the human condition and its weakness. Apathy.\\n\\n1984 is holding shows across Australia. You can purchase tickets here.', 'Theater Review: \\'1984\\'\\nEarly this year, sales of George Orwell\\'s novel \"1984\" spiked after the words \"alternative facts\" entered the lexicon. And soon after, it was announced that a celebrated stage version in the U.K. would come to the U.S. It opened on Broadway on Thursday night. NY1\\'s Roma Torre filed the following review.\\n\\nIt is truly frightening to see the parallels between George Orwell\\'s dystopian novel \"1984\" and the state of our union today.\\n\\nOrwell wrote of \"doublethink\" and \"Newspeak.\" We have alternate facts and fake news.\\n\\nOf course, we\\'re not ruled by an authoritarian Big Brother figure — at least not yet — but Robert Icke and Duncan Macmillan\\'s harrowing stage adaptation leaves little doubt we are being watched.\\n\\nThis is not an easy play for us to watch. Icke and Macmillan, who also co-directed, employ disorienting effects: light and sound disruptions mess with our heads, the story seems to jump back and forth in non-linear fashion, and the torture sequence at the end is brutally graphic.\\n\\nOrwell\\'s disturbing tale, written nearly 70 years ago, envisioned a future without history or objective truth. The only facts that exist are the ones determined by Big Brother and the party. And so the mantra becomes \"Ignorance is strength. War is peace. Freedom is slavery.\"\\n\\nAttempting to resist is Winston, a young functionary who falls in love with Julia. Together, meeting in a secret room without a watchful tele-screen, they plan their rebellion. Of course, Big Brother is watching and they are captured. What follows is the stuff of nightmares, and this is not for the faint of heart.\\n\\nThere is a very unsettling quality to the performances, and deliberately so. Tom Sturridge\\'s Winston and Olivia Wilde as Julia are clearly in love, but outwardly their emotions are muted. They are products of a world without basic humanity.\\n\\nSturridge plays Winston as something of an everyman, channeling the desperation we all feel when liberty is curtailed. Wilde, making her Broadway debut, is equally compelling. And the always superlative Reed Birney is terrifyingly impassive as the torturer O\\'Brien.\\n\\nPerhaps most terrifying of all is hearing O\\'Brien seeming to predict our current state of apathy, saying, \"The people will not revolt. They will not look up from their screens long enough to notice what\\'s happening.\" In 2017, \"1984\" resonates louder than ever.', 'Almeida\\nTheatre includes: Romeo & Juliet (Headlong); Translations; Arcadia; Macbeth; A Midsummer Night’s Dream; Pygmalion; Murmuring Judges; Arturo Ui; Black Snow (National Theatre); Coriolanus; The Merry Wives of Windsor; Loveplay; Luminosity; The Taming of the Shrew; The Comedy of Errors (RSC); Donkeys’ Years (Rose Theatre, Kingston); Plenty (Sheffield Crucible); The Prince of Homburg (Donmar Warehouse); Arthur & George (Birgmingham Rep); Tartuffe; The Alchemist; The Hypochondriac; The Misanthrope (Liverpool Everyman & Playhouse); The Constant Wife; The Real Thing (Gate Theatre, Dublin); Life After Scandal; Hand in Hand (Hampstead Theatre); Arcadia (Bristol Old Vic); The Miser (Chichester Theatre); As You Like It (Cheek by Jowl).\\n\\nTelevision includes: Doctors; Holby City;Eastenders; The Amazing Mrs Pritchard; The Bill; Dream Team; A Touch of Frost.\\n\\nFilm includes: Tinker, Tailor, Soldier, Spy.\\n\\nSimon received an Olivier Award Nomination and New York Drama Desk Award nomination for his performance in As You Like It.', '1984 by George Orwell\\n1984 is a dystopian novel by English author George Orwell published in 1949. The novel is set in Airstrip One, a world of perpetual war, omnipresent government surveillance, and public manipulation. It is dictated by a political system named English Socialism under the control of the Inner Party, that persecutes individualism and independent thinking.\\n\\n\\n\\n\\n\\nMany of its terms and concepts, such as Big Brother, doublethink, thoughtcrime, Newspeak, Room 101, telescreen, 2 + 2 = 5, and memory holes, have entered into common use since its publication. In 2005, the novel was chosen by TIME magazine as one of the 100 best English-language novels.']\n"
          ],
          "name": "stdout"
        }
      ]
    },
    {
      "cell_type": "code",
      "metadata": {
        "id": "JjNm52OOuC6n",
        "colab_type": "code",
        "colab": {}
      },
      "source": [
        "doc_vec = []\n",
        "for i in range(len(final_result)):\n",
        "    doc_vec.append(document_vector(model, final_result[i]))"
      ],
      "execution_count": 0,
      "outputs": []
    },
    {
      "cell_type": "code",
      "metadata": {
        "id": "Q8E_YTRJuC6w",
        "colab_type": "code",
        "colab": {}
      },
      "source": [
        "# Combine the claim and document vectors\n",
        "train_vec = [np.concatenate((a[0], a[1]))for a in zip(claim_vec, doc_vec)]\n",
        "np.savetxt('vec.txt', train_vec)"
      ],
      "execution_count": 0,
      "outputs": []
    },
    {
      "cell_type": "code",
      "metadata": {
        "id": "QwLIcb7XuC63",
        "colab_type": "code",
        "colab": {}
      },
      "source": [
        "label_vec = np.loadtxt('label.txt')"
      ],
      "execution_count": 0,
      "outputs": []
    },
    {
      "cell_type": "code",
      "metadata": {
        "id": "akyCF8hhuC7C",
        "colab_type": "code",
        "colab": {}
      },
      "source": [
        "# Train/test set split\n",
        "X_train, X_test, y_train, y_test = train_test_split(train_vec, label_vec , test_size=0.2, random_state=42)"
      ],
      "execution_count": 0,
      "outputs": []
    },
    {
      "cell_type": "code",
      "metadata": {
        "scrolled": true,
        "id": "Rc484wJpuC7I",
        "colab_type": "code",
        "colab": {},
        "outputId": "32091345-6b1c-498e-b88e-16df9d4ed2c9"
      },
      "source": [
        "# Apply cross-validation to tune the hyperparameters of logistic regression\n",
        "from sklearn.model_selection import GridSearchCV\n",
        "Cs = [0.001, 0.01, 0.1, 1, 10, 100]\n",
        "param_grid = {'C': Cs}\n",
        "grid_search = GridSearchCV(LogisticRegression(), param_grid, scoring='accuracy', cv=5, verbose=10)\n",
        "grid_search.fit(train_vec, label_vec)\n",
        "grid_search.cv_results_\n",
        "\n"
      ],
      "execution_count": 0,
      "outputs": [
        {
          "output_type": "stream",
          "text": [
            "Fitting 5 folds for each of 6 candidates, totalling 30 fits\n",
            "[CV] C=0.001 .........................................................\n"
          ],
          "name": "stdout"
        },
        {
          "output_type": "stream",
          "text": [
            "[Parallel(n_jobs=1)]: Using backend SequentialBackend with 1 concurrent workers.\n",
            "D:\\condo\\lib\\site-packages\\sklearn\\linear_model\\logistic.py:433: FutureWarning: Default solver will be changed to 'lbfgs' in 0.22. Specify a solver to silence this warning.\n",
            "  FutureWarning)\n",
            "D:\\condo\\lib\\site-packages\\sklearn\\linear_model\\logistic.py:460: FutureWarning: Default multi_class will be changed to 'auto' in 0.22. Specify the multi_class option to silence this warning.\n",
            "  \"this warning.\", FutureWarning)\n"
          ],
          "name": "stderr"
        },
        {
          "output_type": "stream",
          "text": [
            "[CV] ................ C=0.001, score=0.5457757789913267, total=   1.1s\n",
            "[CV] C=0.001 .........................................................\n"
          ],
          "name": "stdout"
        },
        {
          "output_type": "stream",
          "text": [
            "[Parallel(n_jobs=1)]: Done   1 out of   1 | elapsed:    1.2s remaining:    0.0s\n",
            "D:\\condo\\lib\\site-packages\\sklearn\\linear_model\\logistic.py:433: FutureWarning: Default solver will be changed to 'lbfgs' in 0.22. Specify a solver to silence this warning.\n",
            "  FutureWarning)\n",
            "D:\\condo\\lib\\site-packages\\sklearn\\linear_model\\logistic.py:460: FutureWarning: Default multi_class will be changed to 'auto' in 0.22. Specify the multi_class option to silence this warning.\n",
            "  \"this warning.\", FutureWarning)\n"
          ],
          "name": "stderr"
        },
        {
          "output_type": "stream",
          "text": [
            "[CV] ................ C=0.001, score=0.5512696882031501, total=   1.0s\n",
            "[CV] C=0.001 .........................................................\n"
          ],
          "name": "stdout"
        },
        {
          "output_type": "stream",
          "text": [
            "[Parallel(n_jobs=1)]: Done   2 out of   2 | elapsed:    2.4s remaining:    0.0s\n",
            "D:\\condo\\lib\\site-packages\\sklearn\\linear_model\\logistic.py:433: FutureWarning: Default solver will be changed to 'lbfgs' in 0.22. Specify a solver to silence this warning.\n",
            "  FutureWarning)\n",
            "D:\\condo\\lib\\site-packages\\sklearn\\linear_model\\logistic.py:460: FutureWarning: Default multi_class will be changed to 'auto' in 0.22. Specify the multi_class option to silence this warning.\n",
            "  \"this warning.\", FutureWarning)\n"
          ],
          "name": "stderr"
        },
        {
          "output_type": "stream",
          "text": [
            "[CV] ................ C=0.001, score=0.5454837672774028, total=   1.0s\n",
            "[CV] C=0.001 .........................................................\n"
          ],
          "name": "stdout"
        },
        {
          "output_type": "stream",
          "text": [
            "[Parallel(n_jobs=1)]: Done   3 out of   3 | elapsed:    3.6s remaining:    0.0s\n",
            "D:\\condo\\lib\\site-packages\\sklearn\\linear_model\\logistic.py:433: FutureWarning: Default solver will be changed to 'lbfgs' in 0.22. Specify a solver to silence this warning.\n",
            "  FutureWarning)\n",
            "D:\\condo\\lib\\site-packages\\sklearn\\linear_model\\logistic.py:460: FutureWarning: Default multi_class will be changed to 'auto' in 0.22. Specify the multi_class option to silence this warning.\n",
            "  \"this warning.\", FutureWarning)\n"
          ],
          "name": "stderr"
        },
        {
          "output_type": "stream",
          "text": [
            "[CV] ................. C=0.001, score=0.547266881028939, total=   1.0s\n",
            "[CV] C=0.001 .........................................................\n"
          ],
          "name": "stdout"
        },
        {
          "output_type": "stream",
          "text": [
            "[Parallel(n_jobs=1)]: Done   4 out of   4 | elapsed:    4.8s remaining:    0.0s\n",
            "D:\\condo\\lib\\site-packages\\sklearn\\linear_model\\logistic.py:433: FutureWarning: Default solver will be changed to 'lbfgs' in 0.22. Specify a solver to silence this warning.\n",
            "  FutureWarning)\n",
            "D:\\condo\\lib\\site-packages\\sklearn\\linear_model\\logistic.py:460: FutureWarning: Default multi_class will be changed to 'auto' in 0.22. Specify the multi_class option to silence this warning.\n",
            "  \"this warning.\", FutureWarning)\n"
          ],
          "name": "stderr"
        },
        {
          "output_type": "stream",
          "text": [
            "[CV] ................ C=0.001, score=0.5437299035369775, total=   1.1s\n",
            "[CV] C=0.01 ..........................................................\n"
          ],
          "name": "stdout"
        },
        {
          "output_type": "stream",
          "text": [
            "[Parallel(n_jobs=1)]: Done   5 out of   5 | elapsed:    6.1s remaining:    0.0s\n",
            "D:\\condo\\lib\\site-packages\\sklearn\\linear_model\\logistic.py:433: FutureWarning: Default solver will be changed to 'lbfgs' in 0.22. Specify a solver to silence this warning.\n",
            "  FutureWarning)\n",
            "D:\\condo\\lib\\site-packages\\sklearn\\linear_model\\logistic.py:460: FutureWarning: Default multi_class will be changed to 'auto' in 0.22. Specify the multi_class option to silence this warning.\n",
            "  \"this warning.\", FutureWarning)\n"
          ],
          "name": "stderr"
        },
        {
          "output_type": "stream",
          "text": [
            "[CV] ................. C=0.01, score=0.5746867973016383, total=   1.4s\n",
            "[CV] C=0.01 ..........................................................\n"
          ],
          "name": "stdout"
        },
        {
          "output_type": "stream",
          "text": [
            "[Parallel(n_jobs=1)]: Done   6 out of   6 | elapsed:    7.7s remaining:    0.0s\n",
            "D:\\condo\\lib\\site-packages\\sklearn\\linear_model\\logistic.py:433: FutureWarning: Default solver will be changed to 'lbfgs' in 0.22. Specify a solver to silence this warning.\n",
            "  FutureWarning)\n",
            "D:\\condo\\lib\\site-packages\\sklearn\\linear_model\\logistic.py:460: FutureWarning: Default multi_class will be changed to 'auto' in 0.22. Specify the multi_class option to silence this warning.\n",
            "  \"this warning.\", FutureWarning)\n"
          ],
          "name": "stderr"
        },
        {
          "output_type": "stream",
          "text": [
            "[CV] ................. C=0.01, score=0.5863066538090647, total=   1.4s\n",
            "[CV] C=0.01 ..........................................................\n"
          ],
          "name": "stdout"
        },
        {
          "output_type": "stream",
          "text": [
            "[Parallel(n_jobs=1)]: Done   7 out of   7 | elapsed:    9.2s remaining:    0.0s\n",
            "D:\\condo\\lib\\site-packages\\sklearn\\linear_model\\logistic.py:433: FutureWarning: Default solver will be changed to 'lbfgs' in 0.22. Specify a solver to silence this warning.\n",
            "  FutureWarning)\n",
            "D:\\condo\\lib\\site-packages\\sklearn\\linear_model\\logistic.py:460: FutureWarning: Default multi_class will be changed to 'auto' in 0.22. Specify the multi_class option to silence this warning.\n",
            "  \"this warning.\", FutureWarning)\n"
          ],
          "name": "stderr"
        },
        {
          "output_type": "stream",
          "text": [
            "[CV] ................. C=0.01, score=0.5821279331404693, total=   1.4s\n",
            "[CV] C=0.01 ..........................................................\n"
          ],
          "name": "stdout"
        },
        {
          "output_type": "stream",
          "text": [
            "[Parallel(n_jobs=1)]: Done   8 out of   8 | elapsed:   10.8s remaining:    0.0s\n",
            "D:\\condo\\lib\\site-packages\\sklearn\\linear_model\\logistic.py:433: FutureWarning: Default solver will be changed to 'lbfgs' in 0.22. Specify a solver to silence this warning.\n",
            "  FutureWarning)\n",
            "D:\\condo\\lib\\site-packages\\sklearn\\linear_model\\logistic.py:460: FutureWarning: Default multi_class will be changed to 'auto' in 0.22. Specify the multi_class option to silence this warning.\n",
            "  \"this warning.\", FutureWarning)\n"
          ],
          "name": "stderr"
        },
        {
          "output_type": "stream",
          "text": [
            "[CV] ................. C=0.01, score=0.5983922829581994, total=   1.3s\n",
            "[CV] C=0.01 ..........................................................\n"
          ],
          "name": "stdout"
        },
        {
          "output_type": "stream",
          "text": [
            "[Parallel(n_jobs=1)]: Done   9 out of   9 | elapsed:   12.2s remaining:    0.0s\n",
            "D:\\condo\\lib\\site-packages\\sklearn\\linear_model\\logistic.py:433: FutureWarning: Default solver will be changed to 'lbfgs' in 0.22. Specify a solver to silence this warning.\n",
            "  FutureWarning)\n",
            "D:\\condo\\lib\\site-packages\\sklearn\\linear_model\\logistic.py:460: FutureWarning: Default multi_class will be changed to 'auto' in 0.22. Specify the multi_class option to silence this warning.\n",
            "  \"this warning.\", FutureWarning)\n"
          ],
          "name": "stderr"
        },
        {
          "output_type": "stream",
          "text": [
            "[CV] ................. C=0.01, score=0.5977491961414791, total=   1.4s\n",
            "[CV] C=0.1 ...........................................................\n"
          ],
          "name": "stdout"
        },
        {
          "output_type": "stream",
          "text": [
            "D:\\condo\\lib\\site-packages\\sklearn\\linear_model\\logistic.py:433: FutureWarning: Default solver will be changed to 'lbfgs' in 0.22. Specify a solver to silence this warning.\n",
            "  FutureWarning)\n",
            "D:\\condo\\lib\\site-packages\\sklearn\\linear_model\\logistic.py:460: FutureWarning: Default multi_class will be changed to 'auto' in 0.22. Specify the multi_class option to silence this warning.\n",
            "  \"this warning.\", FutureWarning)\n"
          ],
          "name": "stderr"
        },
        {
          "output_type": "stream",
          "text": [
            "[CV] .................. C=0.1, score=0.5920334082878252, total=   2.5s\n",
            "[CV] C=0.1 ...........................................................\n"
          ],
          "name": "stdout"
        },
        {
          "output_type": "stream",
          "text": [
            "D:\\condo\\lib\\site-packages\\sklearn\\linear_model\\logistic.py:433: FutureWarning: Default solver will be changed to 'lbfgs' in 0.22. Specify a solver to silence this warning.\n",
            "  FutureWarning)\n",
            "D:\\condo\\lib\\site-packages\\sklearn\\linear_model\\logistic.py:460: FutureWarning: Default multi_class will be changed to 'auto' in 0.22. Specify the multi_class option to silence this warning.\n",
            "  \"this warning.\", FutureWarning)\n"
          ],
          "name": "stderr"
        },
        {
          "output_type": "stream",
          "text": [
            "[CV] ................... C=0.1, score=0.595306975249116, total=   2.7s\n",
            "[CV] C=0.1 ...........................................................\n"
          ],
          "name": "stdout"
        },
        {
          "output_type": "stream",
          "text": [
            "D:\\condo\\lib\\site-packages\\sklearn\\linear_model\\logistic.py:433: FutureWarning: Default solver will be changed to 'lbfgs' in 0.22. Specify a solver to silence this warning.\n",
            "  FutureWarning)\n",
            "D:\\condo\\lib\\site-packages\\sklearn\\linear_model\\logistic.py:460: FutureWarning: Default multi_class will be changed to 'auto' in 0.22. Specify the multi_class option to silence this warning.\n",
            "  \"this warning.\", FutureWarning)\n"
          ],
          "name": "stderr"
        },
        {
          "output_type": "stream",
          "text": [
            "[CV] .................. C=0.1, score=0.5988428158148505, total=   2.6s\n",
            "[CV] C=0.1 ...........................................................\n"
          ],
          "name": "stdout"
        },
        {
          "output_type": "stream",
          "text": [
            "D:\\condo\\lib\\site-packages\\sklearn\\linear_model\\logistic.py:433: FutureWarning: Default solver will be changed to 'lbfgs' in 0.22. Specify a solver to silence this warning.\n",
            "  FutureWarning)\n",
            "D:\\condo\\lib\\site-packages\\sklearn\\linear_model\\logistic.py:460: FutureWarning: Default multi_class will be changed to 'auto' in 0.22. Specify the multi_class option to silence this warning.\n",
            "  \"this warning.\", FutureWarning)\n"
          ],
          "name": "stderr"
        },
        {
          "output_type": "stream",
          "text": [
            "[CV] .................. C=0.1, score=0.6067524115755627, total=   3.4s\n",
            "[CV] C=0.1 ...........................................................\n"
          ],
          "name": "stdout"
        },
        {
          "output_type": "stream",
          "text": [
            "D:\\condo\\lib\\site-packages\\sklearn\\linear_model\\logistic.py:433: FutureWarning: Default solver will be changed to 'lbfgs' in 0.22. Specify a solver to silence this warning.\n",
            "  FutureWarning)\n",
            "D:\\condo\\lib\\site-packages\\sklearn\\linear_model\\logistic.py:460: FutureWarning: Default multi_class will be changed to 'auto' in 0.22. Specify the multi_class option to silence this warning.\n",
            "  \"this warning.\", FutureWarning)\n"
          ],
          "name": "stderr"
        },
        {
          "output_type": "stream",
          "text": [
            "[CV] ................... C=0.1, score=0.604823151125402, total=   3.3s\n",
            "[CV] C=1 .............................................................\n"
          ],
          "name": "stdout"
        },
        {
          "output_type": "stream",
          "text": [
            "D:\\condo\\lib\\site-packages\\sklearn\\linear_model\\logistic.py:433: FutureWarning: Default solver will be changed to 'lbfgs' in 0.22. Specify a solver to silence this warning.\n",
            "  FutureWarning)\n",
            "D:\\condo\\lib\\site-packages\\sklearn\\linear_model\\logistic.py:460: FutureWarning: Default multi_class will be changed to 'auto' in 0.22. Specify the multi_class option to silence this warning.\n",
            "  \"this warning.\", FutureWarning)\n"
          ],
          "name": "stderr"
        },
        {
          "output_type": "stream",
          "text": [
            "[CV] .................... C=1, score=0.6016704143912625, total=   6.8s\n",
            "[CV] C=1 .............................................................\n"
          ],
          "name": "stdout"
        },
        {
          "output_type": "stream",
          "text": [
            "D:\\condo\\lib\\site-packages\\sklearn\\linear_model\\logistic.py:433: FutureWarning: Default solver will be changed to 'lbfgs' in 0.22. Specify a solver to silence this warning.\n",
            "  FutureWarning)\n",
            "D:\\condo\\lib\\site-packages\\sklearn\\linear_model\\logistic.py:460: FutureWarning: Default multi_class will be changed to 'auto' in 0.22. Specify the multi_class option to silence this warning.\n",
            "  \"this warning.\", FutureWarning)\n"
          ],
          "name": "stderr"
        },
        {
          "output_type": "stream",
          "text": [
            "[CV] .................... C=1, score=0.6062359369977499, total=   5.6s\n",
            "[CV] C=1 .............................................................\n"
          ],
          "name": "stdout"
        },
        {
          "output_type": "stream",
          "text": [
            "D:\\condo\\lib\\site-packages\\sklearn\\linear_model\\logistic.py:433: FutureWarning: Default solver will be changed to 'lbfgs' in 0.22. Specify a solver to silence this warning.\n",
            "  FutureWarning)\n",
            "D:\\condo\\lib\\site-packages\\sklearn\\linear_model\\logistic.py:460: FutureWarning: Default multi_class will be changed to 'auto' in 0.22. Specify the multi_class option to silence this warning.\n",
            "  \"this warning.\", FutureWarning)\n"
          ],
          "name": "stderr"
        },
        {
          "output_type": "stream",
          "text": [
            "[CV] .................... C=1, score=0.6065573770491803, total=   5.6s\n",
            "[CV] C=1 .............................................................\n"
          ],
          "name": "stdout"
        },
        {
          "output_type": "stream",
          "text": [
            "D:\\condo\\lib\\site-packages\\sklearn\\linear_model\\logistic.py:433: FutureWarning: Default solver will be changed to 'lbfgs' in 0.22. Specify a solver to silence this warning.\n",
            "  FutureWarning)\n",
            "D:\\condo\\lib\\site-packages\\sklearn\\linear_model\\logistic.py:460: FutureWarning: Default multi_class will be changed to 'auto' in 0.22. Specify the multi_class option to silence this warning.\n",
            "  \"this warning.\", FutureWarning)\n"
          ],
          "name": "stderr"
        },
        {
          "output_type": "stream",
          "text": [
            "[CV] .................... C=1, score=0.6154340836012862, total=   6.0s\n",
            "[CV] C=1 .............................................................\n"
          ],
          "name": "stdout"
        },
        {
          "output_type": "stream",
          "text": [
            "D:\\condo\\lib\\site-packages\\sklearn\\linear_model\\logistic.py:433: FutureWarning: Default solver will be changed to 'lbfgs' in 0.22. Specify a solver to silence this warning.\n",
            "  FutureWarning)\n",
            "D:\\condo\\lib\\site-packages\\sklearn\\linear_model\\logistic.py:460: FutureWarning: Default multi_class will be changed to 'auto' in 0.22. Specify the multi_class option to silence this warning.\n",
            "  \"this warning.\", FutureWarning)\n"
          ],
          "name": "stderr"
        },
        {
          "output_type": "stream",
          "text": [
            "[CV] .................... C=1, score=0.6106109324758843, total=   5.9s\n",
            "[CV] C=10 ............................................................\n"
          ],
          "name": "stdout"
        },
        {
          "output_type": "stream",
          "text": [
            "D:\\condo\\lib\\site-packages\\sklearn\\linear_model\\logistic.py:433: FutureWarning: Default solver will be changed to 'lbfgs' in 0.22. Specify a solver to silence this warning.\n",
            "  FutureWarning)\n",
            "D:\\condo\\lib\\site-packages\\sklearn\\linear_model\\logistic.py:460: FutureWarning: Default multi_class will be changed to 'auto' in 0.22. Specify the multi_class option to silence this warning.\n",
            "  \"this warning.\", FutureWarning)\n"
          ],
          "name": "stderr"
        },
        {
          "output_type": "stream",
          "text": [
            "[CV] ................... C=10, score=0.5894635399935754, total=  12.3s\n",
            "[CV] C=10 ............................................................\n"
          ],
          "name": "stdout"
        },
        {
          "output_type": "stream",
          "text": [
            "D:\\condo\\lib\\site-packages\\sklearn\\linear_model\\logistic.py:433: FutureWarning: Default solver will be changed to 'lbfgs' in 0.22. Specify a solver to silence this warning.\n",
            "  FutureWarning)\n",
            "D:\\condo\\lib\\site-packages\\sklearn\\linear_model\\logistic.py:460: FutureWarning: Default multi_class will be changed to 'auto' in 0.22. Specify the multi_class option to silence this warning.\n",
            "  \"this warning.\", FutureWarning)\n"
          ],
          "name": "stderr"
        },
        {
          "output_type": "stream",
          "text": [
            "[CV] ................... C=10, score=0.6068788171006108, total=  11.5s\n",
            "[CV] C=10 ............................................................\n"
          ],
          "name": "stdout"
        },
        {
          "output_type": "stream",
          "text": [
            "D:\\condo\\lib\\site-packages\\sklearn\\linear_model\\logistic.py:433: FutureWarning: Default solver will be changed to 'lbfgs' in 0.22. Specify a solver to silence this warning.\n",
            "  FutureWarning)\n",
            "D:\\condo\\lib\\site-packages\\sklearn\\linear_model\\logistic.py:460: FutureWarning: Default multi_class will be changed to 'auto' in 0.22. Specify the multi_class option to silence this warning.\n",
            "  \"this warning.\", FutureWarning)\n"
          ],
          "name": "stderr"
        },
        {
          "output_type": "stream",
          "text": [
            "[CV] ................... C=10, score=0.6133076181292189, total=  11.4s\n",
            "[CV] C=10 ............................................................\n"
          ],
          "name": "stdout"
        },
        {
          "output_type": "stream",
          "text": [
            "D:\\condo\\lib\\site-packages\\sklearn\\linear_model\\logistic.py:433: FutureWarning: Default solver will be changed to 'lbfgs' in 0.22. Specify a solver to silence this warning.\n",
            "  FutureWarning)\n",
            "D:\\condo\\lib\\site-packages\\sklearn\\linear_model\\logistic.py:460: FutureWarning: Default multi_class will be changed to 'auto' in 0.22. Specify the multi_class option to silence this warning.\n",
            "  \"this warning.\", FutureWarning)\n"
          ],
          "name": "stderr"
        },
        {
          "output_type": "stream",
          "text": [
            "[CV] ................... C=10, score=0.6080385852090032, total=  13.6s\n",
            "[CV] C=10 ............................................................\n"
          ],
          "name": "stdout"
        },
        {
          "output_type": "stream",
          "text": [
            "D:\\condo\\lib\\site-packages\\sklearn\\linear_model\\logistic.py:433: FutureWarning: Default solver will be changed to 'lbfgs' in 0.22. Specify a solver to silence this warning.\n",
            "  FutureWarning)\n",
            "D:\\condo\\lib\\site-packages\\sklearn\\linear_model\\logistic.py:460: FutureWarning: Default multi_class will be changed to 'auto' in 0.22. Specify the multi_class option to silence this warning.\n",
            "  \"this warning.\", FutureWarning)\n"
          ],
          "name": "stderr"
        },
        {
          "output_type": "stream",
          "text": [
            "[CV] .................... C=10, score=0.609967845659164, total=  14.5s\n",
            "[CV] C=100 ...........................................................\n"
          ],
          "name": "stdout"
        },
        {
          "output_type": "stream",
          "text": [
            "D:\\condo\\lib\\site-packages\\sklearn\\linear_model\\logistic.py:433: FutureWarning: Default solver will be changed to 'lbfgs' in 0.22. Specify a solver to silence this warning.\n",
            "  FutureWarning)\n",
            "D:\\condo\\lib\\site-packages\\sklearn\\linear_model\\logistic.py:460: FutureWarning: Default multi_class will be changed to 'auto' in 0.22. Specify the multi_class option to silence this warning.\n",
            "  \"this warning.\", FutureWarning)\n"
          ],
          "name": "stderr"
        },
        {
          "output_type": "stream",
          "text": [
            "[CV] .................. C=100, score=0.5901060070671378, total=  21.5s\n",
            "[CV] C=100 ...........................................................\n"
          ],
          "name": "stdout"
        },
        {
          "output_type": "stream",
          "text": [
            "D:\\condo\\lib\\site-packages\\sklearn\\linear_model\\logistic.py:433: FutureWarning: Default solver will be changed to 'lbfgs' in 0.22. Specify a solver to silence this warning.\n",
            "  FutureWarning)\n",
            "D:\\condo\\lib\\site-packages\\sklearn\\linear_model\\logistic.py:460: FutureWarning: Default multi_class will be changed to 'auto' in 0.22. Specify the multi_class option to silence this warning.\n",
            "  \"this warning.\", FutureWarning)\n"
          ],
          "name": "stderr"
        },
        {
          "output_type": "stream",
          "text": [
            "[CV] .................. C=100, score=0.6014143362262938, total=  20.3s\n",
            "[CV] C=100 ...........................................................\n"
          ],
          "name": "stdout"
        },
        {
          "output_type": "stream",
          "text": [
            "D:\\condo\\lib\\site-packages\\sklearn\\linear_model\\logistic.py:433: FutureWarning: Default solver will be changed to 'lbfgs' in 0.22. Specify a solver to silence this warning.\n",
            "  FutureWarning)\n",
            "D:\\condo\\lib\\site-packages\\sklearn\\linear_model\\logistic.py:460: FutureWarning: Default multi_class will be changed to 'auto' in 0.22. Specify the multi_class option to silence this warning.\n",
            "  \"this warning.\", FutureWarning)\n"
          ],
          "name": "stderr"
        },
        {
          "output_type": "stream",
          "text": [
            "[CV] .................. C=100, score=0.6081645773063323, total=  20.6s\n",
            "[CV] C=100 ...........................................................\n"
          ],
          "name": "stdout"
        },
        {
          "output_type": "stream",
          "text": [
            "D:\\condo\\lib\\site-packages\\sklearn\\linear_model\\logistic.py:433: FutureWarning: Default solver will be changed to 'lbfgs' in 0.22. Specify a solver to silence this warning.\n",
            "  FutureWarning)\n",
            "D:\\condo\\lib\\site-packages\\sklearn\\linear_model\\logistic.py:460: FutureWarning: Default multi_class will be changed to 'auto' in 0.22. Specify the multi_class option to silence this warning.\n",
            "  \"this warning.\", FutureWarning)\n"
          ],
          "name": "stderr"
        },
        {
          "output_type": "stream",
          "text": [
            "[CV] .................. C=100, score=0.6051446945337621, total=  17.3s\n",
            "[CV] C=100 ...........................................................\n"
          ],
          "name": "stdout"
        },
        {
          "output_type": "stream",
          "text": [
            "D:\\condo\\lib\\site-packages\\sklearn\\linear_model\\logistic.py:433: FutureWarning: Default solver will be changed to 'lbfgs' in 0.22. Specify a solver to silence this warning.\n",
            "  FutureWarning)\n",
            "D:\\condo\\lib\\site-packages\\sklearn\\linear_model\\logistic.py:460: FutureWarning: Default multi_class will be changed to 'auto' in 0.22. Specify the multi_class option to silence this warning.\n",
            "  \"this warning.\", FutureWarning)\n"
          ],
          "name": "stderr"
        },
        {
          "output_type": "stream",
          "text": [
            "[CV] .................. C=100, score=0.6057877813504823, total=  16.5s\n"
          ],
          "name": "stdout"
        },
        {
          "output_type": "stream",
          "text": [
            "[Parallel(n_jobs=1)]: Done  30 out of  30 | elapsed:  3.7min finished\n",
            "D:\\condo\\lib\\site-packages\\sklearn\\linear_model\\logistic.py:433: FutureWarning: Default solver will be changed to 'lbfgs' in 0.22. Specify a solver to silence this warning.\n",
            "  FutureWarning)\n",
            "D:\\condo\\lib\\site-packages\\sklearn\\linear_model\\logistic.py:460: FutureWarning: Default multi_class will be changed to 'auto' in 0.22. Specify the multi_class option to silence this warning.\n",
            "  \"this warning.\", FutureWarning)\n",
            "D:\\condo\\lib\\site-packages\\sklearn\\utils\\deprecation.py:125: FutureWarning: You are accessing a training score ('split0_train_score'), which will not be available by default any more in 0.21. If you need training scores, please set return_train_score=True\n",
            "  warnings.warn(*warn_args, **warn_kwargs)\n",
            "D:\\condo\\lib\\site-packages\\sklearn\\utils\\deprecation.py:125: FutureWarning: You are accessing a training score ('split1_train_score'), which will not be available by default any more in 0.21. If you need training scores, please set return_train_score=True\n",
            "  warnings.warn(*warn_args, **warn_kwargs)\n",
            "D:\\condo\\lib\\site-packages\\sklearn\\utils\\deprecation.py:125: FutureWarning: You are accessing a training score ('split2_train_score'), which will not be available by default any more in 0.21. If you need training scores, please set return_train_score=True\n",
            "  warnings.warn(*warn_args, **warn_kwargs)\n",
            "D:\\condo\\lib\\site-packages\\sklearn\\utils\\deprecation.py:125: FutureWarning: You are accessing a training score ('split3_train_score'), which will not be available by default any more in 0.21. If you need training scores, please set return_train_score=True\n",
            "  warnings.warn(*warn_args, **warn_kwargs)\n",
            "D:\\condo\\lib\\site-packages\\sklearn\\utils\\deprecation.py:125: FutureWarning: You are accessing a training score ('split4_train_score'), which will not be available by default any more in 0.21. If you need training scores, please set return_train_score=True\n",
            "  warnings.warn(*warn_args, **warn_kwargs)\n",
            "D:\\condo\\lib\\site-packages\\sklearn\\utils\\deprecation.py:125: FutureWarning: You are accessing a training score ('mean_train_score'), which will not be available by default any more in 0.21. If you need training scores, please set return_train_score=True\n",
            "  warnings.warn(*warn_args, **warn_kwargs)\n",
            "D:\\condo\\lib\\site-packages\\sklearn\\utils\\deprecation.py:125: FutureWarning: You are accessing a training score ('std_train_score'), which will not be available by default any more in 0.21. If you need training scores, please set return_train_score=True\n",
            "  warnings.warn(*warn_args, **warn_kwargs)\n"
          ],
          "name": "stderr"
        },
        {
          "output_type": "execute_result",
          "data": {
            "text/plain": [
              "{'mean_fit_time': array([ 1.13994632,  1.45558324,  2.95574427,  6.05417652, 12.74543662,\n",
              "        19.32463975]),\n",
              " 'std_fit_time': array([0.05729911, 0.06263425, 0.38669329, 0.44651849, 1.17216482,\n",
              "        1.99052253]),\n",
              " 'mean_score_time': array([0.01854444, 0.02015252, 0.02453337, 0.0193481 , 0.01994581,\n",
              "        0.02134442]),\n",
              " 'std_score_time': array([0.00135158, 0.00193302, 0.005521  , 0.00240915, 0.00156243,\n",
              "        0.00279633]),\n",
              " 'param_C': masked_array(data=[0.001, 0.01, 0.1, 1, 10, 100],\n",
              "              mask=[False, False, False, False, False, False],\n",
              "        fill_value='?',\n",
              "             dtype=object),\n",
              " 'params': [{'C': 0.001},\n",
              "  {'C': 0.01},\n",
              "  {'C': 0.1},\n",
              "  {'C': 1},\n",
              "  {'C': 10},\n",
              "  {'C': 100}],\n",
              " 'split0_test_score': array([0.54577578, 0.5746868 , 0.59203341, 0.60167041, 0.58946354,\n",
              "        0.59010601]),\n",
              " 'split1_test_score': array([0.55126969, 0.58630665, 0.59530698, 0.60623594, 0.60687882,\n",
              "        0.60141434]),\n",
              " 'split2_test_score': array([0.54548377, 0.58212793, 0.59884282, 0.60655738, 0.61330762,\n",
              "        0.60816458]),\n",
              " 'split3_test_score': array([0.54726688, 0.59839228, 0.60675241, 0.61543408, 0.60803859,\n",
              "        0.60514469]),\n",
              " 'split4_test_score': array([0.5437299 , 0.5977492 , 0.60482315, 0.61061093, 0.60996785,\n",
              "        0.60578778]),\n",
              " 'mean_test_score': array([0.54670524, 0.58784957, 0.59954998, 0.60810029, 0.60552877,\n",
              "        0.6021215 ]),\n",
              " 'std_test_score': array([0.00254385, 0.00913862, 0.00556227, 0.00463238, 0.00832571,\n",
              "        0.00638839]),\n",
              " 'rank_test_score': array([6, 5, 4, 1, 2, 3]),\n",
              " 'split0_train_score': array([0.54822376, 0.59275036, 0.61332583, 0.63494615, 0.64467127,\n",
              "        0.6475647 ]),\n",
              " 'split1_train_score': array([0.54765349, 0.59128897, 0.6123433 , 0.63154934, 0.64352298,\n",
              "        0.6460945 ]),\n",
              " 'split2_train_score': array([0.54773385, 0.59169077, 0.61459338, 0.63412086, 0.64135326,\n",
              "        0.6452909 ]),\n",
              " 'split3_train_score': array([0.5468863 , 0.58770591, 0.6112495 , 0.62973082, 0.64339092,\n",
              "        0.64451587]),\n",
              " 'split4_train_score': array([0.54712736, 0.58762555, 0.61116914, 0.63214142, 0.64539976,\n",
              "        0.64781037]),\n",
              " 'mean_train_score': array([0.54752495, 0.59021231, 0.61253623, 0.63249772, 0.64366764,\n",
              "        0.64625527]),\n",
              " 'std_train_score': array([0.00047211, 0.00213355, 0.00129747, 0.00186073, 0.0013756 ,\n",
              "        0.00127391])}"
            ]
          },
          "metadata": {
            "tags": []
          },
          "execution_count": 30
        }
      ]
    },
    {
      "cell_type": "code",
      "metadata": {
        "id": "vYnDbxB9uC7S",
        "colab_type": "code",
        "colab": {}
      },
      "source": [
        "C_list=[0.001, 0.01, 0.1, 1, 10, 100]\n",
        "mean_test = [0.54670524, 0.58784957, 0.59954998, 0.60810029, 0.60552877,\n",
        "        0.6021215 ]\n",
        "mean_train = [0.54752495, 0.59021231, 0.61253623, 0.63249772, 0.64366764,\n",
        "        0.64625527]\n"
      ],
      "execution_count": 0,
      "outputs": []
    },
    {
      "cell_type": "code",
      "metadata": {
        "id": "MS-410btuC7a",
        "colab_type": "code",
        "colab": {},
        "outputId": "dc781bae-af12-4714-a44b-295e81bef41e"
      },
      "source": [
        "from matplotlib import pyplot as plt\n",
        "plt.plot(C_list, mean_train)\n",
        "plt.plot(C_list, mean_test)\n",
        "plt.title('Hyperparameter tuning')\n",
        "plt.xlabel('C')\n",
        "plt.ylabel('Accuracy')\n",
        "plt.xscale('log')"
      ],
      "execution_count": 0,
      "outputs": [
        {
          "output_type": "display_data",
          "data": {
            "image/png": "[encoded data removed]",
            "text/plain": [
              "<Figure size 432x288 with 1 Axes>"
            ]
          },
          "metadata": {
            "tags": []
          }
        }
      ]
    },
    {
      "cell_type": "code",
      "metadata": {
        "scrolled": true,
        "id": "P7OvuQafuC7l",
        "colab_type": "code",
        "colab": {},
        "outputId": "102ddaf6-8b36-44fa-d141-570599981cf0"
      },
      "source": [
        "# Test\n",
        "clf_lr = LogisticRegression(C=1)\n",
        "clf_lr.fit(X_train, y_train)\n",
        "print(clf_lr.score(X_train, y_train))\n",
        "print(clf_lr.score(X_test, y_test))"
      ],
      "execution_count": 0,
      "outputs": [
        {
          "output_type": "stream",
          "text": [
            "D:\\condo\\lib\\site-packages\\sklearn\\linear_model\\logistic.py:433: FutureWarning: Default solver will be changed to 'lbfgs' in 0.22. Specify a solver to silence this warning.\n",
            "  FutureWarning)\n",
            "D:\\condo\\lib\\site-packages\\sklearn\\linear_model\\logistic.py:460: FutureWarning: Default multi_class will be changed to 'auto' in 0.22. Specify the multi_class option to silence this warning.\n",
            "  \"this warning.\", FutureWarning)\n"
          ],
          "name": "stderr"
        },
        {
          "output_type": "stream",
          "text": [
            "0.6331565413050466\n",
            "0.6036644165863067\n"
          ],
          "name": "stdout"
        }
      ]
    },
    {
      "cell_type": "code",
      "metadata": {
        "id": "qnec-qQtuC7v",
        "colab_type": "code",
        "colab": {}
      },
      "source": [
        ""
      ],
      "execution_count": 0,
      "outputs": []
    },
    {
      "cell_type": "code",
      "metadata": {
        "id": "8QTPOHqvuC78",
        "colab_type": "code",
        "colab": {}
      },
      "source": [
        ""
      ],
      "execution_count": 0,
      "outputs": []
    }
  ]
}