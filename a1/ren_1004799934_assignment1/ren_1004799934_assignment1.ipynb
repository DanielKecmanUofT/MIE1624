{
  "nbformat": 4,
  "nbformat_minor": 0,
  "metadata": {
    "kernelspec": {
      "display_name": "Python 3",
      "language": "python",
      "name": "python3"
    },
    "language_info": {
      "codemirror_mode": {
        "name": "ipython",
        "version": 3
      },
      "file_extension": ".py",
      "mimetype": "text/x-python",
      "name": "python",
      "nbconvert_exporter": "python",
      "pygments_lexer": "ipython3",
      "version": "3.6.5"
    },
    "widgets": {
      "state": {},
      "version": "1.1.2"
    },
    "colab": {
      "name": "MIE1624 A1.ipynb",
      "provenance": [],
      "toc_visible": true
    }
  },
  "cells": [
    {
      "cell_type": "markdown",
      "metadata": {
        "id": "OEIFBN75zkvH",
        "colab_type": "text"
      },
      "source": [
        "## Creating DataSet"
      ]
    },
    {
      "cell_type": "code",
      "metadata": {
        "id": "fv-20ANqzkvI",
        "colab_type": "code",
        "colab": {}
      },
      "source": [
        "\n",
        "import pandas as pd\n",
        "import random \n",
        "import math\n",
        "\n",
        "from copy import deepcopy\n",
        "#avoid the modification to original data\n",
        "from sklearn.model_selection import train_test_split\n",
        "from sklearn import preprocessing\n",
        "from sklearn.feature_extraction.text import CountVectorizer\n",
        "from sklearn import linear_model\n",
        "from sklearn.decomposition import PCA\n",
        "from sklearn.feature_selection import RFE\n",
        "from sklearn.ensemble import GradientBoostingRegressor\n",
        "from sklearn.ensemble import ExtraTreesClassifier\n",
        "from sklearn.metrics import make_scorer, r2_score, mean_squared_error, auc, mean_absolute_error\n",
        "from sklearn.model_selection import GridSearchCV, KFold\n",
        "\n",
        "from sklearn.neural_network import MLPRegressor\n",
        "import matplotlib.pyplot as plt\n",
        "\n",
        "import seaborn as sns\n",
        "\n",
        "from sklearn.model_selection import train_test_split\n",
        "from sklearn.linear_model import LinearRegression\n",
        "from sklearn.linear_model import LogisticRegression\n",
        "from sklearn import metrics\n",
        "\n",
        "Salaries = pd.read_csv(\"multipleChoiceResponses.csv\", low_memory = False)"
      ],
      "execution_count": 0,
      "outputs": []
    },
    {
      "cell_type": "markdown",
      "metadata": {
        "id": "aGtNEGn1zkvK",
        "colab_type": "text"
      },
      "source": [
        "### 1. Drop rows missing target variable"
      ]
    },
    {
      "cell_type": "code",
      "metadata": {
        "id": "kFJjme8fzkvL",
        "colab_type": "code",
        "colab": {}
      },
      "source": [
        "Salaries.dropna(subset=['Q9'],inplace=True) "
      ],
      "execution_count": 0,
      "outputs": []
    },
    {
      "cell_type": "code",
      "metadata": {
        "id": "266bqYFbzkvN",
        "colab_type": "code",
        "outputId": "2c5e2ebe-523f-4a9b-e1b5-9811dd641c47",
        "colab": {
          "base_uri": "https://localhost:8080/",
          "height": 136
        }
      },
      "source": [
        "Salaries.Q9.unique() "
      ],
      "execution_count": 687,
      "outputs": [
        {
          "output_type": "execute_result",
          "data": {
            "text/plain": [
              "array(['What is your current yearly compensation (approximate $USD)?',\n",
              "       '10-20,000', '0-10,000',\n",
              "       'I do not wish to disclose my approximate yearly compensation',\n",
              "       '20-30,000', '125-150,000', '30-40,000', '50-60,000',\n",
              "       '100-125,000', '90-100,000', '70-80,000', '80-90,000', '60-70,000',\n",
              "       '400-500,000', '40-50,000', '150-200,000', '500,000+',\n",
              "       '300-400,000', '200-250,000', '250-300,000'], dtype=object)"
            ]
          },
          "metadata": {
            "tags": []
          },
          "execution_count": 687
        }
      ]
    },
    {
      "cell_type": "markdown",
      "metadata": {
        "id": "Cod_Y0CVzkvP",
        "colab_type": "text"
      },
      "source": [
        "### 2. Remove rows where salary is not disclosed"
      ]
    },
    {
      "cell_type": "code",
      "metadata": {
        "id": "Oq2S8738zkvP",
        "colab_type": "code",
        "colab": {}
      },
      "source": [
        "Salaries = Salaries[Salaries['Q9']!= \"I do not wish to disclose my approximate yearly compensation\"]"
      ],
      "execution_count": 0,
      "outputs": []
    },
    {
      "cell_type": "markdown",
      "metadata": {
        "id": "RpygFQLHzkvR",
        "colab_type": "text"
      },
      "source": [
        "### 3. Add Index Column"
      ]
    },
    {
      "cell_type": "code",
      "metadata": {
        "id": "vpcCf1fZzkvR",
        "colab_type": "code",
        "colab": {}
      },
      "source": [
        "Salaries.loc[1:,'index'] = Salaries[1:].reset_index().index"
      ],
      "execution_count": 0,
      "outputs": []
    },
    {
      "cell_type": "markdown",
      "metadata": {
        "id": "dB3yfRrvzkvT",
        "colab_type": "text"
      },
      "source": [
        "### 4. Exported to new file"
      ]
    },
    {
      "cell_type": "code",
      "metadata": {
        "id": "gfapL_VNzkvU",
        "colab_type": "code",
        "colab": {}
      },
      "source": [
        "Salaries.to_csv(\"Kaggle_Salary_clean.csv\")"
      ],
      "execution_count": 0,
      "outputs": []
    },
    {
      "cell_type": "markdown",
      "metadata": {
        "id": "k0mCmXZ7mHZf",
        "colab_type": "text"
      },
      "source": [
        "Data Cleaning Strategy:\n",
        "\n",
        "1.If a column has less than 1% rows is null, simply drop them.\n",
        "\n",
        "2.If the question is multi-choice which can be considered as categorical data, assign the mode to them(like python, c++, java or countries)\n",
        "\n",
        "3.If the size of  null is more than 10% and not belongs to categorical data, mark them as \"unknown\" or \"other\"\n",
        "\n",
        "4.If there is an overwhelming choice in column, fill the missing rows with the term of higher possibility(for between 1% and 10%).\n",
        "\n",
        "5.If over 50% of data is null, drop column."
      ]
    },
    {
      "cell_type": "code",
      "metadata": {
        "id": "7k5U-uOSzkvV",
        "colab_type": "code",
        "colab": {}
      },
      "source": [
        "class dataCleanNaN(object):\n",
        "  def __init__(self,salary):\n",
        "    self.SalaryFrame=salary\n",
        "  def dropRare(self):\n",
        "    s=self.SalaryFrame\n",
        "    all_columns=s.columns\n",
        "    #print(all_columns)\n",
        "    for col in all_columns:\n",
        "      sumNull=s[col].isnull().sum(axis=0)#get specific null sum for a column,axis=0, row side \n",
        "      \n",
        "      if (sumNull<int(s.shape[0]*0.01)) and (sumNull>0):\n",
        "        print(col)\n",
        "        s.dropna(subset=[col],inplace=True) \n",
        "\n",
        "        print (s.shape)\n",
        "    return s\n",
        "  def fillMode(self,salary):\n",
        "    all_columns=salary.columns\n",
        "    for col in all_columns:\n",
        "      sumNull=salary[col].isnull().sum(axis=0)#get specific null sum for a column\n",
        "      \n",
        "      if (sumNull>int(salary.shape[0]*0.01)) and (sumNull<int(salary.shape[0]*0.1)):\n",
        "        print(col)\n",
        "        salary[col].fillna(salary[col].mode()[0],inplace=True)\n",
        "    return salary\n",
        "  def unknownReplace(self,salary):\n",
        "    all_columns=salary.columns\n",
        "    for col in all_columns:\n",
        "      sumNull=salary[col].isnull().sum(axis=0)#get specific null sum for a column\n",
        "      \n",
        "      if (sumNull>int(salary.shape[0]*0.1)) and (sumNull<int(salary.shape[0]*0.5)):\n",
        "        \n",
        "        if (\"Part\" not in col) or (col in ['Q39_Part_1','Q39_Part_2']):#avoid taking the multi choice questions\n",
        "          print(col)\n",
        "          salary.loc[salary[col].isnull(),col] = 'Unknown'\n",
        "    return salary"
      ],
      "execution_count": 0,
      "outputs": []
    },
    {
      "cell_type": "code",
      "metadata": {
        "id": "iZ3IB18--QTP",
        "colab_type": "code",
        "outputId": "0fb5bb50-e865-495d-f9e1-2b58abc19b0b",
        "colab": {
          "base_uri": "https://localhost:8080/",
          "height": 119
        }
      },
      "source": [
        "cleanProcess=dataCleanNaN(Salaries)\n",
        "droppedSalary=cleanProcess.dropRare()"
      ],
      "execution_count": 692,
      "outputs": [
        {
          "output_type": "stream",
          "text": [
            "Q5\n",
            "(15295, 396)\n",
            "Q8\n",
            "(15220, 396)\n",
            "index\n",
            "(15219, 396)\n"
          ],
          "name": "stdout"
        }
      ]
    },
    {
      "cell_type": "code",
      "metadata": {
        "id": "MDfG3GMoGbu6",
        "colab_type": "code",
        "outputId": "7729f9c8-c6c6-4291-9cf0-9431095b9b63",
        "colab": {
          "base_uri": "https://localhost:8080/",
          "height": 34
        }
      },
      "source": [
        "modeSalary=cleanProcess.fillMode(droppedSalary)"
      ],
      "execution_count": 693,
      "outputs": [
        {
          "output_type": "stream",
          "text": [
            "Q10\n"
          ],
          "name": "stdout"
        }
      ]
    },
    {
      "cell_type": "code",
      "metadata": {
        "id": "1oBm58eBHJ3f",
        "colab_type": "code",
        "outputId": "fe0652c4-7223-42c8-a590-dfb627a13b88",
        "colab": {
          "base_uri": "https://localhost:8080/",
          "height": 289
        }
      },
      "source": [
        "unknowSalary=cleanProcess.unknownReplace(modeSalary)"
      ],
      "execution_count": 694,
      "outputs": [
        {
          "output_type": "stream",
          "text": [
            "Q12_MULTIPLE_CHOICE\n",
            "Q17\n",
            "Q18\n",
            "Q20\n",
            "Q22\n",
            "Q23\n",
            "Q24\n",
            "Q25\n",
            "Q26\n",
            "Q32\n",
            "Q39_Part_1\n",
            "Q39_Part_2\n",
            "Q40\n",
            "Q43\n",
            "Q46\n",
            "Q48\n"
          ],
          "name": "stdout"
        }
      ]
    },
    {
      "cell_type": "markdown",
      "metadata": {
        "id": "RkuzB27smaHA",
        "colab_type": "text"
      },
      "source": [
        "To handle categorical data, we can either assign dummy values or give the mode values to missed spaces or values like'unknown' or 'other'"
      ]
    },
    {
      "cell_type": "code",
      "metadata": {
        "id": "OtUphSY0JD_J",
        "colab_type": "code",
        "colab": {}
      },
      "source": [
        "class dataCleanGeneral(object):\n",
        "  def __init__(self,salary):\n",
        "    self.SalaryFrame=salary\n",
        "    self.ALLCOL=salary.columns.tolist()\n",
        "  def categorical(self,columns,salary):\n",
        "    #dealing with catagorical data without numerical values, assign dummy values\n",
        "    for col in columns:\n",
        "      print(col)\n",
        "      salary = pd.get_dummies(data=salary, columns=[col])\n",
        "\n",
        "    return salary\n",
        "  def featureMinimize(self,columns,salary):\n",
        "    #for columns that has too many different values, minimize it to an acceptable range\n",
        "    for col in columns:\n",
        "      valueCount=salary[col].value_counts()#count all unique values,Return a Series containing counts of unique values.\n",
        "      value_mask = salary[col].isin(valueCount.index[valueCount < 100])#find all indexes that has a number of less than 100\n",
        "      salary.loc[value_mask,col] = \"Other\"#mark indexes less than 100 as others\n",
        "      salary = pd.get_dummies(data=salary, columns=[col])\n",
        "    return salary\n",
        "  def select_col(self,condition):\n",
        "    allcol=self.ALLCOL\n",
        "    digit = len(condition)\n",
        "    selected = []\n",
        "    for i in allcol:\n",
        "        if condition in i:\n",
        "            if len(i)==digit:\n",
        "                selected.append(i)\n",
        "            elif i[digit] not in '0123456789':\n",
        "                selected.append(i)                \n",
        "    return selected "
      ],
      "execution_count": 0,
      "outputs": []
    },
    {
      "cell_type": "code",
      "metadata": {
        "id": "eKL9qCuj4P3I",
        "colab_type": "code",
        "outputId": "1f874051-903a-4be9-a5e5-cc0f7c6b2e6f",
        "colab": {
          "base_uri": "https://localhost:8080/",
          "height": 888
        }
      },
      "source": [
        "DummyCols = ['Q1','Q4','Q5','Q6','Q7','Q10','Q12_MULTIPLE_CHOICE','Q17','Q18','Q20','Q23','Q26','Q32','Q39_Part_1', 'Q39_Part_2','Q40','Q48']\n",
        "minimizeCols=['Q3','Q22']\n",
        "generalModel=dataCleanGeneral(unknowSalary)\n",
        "catgorySalary=generalModel.categorical(DummyCols,unknowSalary)\n",
        "#catgorySalary.head(3)\n",
        "miniSalary=generalModel.featureMinimize(minimizeCols,catgorySalary)\n",
        "miniSalary.head(3)\n",
        "#catgorySalary.head(3)"
      ],
      "execution_count": 696,
      "outputs": [
        {
          "output_type": "stream",
          "text": [
            "Q1\n",
            "Q4\n",
            "Q5\n",
            "Q6\n",
            "Q7\n",
            "Q10\n",
            "Q12_MULTIPLE_CHOICE\n",
            "Q17\n",
            "Q18\n",
            "Q20\n",
            "Q23\n",
            "Q26\n",
            "Q32\n",
            "Q39_Part_1\n",
            "Q39_Part_2\n",
            "Q40\n",
            "Q48\n"
          ],
          "name": "stdout"
        },
        {
          "output_type": "execute_result",
          "data": {
            "text/html": [
              "<div>\n",
              "<style scoped>\n",
              "    .dataframe tbody tr th:only-of-type {\n",
              "        vertical-align: middle;\n",
              "    }\n",
              "\n",
              "    .dataframe tbody tr th {\n",
              "        vertical-align: top;\n",
              "    }\n",
              "\n",
              "    .dataframe thead th {\n",
              "        text-align: right;\n",
              "    }\n",
              "</style>\n",
              "<table border=\"1\" class=\"dataframe\">\n",
              "  <thead>\n",
              "    <tr style=\"text-align: right;\">\n",
              "      <th></th>\n",
              "      <th>Time from Start to Finish (seconds)</th>\n",
              "      <th>Q1_OTHER_TEXT</th>\n",
              "      <th>Q2</th>\n",
              "      <th>Q6_OTHER_TEXT</th>\n",
              "      <th>Q7_OTHER_TEXT</th>\n",
              "      <th>Q8</th>\n",
              "      <th>Q9</th>\n",
              "      <th>Q11_Part_1</th>\n",
              "      <th>Q11_Part_2</th>\n",
              "      <th>Q11_Part_3</th>\n",
              "      <th>Q11_Part_4</th>\n",
              "      <th>Q11_Part_5</th>\n",
              "      <th>Q11_Part_6</th>\n",
              "      <th>Q11_Part_7</th>\n",
              "      <th>Q11_OTHER_TEXT</th>\n",
              "      <th>Q12_Part_1_TEXT</th>\n",
              "      <th>Q12_Part_2_TEXT</th>\n",
              "      <th>Q12_Part_3_TEXT</th>\n",
              "      <th>Q12_Part_4_TEXT</th>\n",
              "      <th>Q12_Part_5_TEXT</th>\n",
              "      <th>Q12_OTHER_TEXT</th>\n",
              "      <th>Q13_Part_1</th>\n",
              "      <th>Q13_Part_2</th>\n",
              "      <th>Q13_Part_3</th>\n",
              "      <th>Q13_Part_4</th>\n",
              "      <th>Q13_Part_5</th>\n",
              "      <th>Q13_Part_6</th>\n",
              "      <th>Q13_Part_7</th>\n",
              "      <th>Q13_Part_8</th>\n",
              "      <th>Q13_Part_9</th>\n",
              "      <th>Q13_Part_10</th>\n",
              "      <th>Q13_Part_11</th>\n",
              "      <th>Q13_Part_12</th>\n",
              "      <th>Q13_Part_13</th>\n",
              "      <th>Q13_Part_14</th>\n",
              "      <th>Q13_Part_15</th>\n",
              "      <th>Q13_OTHER_TEXT</th>\n",
              "      <th>Q14_Part_1</th>\n",
              "      <th>Q14_Part_2</th>\n",
              "      <th>Q14_Part_3</th>\n",
              "      <th>...</th>\n",
              "      <th>Q48_I view ML models as \"black boxes\" but I am confident that experts are able to explain model outputs</th>\n",
              "      <th>Q48_Unknown</th>\n",
              "      <th>Q48_Yes, most ML models are \"black boxes\"</th>\n",
              "      <th>Q3_Australia</th>\n",
              "      <th>Q3_Brazil</th>\n",
              "      <th>Q3_Canada</th>\n",
              "      <th>Q3_China</th>\n",
              "      <th>Q3_Colombia</th>\n",
              "      <th>Q3_France</th>\n",
              "      <th>Q3_Germany</th>\n",
              "      <th>Q3_I do not wish to disclose my location</th>\n",
              "      <th>Q3_India</th>\n",
              "      <th>Q3_Israel</th>\n",
              "      <th>Q3_Italy</th>\n",
              "      <th>Q3_Japan</th>\n",
              "      <th>Q3_Mexico</th>\n",
              "      <th>Q3_Netherlands</th>\n",
              "      <th>Q3_Nigeria</th>\n",
              "      <th>Q3_Other</th>\n",
              "      <th>Q3_Poland</th>\n",
              "      <th>Q3_Portugal</th>\n",
              "      <th>Q3_Russia</th>\n",
              "      <th>Q3_Singapore</th>\n",
              "      <th>Q3_South Africa</th>\n",
              "      <th>Q3_South Korea</th>\n",
              "      <th>Q3_Spain</th>\n",
              "      <th>Q3_Sweden</th>\n",
              "      <th>Q3_Switzerland</th>\n",
              "      <th>Q3_Turkey</th>\n",
              "      <th>Q3_Ukraine</th>\n",
              "      <th>Q3_United Kingdom of Great Britain and Northern Ireland</th>\n",
              "      <th>Q3_United States of America</th>\n",
              "      <th>Q22_D3</th>\n",
              "      <th>Q22_Matplotlib</th>\n",
              "      <th>Q22_Other</th>\n",
              "      <th>Q22_Plotly</th>\n",
              "      <th>Q22_Seaborn</th>\n",
              "      <th>Q22_Shiny</th>\n",
              "      <th>Q22_Unknown</th>\n",
              "      <th>Q22_ggplot2</th>\n",
              "    </tr>\n",
              "  </thead>\n",
              "  <tbody>\n",
              "    <tr>\n",
              "      <th>2</th>\n",
              "      <td>434</td>\n",
              "      <td>-1</td>\n",
              "      <td>30-34</td>\n",
              "      <td>0</td>\n",
              "      <td>-1</td>\n",
              "      <td>5-10</td>\n",
              "      <td>10-20,000</td>\n",
              "      <td>NaN</td>\n",
              "      <td>NaN</td>\n",
              "      <td>NaN</td>\n",
              "      <td>NaN</td>\n",
              "      <td>NaN</td>\n",
              "      <td>None of these activities are an important part...</td>\n",
              "      <td>NaN</td>\n",
              "      <td>-1</td>\n",
              "      <td>1</td>\n",
              "      <td>-1</td>\n",
              "      <td>-1</td>\n",
              "      <td>-1</td>\n",
              "      <td>-1</td>\n",
              "      <td>-1</td>\n",
              "      <td>NaN</td>\n",
              "      <td>NaN</td>\n",
              "      <td>NaN</td>\n",
              "      <td>NaN</td>\n",
              "      <td>NaN</td>\n",
              "      <td>NaN</td>\n",
              "      <td>NaN</td>\n",
              "      <td>NaN</td>\n",
              "      <td>NaN</td>\n",
              "      <td>NaN</td>\n",
              "      <td>NaN</td>\n",
              "      <td>NaN</td>\n",
              "      <td>NaN</td>\n",
              "      <td>None</td>\n",
              "      <td>NaN</td>\n",
              "      <td>-1</td>\n",
              "      <td>NaN</td>\n",
              "      <td>NaN</td>\n",
              "      <td>NaN</td>\n",
              "      <td>...</td>\n",
              "      <td>0</td>\n",
              "      <td>1</td>\n",
              "      <td>0</td>\n",
              "      <td>0</td>\n",
              "      <td>0</td>\n",
              "      <td>0</td>\n",
              "      <td>0</td>\n",
              "      <td>0</td>\n",
              "      <td>0</td>\n",
              "      <td>0</td>\n",
              "      <td>0</td>\n",
              "      <td>0</td>\n",
              "      <td>0</td>\n",
              "      <td>0</td>\n",
              "      <td>0</td>\n",
              "      <td>0</td>\n",
              "      <td>0</td>\n",
              "      <td>0</td>\n",
              "      <td>1</td>\n",
              "      <td>0</td>\n",
              "      <td>0</td>\n",
              "      <td>0</td>\n",
              "      <td>0</td>\n",
              "      <td>0</td>\n",
              "      <td>0</td>\n",
              "      <td>0</td>\n",
              "      <td>0</td>\n",
              "      <td>0</td>\n",
              "      <td>0</td>\n",
              "      <td>0</td>\n",
              "      <td>0</td>\n",
              "      <td>0</td>\n",
              "      <td>0</td>\n",
              "      <td>0</td>\n",
              "      <td>0</td>\n",
              "      <td>0</td>\n",
              "      <td>0</td>\n",
              "      <td>0</td>\n",
              "      <td>1</td>\n",
              "      <td>0</td>\n",
              "    </tr>\n",
              "    <tr>\n",
              "      <th>3</th>\n",
              "      <td>718</td>\n",
              "      <td>-1</td>\n",
              "      <td>30-34</td>\n",
              "      <td>-1</td>\n",
              "      <td>-1</td>\n",
              "      <td>0-1</td>\n",
              "      <td>0-10,000</td>\n",
              "      <td>Analyze and understand data to influence produ...</td>\n",
              "      <td>NaN</td>\n",
              "      <td>NaN</td>\n",
              "      <td>NaN</td>\n",
              "      <td>NaN</td>\n",
              "      <td>NaN</td>\n",
              "      <td>NaN</td>\n",
              "      <td>-1</td>\n",
              "      <td>-1</td>\n",
              "      <td>-1</td>\n",
              "      <td>-1</td>\n",
              "      <td>0</td>\n",
              "      <td>-1</td>\n",
              "      <td>-1</td>\n",
              "      <td>NaN</td>\n",
              "      <td>NaN</td>\n",
              "      <td>NaN</td>\n",
              "      <td>NaN</td>\n",
              "      <td>NaN</td>\n",
              "      <td>NaN</td>\n",
              "      <td>MATLAB</td>\n",
              "      <td>NaN</td>\n",
              "      <td>NaN</td>\n",
              "      <td>NaN</td>\n",
              "      <td>NaN</td>\n",
              "      <td>NaN</td>\n",
              "      <td>NaN</td>\n",
              "      <td>NaN</td>\n",
              "      <td>NaN</td>\n",
              "      <td>-1</td>\n",
              "      <td>NaN</td>\n",
              "      <td>NaN</td>\n",
              "      <td>NaN</td>\n",
              "      <td>...</td>\n",
              "      <td>0</td>\n",
              "      <td>0</td>\n",
              "      <td>0</td>\n",
              "      <td>0</td>\n",
              "      <td>0</td>\n",
              "      <td>0</td>\n",
              "      <td>0</td>\n",
              "      <td>0</td>\n",
              "      <td>0</td>\n",
              "      <td>0</td>\n",
              "      <td>0</td>\n",
              "      <td>0</td>\n",
              "      <td>0</td>\n",
              "      <td>0</td>\n",
              "      <td>0</td>\n",
              "      <td>0</td>\n",
              "      <td>0</td>\n",
              "      <td>0</td>\n",
              "      <td>0</td>\n",
              "      <td>0</td>\n",
              "      <td>0</td>\n",
              "      <td>0</td>\n",
              "      <td>0</td>\n",
              "      <td>0</td>\n",
              "      <td>0</td>\n",
              "      <td>0</td>\n",
              "      <td>0</td>\n",
              "      <td>0</td>\n",
              "      <td>0</td>\n",
              "      <td>0</td>\n",
              "      <td>0</td>\n",
              "      <td>1</td>\n",
              "      <td>0</td>\n",
              "      <td>0</td>\n",
              "      <td>0</td>\n",
              "      <td>0</td>\n",
              "      <td>0</td>\n",
              "      <td>0</td>\n",
              "      <td>0</td>\n",
              "      <td>1</td>\n",
              "    </tr>\n",
              "    <tr>\n",
              "      <th>5</th>\n",
              "      <td>731</td>\n",
              "      <td>-1</td>\n",
              "      <td>22-24</td>\n",
              "      <td>-1</td>\n",
              "      <td>-1</td>\n",
              "      <td>0-1</td>\n",
              "      <td>0-10,000</td>\n",
              "      <td>NaN</td>\n",
              "      <td>NaN</td>\n",
              "      <td>NaN</td>\n",
              "      <td>NaN</td>\n",
              "      <td>NaN</td>\n",
              "      <td>NaN</td>\n",
              "      <td>Other</td>\n",
              "      <td>-1</td>\n",
              "      <td>-1</td>\n",
              "      <td>1</td>\n",
              "      <td>-1</td>\n",
              "      <td>-1</td>\n",
              "      <td>-1</td>\n",
              "      <td>-1</td>\n",
              "      <td>NaN</td>\n",
              "      <td>RStudio</td>\n",
              "      <td>NaN</td>\n",
              "      <td>NaN</td>\n",
              "      <td>NaN</td>\n",
              "      <td>NaN</td>\n",
              "      <td>NaN</td>\n",
              "      <td>NaN</td>\n",
              "      <td>NaN</td>\n",
              "      <td>NaN</td>\n",
              "      <td>NaN</td>\n",
              "      <td>NaN</td>\n",
              "      <td>NaN</td>\n",
              "      <td>NaN</td>\n",
              "      <td>NaN</td>\n",
              "      <td>-1</td>\n",
              "      <td>NaN</td>\n",
              "      <td>NaN</td>\n",
              "      <td>Azure Notebook</td>\n",
              "      <td>...</td>\n",
              "      <td>0</td>\n",
              "      <td>0</td>\n",
              "      <td>0</td>\n",
              "      <td>0</td>\n",
              "      <td>0</td>\n",
              "      <td>0</td>\n",
              "      <td>0</td>\n",
              "      <td>0</td>\n",
              "      <td>0</td>\n",
              "      <td>0</td>\n",
              "      <td>0</td>\n",
              "      <td>1</td>\n",
              "      <td>0</td>\n",
              "      <td>0</td>\n",
              "      <td>0</td>\n",
              "      <td>0</td>\n",
              "      <td>0</td>\n",
              "      <td>0</td>\n",
              "      <td>0</td>\n",
              "      <td>0</td>\n",
              "      <td>0</td>\n",
              "      <td>0</td>\n",
              "      <td>0</td>\n",
              "      <td>0</td>\n",
              "      <td>0</td>\n",
              "      <td>0</td>\n",
              "      <td>0</td>\n",
              "      <td>0</td>\n",
              "      <td>0</td>\n",
              "      <td>0</td>\n",
              "      <td>0</td>\n",
              "      <td>0</td>\n",
              "      <td>0</td>\n",
              "      <td>0</td>\n",
              "      <td>0</td>\n",
              "      <td>0</td>\n",
              "      <td>0</td>\n",
              "      <td>0</td>\n",
              "      <td>1</td>\n",
              "      <td>0</td>\n",
              "    </tr>\n",
              "  </tbody>\n",
              "</table>\n",
              "<p>3 rows × 593 columns</p>\n",
              "</div>"
            ],
            "text/plain": [
              "  Time from Start to Finish (seconds) Q1_OTHER_TEXT  ... Q22_Unknown Q22_ggplot2\n",
              "2                                 434            -1  ...           1           0\n",
              "3                                 718            -1  ...           0           1\n",
              "5                                 731            -1  ...           1           0\n",
              "\n",
              "[3 rows x 593 columns]"
            ]
          },
          "metadata": {
            "tags": []
          },
          "execution_count": 696
        }
      ]
    },
    {
      "cell_type": "markdown",
      "metadata": {
        "id": "vjf59c2nm48Y",
        "colab_type": "text"
      },
      "source": [
        "For data that contains numerical values, we replace their original data with mean or other reasonable values. In the mean time, handle special data cases and replace them."
      ]
    },
    {
      "cell_type": "code",
      "metadata": {
        "id": "ImHuKpXU7PJH",
        "colab_type": "code",
        "colab": {}
      },
      "source": [
        "class dataCleanSpecialCases(object):\n",
        "  def __init__(self,salary):\n",
        "    self.SalaryFrame=salary\n",
        "  def Range_Normalize(self,value):\n",
        "    #questions like q2 and q8 has numerical values, thus need extract value from answer string\n",
        "    if isinstance(value, str):\n",
        "        if '-' in value:\n",
        "            temp = value.split('-')\n",
        "            return (float(temp[0])+float(temp[1]))/2\n",
        "        if '+' in value:\n",
        "            a = value.split('+')\n",
        "            return float(a[0])\n",
        "        else:\n",
        "            return value\n",
        "    else:\n",
        "        return value\n",
        "  def Q24Range_Normalize(self,value):\n",
        "    #print(value)\n",
        "    mapdict = {'Unknown':0,'I have never written code and I do not want to learn':-1,'I have never written code but I want to learn':0,'< 1 year':0.5,'1-2 years':1.5,'3-5 years':4,'5-10 years':7.5,'10-20 years':15,'20-30 years':25,'30-40 years':35,'40+ years':40}\n",
        "    return mapdict[value]\n",
        "  def Q25Range_Normalize(self,value):\n",
        "    mapdict = {'Unknown':0,'I have never studied machine learning and I do not plan to':-1,'I have never studied machine learning but plan to learn in the future':0,'< 1 year':0.5,'1-2 years':1.5,'2-3 years':2.5,'3-4 years':3.5,'4-5 years':4.5,'5-10 years':7.5,'10-15 years':12.5,'20+ years':20}\n",
        "    return mapdict[value]\n",
        "  def Q41Range_Normalize(self,value):\n",
        "    mapdict = {'Unknown':0,'Very important':10,'Slightly important':5,'No opinion; I do not know':2,'Unknown':0,'Not at all important':-10}\n",
        "    return mapdict[value]\n",
        "  def Q43Range_Normalize(self,value):\n",
        "    if isinstance(value, str):\n",
        "        if '-' in value:\n",
        "            temp = value.split('-')\n",
        "            return (float(temp[0])+float(temp[1]))/2\n",
        "        elif value == \"0\":\n",
        "            return 0\n",
        "        else:\n",
        "            return float(\"nan\")\n",
        "    else:\n",
        "        return value"
      ],
      "execution_count": 0,
      "outputs": []
    },
    {
      "cell_type": "code",
      "metadata": {
        "id": "GG5PE1zS-JiQ",
        "colab_type": "code",
        "outputId": "c976ddff-dc11-4e9e-d1d5-bf4d68d28d73",
        "colab": {
          "base_uri": "https://localhost:8080/",
          "height": 480
        }
      },
      "source": [
        "specialModel=dataCleanSpecialCases(miniSalary)\n",
        "miniSalary['Q2_NORMAL'] = miniSalary['Q2'].apply(specialModel.Range_Normalize)\n",
        "miniSalary.drop(['Q2'],axis=1,inplace=True)\n",
        "miniSalary['Q8_NORMAL'] = miniSalary['Q8'].apply(specialModel.Range_Normalize)\n",
        "miniSalary.drop(['Q8'],axis=1,inplace=True)\n",
        "miniSalary.head(3)"
      ],
      "execution_count": 698,
      "outputs": [
        {
          "output_type": "execute_result",
          "data": {
            "text/html": [
              "<div>\n",
              "<style scoped>\n",
              "    .dataframe tbody tr th:only-of-type {\n",
              "        vertical-align: middle;\n",
              "    }\n",
              "\n",
              "    .dataframe tbody tr th {\n",
              "        vertical-align: top;\n",
              "    }\n",
              "\n",
              "    .dataframe thead th {\n",
              "        text-align: right;\n",
              "    }\n",
              "</style>\n",
              "<table border=\"1\" class=\"dataframe\">\n",
              "  <thead>\n",
              "    <tr style=\"text-align: right;\">\n",
              "      <th></th>\n",
              "      <th>Time from Start to Finish (seconds)</th>\n",
              "      <th>Q1_OTHER_TEXT</th>\n",
              "      <th>Q6_OTHER_TEXT</th>\n",
              "      <th>Q7_OTHER_TEXT</th>\n",
              "      <th>Q9</th>\n",
              "      <th>Q11_Part_1</th>\n",
              "      <th>Q11_Part_2</th>\n",
              "      <th>Q11_Part_3</th>\n",
              "      <th>Q11_Part_4</th>\n",
              "      <th>Q11_Part_5</th>\n",
              "      <th>Q11_Part_6</th>\n",
              "      <th>Q11_Part_7</th>\n",
              "      <th>Q11_OTHER_TEXT</th>\n",
              "      <th>Q12_Part_1_TEXT</th>\n",
              "      <th>Q12_Part_2_TEXT</th>\n",
              "      <th>Q12_Part_3_TEXT</th>\n",
              "      <th>Q12_Part_4_TEXT</th>\n",
              "      <th>Q12_Part_5_TEXT</th>\n",
              "      <th>Q12_OTHER_TEXT</th>\n",
              "      <th>Q13_Part_1</th>\n",
              "      <th>Q13_Part_2</th>\n",
              "      <th>Q13_Part_3</th>\n",
              "      <th>Q13_Part_4</th>\n",
              "      <th>Q13_Part_5</th>\n",
              "      <th>Q13_Part_6</th>\n",
              "      <th>Q13_Part_7</th>\n",
              "      <th>Q13_Part_8</th>\n",
              "      <th>Q13_Part_9</th>\n",
              "      <th>Q13_Part_10</th>\n",
              "      <th>Q13_Part_11</th>\n",
              "      <th>Q13_Part_12</th>\n",
              "      <th>Q13_Part_13</th>\n",
              "      <th>Q13_Part_14</th>\n",
              "      <th>Q13_Part_15</th>\n",
              "      <th>Q13_OTHER_TEXT</th>\n",
              "      <th>Q14_Part_1</th>\n",
              "      <th>Q14_Part_2</th>\n",
              "      <th>Q14_Part_3</th>\n",
              "      <th>Q14_Part_4</th>\n",
              "      <th>Q14_Part_5</th>\n",
              "      <th>...</th>\n",
              "      <th>Q48_Yes, most ML models are \"black boxes\"</th>\n",
              "      <th>Q3_Australia</th>\n",
              "      <th>Q3_Brazil</th>\n",
              "      <th>Q3_Canada</th>\n",
              "      <th>Q3_China</th>\n",
              "      <th>Q3_Colombia</th>\n",
              "      <th>Q3_France</th>\n",
              "      <th>Q3_Germany</th>\n",
              "      <th>Q3_I do not wish to disclose my location</th>\n",
              "      <th>Q3_India</th>\n",
              "      <th>Q3_Israel</th>\n",
              "      <th>Q3_Italy</th>\n",
              "      <th>Q3_Japan</th>\n",
              "      <th>Q3_Mexico</th>\n",
              "      <th>Q3_Netherlands</th>\n",
              "      <th>Q3_Nigeria</th>\n",
              "      <th>Q3_Other</th>\n",
              "      <th>Q3_Poland</th>\n",
              "      <th>Q3_Portugal</th>\n",
              "      <th>Q3_Russia</th>\n",
              "      <th>Q3_Singapore</th>\n",
              "      <th>Q3_South Africa</th>\n",
              "      <th>Q3_South Korea</th>\n",
              "      <th>Q3_Spain</th>\n",
              "      <th>Q3_Sweden</th>\n",
              "      <th>Q3_Switzerland</th>\n",
              "      <th>Q3_Turkey</th>\n",
              "      <th>Q3_Ukraine</th>\n",
              "      <th>Q3_United Kingdom of Great Britain and Northern Ireland</th>\n",
              "      <th>Q3_United States of America</th>\n",
              "      <th>Q22_D3</th>\n",
              "      <th>Q22_Matplotlib</th>\n",
              "      <th>Q22_Other</th>\n",
              "      <th>Q22_Plotly</th>\n",
              "      <th>Q22_Seaborn</th>\n",
              "      <th>Q22_Shiny</th>\n",
              "      <th>Q22_Unknown</th>\n",
              "      <th>Q22_ggplot2</th>\n",
              "      <th>Q2_NORMAL</th>\n",
              "      <th>Q8_NORMAL</th>\n",
              "    </tr>\n",
              "  </thead>\n",
              "  <tbody>\n",
              "    <tr>\n",
              "      <th>2</th>\n",
              "      <td>434</td>\n",
              "      <td>-1</td>\n",
              "      <td>0</td>\n",
              "      <td>-1</td>\n",
              "      <td>10-20,000</td>\n",
              "      <td>NaN</td>\n",
              "      <td>NaN</td>\n",
              "      <td>NaN</td>\n",
              "      <td>NaN</td>\n",
              "      <td>NaN</td>\n",
              "      <td>None of these activities are an important part...</td>\n",
              "      <td>NaN</td>\n",
              "      <td>-1</td>\n",
              "      <td>1</td>\n",
              "      <td>-1</td>\n",
              "      <td>-1</td>\n",
              "      <td>-1</td>\n",
              "      <td>-1</td>\n",
              "      <td>-1</td>\n",
              "      <td>NaN</td>\n",
              "      <td>NaN</td>\n",
              "      <td>NaN</td>\n",
              "      <td>NaN</td>\n",
              "      <td>NaN</td>\n",
              "      <td>NaN</td>\n",
              "      <td>NaN</td>\n",
              "      <td>NaN</td>\n",
              "      <td>NaN</td>\n",
              "      <td>NaN</td>\n",
              "      <td>NaN</td>\n",
              "      <td>NaN</td>\n",
              "      <td>NaN</td>\n",
              "      <td>None</td>\n",
              "      <td>NaN</td>\n",
              "      <td>-1</td>\n",
              "      <td>NaN</td>\n",
              "      <td>NaN</td>\n",
              "      <td>NaN</td>\n",
              "      <td>NaN</td>\n",
              "      <td>NaN</td>\n",
              "      <td>...</td>\n",
              "      <td>0</td>\n",
              "      <td>0</td>\n",
              "      <td>0</td>\n",
              "      <td>0</td>\n",
              "      <td>0</td>\n",
              "      <td>0</td>\n",
              "      <td>0</td>\n",
              "      <td>0</td>\n",
              "      <td>0</td>\n",
              "      <td>0</td>\n",
              "      <td>0</td>\n",
              "      <td>0</td>\n",
              "      <td>0</td>\n",
              "      <td>0</td>\n",
              "      <td>0</td>\n",
              "      <td>0</td>\n",
              "      <td>1</td>\n",
              "      <td>0</td>\n",
              "      <td>0</td>\n",
              "      <td>0</td>\n",
              "      <td>0</td>\n",
              "      <td>0</td>\n",
              "      <td>0</td>\n",
              "      <td>0</td>\n",
              "      <td>0</td>\n",
              "      <td>0</td>\n",
              "      <td>0</td>\n",
              "      <td>0</td>\n",
              "      <td>0</td>\n",
              "      <td>0</td>\n",
              "      <td>0</td>\n",
              "      <td>0</td>\n",
              "      <td>0</td>\n",
              "      <td>0</td>\n",
              "      <td>0</td>\n",
              "      <td>0</td>\n",
              "      <td>1</td>\n",
              "      <td>0</td>\n",
              "      <td>32.0</td>\n",
              "      <td>7.5</td>\n",
              "    </tr>\n",
              "    <tr>\n",
              "      <th>3</th>\n",
              "      <td>718</td>\n",
              "      <td>-1</td>\n",
              "      <td>-1</td>\n",
              "      <td>-1</td>\n",
              "      <td>0-10,000</td>\n",
              "      <td>Analyze and understand data to influence produ...</td>\n",
              "      <td>NaN</td>\n",
              "      <td>NaN</td>\n",
              "      <td>NaN</td>\n",
              "      <td>NaN</td>\n",
              "      <td>NaN</td>\n",
              "      <td>NaN</td>\n",
              "      <td>-1</td>\n",
              "      <td>-1</td>\n",
              "      <td>-1</td>\n",
              "      <td>-1</td>\n",
              "      <td>0</td>\n",
              "      <td>-1</td>\n",
              "      <td>-1</td>\n",
              "      <td>NaN</td>\n",
              "      <td>NaN</td>\n",
              "      <td>NaN</td>\n",
              "      <td>NaN</td>\n",
              "      <td>NaN</td>\n",
              "      <td>NaN</td>\n",
              "      <td>MATLAB</td>\n",
              "      <td>NaN</td>\n",
              "      <td>NaN</td>\n",
              "      <td>NaN</td>\n",
              "      <td>NaN</td>\n",
              "      <td>NaN</td>\n",
              "      <td>NaN</td>\n",
              "      <td>NaN</td>\n",
              "      <td>NaN</td>\n",
              "      <td>-1</td>\n",
              "      <td>NaN</td>\n",
              "      <td>NaN</td>\n",
              "      <td>NaN</td>\n",
              "      <td>NaN</td>\n",
              "      <td>NaN</td>\n",
              "      <td>...</td>\n",
              "      <td>0</td>\n",
              "      <td>0</td>\n",
              "      <td>0</td>\n",
              "      <td>0</td>\n",
              "      <td>0</td>\n",
              "      <td>0</td>\n",
              "      <td>0</td>\n",
              "      <td>0</td>\n",
              "      <td>0</td>\n",
              "      <td>0</td>\n",
              "      <td>0</td>\n",
              "      <td>0</td>\n",
              "      <td>0</td>\n",
              "      <td>0</td>\n",
              "      <td>0</td>\n",
              "      <td>0</td>\n",
              "      <td>0</td>\n",
              "      <td>0</td>\n",
              "      <td>0</td>\n",
              "      <td>0</td>\n",
              "      <td>0</td>\n",
              "      <td>0</td>\n",
              "      <td>0</td>\n",
              "      <td>0</td>\n",
              "      <td>0</td>\n",
              "      <td>0</td>\n",
              "      <td>0</td>\n",
              "      <td>0</td>\n",
              "      <td>0</td>\n",
              "      <td>1</td>\n",
              "      <td>0</td>\n",
              "      <td>0</td>\n",
              "      <td>0</td>\n",
              "      <td>0</td>\n",
              "      <td>0</td>\n",
              "      <td>0</td>\n",
              "      <td>0</td>\n",
              "      <td>1</td>\n",
              "      <td>32.0</td>\n",
              "      <td>0.5</td>\n",
              "    </tr>\n",
              "    <tr>\n",
              "      <th>5</th>\n",
              "      <td>731</td>\n",
              "      <td>-1</td>\n",
              "      <td>-1</td>\n",
              "      <td>-1</td>\n",
              "      <td>0-10,000</td>\n",
              "      <td>NaN</td>\n",
              "      <td>NaN</td>\n",
              "      <td>NaN</td>\n",
              "      <td>NaN</td>\n",
              "      <td>NaN</td>\n",
              "      <td>NaN</td>\n",
              "      <td>Other</td>\n",
              "      <td>-1</td>\n",
              "      <td>-1</td>\n",
              "      <td>1</td>\n",
              "      <td>-1</td>\n",
              "      <td>-1</td>\n",
              "      <td>-1</td>\n",
              "      <td>-1</td>\n",
              "      <td>NaN</td>\n",
              "      <td>RStudio</td>\n",
              "      <td>NaN</td>\n",
              "      <td>NaN</td>\n",
              "      <td>NaN</td>\n",
              "      <td>NaN</td>\n",
              "      <td>NaN</td>\n",
              "      <td>NaN</td>\n",
              "      <td>NaN</td>\n",
              "      <td>NaN</td>\n",
              "      <td>NaN</td>\n",
              "      <td>NaN</td>\n",
              "      <td>NaN</td>\n",
              "      <td>NaN</td>\n",
              "      <td>NaN</td>\n",
              "      <td>-1</td>\n",
              "      <td>NaN</td>\n",
              "      <td>NaN</td>\n",
              "      <td>Azure Notebook</td>\n",
              "      <td>NaN</td>\n",
              "      <td>NaN</td>\n",
              "      <td>...</td>\n",
              "      <td>0</td>\n",
              "      <td>0</td>\n",
              "      <td>0</td>\n",
              "      <td>0</td>\n",
              "      <td>0</td>\n",
              "      <td>0</td>\n",
              "      <td>0</td>\n",
              "      <td>0</td>\n",
              "      <td>0</td>\n",
              "      <td>1</td>\n",
              "      <td>0</td>\n",
              "      <td>0</td>\n",
              "      <td>0</td>\n",
              "      <td>0</td>\n",
              "      <td>0</td>\n",
              "      <td>0</td>\n",
              "      <td>0</td>\n",
              "      <td>0</td>\n",
              "      <td>0</td>\n",
              "      <td>0</td>\n",
              "      <td>0</td>\n",
              "      <td>0</td>\n",
              "      <td>0</td>\n",
              "      <td>0</td>\n",
              "      <td>0</td>\n",
              "      <td>0</td>\n",
              "      <td>0</td>\n",
              "      <td>0</td>\n",
              "      <td>0</td>\n",
              "      <td>0</td>\n",
              "      <td>0</td>\n",
              "      <td>0</td>\n",
              "      <td>0</td>\n",
              "      <td>0</td>\n",
              "      <td>0</td>\n",
              "      <td>0</td>\n",
              "      <td>1</td>\n",
              "      <td>0</td>\n",
              "      <td>23.0</td>\n",
              "      <td>0.5</td>\n",
              "    </tr>\n",
              "  </tbody>\n",
              "</table>\n",
              "<p>3 rows × 593 columns</p>\n",
              "</div>"
            ],
            "text/plain": [
              "  Time from Start to Finish (seconds) Q1_OTHER_TEXT  ... Q2_NORMAL Q8_NORMAL\n",
              "2                                 434            -1  ...      32.0       7.5\n",
              "3                                 718            -1  ...      32.0       0.5\n",
              "5                                 731            -1  ...      23.0       0.5\n",
              "\n",
              "[3 rows x 593 columns]"
            ]
          },
          "metadata": {
            "tags": []
          },
          "execution_count": 698
        }
      ]
    },
    {
      "cell_type": "code",
      "metadata": {
        "id": "5PnKJi2K_e64",
        "colab_type": "code",
        "colab": {}
      },
      "source": [
        "miniSalary['Q24_NORMAL'] = miniSalary['Q24'].apply(specialModel.Q24Range_Normalize)\n",
        "miniSalary.drop(['Q24'],axis=1,inplace=True)"
      ],
      "execution_count": 0,
      "outputs": []
    },
    {
      "cell_type": "code",
      "metadata": {
        "id": "Ghllnuvx_woB",
        "colab_type": "code",
        "colab": {}
      },
      "source": [
        "miniSalary['Q25_NORMAL'] = miniSalary['Q25'].apply(specialModel.Q25Range_Normalize)\n",
        "miniSalary.drop(['Q25'],axis=1,inplace=True)"
      ],
      "execution_count": 0,
      "outputs": []
    },
    {
      "cell_type": "code",
      "metadata": {
        "id": "cS7znuFI_8uL",
        "colab_type": "code",
        "colab": {}
      },
      "source": [
        "miniSalary.loc[miniSalary['Q41_Part_1'].isnull(),'Q41_Part_1'] = 'Unknown'\n",
        "miniSalary.loc[miniSalary['Q41_Part_2'].isnull(),'Q41_Part_2'] = 'Unknown'\n",
        "miniSalary.loc[miniSalary['Q41_Part_3'].isnull(),'Q41_Part_3'] = 'Unknown'\n",
        "\n",
        "miniSalary['Q41_Part_1_NORMAL'] = miniSalary['Q41_Part_1'].apply(specialModel.Q41Range_Normalize)\n",
        "miniSalary.drop(['Q41_Part_1'],axis=1,inplace=True)\n",
        "miniSalary['Q41_Part_2_NORMAL'] = miniSalary['Q41_Part_2'].apply(specialModel.Q41Range_Normalize)\n",
        "miniSalary.drop(['Q41_Part_2'],axis=1,inplace=True)\n",
        "miniSalary['Q41_Part_3_NORMAL'] = miniSalary['Q41_Part_3'].apply(specialModel.Q41Range_Normalize)\n",
        "miniSalary.drop(['Q41_Part_3'],axis=1,inplace=True)"
      ],
      "execution_count": 0,
      "outputs": []
    },
    {
      "cell_type": "code",
      "metadata": {
        "id": "8t7BbomYAXyj",
        "colab_type": "code",
        "colab": {}
      },
      "source": [
        "miniSalary['Q43_NORMAL'] = miniSalary['Q43'].apply(specialModel.Q43Range_Normalize)\n",
        "miniSalary.drop(['Q43'],axis=1,inplace=True)\n",
        "miniSalary['Q43_NORMAL'].fillna(miniSalary['Q43_NORMAL'].mode()[0],inplace=True)"
      ],
      "execution_count": 0,
      "outputs": []
    },
    {
      "cell_type": "code",
      "metadata": {
        "id": "6sxlL_eZAjaO",
        "colab_type": "code",
        "outputId": "51aafe12-bf4a-4151-9a3d-c9641ac8d442",
        "colab": {
          "base_uri": "https://localhost:8080/",
          "height": 480
        }
      },
      "source": [
        "miniSalary['Q46_NORMAL'] = miniSalary['Q46'].apply(specialModel.Q43Range_Normalize)\n",
        "miniSalary.drop(['Q46'],axis=1,inplace=True)\n",
        "miniSalary['Q46_NORMAL'].fillna(miniSalary['Q46_NORMAL'].mode()[0],inplace=True)\n",
        "miniSalary.head(3)"
      ],
      "execution_count": 703,
      "outputs": [
        {
          "output_type": "execute_result",
          "data": {
            "text/html": [
              "<div>\n",
              "<style scoped>\n",
              "    .dataframe tbody tr th:only-of-type {\n",
              "        vertical-align: middle;\n",
              "    }\n",
              "\n",
              "    .dataframe tbody tr th {\n",
              "        vertical-align: top;\n",
              "    }\n",
              "\n",
              "    .dataframe thead th {\n",
              "        text-align: right;\n",
              "    }\n",
              "</style>\n",
              "<table border=\"1\" class=\"dataframe\">\n",
              "  <thead>\n",
              "    <tr style=\"text-align: right;\">\n",
              "      <th></th>\n",
              "      <th>Time from Start to Finish (seconds)</th>\n",
              "      <th>Q1_OTHER_TEXT</th>\n",
              "      <th>Q6_OTHER_TEXT</th>\n",
              "      <th>Q7_OTHER_TEXT</th>\n",
              "      <th>Q9</th>\n",
              "      <th>Q11_Part_1</th>\n",
              "      <th>Q11_Part_2</th>\n",
              "      <th>Q11_Part_3</th>\n",
              "      <th>Q11_Part_4</th>\n",
              "      <th>Q11_Part_5</th>\n",
              "      <th>Q11_Part_6</th>\n",
              "      <th>Q11_Part_7</th>\n",
              "      <th>Q11_OTHER_TEXT</th>\n",
              "      <th>Q12_Part_1_TEXT</th>\n",
              "      <th>Q12_Part_2_TEXT</th>\n",
              "      <th>Q12_Part_3_TEXT</th>\n",
              "      <th>Q12_Part_4_TEXT</th>\n",
              "      <th>Q12_Part_5_TEXT</th>\n",
              "      <th>Q12_OTHER_TEXT</th>\n",
              "      <th>Q13_Part_1</th>\n",
              "      <th>Q13_Part_2</th>\n",
              "      <th>Q13_Part_3</th>\n",
              "      <th>Q13_Part_4</th>\n",
              "      <th>Q13_Part_5</th>\n",
              "      <th>Q13_Part_6</th>\n",
              "      <th>Q13_Part_7</th>\n",
              "      <th>Q13_Part_8</th>\n",
              "      <th>Q13_Part_9</th>\n",
              "      <th>Q13_Part_10</th>\n",
              "      <th>Q13_Part_11</th>\n",
              "      <th>Q13_Part_12</th>\n",
              "      <th>Q13_Part_13</th>\n",
              "      <th>Q13_Part_14</th>\n",
              "      <th>Q13_Part_15</th>\n",
              "      <th>Q13_OTHER_TEXT</th>\n",
              "      <th>Q14_Part_1</th>\n",
              "      <th>Q14_Part_2</th>\n",
              "      <th>Q14_Part_3</th>\n",
              "      <th>Q14_Part_4</th>\n",
              "      <th>Q14_Part_5</th>\n",
              "      <th>...</th>\n",
              "      <th>Q3_Germany</th>\n",
              "      <th>Q3_I do not wish to disclose my location</th>\n",
              "      <th>Q3_India</th>\n",
              "      <th>Q3_Israel</th>\n",
              "      <th>Q3_Italy</th>\n",
              "      <th>Q3_Japan</th>\n",
              "      <th>Q3_Mexico</th>\n",
              "      <th>Q3_Netherlands</th>\n",
              "      <th>Q3_Nigeria</th>\n",
              "      <th>Q3_Other</th>\n",
              "      <th>Q3_Poland</th>\n",
              "      <th>Q3_Portugal</th>\n",
              "      <th>Q3_Russia</th>\n",
              "      <th>Q3_Singapore</th>\n",
              "      <th>Q3_South Africa</th>\n",
              "      <th>Q3_South Korea</th>\n",
              "      <th>Q3_Spain</th>\n",
              "      <th>Q3_Sweden</th>\n",
              "      <th>Q3_Switzerland</th>\n",
              "      <th>Q3_Turkey</th>\n",
              "      <th>Q3_Ukraine</th>\n",
              "      <th>Q3_United Kingdom of Great Britain and Northern Ireland</th>\n",
              "      <th>Q3_United States of America</th>\n",
              "      <th>Q22_D3</th>\n",
              "      <th>Q22_Matplotlib</th>\n",
              "      <th>Q22_Other</th>\n",
              "      <th>Q22_Plotly</th>\n",
              "      <th>Q22_Seaborn</th>\n",
              "      <th>Q22_Shiny</th>\n",
              "      <th>Q22_Unknown</th>\n",
              "      <th>Q22_ggplot2</th>\n",
              "      <th>Q2_NORMAL</th>\n",
              "      <th>Q8_NORMAL</th>\n",
              "      <th>Q24_NORMAL</th>\n",
              "      <th>Q25_NORMAL</th>\n",
              "      <th>Q41_Part_1_NORMAL</th>\n",
              "      <th>Q41_Part_2_NORMAL</th>\n",
              "      <th>Q41_Part_3_NORMAL</th>\n",
              "      <th>Q43_NORMAL</th>\n",
              "      <th>Q46_NORMAL</th>\n",
              "    </tr>\n",
              "  </thead>\n",
              "  <tbody>\n",
              "    <tr>\n",
              "      <th>2</th>\n",
              "      <td>434</td>\n",
              "      <td>-1</td>\n",
              "      <td>0</td>\n",
              "      <td>-1</td>\n",
              "      <td>10-20,000</td>\n",
              "      <td>NaN</td>\n",
              "      <td>NaN</td>\n",
              "      <td>NaN</td>\n",
              "      <td>NaN</td>\n",
              "      <td>NaN</td>\n",
              "      <td>None of these activities are an important part...</td>\n",
              "      <td>NaN</td>\n",
              "      <td>-1</td>\n",
              "      <td>1</td>\n",
              "      <td>-1</td>\n",
              "      <td>-1</td>\n",
              "      <td>-1</td>\n",
              "      <td>-1</td>\n",
              "      <td>-1</td>\n",
              "      <td>NaN</td>\n",
              "      <td>NaN</td>\n",
              "      <td>NaN</td>\n",
              "      <td>NaN</td>\n",
              "      <td>NaN</td>\n",
              "      <td>NaN</td>\n",
              "      <td>NaN</td>\n",
              "      <td>NaN</td>\n",
              "      <td>NaN</td>\n",
              "      <td>NaN</td>\n",
              "      <td>NaN</td>\n",
              "      <td>NaN</td>\n",
              "      <td>NaN</td>\n",
              "      <td>None</td>\n",
              "      <td>NaN</td>\n",
              "      <td>-1</td>\n",
              "      <td>NaN</td>\n",
              "      <td>NaN</td>\n",
              "      <td>NaN</td>\n",
              "      <td>NaN</td>\n",
              "      <td>NaN</td>\n",
              "      <td>...</td>\n",
              "      <td>0</td>\n",
              "      <td>0</td>\n",
              "      <td>0</td>\n",
              "      <td>0</td>\n",
              "      <td>0</td>\n",
              "      <td>0</td>\n",
              "      <td>0</td>\n",
              "      <td>0</td>\n",
              "      <td>0</td>\n",
              "      <td>1</td>\n",
              "      <td>0</td>\n",
              "      <td>0</td>\n",
              "      <td>0</td>\n",
              "      <td>0</td>\n",
              "      <td>0</td>\n",
              "      <td>0</td>\n",
              "      <td>0</td>\n",
              "      <td>0</td>\n",
              "      <td>0</td>\n",
              "      <td>0</td>\n",
              "      <td>0</td>\n",
              "      <td>0</td>\n",
              "      <td>0</td>\n",
              "      <td>0</td>\n",
              "      <td>0</td>\n",
              "      <td>0</td>\n",
              "      <td>0</td>\n",
              "      <td>0</td>\n",
              "      <td>0</td>\n",
              "      <td>1</td>\n",
              "      <td>0</td>\n",
              "      <td>32.0</td>\n",
              "      <td>7.5</td>\n",
              "      <td>0.0</td>\n",
              "      <td>0.0</td>\n",
              "      <td>0</td>\n",
              "      <td>0</td>\n",
              "      <td>0</td>\n",
              "      <td>0.0</td>\n",
              "      <td>15.0</td>\n",
              "    </tr>\n",
              "    <tr>\n",
              "      <th>3</th>\n",
              "      <td>718</td>\n",
              "      <td>-1</td>\n",
              "      <td>-1</td>\n",
              "      <td>-1</td>\n",
              "      <td>0-10,000</td>\n",
              "      <td>Analyze and understand data to influence produ...</td>\n",
              "      <td>NaN</td>\n",
              "      <td>NaN</td>\n",
              "      <td>NaN</td>\n",
              "      <td>NaN</td>\n",
              "      <td>NaN</td>\n",
              "      <td>NaN</td>\n",
              "      <td>-1</td>\n",
              "      <td>-1</td>\n",
              "      <td>-1</td>\n",
              "      <td>-1</td>\n",
              "      <td>0</td>\n",
              "      <td>-1</td>\n",
              "      <td>-1</td>\n",
              "      <td>NaN</td>\n",
              "      <td>NaN</td>\n",
              "      <td>NaN</td>\n",
              "      <td>NaN</td>\n",
              "      <td>NaN</td>\n",
              "      <td>NaN</td>\n",
              "      <td>MATLAB</td>\n",
              "      <td>NaN</td>\n",
              "      <td>NaN</td>\n",
              "      <td>NaN</td>\n",
              "      <td>NaN</td>\n",
              "      <td>NaN</td>\n",
              "      <td>NaN</td>\n",
              "      <td>NaN</td>\n",
              "      <td>NaN</td>\n",
              "      <td>-1</td>\n",
              "      <td>NaN</td>\n",
              "      <td>NaN</td>\n",
              "      <td>NaN</td>\n",
              "      <td>NaN</td>\n",
              "      <td>NaN</td>\n",
              "      <td>...</td>\n",
              "      <td>0</td>\n",
              "      <td>0</td>\n",
              "      <td>0</td>\n",
              "      <td>0</td>\n",
              "      <td>0</td>\n",
              "      <td>0</td>\n",
              "      <td>0</td>\n",
              "      <td>0</td>\n",
              "      <td>0</td>\n",
              "      <td>0</td>\n",
              "      <td>0</td>\n",
              "      <td>0</td>\n",
              "      <td>0</td>\n",
              "      <td>0</td>\n",
              "      <td>0</td>\n",
              "      <td>0</td>\n",
              "      <td>0</td>\n",
              "      <td>0</td>\n",
              "      <td>0</td>\n",
              "      <td>0</td>\n",
              "      <td>0</td>\n",
              "      <td>0</td>\n",
              "      <td>1</td>\n",
              "      <td>0</td>\n",
              "      <td>0</td>\n",
              "      <td>0</td>\n",
              "      <td>0</td>\n",
              "      <td>0</td>\n",
              "      <td>0</td>\n",
              "      <td>0</td>\n",
              "      <td>1</td>\n",
              "      <td>32.0</td>\n",
              "      <td>0.5</td>\n",
              "      <td>7.5</td>\n",
              "      <td>0.5</td>\n",
              "      <td>10</td>\n",
              "      <td>10</td>\n",
              "      <td>10</td>\n",
              "      <td>5.0</td>\n",
              "      <td>15.0</td>\n",
              "    </tr>\n",
              "    <tr>\n",
              "      <th>5</th>\n",
              "      <td>731</td>\n",
              "      <td>-1</td>\n",
              "      <td>-1</td>\n",
              "      <td>-1</td>\n",
              "      <td>0-10,000</td>\n",
              "      <td>NaN</td>\n",
              "      <td>NaN</td>\n",
              "      <td>NaN</td>\n",
              "      <td>NaN</td>\n",
              "      <td>NaN</td>\n",
              "      <td>NaN</td>\n",
              "      <td>Other</td>\n",
              "      <td>-1</td>\n",
              "      <td>-1</td>\n",
              "      <td>1</td>\n",
              "      <td>-1</td>\n",
              "      <td>-1</td>\n",
              "      <td>-1</td>\n",
              "      <td>-1</td>\n",
              "      <td>NaN</td>\n",
              "      <td>RStudio</td>\n",
              "      <td>NaN</td>\n",
              "      <td>NaN</td>\n",
              "      <td>NaN</td>\n",
              "      <td>NaN</td>\n",
              "      <td>NaN</td>\n",
              "      <td>NaN</td>\n",
              "      <td>NaN</td>\n",
              "      <td>NaN</td>\n",
              "      <td>NaN</td>\n",
              "      <td>NaN</td>\n",
              "      <td>NaN</td>\n",
              "      <td>NaN</td>\n",
              "      <td>NaN</td>\n",
              "      <td>-1</td>\n",
              "      <td>NaN</td>\n",
              "      <td>NaN</td>\n",
              "      <td>Azure Notebook</td>\n",
              "      <td>NaN</td>\n",
              "      <td>NaN</td>\n",
              "      <td>...</td>\n",
              "      <td>0</td>\n",
              "      <td>0</td>\n",
              "      <td>1</td>\n",
              "      <td>0</td>\n",
              "      <td>0</td>\n",
              "      <td>0</td>\n",
              "      <td>0</td>\n",
              "      <td>0</td>\n",
              "      <td>0</td>\n",
              "      <td>0</td>\n",
              "      <td>0</td>\n",
              "      <td>0</td>\n",
              "      <td>0</td>\n",
              "      <td>0</td>\n",
              "      <td>0</td>\n",
              "      <td>0</td>\n",
              "      <td>0</td>\n",
              "      <td>0</td>\n",
              "      <td>0</td>\n",
              "      <td>0</td>\n",
              "      <td>0</td>\n",
              "      <td>0</td>\n",
              "      <td>0</td>\n",
              "      <td>0</td>\n",
              "      <td>0</td>\n",
              "      <td>0</td>\n",
              "      <td>0</td>\n",
              "      <td>0</td>\n",
              "      <td>0</td>\n",
              "      <td>1</td>\n",
              "      <td>0</td>\n",
              "      <td>23.0</td>\n",
              "      <td>0.5</td>\n",
              "      <td>7.5</td>\n",
              "      <td>2.5</td>\n",
              "      <td>-10</td>\n",
              "      <td>5</td>\n",
              "      <td>10</td>\n",
              "      <td>25.0</td>\n",
              "      <td>25.0</td>\n",
              "    </tr>\n",
              "  </tbody>\n",
              "</table>\n",
              "<p>3 rows × 593 columns</p>\n",
              "</div>"
            ],
            "text/plain": [
              "  Time from Start to Finish (seconds) Q1_OTHER_TEXT  ... Q43_NORMAL Q46_NORMAL\n",
              "2                                 434            -1  ...        0.0       15.0\n",
              "3                                 718            -1  ...        5.0       15.0\n",
              "5                                 731            -1  ...       25.0       25.0\n",
              "\n",
              "[3 rows x 593 columns]"
            ]
          },
          "metadata": {
            "tags": []
          },
          "execution_count": 703
        }
      ]
    },
    {
      "cell_type": "code",
      "metadata": {
        "id": "mY-UET6nFI1P",
        "colab_type": "code",
        "colab": {}
      },
      "source": [
        "def Binarize(value):\n",
        "    if isinstance(value,str):\n",
        "      #mark cell as 1 as long as the cell is filled\n",
        "        return 1\n",
        "    else:\n",
        "        if value == 0 or math.isnan(value):\n",
        "            return 0\n",
        "        else:\n",
        "            return 1\n",
        "def binarize_col(columns, data):\n",
        "    for col in columns:\n",
        "        data[col] = data[col].apply(Binarize)\n",
        "NormalCols = generalModel.select_col('Q11_Part') + generalModel.select_col('Q13_Part') + \\\n",
        "generalModel.select_col('Q14_Part') + generalModel.select_col('Q15_Part') + generalModel.select_col('Q16_Part')\\\n",
        "+ generalModel.select_col('Q19_Part') + generalModel.select_col('Q21_Part') + generalModel.select_col('Q27_Part')\\\n",
        "+ generalModel.select_col('Q28_Part') + generalModel.select_col('Q29_Part') + generalModel.select_col('Q30_Part') +\\\n",
        "generalModel.select_col('Q31_Part') + generalModel.select_col('Q33_Part') + generalModel.select_col('Q34_Part') +\\\n",
        "generalModel.select_col('Q36_Part') + generalModel.select_col('Q38_Part') + generalModel.select_col('Q42_Part') + \\\n",
        "generalModel.select_col('Q44_Part') + generalModel.select_col('Q45_Part') + generalModel.select_col('Q47_Part') + \\\n",
        "generalModel.select_col('Q49_Part') + generalModel.select_col('Q50_Part')\n",
        "\n",
        "binarize_col(NormalCols,miniSalary)"
      ],
      "execution_count": 0,
      "outputs": []
    },
    {
      "cell_type": "markdown",
      "metadata": {
        "id": "zW8RVQPBf0W9",
        "colab_type": "text"
      },
      "source": [
        "For these question, we simply mark cell as 1 as long as the cell is filled"
      ]
    },
    {
      "cell_type": "code",
      "metadata": {
        "id": "zUfG70UEGPJH",
        "colab_type": "code",
        "outputId": "96a8512b-b5e1-4590-a9f2-99e490594deb",
        "colab": {
          "base_uri": "https://localhost:8080/",
          "height": 344
        }
      },
      "source": [
        "miniSalary.head(3)"
      ],
      "execution_count": 705,
      "outputs": [
        {
          "output_type": "execute_result",
          "data": {
            "text/html": [
              "<div>\n",
              "<style scoped>\n",
              "    .dataframe tbody tr th:only-of-type {\n",
              "        vertical-align: middle;\n",
              "    }\n",
              "\n",
              "    .dataframe tbody tr th {\n",
              "        vertical-align: top;\n",
              "    }\n",
              "\n",
              "    .dataframe thead th {\n",
              "        text-align: right;\n",
              "    }\n",
              "</style>\n",
              "<table border=\"1\" class=\"dataframe\">\n",
              "  <thead>\n",
              "    <tr style=\"text-align: right;\">\n",
              "      <th></th>\n",
              "      <th>Time from Start to Finish (seconds)</th>\n",
              "      <th>Q1_OTHER_TEXT</th>\n",
              "      <th>Q6_OTHER_TEXT</th>\n",
              "      <th>Q7_OTHER_TEXT</th>\n",
              "      <th>Q9</th>\n",
              "      <th>Q11_Part_1</th>\n",
              "      <th>Q11_Part_2</th>\n",
              "      <th>Q11_Part_3</th>\n",
              "      <th>Q11_Part_4</th>\n",
              "      <th>Q11_Part_5</th>\n",
              "      <th>Q11_Part_6</th>\n",
              "      <th>Q11_Part_7</th>\n",
              "      <th>Q11_OTHER_TEXT</th>\n",
              "      <th>Q12_Part_1_TEXT</th>\n",
              "      <th>Q12_Part_2_TEXT</th>\n",
              "      <th>Q12_Part_3_TEXT</th>\n",
              "      <th>Q12_Part_4_TEXT</th>\n",
              "      <th>Q12_Part_5_TEXT</th>\n",
              "      <th>Q12_OTHER_TEXT</th>\n",
              "      <th>Q13_Part_1</th>\n",
              "      <th>Q13_Part_2</th>\n",
              "      <th>Q13_Part_3</th>\n",
              "      <th>Q13_Part_4</th>\n",
              "      <th>Q13_Part_5</th>\n",
              "      <th>Q13_Part_6</th>\n",
              "      <th>Q13_Part_7</th>\n",
              "      <th>Q13_Part_8</th>\n",
              "      <th>Q13_Part_9</th>\n",
              "      <th>Q13_Part_10</th>\n",
              "      <th>Q13_Part_11</th>\n",
              "      <th>Q13_Part_12</th>\n",
              "      <th>Q13_Part_13</th>\n",
              "      <th>Q13_Part_14</th>\n",
              "      <th>Q13_Part_15</th>\n",
              "      <th>Q13_OTHER_TEXT</th>\n",
              "      <th>Q14_Part_1</th>\n",
              "      <th>Q14_Part_2</th>\n",
              "      <th>Q14_Part_3</th>\n",
              "      <th>Q14_Part_4</th>\n",
              "      <th>Q14_Part_5</th>\n",
              "      <th>...</th>\n",
              "      <th>Q3_Germany</th>\n",
              "      <th>Q3_I do not wish to disclose my location</th>\n",
              "      <th>Q3_India</th>\n",
              "      <th>Q3_Israel</th>\n",
              "      <th>Q3_Italy</th>\n",
              "      <th>Q3_Japan</th>\n",
              "      <th>Q3_Mexico</th>\n",
              "      <th>Q3_Netherlands</th>\n",
              "      <th>Q3_Nigeria</th>\n",
              "      <th>Q3_Other</th>\n",
              "      <th>Q3_Poland</th>\n",
              "      <th>Q3_Portugal</th>\n",
              "      <th>Q3_Russia</th>\n",
              "      <th>Q3_Singapore</th>\n",
              "      <th>Q3_South Africa</th>\n",
              "      <th>Q3_South Korea</th>\n",
              "      <th>Q3_Spain</th>\n",
              "      <th>Q3_Sweden</th>\n",
              "      <th>Q3_Switzerland</th>\n",
              "      <th>Q3_Turkey</th>\n",
              "      <th>Q3_Ukraine</th>\n",
              "      <th>Q3_United Kingdom of Great Britain and Northern Ireland</th>\n",
              "      <th>Q3_United States of America</th>\n",
              "      <th>Q22_D3</th>\n",
              "      <th>Q22_Matplotlib</th>\n",
              "      <th>Q22_Other</th>\n",
              "      <th>Q22_Plotly</th>\n",
              "      <th>Q22_Seaborn</th>\n",
              "      <th>Q22_Shiny</th>\n",
              "      <th>Q22_Unknown</th>\n",
              "      <th>Q22_ggplot2</th>\n",
              "      <th>Q2_NORMAL</th>\n",
              "      <th>Q8_NORMAL</th>\n",
              "      <th>Q24_NORMAL</th>\n",
              "      <th>Q25_NORMAL</th>\n",
              "      <th>Q41_Part_1_NORMAL</th>\n",
              "      <th>Q41_Part_2_NORMAL</th>\n",
              "      <th>Q41_Part_3_NORMAL</th>\n",
              "      <th>Q43_NORMAL</th>\n",
              "      <th>Q46_NORMAL</th>\n",
              "    </tr>\n",
              "  </thead>\n",
              "  <tbody>\n",
              "    <tr>\n",
              "      <th>2</th>\n",
              "      <td>434</td>\n",
              "      <td>-1</td>\n",
              "      <td>0</td>\n",
              "      <td>-1</td>\n",
              "      <td>10-20,000</td>\n",
              "      <td>0</td>\n",
              "      <td>0</td>\n",
              "      <td>0</td>\n",
              "      <td>0</td>\n",
              "      <td>0</td>\n",
              "      <td>1</td>\n",
              "      <td>0</td>\n",
              "      <td>-1</td>\n",
              "      <td>1</td>\n",
              "      <td>-1</td>\n",
              "      <td>-1</td>\n",
              "      <td>-1</td>\n",
              "      <td>-1</td>\n",
              "      <td>-1</td>\n",
              "      <td>0</td>\n",
              "      <td>0</td>\n",
              "      <td>0</td>\n",
              "      <td>0</td>\n",
              "      <td>0</td>\n",
              "      <td>0</td>\n",
              "      <td>0</td>\n",
              "      <td>0</td>\n",
              "      <td>0</td>\n",
              "      <td>0</td>\n",
              "      <td>0</td>\n",
              "      <td>0</td>\n",
              "      <td>0</td>\n",
              "      <td>1</td>\n",
              "      <td>0</td>\n",
              "      <td>-1</td>\n",
              "      <td>0</td>\n",
              "      <td>0</td>\n",
              "      <td>0</td>\n",
              "      <td>0</td>\n",
              "      <td>0</td>\n",
              "      <td>...</td>\n",
              "      <td>0</td>\n",
              "      <td>0</td>\n",
              "      <td>0</td>\n",
              "      <td>0</td>\n",
              "      <td>0</td>\n",
              "      <td>0</td>\n",
              "      <td>0</td>\n",
              "      <td>0</td>\n",
              "      <td>0</td>\n",
              "      <td>1</td>\n",
              "      <td>0</td>\n",
              "      <td>0</td>\n",
              "      <td>0</td>\n",
              "      <td>0</td>\n",
              "      <td>0</td>\n",
              "      <td>0</td>\n",
              "      <td>0</td>\n",
              "      <td>0</td>\n",
              "      <td>0</td>\n",
              "      <td>0</td>\n",
              "      <td>0</td>\n",
              "      <td>0</td>\n",
              "      <td>0</td>\n",
              "      <td>0</td>\n",
              "      <td>0</td>\n",
              "      <td>0</td>\n",
              "      <td>0</td>\n",
              "      <td>0</td>\n",
              "      <td>0</td>\n",
              "      <td>1</td>\n",
              "      <td>0</td>\n",
              "      <td>32.0</td>\n",
              "      <td>7.5</td>\n",
              "      <td>0.0</td>\n",
              "      <td>0.0</td>\n",
              "      <td>0</td>\n",
              "      <td>0</td>\n",
              "      <td>0</td>\n",
              "      <td>0.0</td>\n",
              "      <td>15.0</td>\n",
              "    </tr>\n",
              "    <tr>\n",
              "      <th>3</th>\n",
              "      <td>718</td>\n",
              "      <td>-1</td>\n",
              "      <td>-1</td>\n",
              "      <td>-1</td>\n",
              "      <td>0-10,000</td>\n",
              "      <td>1</td>\n",
              "      <td>0</td>\n",
              "      <td>0</td>\n",
              "      <td>0</td>\n",
              "      <td>0</td>\n",
              "      <td>0</td>\n",
              "      <td>0</td>\n",
              "      <td>-1</td>\n",
              "      <td>-1</td>\n",
              "      <td>-1</td>\n",
              "      <td>-1</td>\n",
              "      <td>0</td>\n",
              "      <td>-1</td>\n",
              "      <td>-1</td>\n",
              "      <td>0</td>\n",
              "      <td>0</td>\n",
              "      <td>0</td>\n",
              "      <td>0</td>\n",
              "      <td>0</td>\n",
              "      <td>0</td>\n",
              "      <td>1</td>\n",
              "      <td>0</td>\n",
              "      <td>0</td>\n",
              "      <td>0</td>\n",
              "      <td>0</td>\n",
              "      <td>0</td>\n",
              "      <td>0</td>\n",
              "      <td>0</td>\n",
              "      <td>0</td>\n",
              "      <td>-1</td>\n",
              "      <td>0</td>\n",
              "      <td>0</td>\n",
              "      <td>0</td>\n",
              "      <td>0</td>\n",
              "      <td>0</td>\n",
              "      <td>...</td>\n",
              "      <td>0</td>\n",
              "      <td>0</td>\n",
              "      <td>0</td>\n",
              "      <td>0</td>\n",
              "      <td>0</td>\n",
              "      <td>0</td>\n",
              "      <td>0</td>\n",
              "      <td>0</td>\n",
              "      <td>0</td>\n",
              "      <td>0</td>\n",
              "      <td>0</td>\n",
              "      <td>0</td>\n",
              "      <td>0</td>\n",
              "      <td>0</td>\n",
              "      <td>0</td>\n",
              "      <td>0</td>\n",
              "      <td>0</td>\n",
              "      <td>0</td>\n",
              "      <td>0</td>\n",
              "      <td>0</td>\n",
              "      <td>0</td>\n",
              "      <td>0</td>\n",
              "      <td>1</td>\n",
              "      <td>0</td>\n",
              "      <td>0</td>\n",
              "      <td>0</td>\n",
              "      <td>0</td>\n",
              "      <td>0</td>\n",
              "      <td>0</td>\n",
              "      <td>0</td>\n",
              "      <td>1</td>\n",
              "      <td>32.0</td>\n",
              "      <td>0.5</td>\n",
              "      <td>7.5</td>\n",
              "      <td>0.5</td>\n",
              "      <td>10</td>\n",
              "      <td>10</td>\n",
              "      <td>10</td>\n",
              "      <td>5.0</td>\n",
              "      <td>15.0</td>\n",
              "    </tr>\n",
              "    <tr>\n",
              "      <th>5</th>\n",
              "      <td>731</td>\n",
              "      <td>-1</td>\n",
              "      <td>-1</td>\n",
              "      <td>-1</td>\n",
              "      <td>0-10,000</td>\n",
              "      <td>0</td>\n",
              "      <td>0</td>\n",
              "      <td>0</td>\n",
              "      <td>0</td>\n",
              "      <td>0</td>\n",
              "      <td>0</td>\n",
              "      <td>1</td>\n",
              "      <td>-1</td>\n",
              "      <td>-1</td>\n",
              "      <td>1</td>\n",
              "      <td>-1</td>\n",
              "      <td>-1</td>\n",
              "      <td>-1</td>\n",
              "      <td>-1</td>\n",
              "      <td>0</td>\n",
              "      <td>1</td>\n",
              "      <td>0</td>\n",
              "      <td>0</td>\n",
              "      <td>0</td>\n",
              "      <td>0</td>\n",
              "      <td>0</td>\n",
              "      <td>0</td>\n",
              "      <td>0</td>\n",
              "      <td>0</td>\n",
              "      <td>0</td>\n",
              "      <td>0</td>\n",
              "      <td>0</td>\n",
              "      <td>0</td>\n",
              "      <td>0</td>\n",
              "      <td>-1</td>\n",
              "      <td>0</td>\n",
              "      <td>0</td>\n",
              "      <td>1</td>\n",
              "      <td>0</td>\n",
              "      <td>0</td>\n",
              "      <td>...</td>\n",
              "      <td>0</td>\n",
              "      <td>0</td>\n",
              "      <td>1</td>\n",
              "      <td>0</td>\n",
              "      <td>0</td>\n",
              "      <td>0</td>\n",
              "      <td>0</td>\n",
              "      <td>0</td>\n",
              "      <td>0</td>\n",
              "      <td>0</td>\n",
              "      <td>0</td>\n",
              "      <td>0</td>\n",
              "      <td>0</td>\n",
              "      <td>0</td>\n",
              "      <td>0</td>\n",
              "      <td>0</td>\n",
              "      <td>0</td>\n",
              "      <td>0</td>\n",
              "      <td>0</td>\n",
              "      <td>0</td>\n",
              "      <td>0</td>\n",
              "      <td>0</td>\n",
              "      <td>0</td>\n",
              "      <td>0</td>\n",
              "      <td>0</td>\n",
              "      <td>0</td>\n",
              "      <td>0</td>\n",
              "      <td>0</td>\n",
              "      <td>0</td>\n",
              "      <td>1</td>\n",
              "      <td>0</td>\n",
              "      <td>23.0</td>\n",
              "      <td>0.5</td>\n",
              "      <td>7.5</td>\n",
              "      <td>2.5</td>\n",
              "      <td>-10</td>\n",
              "      <td>5</td>\n",
              "      <td>10</td>\n",
              "      <td>25.0</td>\n",
              "      <td>25.0</td>\n",
              "    </tr>\n",
              "  </tbody>\n",
              "</table>\n",
              "<p>3 rows × 593 columns</p>\n",
              "</div>"
            ],
            "text/plain": [
              "  Time from Start to Finish (seconds) Q1_OTHER_TEXT  ... Q43_NORMAL Q46_NORMAL\n",
              "2                                 434            -1  ...        0.0       15.0\n",
              "3                                 718            -1  ...        5.0       15.0\n",
              "5                                 731            -1  ...       25.0       25.0\n",
              "\n",
              "[3 rows x 593 columns]"
            ]
          },
          "metadata": {
            "tags": []
          },
          "execution_count": 705
        }
      ]
    },
    {
      "cell_type": "code",
      "metadata": {
        "id": "VngDa-I7HLG7",
        "colab_type": "code",
        "colab": {}
      },
      "source": [
        "def TBinarize(value):\n",
        "    if isinstance(value,str):\n",
        "      #as long as there is a value, return its float type, otherwise return -1\n",
        "        return float(value)\n",
        "    else:\n",
        "        if math.isnan(value):\n",
        "            return -1\n",
        "        else:\n",
        "            return value\n",
        "def Tbinarize_col(columns, data):\n",
        "    for col in columns:\n",
        "        data[col] = data[col].apply(TBinarize)\n",
        "\n",
        "Tbinarize_col(generalModel.select_col('Q34_Part'),miniSalary)\n",
        "Tbinarize_col(generalModel.select_col('Q35_Part'),miniSalary)"
      ],
      "execution_count": 0,
      "outputs": []
    },
    {
      "cell_type": "code",
      "metadata": {
        "id": "HWyCW5FcOLT8",
        "colab_type": "code",
        "outputId": "742f3faa-e177-4a21-8ab0-9c083fd40351",
        "colab": {
          "base_uri": "https://localhost:8080/",
          "height": 85
        }
      },
      "source": [
        "miniSalary['Q9'].unique()"
      ],
      "execution_count": 707,
      "outputs": [
        {
          "output_type": "execute_result",
          "data": {
            "text/plain": [
              "array(['10-20,000', '0-10,000', '20-30,000', '125-150,000', '30-40,000',\n",
              "       '50-60,000', '100-125,000', '90-100,000', '70-80,000', '80-90,000',\n",
              "       '60-70,000', '400-500,000', '40-50,000', '150-200,000', '500,000+',\n",
              "       '300-400,000', '200-250,000', '250-300,000'], dtype=object)"
            ]
          },
          "metadata": {
            "tags": []
          },
          "execution_count": 707
        }
      ]
    },
    {
      "cell_type": "code",
      "metadata": {
        "id": "oIEyJiOBWzk6",
        "colab_type": "code",
        "colab": {}
      },
      "source": [
        "miniSalary.drop(['Q37'], axis=1,inplace=True)"
      ],
      "execution_count": 0,
      "outputs": []
    },
    {
      "cell_type": "markdown",
      "metadata": {
        "id": "rr89r6NCgE3N",
        "colab_type": "text"
      },
      "source": [
        "Q37 dropped for containing too many nans"
      ]
    },
    {
      "cell_type": "code",
      "metadata": {
        "id": "Nik5-an2U0YZ",
        "colab_type": "code",
        "colab": {}
      },
      "source": [
        "k=miniSalary.isnull().sum(axis=0)\n",
        "for items in k.iteritems():\n",
        "  if items[1]!=0:\n",
        "    print(items)"
      ],
      "execution_count": 0,
      "outputs": []
    },
    {
      "cell_type": "markdown",
      "metadata": {
        "id": "9RCp6dOXgSkP",
        "colab_type": "text"
      },
      "source": [
        "Iterate through the cleaned dataset to see if any term still has null"
      ]
    },
    {
      "cell_type": "code",
      "metadata": {
        "id": "mbRDMKsIXfeK",
        "colab_type": "code",
        "outputId": "91e1edb6-7ffc-4aa5-87bd-29bdc39f034a",
        "colab": {
          "base_uri": "https://localhost:8080/",
          "height": 34
        }
      },
      "source": [
        "print (type(miniSalary['Q9']))\n",
        "for col in miniSalary.columns:\n",
        "  for items in miniSalary[col].iteritems():\n",
        "    if items[1]==\"Unknown\":\n",
        "      print (col)\n",
        "      break"
      ],
      "execution_count": 710,
      "outputs": [
        {
          "output_type": "stream",
          "text": [
            "<class 'pandas.core.series.Series'>\n"
          ],
          "name": "stdout"
        }
      ]
    },
    {
      "cell_type": "code",
      "metadata": {
        "id": "hJga_kE0He91",
        "colab_type": "code",
        "outputId": "35c784b1-131d-45e7-e412-2f8abc82e991",
        "colab": {
          "base_uri": "https://localhost:8080/",
          "height": 293
        }
      },
      "source": [
        "def Q9Process(value):\n",
        "\n",
        "    #questions like q2 and q8 has numerical values, thus need extract value from answer string\n",
        "  if isinstance(value, str):\n",
        "      if '-' in value:\n",
        "          temp = value.split('-')\n",
        "          upper=temp[1].split(',')\n",
        "          resultValue=float(upper[0])*1000\n",
        "          return (float(temp[0])*1000+resultValue)/2\n",
        "      if '+' in value:\n",
        "          a = value.split('+')\n",
        "          up=a[0].split(',')\n",
        "          upValue=float(up[0])*1000\n",
        "          return upValue\n",
        "      else:\n",
        "          return value\n",
        "  else:\n",
        "      return value\n",
        "\n",
        "miniSalary.rename(columns={\"Q9\": \"Yearly_Income\"},inplace=True)\n",
        "miniSalary[\"Yearly_Income\"]=miniSalary[\"Yearly_Income\"].apply(Q9Process)\n",
        "for col in miniSalary.columns:\n",
        "  #print(type(miniSalary.loc[1,col]),miniSalary.loc[1,col])\n",
        "  if isinstance(miniSalary.loc[2,col],str):\n",
        "    #print(type(miniSalary.loc[1,col]),miniSalary.loc[1,col])\n",
        "    miniSalary[col] = miniSalary[col].apply(lambda x:float(x))\n",
        "\n",
        "miniSalary.rename(columns={\"Time from Start to Finish (seconds)\": \"TimeUse\"},inplace=True)\n",
        "miniSalary.drop(miniSalary[miniSalary.TimeUse < 180].index,inplace=True)#need to convert all data from str to float\n",
        "miniSalary.head(3)\n",
        "#print(type(miniSalary.TimeUse.at[2]))\n",
        "#miniSalary.loc[2,'TimeUse']"
      ],
      "execution_count": 711,
      "outputs": [
        {
          "output_type": "execute_result",
          "data": {
            "text/html": [
              "<div>\n",
              "<style scoped>\n",
              "    .dataframe tbody tr th:only-of-type {\n",
              "        vertical-align: middle;\n",
              "    }\n",
              "\n",
              "    .dataframe tbody tr th {\n",
              "        vertical-align: top;\n",
              "    }\n",
              "\n",
              "    .dataframe thead th {\n",
              "        text-align: right;\n",
              "    }\n",
              "</style>\n",
              "<table border=\"1\" class=\"dataframe\">\n",
              "  <thead>\n",
              "    <tr style=\"text-align: right;\">\n",
              "      <th></th>\n",
              "      <th>TimeUse</th>\n",
              "      <th>Q1_OTHER_TEXT</th>\n",
              "      <th>Q6_OTHER_TEXT</th>\n",
              "      <th>Q7_OTHER_TEXT</th>\n",
              "      <th>Yearly_Income</th>\n",
              "      <th>Q11_Part_1</th>\n",
              "      <th>Q11_Part_2</th>\n",
              "      <th>Q11_Part_3</th>\n",
              "      <th>Q11_Part_4</th>\n",
              "      <th>Q11_Part_5</th>\n",
              "      <th>Q11_Part_6</th>\n",
              "      <th>Q11_Part_7</th>\n",
              "      <th>Q11_OTHER_TEXT</th>\n",
              "      <th>Q12_Part_1_TEXT</th>\n",
              "      <th>Q12_Part_2_TEXT</th>\n",
              "      <th>Q12_Part_3_TEXT</th>\n",
              "      <th>Q12_Part_4_TEXT</th>\n",
              "      <th>Q12_Part_5_TEXT</th>\n",
              "      <th>Q12_OTHER_TEXT</th>\n",
              "      <th>Q13_Part_1</th>\n",
              "      <th>Q13_Part_2</th>\n",
              "      <th>Q13_Part_3</th>\n",
              "      <th>Q13_Part_4</th>\n",
              "      <th>Q13_Part_5</th>\n",
              "      <th>Q13_Part_6</th>\n",
              "      <th>Q13_Part_7</th>\n",
              "      <th>Q13_Part_8</th>\n",
              "      <th>Q13_Part_9</th>\n",
              "      <th>Q13_Part_10</th>\n",
              "      <th>Q13_Part_11</th>\n",
              "      <th>Q13_Part_12</th>\n",
              "      <th>Q13_Part_13</th>\n",
              "      <th>Q13_Part_14</th>\n",
              "      <th>Q13_Part_15</th>\n",
              "      <th>Q13_OTHER_TEXT</th>\n",
              "      <th>Q14_Part_1</th>\n",
              "      <th>Q14_Part_2</th>\n",
              "      <th>Q14_Part_3</th>\n",
              "      <th>Q14_Part_4</th>\n",
              "      <th>Q14_Part_5</th>\n",
              "      <th>...</th>\n",
              "      <th>Q3_Germany</th>\n",
              "      <th>Q3_I do not wish to disclose my location</th>\n",
              "      <th>Q3_India</th>\n",
              "      <th>Q3_Israel</th>\n",
              "      <th>Q3_Italy</th>\n",
              "      <th>Q3_Japan</th>\n",
              "      <th>Q3_Mexico</th>\n",
              "      <th>Q3_Netherlands</th>\n",
              "      <th>Q3_Nigeria</th>\n",
              "      <th>Q3_Other</th>\n",
              "      <th>Q3_Poland</th>\n",
              "      <th>Q3_Portugal</th>\n",
              "      <th>Q3_Russia</th>\n",
              "      <th>Q3_Singapore</th>\n",
              "      <th>Q3_South Africa</th>\n",
              "      <th>Q3_South Korea</th>\n",
              "      <th>Q3_Spain</th>\n",
              "      <th>Q3_Sweden</th>\n",
              "      <th>Q3_Switzerland</th>\n",
              "      <th>Q3_Turkey</th>\n",
              "      <th>Q3_Ukraine</th>\n",
              "      <th>Q3_United Kingdom of Great Britain and Northern Ireland</th>\n",
              "      <th>Q3_United States of America</th>\n",
              "      <th>Q22_D3</th>\n",
              "      <th>Q22_Matplotlib</th>\n",
              "      <th>Q22_Other</th>\n",
              "      <th>Q22_Plotly</th>\n",
              "      <th>Q22_Seaborn</th>\n",
              "      <th>Q22_Shiny</th>\n",
              "      <th>Q22_Unknown</th>\n",
              "      <th>Q22_ggplot2</th>\n",
              "      <th>Q2_NORMAL</th>\n",
              "      <th>Q8_NORMAL</th>\n",
              "      <th>Q24_NORMAL</th>\n",
              "      <th>Q25_NORMAL</th>\n",
              "      <th>Q41_Part_1_NORMAL</th>\n",
              "      <th>Q41_Part_2_NORMAL</th>\n",
              "      <th>Q41_Part_3_NORMAL</th>\n",
              "      <th>Q43_NORMAL</th>\n",
              "      <th>Q46_NORMAL</th>\n",
              "    </tr>\n",
              "  </thead>\n",
              "  <tbody>\n",
              "    <tr>\n",
              "      <th>2</th>\n",
              "      <td>434.0</td>\n",
              "      <td>-1.0</td>\n",
              "      <td>0.0</td>\n",
              "      <td>-1.0</td>\n",
              "      <td>15000.0</td>\n",
              "      <td>0</td>\n",
              "      <td>0</td>\n",
              "      <td>0</td>\n",
              "      <td>0</td>\n",
              "      <td>0</td>\n",
              "      <td>1</td>\n",
              "      <td>0</td>\n",
              "      <td>-1.0</td>\n",
              "      <td>1.0</td>\n",
              "      <td>-1.0</td>\n",
              "      <td>-1.0</td>\n",
              "      <td>-1.0</td>\n",
              "      <td>-1.0</td>\n",
              "      <td>-1.0</td>\n",
              "      <td>0</td>\n",
              "      <td>0</td>\n",
              "      <td>0</td>\n",
              "      <td>0</td>\n",
              "      <td>0</td>\n",
              "      <td>0</td>\n",
              "      <td>0</td>\n",
              "      <td>0</td>\n",
              "      <td>0</td>\n",
              "      <td>0</td>\n",
              "      <td>0</td>\n",
              "      <td>0</td>\n",
              "      <td>0</td>\n",
              "      <td>1</td>\n",
              "      <td>0</td>\n",
              "      <td>-1.0</td>\n",
              "      <td>0</td>\n",
              "      <td>0</td>\n",
              "      <td>0</td>\n",
              "      <td>0</td>\n",
              "      <td>0</td>\n",
              "      <td>...</td>\n",
              "      <td>0</td>\n",
              "      <td>0</td>\n",
              "      <td>0</td>\n",
              "      <td>0</td>\n",
              "      <td>0</td>\n",
              "      <td>0</td>\n",
              "      <td>0</td>\n",
              "      <td>0</td>\n",
              "      <td>0</td>\n",
              "      <td>1</td>\n",
              "      <td>0</td>\n",
              "      <td>0</td>\n",
              "      <td>0</td>\n",
              "      <td>0</td>\n",
              "      <td>0</td>\n",
              "      <td>0</td>\n",
              "      <td>0</td>\n",
              "      <td>0</td>\n",
              "      <td>0</td>\n",
              "      <td>0</td>\n",
              "      <td>0</td>\n",
              "      <td>0</td>\n",
              "      <td>0</td>\n",
              "      <td>0</td>\n",
              "      <td>0</td>\n",
              "      <td>0</td>\n",
              "      <td>0</td>\n",
              "      <td>0</td>\n",
              "      <td>0</td>\n",
              "      <td>1</td>\n",
              "      <td>0</td>\n",
              "      <td>32.0</td>\n",
              "      <td>7.5</td>\n",
              "      <td>0.0</td>\n",
              "      <td>0.0</td>\n",
              "      <td>0</td>\n",
              "      <td>0</td>\n",
              "      <td>0</td>\n",
              "      <td>0.0</td>\n",
              "      <td>15.0</td>\n",
              "    </tr>\n",
              "    <tr>\n",
              "      <th>3</th>\n",
              "      <td>718.0</td>\n",
              "      <td>-1.0</td>\n",
              "      <td>-1.0</td>\n",
              "      <td>-1.0</td>\n",
              "      <td>5000.0</td>\n",
              "      <td>1</td>\n",
              "      <td>0</td>\n",
              "      <td>0</td>\n",
              "      <td>0</td>\n",
              "      <td>0</td>\n",
              "      <td>0</td>\n",
              "      <td>0</td>\n",
              "      <td>-1.0</td>\n",
              "      <td>-1.0</td>\n",
              "      <td>-1.0</td>\n",
              "      <td>-1.0</td>\n",
              "      <td>0.0</td>\n",
              "      <td>-1.0</td>\n",
              "      <td>-1.0</td>\n",
              "      <td>0</td>\n",
              "      <td>0</td>\n",
              "      <td>0</td>\n",
              "      <td>0</td>\n",
              "      <td>0</td>\n",
              "      <td>0</td>\n",
              "      <td>1</td>\n",
              "      <td>0</td>\n",
              "      <td>0</td>\n",
              "      <td>0</td>\n",
              "      <td>0</td>\n",
              "      <td>0</td>\n",
              "      <td>0</td>\n",
              "      <td>0</td>\n",
              "      <td>0</td>\n",
              "      <td>-1.0</td>\n",
              "      <td>0</td>\n",
              "      <td>0</td>\n",
              "      <td>0</td>\n",
              "      <td>0</td>\n",
              "      <td>0</td>\n",
              "      <td>...</td>\n",
              "      <td>0</td>\n",
              "      <td>0</td>\n",
              "      <td>0</td>\n",
              "      <td>0</td>\n",
              "      <td>0</td>\n",
              "      <td>0</td>\n",
              "      <td>0</td>\n",
              "      <td>0</td>\n",
              "      <td>0</td>\n",
              "      <td>0</td>\n",
              "      <td>0</td>\n",
              "      <td>0</td>\n",
              "      <td>0</td>\n",
              "      <td>0</td>\n",
              "      <td>0</td>\n",
              "      <td>0</td>\n",
              "      <td>0</td>\n",
              "      <td>0</td>\n",
              "      <td>0</td>\n",
              "      <td>0</td>\n",
              "      <td>0</td>\n",
              "      <td>0</td>\n",
              "      <td>1</td>\n",
              "      <td>0</td>\n",
              "      <td>0</td>\n",
              "      <td>0</td>\n",
              "      <td>0</td>\n",
              "      <td>0</td>\n",
              "      <td>0</td>\n",
              "      <td>0</td>\n",
              "      <td>1</td>\n",
              "      <td>32.0</td>\n",
              "      <td>0.5</td>\n",
              "      <td>7.5</td>\n",
              "      <td>0.5</td>\n",
              "      <td>10</td>\n",
              "      <td>10</td>\n",
              "      <td>10</td>\n",
              "      <td>5.0</td>\n",
              "      <td>15.0</td>\n",
              "    </tr>\n",
              "    <tr>\n",
              "      <th>5</th>\n",
              "      <td>731.0</td>\n",
              "      <td>-1.0</td>\n",
              "      <td>-1.0</td>\n",
              "      <td>-1.0</td>\n",
              "      <td>5000.0</td>\n",
              "      <td>0</td>\n",
              "      <td>0</td>\n",
              "      <td>0</td>\n",
              "      <td>0</td>\n",
              "      <td>0</td>\n",
              "      <td>0</td>\n",
              "      <td>1</td>\n",
              "      <td>-1.0</td>\n",
              "      <td>-1.0</td>\n",
              "      <td>1.0</td>\n",
              "      <td>-1.0</td>\n",
              "      <td>-1.0</td>\n",
              "      <td>-1.0</td>\n",
              "      <td>-1.0</td>\n",
              "      <td>0</td>\n",
              "      <td>1</td>\n",
              "      <td>0</td>\n",
              "      <td>0</td>\n",
              "      <td>0</td>\n",
              "      <td>0</td>\n",
              "      <td>0</td>\n",
              "      <td>0</td>\n",
              "      <td>0</td>\n",
              "      <td>0</td>\n",
              "      <td>0</td>\n",
              "      <td>0</td>\n",
              "      <td>0</td>\n",
              "      <td>0</td>\n",
              "      <td>0</td>\n",
              "      <td>-1.0</td>\n",
              "      <td>0</td>\n",
              "      <td>0</td>\n",
              "      <td>1</td>\n",
              "      <td>0</td>\n",
              "      <td>0</td>\n",
              "      <td>...</td>\n",
              "      <td>0</td>\n",
              "      <td>0</td>\n",
              "      <td>1</td>\n",
              "      <td>0</td>\n",
              "      <td>0</td>\n",
              "      <td>0</td>\n",
              "      <td>0</td>\n",
              "      <td>0</td>\n",
              "      <td>0</td>\n",
              "      <td>0</td>\n",
              "      <td>0</td>\n",
              "      <td>0</td>\n",
              "      <td>0</td>\n",
              "      <td>0</td>\n",
              "      <td>0</td>\n",
              "      <td>0</td>\n",
              "      <td>0</td>\n",
              "      <td>0</td>\n",
              "      <td>0</td>\n",
              "      <td>0</td>\n",
              "      <td>0</td>\n",
              "      <td>0</td>\n",
              "      <td>0</td>\n",
              "      <td>0</td>\n",
              "      <td>0</td>\n",
              "      <td>0</td>\n",
              "      <td>0</td>\n",
              "      <td>0</td>\n",
              "      <td>0</td>\n",
              "      <td>1</td>\n",
              "      <td>0</td>\n",
              "      <td>23.0</td>\n",
              "      <td>0.5</td>\n",
              "      <td>7.5</td>\n",
              "      <td>2.5</td>\n",
              "      <td>-10</td>\n",
              "      <td>5</td>\n",
              "      <td>10</td>\n",
              "      <td>25.0</td>\n",
              "      <td>25.0</td>\n",
              "    </tr>\n",
              "  </tbody>\n",
              "</table>\n",
              "<p>3 rows × 592 columns</p>\n",
              "</div>"
            ],
            "text/plain": [
              "   TimeUse  Q1_OTHER_TEXT  ...  Q43_NORMAL  Q46_NORMAL\n",
              "2    434.0           -1.0  ...         0.0        15.0\n",
              "3    718.0           -1.0  ...         5.0        15.0\n",
              "5    731.0           -1.0  ...        25.0        25.0\n",
              "\n",
              "[3 rows x 592 columns]"
            ]
          },
          "metadata": {
            "tags": []
          },
          "execution_count": 711
        }
      ]
    },
    {
      "cell_type": "code",
      "metadata": {
        "id": "4mQZIkrfWDbC",
        "colab_type": "code",
        "outputId": "b41116ec-f914-455c-d2a4-030424a425dd",
        "colab": {
          "base_uri": "https://localhost:8080/",
          "height": 34
        }
      },
      "source": [
        "miniSalary.shape"
      ],
      "execution_count": 712,
      "outputs": [
        {
          "output_type": "execute_result",
          "data": {
            "text/plain": [
              "(14523, 592)"
            ]
          },
          "metadata": {
            "tags": []
          },
          "execution_count": 712
        }
      ]
    },
    {
      "cell_type": "markdown",
      "metadata": {
        "id": "_3oBbC58M89-",
        "colab_type": "text"
      },
      "source": [
        "Possible reasons for  missing values:some question type are not suppoesed to be fully filled like multi-choice questions. In addition, some question are considered private by the respondant like yearly income or ages.\n",
        "\n",
        "Impact on analysis:To deal with missing values, I basically used three methods, drop the missing spaces, replace them with a dummy value or assign them with the mode values. In the beginning if we drop too much data and our training dataset may not have enough data and it may lead to an overfitting to our model. But dropping missing values is acceptable as long as we have sufficient training data and it may also helps to eliminate the noise in the dataset. Assigning mode values to the missing values will likely to make our model more \"extreme\" because the missed parts are all filled with the high ranked values. As for dummy value assignment, the missed parts are filled with 0 or 1(depands on the data) which is helpful for vectorize and machine learning trainning steps."
      ]
    },
    {
      "cell_type": "markdown",
      "metadata": {
        "id": "tUnP5sKBblSb",
        "colab_type": "text"
      },
      "source": [
        "# Q2 Exploratory Data Analysis a"
      ]
    },
    {
      "cell_type": "code",
      "metadata": {
        "id": "iaL9tLkDbp4Z",
        "colab_type": "code",
        "outputId": "088d3727-73ec-47e9-cd23-7797e6a0b5f0",
        "colab": {
          "base_uri": "https://localhost:8080/",
          "height": 71
        }
      },
      "source": [
        "visual_Salary=pd.read_csv(\"Kaggle_Salary_clean.csv\", encoding = \"ISO-8859-1\")"
      ],
      "execution_count": 713,
      "outputs": [
        {
          "output_type": "stream",
          "text": [
            "/usr/local/lib/python3.6/dist-packages/IPython/core/interactiveshell.py:2718: DtypeWarning: Columns (1,3,9,11,22,24,25,26,27,28,29,45,57,65,84,86,88,108,110,124,126,151,195,209,224,250,263,265,277,278,279,280,281,282,283,284,285,286,287,288,289,290,291,305,307,323,326,327,330,342,372,385,386,394,395) have mixed types. Specify dtype option on import or set low_memory=False.\n",
            "  interactivity=interactivity, compiler=compiler, result=result)\n"
          ],
          "name": "stderr"
        }
      ]
    },
    {
      "cell_type": "markdown",
      "metadata": {
        "id": "QEt761Z-XlLp",
        "colab_type": "text"
      },
      "source": [
        "We want to create three graphs, each one of them represents the distribution of yearly income, the relation between the undergraduate major and salary, the relation between highest degree and salary."
      ]
    },
    {
      "cell_type": "code",
      "metadata": {
        "id": "Pu54uLQMVkOO",
        "colab_type": "code",
        "outputId": "fd990123-edb0-4d10-bdce-1a8df6ac363b",
        "colab": {
          "base_uri": "https://localhost:8080/",
          "height": 68
        }
      },
      "source": [
        "#handle categorical data\n",
        "#visualModel=dataCleanGeneral(visual_Salary)\n",
        "#for salary distribution we use directly from previous question\n",
        "miniSalary[\"Yearly_Income\"].unique()"
      ],
      "execution_count": 714,
      "outputs": [
        {
          "output_type": "execute_result",
          "data": {
            "text/plain": [
              "array([ 15000.,   5000.,  25000., 137500.,  35000.,  55000., 112500.,\n",
              "        95000.,  75000.,  85000.,  65000., 450000.,  45000., 175000.,\n",
              "       500000., 350000., 225000., 275000.])"
            ]
          },
          "metadata": {
            "tags": []
          },
          "execution_count": 714
        }
      ]
    },
    {
      "cell_type": "code",
      "metadata": {
        "id": "y_XaNBLQZd0A",
        "colab_type": "code",
        "outputId": "dad8d27b-43c8-4d09-eb90-6826e0167cc7",
        "colab": {
          "base_uri": "https://localhost:8080/",
          "height": 295
        }
      },
      "source": [
        "%matplotlib inline\n",
        "plt.hist(miniSalary['Yearly_Income'], bins=10, edgecolor='black')\n",
        "plt.title(\"Salary Histogram\")\n",
        "plt.xlabel(\"Salary Bin\")\n",
        "plt.ylabel(\"Number of Samples\")\n",
        "plt.show()"
      ],
      "execution_count": 715,
      "outputs": [
        {
          "output_type": "display_data",
          "data": {
            "image/png": "[encoded data removed]",
            "text/plain": [
              "<Figure size 432x288 with 1 Axes>"
            ]
          },
          "metadata": {
            "tags": []
          }
        }
      ]
    },
    {
      "cell_type": "code",
      "metadata": {
        "id": "wj0dJFOha9sG",
        "colab_type": "code",
        "colab": {}
      },
      "source": [
        "visual_Salary.loc[0]['Q4']\n",
        "visual_Salary=visual_Salary.drop([0])#remove the row that has all questions"
      ],
      "execution_count": 0,
      "outputs": []
    },
    {
      "cell_type": "code",
      "metadata": {
        "id": "xZMySnuzd2yQ",
        "colab_type": "code",
        "outputId": "7474d0a9-8fb2-41f6-a862-0bcd73d43dce",
        "colab": {
          "base_uri": "https://localhost:8080/",
          "height": 204
        }
      },
      "source": [
        "print(visual_Salary['Q5'].unique())\n",
        "visual_Salary.loc[visual_Salary['Q5'].isnull(),'Q5']=\"Unknown\"\n",
        "visual_Salary[\"Q9\"]=visual_Salary[\"Q9\"].apply(Q9Process)\n",
        "Q9=visual_Salary"
      ],
      "execution_count": 717,
      "outputs": [
        {
          "output_type": "stream",
          "text": [
            "['Engineering (non-computer focused)'\n",
            " 'Computer science (software engineering, etc.)'\n",
            " 'Mathematics or statistics'\n",
            " 'Information technology, networking, or system administration'\n",
            " 'A business discipline (accounting, economics, finance, etc.)'\n",
            " 'Environmental science or geology'\n",
            " 'Medical or life sciences (biology, chemistry, medicine, etc.)'\n",
            " 'I never declared a major' 'Other' 'Physics or astronomy'\n",
            " 'Social sciences (anthropology, psychology, sociology, etc.)'\n",
            " 'Humanities (history, literature, philosophy, etc.)' nan\n",
            " 'Fine arts or performing arts']\n"
          ],
          "name": "stdout"
        }
      ]
    },
    {
      "cell_type": "code",
      "metadata": {
        "id": "NEOx49sJfJhn",
        "colab_type": "code",
        "outputId": "f416e348-6c96-4231-b87c-b9f2da8a2d01",
        "colab": {
          "base_uri": "https://localhost:8080/",
          "height": 1000
        }
      },
      "source": [
        "meanDegreeSalary=visual_Salary.groupby(['Q5']).Q9.agg(['mean'])\n",
        "print(meanDegreeSalary.mean)\n",
        "meanDegreeSalary.plot(y='mean',figsize=(10,10), grid=True)\n",
        "plt.xticks( rotation=90)\n",
        "plt.ylabel(\"Salary Mean Values\")"
      ],
      "execution_count": 718,
      "outputs": [
        {
          "output_type": "stream",
          "text": [
            "<bound method DataFrame.mean of                                                              mean\n",
            "Q5                                                               \n",
            "A business discipline (accounting, economics, f...   60488.372093\n",
            "Computer science (software engineering, etc.)        41112.093650\n",
            "Engineering (non-computer focused)                   53107.533414\n",
            "Environmental science or geology                     54971.428571\n",
            "Fine arts or performing arts                        101737.288136\n",
            "Humanities (history, literature, philosophy, etc.)   77523.809524\n",
            "I never declared a major                             60183.823529\n",
            "Information technology, networking, or system a...   36440.809969\n",
            "Mathematics or statistics                            55665.380906\n",
            "Medical or life sciences (biology, chemistry, m...   57308.943089\n",
            "Other                                                51432.865731\n",
            "Physics or astronomy                                 66622.182681\n",
            "Social sciences (anthropology, psychology, soci...   66265.133172\n",
            "Unknown                                              66333.333333>\n"
          ],
          "name": "stdout"
        },
        {
          "output_type": "execute_result",
          "data": {
            "text/plain": [
              "Text(0, 0.5, 'Salary Mean Values')"
            ]
          },
          "metadata": {
            "tags": []
          },
          "execution_count": 718
        },
        {
          "output_type": "display_data",
          "data": {
            "image/png": "[encoded data removed]",
            "text/plain": [
              "<Figure size 720x720 with 1 Axes>"
            ]
          },
          "metadata": {
            "tags": []
          }
        }
      ]
    },
    {
      "cell_type": "code",
      "metadata": {
        "id": "6MFMz919q61D",
        "colab_type": "code",
        "outputId": "1040451d-f95f-4bbe-e9d4-4503ea78456c",
        "colab": {
          "base_uri": "https://localhost:8080/",
          "height": 68
        }
      },
      "source": [
        "\n",
        "\n",
        "valueCount=Q9[\"Q3\"].value_counts()#count all unique values,Return a Series containing counts of unique values.\n",
        "value_mask = Q9[\"Q3\"].isin(valueCount.index[valueCount < 200])#find all indexes that has a number of less than 100\n",
        "Q9.loc[value_mask,\"Q3\"] = \"Other\"\n",
        "Q9.loc[Q9['Q3'].isnull(),'Q3']=\"Unkown\"\n",
        "Q9['Q9'].unique()"
      ],
      "execution_count": 719,
      "outputs": [
        {
          "output_type": "execute_result",
          "data": {
            "text/plain": [
              "array([ 15000.,   5000.,  25000., 137500.,  35000.,  55000., 112500.,\n",
              "        95000.,  75000.,  85000.,  65000., 450000.,  45000., 175000.,\n",
              "       500000., 350000., 225000., 275000.])"
            ]
          },
          "metadata": {
            "tags": []
          },
          "execution_count": 719
        }
      ]
    },
    {
      "cell_type": "code",
      "metadata": {
        "id": "VbLg0bOrr3hx",
        "colab_type": "code",
        "outputId": "b1a7d015-dd1a-4c21-b6c8-60d556883263",
        "colab": {
          "base_uri": "https://localhost:8080/",
          "height": 1000
        }
      },
      "source": [
        "meanCountrySalary=Q9.groupby(['Q3']).Q9.mean()\n",
        "print(meanCountrySalary.mean)\n",
        "meanCountrySalary.plot(y='mean',figsize=(10,10), grid=True)\n",
        "plt.xticks( rotation=90)\n",
        "plt.ylabel(\"Salary Mean Values\")"
      ],
      "execution_count": 720,
      "outputs": [
        {
          "output_type": "stream",
          "text": [
            "<bound method Series.mean of Q3\n",
            "Australia                                               85993.589744\n",
            "Brazil                                                  26876.122083\n",
            "Canada                                                  68798.185941\n",
            "China                                                   23824.712644\n",
            "France                                                  50390.070922\n",
            "Germany                                                 57702.569170\n",
            "India                                                   22471.982759\n",
            "Italy                                                   37028.688525\n",
            "Japan                                                   56207.524272\n",
            "Other                                                   36747.428571\n",
            "Poland                                                  29205.607477\n",
            "Russia                                                  23868.330465\n",
            "Spain                                                   38255.494505\n",
            "United Kingdom of Great Britain and Northern Ireland    64858.585859\n",
            "United States of America                                98306.071323\n",
            "Name: Q9, dtype: float64>\n"
          ],
          "name": "stdout"
        },
        {
          "output_type": "execute_result",
          "data": {
            "text/plain": [
              "Text(0, 0.5, 'Salary Mean Values')"
            ]
          },
          "metadata": {
            "tags": []
          },
          "execution_count": 720
        },
        {
          "output_type": "display_data",
          "data": {
            "image/png": "[encoded data removed]",
            "text/plain": [
              "<Figure size 720x720 with 1 Axes>"
            ]
          },
          "metadata": {
            "tags": []
          }
        }
      ]
    },
    {
      "cell_type": "markdown",
      "metadata": {
        "id": "aInSjYJiSlIl",
        "colab_type": "text"
      },
      "source": [
        "Trends in the Data:\n",
        "\n",
        "1.From the first graph, we can see the distribution of salary among different value groups. The majority of income is below 100,000 dollars and the number decreases as the income increases.\n",
        "\n",
        "2.The second graph tells us the relation between the undergraduate major and yearly income, from which we can see that surprisingly the fine art graduates earn the most among other majors.\n",
        "\n",
        "3.The last graph shows the relation between data scientist's residence country and their wage, as we know the economic level differs a lot from country to country thus this feature can tells us which countries are likely to provide higher salary for data scientists."
      ]
    },
    {
      "cell_type": "markdown",
      "metadata": {
        "id": "tDgozyehxS3-",
        "colab_type": "text"
      },
      "source": [
        "# Q3 Fearture Selection &Exploratory data analysis b\n",
        "\n",
        "> Indented block\n",
        "\n"
      ]
    },
    {
      "cell_type": "code",
      "metadata": {
        "id": "Y865Xd5TxqCM",
        "colab_type": "code",
        "colab": {}
      },
      "source": [
        "\n",
        "def RfeSelection(train_Data_X,train_label_Y):\n",
        "  #model_lr = LogisticRegression(solver='lbfgs',max_iter=4000)\n",
        "  model_lr=LinearRegression()\n",
        "  rfe = RFE(model_lr)\n",
        "  fit = rfe.fit(train_Data_X, train_label_Y)\n",
        "  return sorted(list(zip(fit.ranking_,train_Data_X.columns)))\n"
      ],
      "execution_count": 0,
      "outputs": []
    },
    {
      "cell_type": "code",
      "metadata": {
        "id": "ZUWLpqxDrB__",
        "colab_type": "code",
        "outputId": "64817d00-e739-472f-bab2-0542d4ed1e9d",
        "colab": {
          "base_uri": "https://localhost:8080/",
          "height": 51
        }
      },
      "source": [
        "salary_Train_label_Y=miniSalary.loc[:,'Yearly_Income']\n",
        "salary_Train_Data_X=miniSalary.drop('Yearly_Income',axis=1)\n",
        "print(salary_Train_label_Y.shape,salary_Train_Data_X.shape,salary_Train_label_Y.unique())"
      ],
      "execution_count": 722,
      "outputs": [
        {
          "output_type": "stream",
          "text": [
            "(14523,) (14523, 591) [ 15000.   5000.  25000. 137500.  35000.  55000. 112500.  95000.  75000.\n",
            "  85000.  65000. 450000.  45000. 175000. 500000. 350000. 225000. 275000.]\n"
          ],
          "name": "stdout"
        }
      ]
    },
    {
      "cell_type": "code",
      "metadata": {
        "id": "GspSmfArmxDk",
        "colab_type": "code",
        "colab": {
          "base_uri": "https://localhost:8080/",
          "height": 54
        },
        "outputId": "b45b936c-c675-400f-ea65-6c68cf8cd5ec"
      },
      "source": [
        "y_list=(salary_Train_label_Y.unique()).tolist()\n",
        "\n",
        "y_list.sort()\n",
        "print(y_list)"
      ],
      "execution_count": 723,
      "outputs": [
        {
          "output_type": "stream",
          "text": [
            "[5000.0, 15000.0, 25000.0, 35000.0, 45000.0, 55000.0, 65000.0, 75000.0, 85000.0, 95000.0, 112500.0, 137500.0, 175000.0, 225000.0, 275000.0, 350000.0, 450000.0, 500000.0]\n"
          ],
          "name": "stdout"
        }
      ]
    },
    {
      "cell_type": "code",
      "metadata": {
        "id": "gV4_C7PVxuLV",
        "colab_type": "code",
        "colab": {}
      },
      "source": [
        "feature_Rank=RfeSelection(salary_Train_Data_X[0:6000],salary_Train_label_Y[0:6000])"
      ],
      "execution_count": 0,
      "outputs": []
    },
    {
      "cell_type": "code",
      "metadata": {
        "id": "0Lu6NSpp9Hai",
        "colab_type": "code",
        "outputId": "fb5cec3b-cbfe-4ad3-d118-9f7deba673bb",
        "colab": {
          "base_uri": "https://localhost:8080/",
          "height": 34
        }
      },
      "source": [
        "feature_Rank[:10]\n",
        "print(len(feature_Rank))\n",
        "feature_backup=feature_Rank"
      ],
      "execution_count": 725,
      "outputs": [
        {
          "output_type": "stream",
          "text": [
            "591\n"
          ],
          "name": "stdout"
        }
      ]
    },
    {
      "cell_type": "code",
      "metadata": {
        "id": "_iwupQWWBy_y",
        "colab_type": "code",
        "outputId": "95da5be7-48a7-4efc-8f75-7d27ac1a7e82",
        "colab": {
          "base_uri": "https://localhost:8080/",
          "height": 34
        }
      },
      "source": [
        "salary_Train_Data_X.shape"
      ],
      "execution_count": 726,
      "outputs": [
        {
          "output_type": "execute_result",
          "data": {
            "text/plain": [
              "(14523, 591)"
            ]
          },
          "metadata": {
            "tags": []
          },
          "execution_count": 726
        }
      ]
    },
    {
      "cell_type": "code",
      "metadata": {
        "id": "qflgKBAd9ZlK",
        "colab_type": "code",
        "outputId": "005ae9c9-7c35-45b5-e497-60808e776705",
        "colab": {
          "base_uri": "https://localhost:8080/",
          "height": 71
        }
      },
      "source": [
        "extractedFeatures=[]\n",
        "for item in feature_backup:\n",
        "  if item[0]==1:\n",
        "    \n",
        "    extractedFeatures.append(item[1])\n",
        "print(len(feature_backup))\n",
        "print(len(extractedFeatures),extractedFeatures[0:10])"
      ],
      "execution_count": 727,
      "outputs": [
        {
          "output_type": "stream",
          "text": [
            "591\n",
            "295 ['Q10_I do not know', 'Q10_No (we do not use ML methods)', 'Q10_We are exploring ML methods (and may one day put a model into production)', 'Q10_We have well established ML methods (i.e., models in production for more than 2 years)', 'Q10_We recently started using ML methods (i.e., models in production for less than 2 years)', 'Q10_We use ML methods for generating insights (but do not put working models into production)', 'Q11_Part_4', 'Q11_Part_7', 'Q12_MULTIPLE_CHOICE_Advanced statistical software (SPSS, SAS, etc.)', 'Q12_MULTIPLE_CHOICE_Basic statistical software (Microsoft Excel, Google Sheets, etc.)']\n"
          ],
          "name": "stdout"
        }
      ]
    },
    {
      "cell_type": "code",
      "metadata": {
        "id": "goReNXmTVO-b",
        "colab_type": "code",
        "outputId": "e5acb9c7-0e44-49f0-c818-f99b30adf349",
        "colab": {
          "base_uri": "https://localhost:8080/",
          "height": 295
        }
      },
      "source": [
        "featureNames=['realted','unrelated']\n",
        "featureNumber=[295,206]\n",
        "\n",
        "plt.bar(featureNames,featureNumber)\n",
        "plt.title(\"Feature Importance\")\n",
        "plt.xlabel(\"Feature Bin\")\n",
        "plt.ylabel(\"Number of Features\")\n",
        "plt.show()"
      ],
      "execution_count": 728,
      "outputs": [
        {
          "output_type": "display_data",
          "data": {
            "image/png": "[encoded data removed]",
            "text/plain": [
              "<Figure size 432x288 with 1 Axes>"
            ]
          },
          "metadata": {
            "tags": []
          }
        }
      ]
    },
    {
      "cell_type": "markdown",
      "metadata": {
        "id": "5SJJOtzPaIHp",
        "colab_type": "text"
      },
      "source": [
        "Feature Importance Visualize:To rank the features by their importance, we use the rfe algorithm to rank the features by running a linear regression algorithm on the raw dataset, the reason why we choose linear regression is because it is more simple than logistic regression and easier to converge. After that, we extract the outcomes and seperate the results into related and unrelated according to their rank(all features ranked 1 are considered as related, while the rest are all unrelated). Finally, we plot the above graph to visualize the importance and we can see that there are around 300 features considered realted while around 250 features are not."
      ]
    },
    {
      "cell_type": "code",
      "metadata": {
        "id": "zfFUcRacA5J1",
        "colab_type": "code",
        "outputId": "54db215e-b99a-40ef-f286-ff94c9b99ca9",
        "colab": {
          "base_uri": "https://localhost:8080/",
          "height": 160
        }
      },
      "source": [
        "featuredSalary=salary_Train_Data_X[extractedFeatures]\n",
        "pca = PCA(n_components=250)\n",
        "pca.fit(featuredSalary)\n",
        "featuredSalary = pca.transform(featuredSalary)\n",
        "\n",
        "featuredSalary = pd.DataFrame(featuredSalary)\n",
        "featuredSalary.head(2)\n"
      ],
      "execution_count": 729,
      "outputs": [
        {
          "output_type": "execute_result",
          "data": {
            "text/html": [
              "<div>\n",
              "<style scoped>\n",
              "    .dataframe tbody tr th:only-of-type {\n",
              "        vertical-align: middle;\n",
              "    }\n",
              "\n",
              "    .dataframe tbody tr th {\n",
              "        vertical-align: top;\n",
              "    }\n",
              "\n",
              "    .dataframe thead th {\n",
              "        text-align: right;\n",
              "    }\n",
              "</style>\n",
              "<table border=\"1\" class=\"dataframe\">\n",
              "  <thead>\n",
              "    <tr style=\"text-align: right;\">\n",
              "      <th></th>\n",
              "      <th>0</th>\n",
              "      <th>1</th>\n",
              "      <th>2</th>\n",
              "      <th>3</th>\n",
              "      <th>4</th>\n",
              "      <th>5</th>\n",
              "      <th>6</th>\n",
              "      <th>7</th>\n",
              "      <th>8</th>\n",
              "      <th>9</th>\n",
              "      <th>10</th>\n",
              "      <th>11</th>\n",
              "      <th>12</th>\n",
              "      <th>13</th>\n",
              "      <th>14</th>\n",
              "      <th>15</th>\n",
              "      <th>16</th>\n",
              "      <th>17</th>\n",
              "      <th>18</th>\n",
              "      <th>19</th>\n",
              "      <th>20</th>\n",
              "      <th>21</th>\n",
              "      <th>22</th>\n",
              "      <th>23</th>\n",
              "      <th>24</th>\n",
              "      <th>25</th>\n",
              "      <th>26</th>\n",
              "      <th>27</th>\n",
              "      <th>28</th>\n",
              "      <th>29</th>\n",
              "      <th>30</th>\n",
              "      <th>31</th>\n",
              "      <th>32</th>\n",
              "      <th>33</th>\n",
              "      <th>34</th>\n",
              "      <th>35</th>\n",
              "      <th>36</th>\n",
              "      <th>37</th>\n",
              "      <th>38</th>\n",
              "      <th>39</th>\n",
              "      <th>...</th>\n",
              "      <th>210</th>\n",
              "      <th>211</th>\n",
              "      <th>212</th>\n",
              "      <th>213</th>\n",
              "      <th>214</th>\n",
              "      <th>215</th>\n",
              "      <th>216</th>\n",
              "      <th>217</th>\n",
              "      <th>218</th>\n",
              "      <th>219</th>\n",
              "      <th>220</th>\n",
              "      <th>221</th>\n",
              "      <th>222</th>\n",
              "      <th>223</th>\n",
              "      <th>224</th>\n",
              "      <th>225</th>\n",
              "      <th>226</th>\n",
              "      <th>227</th>\n",
              "      <th>228</th>\n",
              "      <th>229</th>\n",
              "      <th>230</th>\n",
              "      <th>231</th>\n",
              "      <th>232</th>\n",
              "      <th>233</th>\n",
              "      <th>234</th>\n",
              "      <th>235</th>\n",
              "      <th>236</th>\n",
              "      <th>237</th>\n",
              "      <th>238</th>\n",
              "      <th>239</th>\n",
              "      <th>240</th>\n",
              "      <th>241</th>\n",
              "      <th>242</th>\n",
              "      <th>243</th>\n",
              "      <th>244</th>\n",
              "      <th>245</th>\n",
              "      <th>246</th>\n",
              "      <th>247</th>\n",
              "      <th>248</th>\n",
              "      <th>249</th>\n",
              "    </tr>\n",
              "  </thead>\n",
              "  <tbody>\n",
              "    <tr>\n",
              "      <th>0</th>\n",
              "      <td>13.275016</td>\n",
              "      <td>-7.446401</td>\n",
              "      <td>4.142108</td>\n",
              "      <td>33.448202</td>\n",
              "      <td>-9.976300</td>\n",
              "      <td>-5.012492</td>\n",
              "      <td>-0.858392</td>\n",
              "      <td>-0.329027</td>\n",
              "      <td>1.514149</td>\n",
              "      <td>0.170766</td>\n",
              "      <td>0.479294</td>\n",
              "      <td>-1.304721</td>\n",
              "      <td>-0.262892</td>\n",
              "      <td>-0.881041</td>\n",
              "      <td>0.517873</td>\n",
              "      <td>0.368098</td>\n",
              "      <td>0.660522</td>\n",
              "      <td>0.790073</td>\n",
              "      <td>-0.118669</td>\n",
              "      <td>-0.301279</td>\n",
              "      <td>-0.062663</td>\n",
              "      <td>0.035367</td>\n",
              "      <td>-1.077188</td>\n",
              "      <td>-0.007573</td>\n",
              "      <td>-0.377665</td>\n",
              "      <td>-0.180132</td>\n",
              "      <td>0.092442</td>\n",
              "      <td>-0.222054</td>\n",
              "      <td>-0.010526</td>\n",
              "      <td>0.104958</td>\n",
              "      <td>0.113083</td>\n",
              "      <td>-0.369381</td>\n",
              "      <td>0.114952</td>\n",
              "      <td>0.574930</td>\n",
              "      <td>-0.189381</td>\n",
              "      <td>-0.062405</td>\n",
              "      <td>0.350054</td>\n",
              "      <td>-0.264658</td>\n",
              "      <td>0.036422</td>\n",
              "      <td>0.113793</td>\n",
              "      <td>...</td>\n",
              "      <td>-0.000261</td>\n",
              "      <td>0.003464</td>\n",
              "      <td>-0.000214</td>\n",
              "      <td>-0.014662</td>\n",
              "      <td>0.012744</td>\n",
              "      <td>-0.012596</td>\n",
              "      <td>-0.001989</td>\n",
              "      <td>-0.000117</td>\n",
              "      <td>0.002090</td>\n",
              "      <td>-0.000110</td>\n",
              "      <td>0.019045</td>\n",
              "      <td>-0.004336</td>\n",
              "      <td>0.010577</td>\n",
              "      <td>-0.011577</td>\n",
              "      <td>0.016662</td>\n",
              "      <td>-0.001365</td>\n",
              "      <td>-0.025995</td>\n",
              "      <td>0.010853</td>\n",
              "      <td>-0.002407</td>\n",
              "      <td>-0.002299</td>\n",
              "      <td>0.003960</td>\n",
              "      <td>0.002333</td>\n",
              "      <td>-0.009017</td>\n",
              "      <td>-0.015146</td>\n",
              "      <td>0.010055</td>\n",
              "      <td>0.000836</td>\n",
              "      <td>-0.021990</td>\n",
              "      <td>-0.010837</td>\n",
              "      <td>-0.001584</td>\n",
              "      <td>0.010638</td>\n",
              "      <td>-0.000028</td>\n",
              "      <td>-0.001812</td>\n",
              "      <td>-0.006170</td>\n",
              "      <td>0.003487</td>\n",
              "      <td>0.007713</td>\n",
              "      <td>-0.011886</td>\n",
              "      <td>0.000717</td>\n",
              "      <td>0.005685</td>\n",
              "      <td>0.002941</td>\n",
              "      <td>0.005107</td>\n",
              "    </tr>\n",
              "    <tr>\n",
              "      <th>1</th>\n",
              "      <td>67.889791</td>\n",
              "      <td>-2.983663</td>\n",
              "      <td>-58.615941</td>\n",
              "      <td>-22.786492</td>\n",
              "      <td>-0.711096</td>\n",
              "      <td>0.164037</td>\n",
              "      <td>-0.110496</td>\n",
              "      <td>0.400363</td>\n",
              "      <td>-0.186480</td>\n",
              "      <td>-0.129906</td>\n",
              "      <td>-0.001279</td>\n",
              "      <td>0.602863</td>\n",
              "      <td>0.404242</td>\n",
              "      <td>0.918550</td>\n",
              "      <td>0.594025</td>\n",
              "      <td>-0.497371</td>\n",
              "      <td>-0.297070</td>\n",
              "      <td>0.332926</td>\n",
              "      <td>-0.847976</td>\n",
              "      <td>-0.350964</td>\n",
              "      <td>0.112707</td>\n",
              "      <td>-0.199875</td>\n",
              "      <td>-0.370117</td>\n",
              "      <td>0.534071</td>\n",
              "      <td>-0.279060</td>\n",
              "      <td>0.183346</td>\n",
              "      <td>0.171012</td>\n",
              "      <td>-0.571703</td>\n",
              "      <td>-0.680531</td>\n",
              "      <td>0.051633</td>\n",
              "      <td>-0.372022</td>\n",
              "      <td>-1.006200</td>\n",
              "      <td>0.090621</td>\n",
              "      <td>0.014998</td>\n",
              "      <td>0.265605</td>\n",
              "      <td>-0.622195</td>\n",
              "      <td>-0.411322</td>\n",
              "      <td>0.260213</td>\n",
              "      <td>1.193128</td>\n",
              "      <td>0.125304</td>\n",
              "      <td>...</td>\n",
              "      <td>-0.039417</td>\n",
              "      <td>0.012017</td>\n",
              "      <td>-0.023182</td>\n",
              "      <td>0.004809</td>\n",
              "      <td>-0.000601</td>\n",
              "      <td>-0.014884</td>\n",
              "      <td>-0.013008</td>\n",
              "      <td>-0.002816</td>\n",
              "      <td>0.011131</td>\n",
              "      <td>0.002207</td>\n",
              "      <td>0.000315</td>\n",
              "      <td>-0.012883</td>\n",
              "      <td>-0.001446</td>\n",
              "      <td>-0.003550</td>\n",
              "      <td>0.012306</td>\n",
              "      <td>0.003216</td>\n",
              "      <td>0.014298</td>\n",
              "      <td>0.004131</td>\n",
              "      <td>0.009499</td>\n",
              "      <td>0.021284</td>\n",
              "      <td>0.012627</td>\n",
              "      <td>0.009209</td>\n",
              "      <td>-0.007911</td>\n",
              "      <td>0.011097</td>\n",
              "      <td>0.001653</td>\n",
              "      <td>0.000462</td>\n",
              "      <td>-0.009094</td>\n",
              "      <td>-0.013239</td>\n",
              "      <td>-0.007960</td>\n",
              "      <td>-0.004336</td>\n",
              "      <td>-0.000735</td>\n",
              "      <td>-0.017386</td>\n",
              "      <td>0.011788</td>\n",
              "      <td>0.004428</td>\n",
              "      <td>0.003438</td>\n",
              "      <td>-0.003852</td>\n",
              "      <td>-0.007205</td>\n",
              "      <td>0.003760</td>\n",
              "      <td>0.001526</td>\n",
              "      <td>-0.002648</td>\n",
              "    </tr>\n",
              "  </tbody>\n",
              "</table>\n",
              "<p>2 rows × 250 columns</p>\n",
              "</div>"
            ],
            "text/plain": [
              "         0         1          2    ...       247       248       249\n",
              "0  13.275016 -7.446401   4.142108  ...  0.005685  0.002941  0.005107\n",
              "1  67.889791 -2.983663 -58.615941  ...  0.003760  0.001526 -0.002648\n",
              "\n",
              "[2 rows x 250 columns]"
            ]
          },
          "metadata": {
            "tags": []
          },
          "execution_count": 729
        }
      ]
    },
    {
      "cell_type": "markdown",
      "metadata": {
        "id": "005mcjJZcrVE",
        "colab_type": "text"
      },
      "source": [
        "Explain how feature engineering is a useful tool in machine learning:\n",
        "\n",
        "Many data sets often come in raw formats that have no or little predictive value. The data is also often unstructured, stored in multiple formats, contains missing values, etc. Algorithms need structure. Feature engineering is the tool that creates or reveals that structure. The quality and quantity of your engineered features will influence the results of the predictive model. Poorly made features will naturally produce poor results. In addition, a dataset with well selected features are more easily to train and converge, but the feature selection can not be done too much, little features will end up making the training harder or biased."
      ]
    },
    {
      "cell_type": "markdown",
      "metadata": {
        "id": "fqp1RjPqg02R",
        "colab_type": "text"
      },
      "source": [
        "Feature Selection Process:I implemented two feature selection methods at the same time, the PCA and RFE algorithms. RFE algorithm provided by sklearn allows me to rank all the features according to their importance to the model and after ranking all the features, I selected those features that are ranked as 1 and then ran PCA to reduce the dimension of the features, this step is particularly important because too many features may leads to overfittin for the reason that the noises in the dataset are also included, on the other hand too few features may cause problems for logistic regression to converge, thus by tuning the parameter for pca learner, I finally chose 250 feature which gurantee both convergence and not overfitted."
      ]
    },
    {
      "cell_type": "markdown",
      "metadata": {
        "id": "NpyULwey-3Ne",
        "colab_type": "text"
      },
      "source": [
        "# Q4 Modle Implementation"
      ]
    },
    {
      "cell_type": "code",
      "metadata": {
        "id": "t-PvngWCDI6S",
        "colab_type": "code",
        "colab": {}
      },
      "source": [
        "from sklearn.metrics import make_scorer, r2_score, mean_squared_error, auc, mean_absolute_error\n",
        "from sklearn.model_selection import GridSearchCV, KFold\n",
        "from sklearn.ensemble import GradientBoostingRegressor\n",
        "from sklearn.tree import DecisionTreeRegressor\n",
        "from sklearn.linear_model import Lasso\n",
        "from sklearn.linear_model import LogisticRegression\n",
        "import numpy as np"
      ],
      "execution_count": 0,
      "outputs": []
    },
    {
      "cell_type": "code",
      "metadata": {
        "id": "bUWJGsPiklgV",
        "colab_type": "code",
        "colab": {
          "base_uri": "https://localhost:8080/",
          "height": 153
        },
        "outputId": "b18708c8-74ba-4a10-d211-e7698cda50e8"
      },
      "source": [
        "unique_Lables=salary_Train_label_Y.unique()\n",
        "Y_backup=salary_Train_label_Y\n",
        "print(Y_backup.head(2))\n",
        "print(type(unique_Lables),unique_Lables.shape,unique_Lables,salary_Train_label_Y.head(3))"
      ],
      "execution_count": 731,
      "outputs": [
        {
          "output_type": "stream",
          "text": [
            "2    15000.0\n",
            "3     5000.0\n",
            "Name: Yearly_Income, dtype: float64\n",
            "<class 'numpy.ndarray'> (18,) [ 15000.   5000.  25000. 137500.  35000.  55000. 112500.  95000.  75000.\n",
            "  85000.  65000. 450000.  45000. 175000. 500000. 350000. 225000. 275000.] 2    15000.0\n",
            "3     5000.0\n",
            "5     5000.0\n",
            "Name: Yearly_Income, dtype: float64\n"
          ],
          "name": "stdout"
        }
      ]
    },
    {
      "cell_type": "code",
      "metadata": {
        "id": "X-m8igTtF2Yy",
        "colab_type": "code",
        "colab": {}
      },
      "source": [
        "\n",
        "def createYLabel(salary_Train_label_Y,boundry):\n",
        "  label_Y_Range=deepcopy(salary_Train_label_Y)\n",
        "  label_Y_Range[label_Y_Range<=boundry]=1\n",
        "  label_Y_Range[label_Y_Range>boundry]=0\n",
        "  return label_Y_Range\n",
        "\n"
      ],
      "execution_count": 0,
      "outputs": []
    },
    {
      "cell_type": "code",
      "metadata": {
        "id": "qIuq7YBVwSE5",
        "colab_type": "code",
        "colab": {
          "base_uri": "https://localhost:8080/",
          "height": 153
        },
        "outputId": "55c41ff0-0b26-46b5-805b-d04abc02e4fa"
      },
      "source": [
        "label_Y_Range1=createYLabel(salary_Train_label_Y,55000.0)\n",
        "print(label_Y_Range1.head(3))\n",
        "salary_Train_label_Y.head(3)"
      ],
      "execution_count": 739,
      "outputs": [
        {
          "output_type": "stream",
          "text": [
            "2    1.0\n",
            "3    1.0\n",
            "5    1.0\n",
            "Name: Yearly_Income, dtype: float64\n"
          ],
          "name": "stdout"
        },
        {
          "output_type": "execute_result",
          "data": {
            "text/plain": [
              "2    15000.0\n",
              "3     5000.0\n",
              "5     5000.0\n",
              "Name: Yearly_Income, dtype: float64"
            ]
          },
          "metadata": {
            "tags": []
          },
          "execution_count": 739
        }
      ]
    },
    {
      "cell_type": "code",
      "metadata": {
        "id": "xzpYduN7x7nK",
        "colab_type": "code",
        "colab": {
          "base_uri": "https://localhost:8080/",
          "height": 85
        },
        "outputId": "3d683ba8-3384-42ff-a06e-d57323eba7a8"
      },
      "source": [
        "label_Y_Range2=createYLabel(salary_Train_label_Y,137500)\n",
        "label_Y_Range2.head(3)"
      ],
      "execution_count": 740,
      "outputs": [
        {
          "output_type": "execute_result",
          "data": {
            "text/plain": [
              "2    1.0\n",
              "3    1.0\n",
              "5    1.0\n",
              "Name: Yearly_Income, dtype: float64"
            ]
          },
          "metadata": {
            "tags": []
          },
          "execution_count": 740
        }
      ]
    },
    {
      "cell_type": "code",
      "metadata": {
        "id": "0RoiD0yS-1r9",
        "colab_type": "code",
        "colab": {}
      },
      "source": [
        "class logisticRegressor(object):\n",
        "  def __init__(self):\n",
        "    print('initialized')\n",
        "  def run_kfold(self,model,X,Y):\n",
        "    \n",
        "    kf = KFold(n_splits=10) # Provides train/test indices to split data in train/test sets.\n",
        "    train_outcomes = []\n",
        "    prob=[]\n",
        "    outcomes = []\n",
        "    fold = 0\n",
        "    \n",
        "    for train_index, test_index in kf.split(X):\n",
        "        fold += 1\n",
        "        X_train, X_test = X.values[train_index], X.values[test_index]\n",
        "        Y_train, Y_test = Y.values[train_index], Y.values[test_index]\n",
        "        #print(X_train.shape,Y_train.shape)\n",
        "        model.fit(X_train, Y_train)\n",
        "        #print('fit done')\n",
        "        Y_train_predictions = model.predict(X_train)\n",
        "\n",
        "        predictions = model.predict(X_test)\n",
        "        print('predict done')\n",
        "        probabilities=model.predict_proba(X_test)\n",
        "        prob.append(np.mean(probabilities,axis=0))\n",
        "        #print(np.mean(probabilities,axis=0))\n",
        "        \n",
        "        train_accuracy = r2_score(Y_train, Y_train_predictions) # can try mean absolute error instead\n",
        "        train_outcomes.append(train_accuracy)\n",
        "        accuracy = r2_score(Y_test, predictions) # can try mean absolute error instead\n",
        "        outcomes.append(accuracy)\n",
        "        #print(\"Fold {} class probability: {}\".format(fold, label_Probablity))\n",
        "        print(\"Fold {0} train accuracy: {1} test accuracy: {2} \".format(fold, train_accuracy,accuracy))   \n",
        "\n",
        "    mean_train_outcome = np.mean(train_outcomes)   \n",
        "    std_train_outcome=np.std(train_outcomes)\n",
        "    mean_outcome = np.mean(outcomes)\n",
        "    std_outcome=np.std(outcomes)\n",
        "    mean_Prob=np.mean(prob,axis=0)\n",
        "\n",
        "    print(\"Probability: {0}\".format(mean_Prob)) \n",
        "    print(\"Train Mean r2: {0}\".format(mean_train_outcome)) \n",
        "    print(\"Train Standard Deviation: {0}\".format(std_train_outcome))\n",
        "    print(\"Mean r2: {0}\".format(mean_outcome)) \n",
        "    print(\"Standard Deviation: {0}\".format(std_outcome)) "
      ],
      "execution_count": 0,
      "outputs": []
    },
    {
      "cell_type": "code",
      "metadata": {
        "id": "dBVJSO7gbV5h",
        "colab_type": "code",
        "outputId": "5b6de43c-28f6-4147-a71e-1ead1778d305",
        "colab": {
          "base_uri": "https://localhost:8080/",
          "height": 34
        }
      },
      "source": [
        "regressor=logisticRegressor()\n",
        "logisticModel=LogisticRegression(C=1,multi_class = 'auto',solver='lbfgs',max_iter=5000)"
      ],
      "execution_count": 742,
      "outputs": [
        {
          "output_type": "stream",
          "text": [
            "initialized\n"
          ],
          "name": "stdout"
        }
      ]
    },
    {
      "cell_type": "code",
      "metadata": {
        "id": "7GWM-uliMhjg",
        "colab_type": "code",
        "colab": {
          "base_uri": "https://localhost:8080/",
          "height": 442
        },
        "outputId": "8c0e13a3-4910-4887-bfc3-c327b4e946a3"
      },
      "source": [
        "regressor.run_kfold(logisticModel,featuredSalary[0:10000],label_Y_Range1[0:10000])"
      ],
      "execution_count": 743,
      "outputs": [
        {
          "output_type": "stream",
          "text": [
            "predict done\n",
            "Fold 1 train accuracy: 0.3841269841269841 test accuracy: 0.14451827242524906 \n",
            "predict done\n",
            "Fold 2 train accuracy: 0.4034022269532733 test accuracy: 0.239540111882661 \n",
            "predict done\n",
            "Fold 3 train accuracy: 0.3675335249579328 test accuracy: 0.3953173374613004 \n",
            "predict done\n",
            "Fold 4 train accuracy: 0.3654585301466864 test accuracy: 0.3679089788929605 \n",
            "predict done\n",
            "Fold 5 train accuracy: 0.38279412755232345 test accuracy: 0.3034594845600186 \n",
            "predict done\n",
            "Fold 6 train accuracy: 0.3786479033180591 test accuracy: 0.49334962190623644 \n",
            "predict done\n",
            "Fold 7 train accuracy: 0.387491736883118 test accuracy: 0.20860215053763442 \n",
            "predict done\n",
            "Fold 8 train accuracy: 0.38248891669673435 test accuracy: 0.37435519223040314 \n",
            "predict done\n",
            "Fold 9 train accuracy: 0.3930712678758074 test accuracy: 0.1940788757182499 \n",
            "predict done\n",
            "Fold 10 train accuracy: 0.3964643118658252 test accuracy: 0.2538523925385241 \n",
            "Probability: [0.32953618 0.67046382]\n",
            "Train Mean r2: 0.3841479530376744\n",
            "Train Standard Deviation: 0.011284485708086434\n",
            "Mean r2: 0.29749824181532375\n",
            "Standard Deviation: 0.10300077380381163\n"
          ],
          "name": "stdout"
        }
      ]
    },
    {
      "cell_type": "markdown",
      "metadata": {
        "id": "QXUdDFZkjLIe",
        "colab_type": "text"
      },
      "source": [
        "To measure the model accuracy, I used the r2 metric provided by sklearn and calculated the mean value and standard variation of each fold, from the output we can see that the accuracy varies from fold to fold but the mean value of accuracy for training and testing are very similar and the variance for test and training are within the acceptable range."
      ]
    },
    {
      "cell_type": "code",
      "metadata": {
        "id": "2rudd7AMzez9",
        "colab_type": "code",
        "colab": {
          "base_uri": "https://localhost:8080/",
          "height": 442
        },
        "outputId": "fb74f7a8-55a8-48a6-e82a-9e5aa0fa1d4b"
      },
      "source": [
        "regressor.run_kfold(logisticModel,featuredSalary[0:10000],label_Y_Range2[0:10000])"
      ],
      "execution_count": 744,
      "outputs": [
        {
          "output_type": "stream",
          "text": [
            "predict done\n",
            "Fold 1 train accuracy: 0.13213588146966215 test accuracy: 0.26463829396084215 \n",
            "predict done\n",
            "Fold 2 train accuracy: 0.1587363562724723 test accuracy: 0.1917078737162421 \n",
            "predict done\n",
            "Fold 3 train accuracy: 0.1683637104164547 test accuracy: -0.03602659134917796 \n",
            "predict done\n",
            "Fold 4 train accuracy: 0.16036177455713663 test accuracy: -0.07011116566579756 \n",
            "predict done\n",
            "Fold 5 train accuracy: 0.15558723264616814 test accuracy: 0.005865394174371263 \n",
            "predict done\n",
            "Fold 6 train accuracy: 0.16611897404556997 test accuracy: -0.0026433324218393395 \n",
            "predict done\n",
            "Fold 7 train accuracy: 0.16334089302544763 test accuracy: -0.010356150543066933 \n",
            "predict done\n",
            "Fold 8 train accuracy: 0.15542521994134917 test accuracy: -0.07991360691144678 \n",
            "predict done\n",
            "Fold 9 train accuracy: 0.1411159162715342 test accuracy: -0.09668109668109626 \n",
            "predict done\n",
            "Fold 10 train accuracy: 0.1391782845312397 test accuracy: 0.08186431623931645 \n",
            "Probability: [0.05571992 0.94428008]\n",
            "Train Mean r2: 0.15403642431770348\n",
            "Train Standard Deviation: 0.011711545891666867\n",
            "Mean r2: 0.024834393451834712\n",
            "Standard Deviation: 0.11376079313055587\n"
          ],
          "name": "stdout"
        }
      ]
    },
    {
      "cell_type": "markdown",
      "metadata": {
        "id": "J3zZEibF0WtS",
        "colab_type": "text"
      },
      "source": [
        "I splited the training data into three classes to save some run time, the label variable 'label_Y_Range1' contains all data label that are smaller than 55000,'label_Y_Range2' has all data label that are bigger than 55000 but smaller than 137500, finally we simply substract the possibility of label_Y_Range2 from 1 to get the possibility of class 3 which are labels that are bigger than 137500 "
      ]
    },
    {
      "cell_type": "markdown",
      "metadata": {
        "id": "P1ORVvAIz-B4",
        "colab_type": "text"
      },
      "source": [
        "Tune regularization hyperparameter C to find optimal model"
      ]
    },
    {
      "cell_type": "code",
      "metadata": {
        "id": "hNowEu3H0MXF",
        "colab_type": "code",
        "colab": {
          "base_uri": "https://localhost:8080/",
          "height": 1000
        },
        "outputId": "6c139786-2f5e-4176-e221-c98578dfffa5"
      },
      "source": [
        "for item in [0.01,0.1,10,100]:\n",
        "  print('c=',item)\n",
        "  logisticModel_C01=LogisticRegression(C=item,multi_class = 'auto',solver='lbfgs',max_iter=5000)\n",
        "  regressor.run_kfold(logisticModel_C01,featuredSalary[0:10000],label_Y_Range1[0:10000])"
      ],
      "execution_count": 746,
      "outputs": [
        {
          "output_type": "stream",
          "text": [
            "c= 0.01\n",
            "predict done\n",
            "Fold 1 train accuracy: 0.23858363858363862 test accuracy: 0.06146179401993335 \n",
            "predict done\n",
            "Fold 2 train accuracy: 0.2521238663654384 test accuracy: 0.1777527459731273 \n",
            "predict done\n",
            "Fold 3 train accuracy: 0.22177781450442702 test accuracy: 0.29856811145510853 \n",
            "predict done\n",
            "Fold 4 train accuracy: 0.24145574086218768 test accuracy: 0.1078715335008239 \n",
            "predict done\n",
            "Fold 5 train accuracy: 0.24874941619415714 test accuracy: 0.17769522482779965 \n",
            "predict done\n",
            "Fold 6 train accuracy: 0.22932296395417318 test accuracy: 0.3370929632418047 \n",
            "predict done\n",
            "Fold 7 train accuracy: 0.25489705633762183 test accuracy: 0.08817204301075265 \n",
            "predict done\n",
            "Fold 8 train accuracy: 0.23908345024366195 test accuracy: 0.25419824239385813 \n",
            "predict done\n",
            "Fold 9 train accuracy: 0.25853539892161137 test accuracy: 0.11130859808931348 \n",
            "predict done\n",
            "Fold 10 train accuracy: 0.25486941664632656 test accuracy: 0.14262541999768286 \n",
            "Probability: [0.32904829 0.67095171]\n",
            "Train Mean r2: 0.24393987626132438\n",
            "Train Standard Deviation: 0.011427639692806723\n",
            "Mean r2: 0.17567466765102047\n",
            "Standard Deviation: 0.0882421758778328\n",
            "c= 0.1\n",
            "predict done\n",
            "Fold 1 train accuracy: 0.36312576312576317 test accuracy: 0.14451827242524906 \n",
            "predict done\n",
            "Fold 2 train accuracy: 0.3763524538680313 test accuracy: 0.19676424317606067 \n",
            "predict done\n",
            "Fold 3 train accuracy: 0.34075155695940873 test accuracy: 0.4033797729618164 \n",
            "predict done\n",
            "Fold 4 train accuracy: 0.3421107246328686 test accuracy: 0.30790033764862124 \n",
            "predict done\n",
            "Fold 5 train accuracy: 0.3697897898832476 test accuracy: 0.3082965714727962 \n",
            "predict done\n",
            "Fold 6 train accuracy: 0.3395628520751628 test accuracy: 0.47914447111856084 \n",
            "predict done\n",
            "Fold 7 train accuracy: 0.35681684810020475 test accuracy: 0.20860215053763442 \n",
            "predict done\n",
            "Fold 8 train accuracy: 0.3595236284747121 test accuracy: 0.341208447447908 \n",
            "predict done\n",
            "Fold 9 train accuracy: 0.36929989253427653 test accuracy: 0.185366214915204 \n",
            "predict done\n",
            "Fold 10 train accuracy: 0.37035461487499566 test accuracy: 0.23068010659251548 \n",
            "Probability: [0.32908277 0.67091723]\n",
            "Train Mean r2: 0.3587688124528671\n",
            "Train Standard Deviation: 0.012923335811530727\n",
            "Mean r2: 0.2805860588296366\n",
            "Standard Deviation: 0.10098138478671838\n",
            "c= 10\n",
            "predict done\n",
            "Fold 1 train accuracy: 0.3885225885225885 test accuracy: 0.12790697674418583 \n",
            "predict done\n",
            "Fold 2 train accuracy: 0.4069086790198788 test accuracy: 0.239540111882661 \n",
            "predict done\n",
            "Fold 3 train accuracy: 0.3742290169575637 test accuracy: 0.3953173374613004 \n",
            "predict done\n",
            "Fold 4 train accuracy: 0.3654585301466864 test accuracy: 0.3799107071418283 \n",
            "predict done\n",
            "Fold 5 train accuracy: 0.38579512855287945 test accuracy: 0.284111136908908 \n",
            "predict done\n",
            "Fold 6 train accuracy: 0.3796500841191589 test accuracy: 0.48387952138111945 \n",
            "predict done\n",
            "Fold 7 train accuracy: 0.39046027450727094 test accuracy: 0.20860215053763442 \n",
            "predict done\n",
            "Fold 8 train accuracy: 0.3865716346028716 test accuracy: 0.37435519223040314 \n",
            "predict done\n",
            "Fold 9 train accuracy: 0.39812900731017564 test accuracy: 0.19843520611977294 \n",
            "predict done\n",
            "Fold 10 train accuracy: 0.39596220230830925 test accuracy: 0.2445834781601206 \n",
            "Probability: [0.32974886 0.67025114]\n",
            "Train Mean r2: 0.38716871460473834\n",
            "Train Standard Deviation: 0.011390030335439123\n",
            "Mean r2: 0.29366418185679344\n",
            "Standard Deviation: 0.10472530298169266\n",
            "c= 100\n",
            "predict done\n",
            "Fold 1 train accuracy: 0.388034188034188 test accuracy: 0.12790697674418583 \n",
            "predict done\n",
            "Fold 2 train accuracy: 0.4079105224674803 test accuracy: 0.239540111882661 \n",
            "predict done\n",
            "Fold 3 train accuracy: 0.3747440548036892 test accuracy: 0.3953173374613004 \n",
            "predict done\n",
            "Fold 4 train accuracy: 0.36597737026921573 test accuracy: 0.3839112832247842 \n",
            "predict done\n",
            "Fold 5 train accuracy: 0.3867954622197315 test accuracy: 0.284111136908908 \n",
            "predict done\n",
            "Fold 6 train accuracy: 0.38215553612190867 test accuracy: 0.48387952138111945 \n",
            "predict done\n",
            "Fold 7 train accuracy: 0.3934288121314239 test accuracy: 0.214336917562724 \n",
            "predict done\n",
            "Fold 8 train accuracy: 0.3860612948646045 test accuracy: 0.37435519223040314 \n",
            "predict done\n",
            "Fold 9 train accuracy: 0.397117459423302 test accuracy: 0.19843520611977294 \n",
            "predict done\n",
            "Fold 10 train accuracy: 0.3954600927507933 test accuracy: 0.2445834781601206 \n",
            "Probability: [0.32979784 0.67020216]\n",
            "Train Mean r2: 0.3877684793086337\n",
            "Train Standard Deviation: 0.011243801212152139\n",
            "Mean r2: 0.29463771616759793\n",
            "Standard Deviation: 0.10460772200241812\n"
          ],
          "name": "stdout"
        }
      ]
    },
    {
      "cell_type": "markdown",
      "metadata": {
        "id": "kiCZaGskoEsa",
        "colab_type": "text"
      },
      "source": [
        "C is a hyperparameter of logistic regression and decides the regularization for the model, and its effect on model accuracy can be explained using the bias-variance trade-off theory. As we know from the theory, the more our model fits to its training data, the lower bias it would have but it gets more sensitive to the fluctuations in input. The bias of the model can be reflected by its accuracy, the higher tha accuracy is the less bias it would have and the higher standard deviation it has the higher variance it would have and they are contradictory concepts. In my case, I found that as the C value goes down(more regularization and model becomes more general) the variance dropped and so does the mean accuracy than the default C value which equals to 1. Then as the C value gets bigger than the default 1, the std does increased for the reason that the model is now more fitted to its training data(less regularization) but there is no obvious increase in accuracy, thus I assume that the bias- variance curve has already reached its flat point at its default value, and the optimal model has hyperparameter C=1"
      ]
    },
    {
      "cell_type": "markdown",
      "metadata": {
        "id": "Cc5-qqU-eEL1",
        "colab_type": "text"
      },
      "source": [
        "# Model Tuning"
      ]
    },
    {
      "cell_type": "code",
      "metadata": {
        "id": "eNWi4Skc7o14",
        "colab_type": "code",
        "colab": {}
      },
      "source": [
        "def grid_search(model,parameters,X,Y,regressor):\n",
        "    # Compare parameters by score of model \n",
        "    acc_scorer_lm = make_scorer(r2_score)\n",
        "\n",
        "    # Run the grid search\n",
        "    grid_obj_lm = GridSearchCV(model, parameters, scoring=acc_scorer_lm)\n",
        "    grid_obj_lm = grid_obj_lm.fit(X, Y)\n",
        "\n",
        "    reg_gridsearch = grid_obj_lm.best_estimator_  #Select best parameter combination\n",
        "    print('best params:')\n",
        "    print(grid_obj_lm.best_params_)\n",
        "    regressor.run_kfold(reg_gridsearch,X,Y)"
      ],
      "execution_count": 0,
      "outputs": []
    },
    {
      "cell_type": "code",
      "metadata": {
        "id": "9X0un1cM7vMc",
        "colab_type": "code",
        "colab": {}
      },
      "source": [
        "parameters = {}\n",
        "parameters['Logistic Regression']={'solver':['newton-cg', 'lbfgs', 'liblinear', 'saga']}"
      ],
      "execution_count": 0,
      "outputs": []
    },
    {
      "cell_type": "code",
      "metadata": {
        "id": "wGFLQ1R59DPy",
        "colab_type": "code",
        "outputId": "52f7aaeb-bc57-464c-a144-83d2c617715e",
        "colab": {
          "base_uri": "https://localhost:8080/",
          "height": 530
        }
      },
      "source": [
        "grid_search(LogisticRegression(max_iter=5000),parameters['Logistic Regression'],featuredSalary[0:6000],label_Y_Range1[0:6000],regressor)"
      ],
      "execution_count": 749,
      "outputs": [
        {
          "output_type": "stream",
          "text": [
            "/usr/local/lib/python3.6/dist-packages/sklearn/model_selection/_split.py:1978: FutureWarning: The default value of cv will change from 3 to 5 in version 0.22. Specify it explicitly to silence this warning.\n",
            "  warnings.warn(CV_WARNING, FutureWarning)\n"
          ],
          "name": "stderr"
        },
        {
          "output_type": "stream",
          "text": [
            "best params:\n",
            "{'solver': 'liblinear'}\n",
            "predict done\n",
            "Fold 1 train accuracy: 0.4230851354743007 test accuracy: 0.08943262600175728 \n",
            "predict done\n",
            "Fold 2 train accuracy: 0.45177987983210766 test accuracy: -0.015873015873015817 \n",
            "predict done\n",
            "Fold 3 train accuracy: 0.4489442568609122 test accuracy: 0.19554130080445864 \n",
            "predict done\n",
            "Fold 4 train accuracy: 0.4296059250501618 test accuracy: 0.3709415584415584 \n",
            "predict done\n",
            "Fold 5 train accuracy: 0.43449486278174854 test accuracy: 0.3689510489510489 \n",
            "predict done\n",
            "Fold 6 train accuracy: 0.42004462924017916 test accuracy: 0.35148867890889635 \n",
            "predict done\n",
            "Fold 7 train accuracy: 0.43032943113717304 test accuracy: 0.31116794543904513 \n",
            "predict done\n",
            "Fold 8 train accuracy: 0.4350072175139491 test accuracy: 0.1357549309031788 \n",
            "predict done\n",
            "Fold 9 train accuracy: 0.4254490203665041 test accuracy: 0.43464800107686086 \n",
            "predict done\n",
            "Fold 10 train accuracy: 0.42480359147025815 test accuracy: 0.45777777777777773 \n",
            "Probability: [0.33156145 0.66843855]\n",
            "Train Mean r2: 0.43235439497272943\n",
            "Train Standard Deviation: 0.010089573582876763\n",
            "Mean r2: 0.2699830852431567\n",
            "Standard Deviation: 0.1511882807215713\n"
          ],
          "name": "stdout"
        }
      ]
    },
    {
      "cell_type": "code",
      "metadata": {
        "id": "sBkI07Ms8dVs",
        "colab_type": "code",
        "colab": {
          "base_uri": "https://localhost:8080/",
          "height": 530
        },
        "outputId": "daa7e640-3552-464e-84c4-3080d142a9ca"
      },
      "source": [
        "grid_search(LogisticRegression(max_iter=5000),parameters['Logistic Regression'],featuredSalary[0:10000],label_Y_Range1[0:10000],regressor)"
      ],
      "execution_count": 751,
      "outputs": [
        {
          "output_type": "stream",
          "text": [
            "/usr/local/lib/python3.6/dist-packages/sklearn/model_selection/_split.py:1978: FutureWarning: The default value of cv will change from 3 to 5 in version 0.22. Specify it explicitly to silence this warning.\n",
            "  warnings.warn(CV_WARNING, FutureWarning)\n"
          ],
          "name": "stderr"
        },
        {
          "output_type": "stream",
          "text": [
            "best params:\n",
            "{'solver': 'saga'}\n",
            "predict done\n",
            "Fold 1 train accuracy: 0.3846153846153846 test accuracy: 0.12790697674418583 \n",
            "predict done\n",
            "Fold 2 train accuracy: 0.4034022269532733 test accuracy: 0.24429298618339446 \n",
            "predict done\n",
            "Fold 3 train accuracy: 0.3659884114195564 test accuracy: 0.39128611971104243 \n",
            "predict done\n",
            "Fold 4 train accuracy: 0.3685715708818621 test accuracy: 0.3679089788929605 \n",
            "predict done\n",
            "Fold 5 train accuracy: 0.38279412755232345 test accuracy: 0.29862239764724086 \n",
            "predict done\n",
            "Fold 6 train accuracy: 0.37313590891200954 test accuracy: 0.49808467216879504 \n",
            "predict done\n",
            "Fold 7 train accuracy: 0.384028442988273 test accuracy: 0.20860215053763442 \n",
            "predict done\n",
            "Fold 8 train accuracy: 0.3809578974819329 test accuracy: 0.3702118491325913 \n",
            "predict done\n",
            "Fold 9 train accuracy: 0.39205971998893374 test accuracy: 0.1940788757182499 \n",
            "predict done\n",
            "Fold 10 train accuracy: 0.3964643118658252 test accuracy: 0.24921793534932235 \n",
            "Probability: [0.32950442 0.67049558]\n",
            "Train Mean r2: 0.3832018002659374\n",
            "Train Standard Deviation: 0.011322383079157736\n",
            "Mean r2: 0.29502129420854173\n",
            "Standard Deviation: 0.10570572285123161\n"
          ],
          "name": "stdout"
        }
      ]
    },
    {
      "cell_type": "code",
      "metadata": {
        "id": "1o0jJr1W68k7",
        "colab_type": "code",
        "colab": {
          "base_uri": "https://localhost:8080/",
          "height": 530
        },
        "outputId": "aa47afbe-a5a5-40c5-976f-dc10ce1786cf"
      },
      "source": [
        "grid_search(LogisticRegression(max_iter=5000),parameters['Logistic Regression'],featuredSalary[0:6000],label_Y_Range2[0:6000],regressor)"
      ],
      "execution_count": 750,
      "outputs": [
        {
          "output_type": "stream",
          "text": [
            "/usr/local/lib/python3.6/dist-packages/sklearn/model_selection/_split.py:1978: FutureWarning: The default value of cv will change from 3 to 5 in version 0.22. Specify it explicitly to silence this warning.\n",
            "  warnings.warn(CV_WARNING, FutureWarning)\n"
          ],
          "name": "stderr"
        },
        {
          "output_type": "stream",
          "text": [
            "best params:\n",
            "{'solver': 'liblinear'}\n",
            "predict done\n",
            "Fold 1 train accuracy: 0.21317949468387443 test accuracy: -0.010101010101010166 \n",
            "predict done\n",
            "Fold 2 train accuracy: 0.24710057671588814 test accuracy: -0.015228426395938799 \n",
            "predict done\n",
            "Fold 3 train accuracy: 0.22189943392154576 test accuracy: 0.13194444444444453 \n",
            "predict done\n",
            "Fold 4 train accuracy: 0.25536062378167657 test accuracy: -0.0889292196007263 \n",
            "predict done\n",
            "Fold 5 train accuracy: 0.25257081443727036 test accuracy: 0.03492647058823539 \n",
            "predict done\n",
            "Fold 6 train accuracy: 0.2282250823106855 test accuracy: -0.10905730129389979 \n",
            "predict done\n",
            "Fold 7 train accuracy: 0.2411902358447281 test accuracy: -0.06190604439998437 \n",
            "predict done\n",
            "Fold 8 train accuracy: 0.22377170030128368 test accuracy: 0.10102739726027377 \n",
            "predict done\n",
            "Fold 9 train accuracy: 0.23943869974374477 test accuracy: -0.05820105820105792 \n",
            "predict done\n",
            "Fold 10 train accuracy: 0.2777335941080473 test accuracy: -0.3448275862068968 \n",
            "Probability: [0.05478903 0.94521097]\n",
            "Train Mean r2: 0.24004702558487448\n",
            "Train Standard Deviation: 0.01821785512443571\n",
            "Mean r2: -0.04203523339065605\n",
            "Standard Deviation: 0.1254702129832935\n"
          ],
          "name": "stdout"
        }
      ]
    },
    {
      "cell_type": "code",
      "metadata": {
        "id": "kq5O-6fvTTkP",
        "colab_type": "code",
        "colab": {
          "base_uri": "https://localhost:8080/",
          "height": 530
        },
        "outputId": "3e7c3c51-5a49-4c42-9fd8-4b8796926b8a"
      },
      "source": [
        "grid_search(LogisticRegression(max_iter=5000),parameters['Logistic Regression'],featuredSalary[0:10000],label_Y_Range2[0:10000],regressor)"
      ],
      "execution_count": 753,
      "outputs": [
        {
          "output_type": "stream",
          "text": [
            "/usr/local/lib/python3.6/dist-packages/sklearn/model_selection/_split.py:1978: FutureWarning: The default value of cv will change from 3 to 5 in version 0.22. Specify it explicitly to silence this warning.\n",
            "  warnings.warn(CV_WARNING, FutureWarning)\n"
          ],
          "name": "stderr"
        },
        {
          "output_type": "stream",
          "text": [
            "best params:\n",
            "{'solver': 'saga'}\n",
            "predict done\n",
            "Fold 1 train accuracy: 0.13806661576485812 test accuracy: 0.17271808070594752 \n",
            "predict done\n",
            "Fold 2 train accuracy: 0.146148870331412 test accuracy: 0.1917078737162421 \n",
            "predict done\n",
            "Fold 3 train accuracy: 0.15919967416760028 test accuracy: 0.0009743583418639901 \n",
            "predict done\n",
            "Fold 4 train accuracy: 0.15123527210667076 test accuracy: -0.09529025191675755 \n",
            "predict done\n",
            "Fold 5 train accuracy: 0.16185762448295393 test accuracy: 0.030718759320012 \n",
            "predict done\n",
            "Fold 6 train accuracy: 0.155590173212812 test accuracy: -0.025430680885972112 \n",
            "predict done\n",
            "Fold 7 train accuracy: 0.15505713949104605 test accuracy: 0.017709298083129488 \n",
            "predict done\n",
            "Fold 8 train accuracy: 0.15098008951998787 test accuracy: -0.09450703403187188 \n",
            "predict done\n",
            "Fold 9 train accuracy: 0.13897406070113905 test accuracy: -0.05820105820105792 \n",
            "predict done\n",
            "Fold 10 train accuracy: 0.13046110260244215 test accuracy: 0.08186431623931645 \n",
            "Probability: [0.05568708 0.94431292]\n",
            "Train Mean r2: 0.1487570622380922\n",
            "Train Standard Deviation: 0.009641971776338671\n",
            "Mean r2: 0.02222636613708521\n",
            "Standard Deviation: 0.09573358976301154\n"
          ],
          "name": "stdout"
        }
      ]
    },
    {
      "cell_type": "markdown",
      "metadata": {
        "id": "G4ENhOossglR",
        "colab_type": "text"
      },
      "source": [
        "Solver is an important coefficient for logistic regression model and I used 'lbfgs' sovler in the previous implementation step. In this section, I used the grid search api provided by sklearn to locate the best solver for our model, and I tested seperatly for both my labels and tuned the size of training dataset. The result was satisfying, for the training dataset with the size of 6000 data points the optimal solver was liblinear, but later as I increased the total data size from 6000 to 10000, the best solver became 'saga' and by looking into sklearn documentations, I found they have some optimization for saga solver on large datasets and it is considered as the best solver by sklearn under most situations.  "
      ]
    },
    {
      "cell_type": "markdown",
      "metadata": {
        "id": "kjlihjmJikrh",
        "colab_type": "text"
      },
      "source": [
        "# Test & Discussion"
      ]
    },
    {
      "cell_type": "code",
      "metadata": {
        "id": "8rF8DGsh8z7D",
        "colab_type": "code",
        "outputId": "7cf3521c-ab1f-4845-9e3a-59da8b4ba832",
        "colab": {
          "base_uri": "https://localhost:8080/",
          "height": 34
        }
      },
      "source": [
        "sagaRegressor=logisticRegressor()\n",
        "sagaLogisticModel=LogisticRegression(solver='saga',max_iter=5000)"
      ],
      "execution_count": 755,
      "outputs": [
        {
          "output_type": "stream",
          "text": [
            "initialized\n"
          ],
          "name": "stdout"
        }
      ]
    },
    {
      "cell_type": "code",
      "metadata": {
        "id": "DuEd5FWH9CE3",
        "colab_type": "code",
        "outputId": "e860bd11-47e7-4db3-df8a-901778323074",
        "colab": {
          "base_uri": "https://localhost:8080/",
          "height": 442
        }
      },
      "source": [
        "sagaRegressor.run_kfold(sagaLogisticModel,featuredSalary[0:10000],label_Y_Range1[0:10000])"
      ],
      "execution_count": 756,
      "outputs": [
        {
          "output_type": "stream",
          "text": [
            "predict done\n",
            "Fold 1 train accuracy: 0.3846153846153846 test accuracy: 0.12790697674418583 \n",
            "predict done\n",
            "Fold 2 train accuracy: 0.4034022269532733 test accuracy: 0.24429298618339446 \n",
            "predict done\n",
            "Fold 3 train accuracy: 0.3659884114195564 test accuracy: 0.39128611971104243 \n",
            "predict done\n",
            "Fold 4 train accuracy: 0.3685715708818621 test accuracy: 0.3679089788929605 \n",
            "predict done\n",
            "Fold 5 train accuracy: 0.38279412755232345 test accuracy: 0.29862239764724086 \n",
            "predict done\n",
            "Fold 6 train accuracy: 0.37313590891200954 test accuracy: 0.49808467216879504 \n",
            "predict done\n",
            "Fold 7 train accuracy: 0.384028442988273 test accuracy: 0.20860215053763442 \n",
            "predict done\n",
            "Fold 8 train accuracy: 0.3809578974819329 test accuracy: 0.3702118491325913 \n",
            "predict done\n",
            "Fold 9 train accuracy: 0.3925654939323706 test accuracy: 0.1940788757182499 \n",
            "predict done\n",
            "Fold 10 train accuracy: 0.3964643118658252 test accuracy: 0.24921793534932235 \n",
            "Probability: [0.32950436 0.67049564]\n",
            "Train Mean r2: 0.3832523776602811\n",
            "Train Standard Deviation: 0.011362895856442328\n",
            "Mean r2: 0.29502129420854173\n",
            "Standard Deviation: 0.10570572285123161\n"
          ],
          "name": "stdout"
        }
      ]
    },
    {
      "cell_type": "code",
      "metadata": {
        "id": "mh_dzRPYa1-R",
        "colab_type": "code",
        "colab": {
          "base_uri": "https://localhost:8080/",
          "height": 442
        },
        "outputId": "d8fdeb29-1de1-4499-d356-1b858d052195"
      },
      "source": [
        "sagaRegressor.run_kfold(sagaLogisticModel,featuredSalary[0:10000],label_Y_Range2[0:10000])"
      ],
      "execution_count": 757,
      "outputs": [
        {
          "output_type": "stream",
          "text": [
            "predict done\n",
            "Fold 1 train accuracy: 0.13806661576485812 test accuracy: 0.17271808070594752 \n",
            "predict done\n",
            "Fold 2 train accuracy: 0.146148870331412 test accuracy: 0.1917078737162421 \n",
            "predict done\n",
            "Fold 3 train accuracy: 0.15919967416760028 test accuracy: 0.0009743583418639901 \n",
            "predict done\n",
            "Fold 4 train accuracy: 0.15123527210667076 test accuracy: -0.09529025191675755 \n",
            "predict done\n",
            "Fold 5 train accuracy: 0.16185762448295393 test accuracy: 0.030718759320012 \n",
            "predict done\n",
            "Fold 6 train accuracy: 0.155590173212812 test accuracy: -0.025430680885972112 \n",
            "predict done\n",
            "Fold 7 train accuracy: 0.15505713949104605 test accuracy: 0.017709298083129488 \n",
            "predict done\n",
            "Fold 8 train accuracy: 0.15098008951998787 test accuracy: -0.09450703403187188 \n",
            "predict done\n",
            "Fold 9 train accuracy: 0.13897406070113905 test accuracy: -0.05820105820105792 \n",
            "predict done\n",
            "Fold 10 train accuracy: 0.13046110260244215 test accuracy: 0.08186431623931645 \n",
            "Probability: [0.05568719 0.94431281]\n",
            "Train Mean r2: 0.1487570622380922\n",
            "Train Standard Deviation: 0.009641971776338671\n",
            "Mean r2: 0.02222636613708521\n",
            "Standard Deviation: 0.09573358976301154\n"
          ],
          "name": "stdout"
        }
      ]
    },
    {
      "cell_type": "code",
      "metadata": {
        "id": "O4qeyEnxd3g9",
        "colab_type": "code",
        "colab": {
          "base_uri": "https://localhost:8080/",
          "height": 426
        },
        "outputId": "e3295e03-9ae7-4c25-ff01-6262413c9cfb"
      },
      "source": [
        "salaryClasses=['smaller than 55000','between 55000 and 137500','bigger than 137500']\n",
        "probability=[0.67049564,0.94431281-0.67049564,0.05568719 ]\n",
        "\n",
        "plt.bar(salaryClasses,probability)\n",
        "plt.title(\"Classification For Test Data\")\n",
        "plt.xlabel(\"Salary Class\")\n",
        "plt.ylabel(\"Prediction Probability\")\n",
        "plt.xticks( rotation=90)\n",
        "plt.show()"
      ],
      "execution_count": 759,
      "outputs": [
        {
          "output_type": "display_data",
          "data": {
            "image/png": "[encoded data removed]",
            "text/plain": [
              "<Figure size 432x288 with 1 Axes>"
            ]
          },
          "metadata": {
            "tags": []
          }
        }
      ]
    },
    {
      "cell_type": "markdown",
      "metadata": {
        "id": "J0jLP3KeurFm",
        "colab_type": "text"
      },
      "source": [
        "From the output we can see that for label1 the training accuracy was 0.3832523776602811 and testing accuracy was 0.29502129420854173 and the variance of testing data is aroud 0.1 within the acceptance and for label2 the train accuracy is 0.1487570622380922 to 0.02222636613708521 of testing and vairance is also smaller than 0.1, since the model test accuracy is not so smaller than training accuracy and the variance of testing data is within acceptance, I suppose the model is still underfitting. To furthur imporve the accuracy, a couple of methods can be used like, doing a normalization on training data or try increase the size of selected feature dimension."
      ]
    }
  ]
}