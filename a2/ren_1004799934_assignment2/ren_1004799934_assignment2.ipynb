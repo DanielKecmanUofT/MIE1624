{
  "nbformat": 4,
  "nbformat_minor": 0,
  "metadata": {
    "colab": {
      "name": "ren_1004799934_assignment2.ipynb",
      "provenance": [],
      "collapsed_sections": [],
      "toc_visible": true
    },
    "kernelspec": {
      "name": "python3",
      "display_name": "Python 3"
    }
  },
  "cells": [
    {
      "cell_type": "markdown",
      "metadata": {
        "id": "eD9UKWRyNGzN",
        "colab_type": "text"
      },
      "source": [
        "# Data Cleaning"
      ]
    },
    {
      "cell_type": "code",
      "metadata": {
        "id": "2NY6JKwXt-wf",
        "colab_type": "code",
        "outputId": "a6a4ae8f-9222-4c23-9bae-4cdb5dacbfea",
        "colab": {
          "base_uri": "https://localhost:8080/",
          "height": 153
        }
      },
      "source": [
        "import pandas as pd\n",
        "import numpy as np\n",
        "from collections import Counter\n",
        "from functools import reduce\n",
        "import matplotlib\n",
        "import matplotlib.pyplot as plt\n",
        "%matplotlib inline\n",
        "!pip install wordcloud\n",
        "from wordcloud import WordCloud\n",
        "from collections import Counter\n",
        "\n",
        "import html\n",
        "import re\n",
        "from scipy import stats\n",
        "import random\n",
        "random.seed()\n",
        "\n",
        "!pip install nltk\n",
        "import nltk\n",
        "from nltk.tokenize import RegexpTokenizer\n",
        "nltk.download('punkt')\n",
        "\n",
        "from sklearn.model_selection import train_test_split\n",
        "from sklearn.feature_extraction.text import CountVectorizer\n",
        "from sklearn.feature_extraction.text import TfidfTransformer\n",
        "from sklearn.feature_extraction.text import TfidfVectorizer"
      ],
      "execution_count": 0,
      "outputs": [
        {
          "output_type": "stream",
          "text": [
            "Requirement already satisfied: wordcloud in /usr/local/lib/python3.6/dist-packages (1.5.0)\n",
            "Requirement already satisfied: pillow in /usr/local/lib/python3.6/dist-packages (from wordcloud) (4.3.0)\n",
            "Requirement already satisfied: numpy>=1.6.1 in /usr/local/lib/python3.6/dist-packages (from wordcloud) (1.17.4)\n",
            "Requirement already satisfied: olefile in /usr/local/lib/python3.6/dist-packages (from pillow->wordcloud) (0.46)\n",
            "Requirement already satisfied: nltk in /usr/local/lib/python3.6/dist-packages (3.2.5)\n",
            "Requirement already satisfied: six in /usr/local/lib/python3.6/dist-packages (from nltk) (1.12.0)\n",
            "[nltk_data] Downloading package punkt to /root/nltk_data...\n",
            "[nltk_data]   Package punkt is already up-to-date!\n"
          ],
          "name": "stdout"
        }
      ]
    },
    {
      "cell_type": "code",
      "metadata": {
        "id": "yk3bRfdHNWvV",
        "colab_type": "code",
        "colab": {}
      },
      "source": [
        "generic_tweets = pd.read_csv('generic_tweets.txt')\n",
        "election_tweets = pd.read_csv('Canadian_elections_2019.csv')"
      ],
      "execution_count": 0,
      "outputs": []
    },
    {
      "cell_type": "code",
      "metadata": {
        "id": "of9AUnK8Nsqb",
        "colab_type": "code",
        "outputId": "1ca67181-881b-4040-a6d5-e355631b32f2",
        "colab": {
          "base_uri": "https://localhost:8080/",
          "height": 71
        }
      },
      "source": [
        "print(generic_tweets.shape,election_tweets.shape)\n",
        "print(generic_tweets.columns,election_tweets.columns)"
      ],
      "execution_count": 0,
      "outputs": [
        {
          "output_type": "stream",
          "text": [
            "(200000, 6) (2133, 3)\n",
            "Index(['class', 'id', 'date', 'query', 'user', 'text'], dtype='object') Index(['sentiment', 'negative_reason', 'text'], dtype='object')\n"
          ],
          "name": "stdout"
        }
      ]
    },
    {
      "cell_type": "code",
      "metadata": {
        "id": "ntbEyhJSQQ0z",
        "colab_type": "code",
        "outputId": "8b45f997-3bd1-4d58-aa0b-765b685889ff",
        "colab": {
          "base_uri": "https://localhost:8080/",
          "height": 193
        }
      },
      "source": [
        "generic_tweets.head(3)"
      ],
      "execution_count": 0,
      "outputs": [
        {
          "output_type": "execute_result",
          "data": {
            "text/html": [
              "<div>\n",
              "<style scoped>\n",
              "    .dataframe tbody tr th:only-of-type {\n",
              "        vertical-align: middle;\n",
              "    }\n",
              "\n",
              "    .dataframe tbody tr th {\n",
              "        vertical-align: top;\n",
              "    }\n",
              "\n",
              "    .dataframe thead th {\n",
              "        text-align: right;\n",
              "    }\n",
              "</style>\n",
              "<table border=\"1\" class=\"dataframe\">\n",
              "  <thead>\n",
              "    <tr style=\"text-align: right;\">\n",
              "      <th></th>\n",
              "      <th>class</th>\n",
              "      <th>id</th>\n",
              "      <th>date</th>\n",
              "      <th>query</th>\n",
              "      <th>user</th>\n",
              "      <th>text</th>\n",
              "    </tr>\n",
              "  </thead>\n",
              "  <tbody>\n",
              "    <tr>\n",
              "      <th>0</th>\n",
              "      <td>0</td>\n",
              "      <td>1467810369</td>\n",
              "      <td>Mon Apr 06 22:19:45 PDT 2009</td>\n",
              "      <td>NO_QUERY</td>\n",
              "      <td>_TheSpecialOne_</td>\n",
              "      <td>@switchfoot http://twitpic.com/2y1zl - Awww, t...</td>\n",
              "    </tr>\n",
              "    <tr>\n",
              "      <th>1</th>\n",
              "      <td>0</td>\n",
              "      <td>1467810672</td>\n",
              "      <td>Mon Apr 06 22:19:49 PDT 2009</td>\n",
              "      <td>NO_QUERY</td>\n",
              "      <td>scotthamilton</td>\n",
              "      <td>is upset that he can't update his Facebook by ...</td>\n",
              "    </tr>\n",
              "    <tr>\n",
              "      <th>2</th>\n",
              "      <td>0</td>\n",
              "      <td>1467810917</td>\n",
              "      <td>Mon Apr 06 22:19:53 PDT 2009</td>\n",
              "      <td>NO_QUERY</td>\n",
              "      <td>mattycus</td>\n",
              "      <td>@Kenichan I dived many times for the ball. Man...</td>\n",
              "    </tr>\n",
              "  </tbody>\n",
              "</table>\n",
              "</div>"
            ],
            "text/plain": [
              "   class  ...                                               text\n",
              "0      0  ...  @switchfoot http://twitpic.com/2y1zl - Awww, t...\n",
              "1      0  ...  is upset that he can't update his Facebook by ...\n",
              "2      0  ...  @Kenichan I dived many times for the ball. Man...\n",
              "\n",
              "[3 rows x 6 columns]"
            ]
          },
          "metadata": {
            "tags": []
          },
          "execution_count": 4
        }
      ]
    },
    {
      "cell_type": "code",
      "metadata": {
        "id": "iMS_2yH5Qep3",
        "colab_type": "code",
        "outputId": "44e76335-facb-426c-a86d-7f1f699b44f5",
        "colab": {
          "base_uri": "https://localhost:8080/",
          "height": 142
        }
      },
      "source": [
        "election_tweets.head(3)"
      ],
      "execution_count": 0,
      "outputs": [
        {
          "output_type": "execute_result",
          "data": {
            "text/html": [
              "<div>\n",
              "<style scoped>\n",
              "    .dataframe tbody tr th:only-of-type {\n",
              "        vertical-align: middle;\n",
              "    }\n",
              "\n",
              "    .dataframe tbody tr th {\n",
              "        vertical-align: top;\n",
              "    }\n",
              "\n",
              "    .dataframe thead th {\n",
              "        text-align: right;\n",
              "    }\n",
              "</style>\n",
              "<table border=\"1\" class=\"dataframe\">\n",
              "  <thead>\n",
              "    <tr style=\"text-align: right;\">\n",
              "      <th></th>\n",
              "      <th>sentiment</th>\n",
              "      <th>negative_reason</th>\n",
              "      <th>text</th>\n",
              "    </tr>\n",
              "  </thead>\n",
              "  <tbody>\n",
              "    <tr>\n",
              "      <th>0</th>\n",
              "      <td>negative</td>\n",
              "      <td>Women Reproductive right and Racism</td>\n",
              "      <td>b\"@RosieBarton So instead of your suggestion, ...</td>\n",
              "    </tr>\n",
              "    <tr>\n",
              "      <th>1</th>\n",
              "      <td>positive</td>\n",
              "      <td>NaN</td>\n",
              "      <td>b\"#AllWomanSpacewalk it's real!\\n@Space_Statio...</td>\n",
              "    </tr>\n",
              "    <tr>\n",
              "      <th>2</th>\n",
              "      <td>negative</td>\n",
              "      <td>Economy</td>\n",
              "      <td>b\"#Brantford It's going to cost YOU $94 BILLIO...</td>\n",
              "    </tr>\n",
              "  </tbody>\n",
              "</table>\n",
              "</div>"
            ],
            "text/plain": [
              "  sentiment  ...                                               text\n",
              "0  negative  ...  b\"@RosieBarton So instead of your suggestion, ...\n",
              "1  positive  ...  b\"#AllWomanSpacewalk it's real!\\n@Space_Statio...\n",
              "2  negative  ...  b\"#Brantford It's going to cost YOU $94 BILLIO...\n",
              "\n",
              "[3 rows x 3 columns]"
            ]
          },
          "metadata": {
            "tags": []
          },
          "execution_count": 5
        }
      ]
    },
    {
      "cell_type": "code",
      "metadata": {
        "id": "rPrbNDwAQCO9",
        "colab_type": "code",
        "colab": {}
      },
      "source": [
        "with open('stop_words.txt','r') as f:\n",
        "  stop_words = f.read().split('\\n')"
      ],
      "execution_count": 0,
      "outputs": []
    },
    {
      "cell_type": "markdown",
      "metadata": {
        "id": "HxZPW7vVGD27",
        "colab_type": "text"
      },
      "source": [
        "Data Cleaning Strategy:\n",
        "1.remove html tags,URLs:Use regulart expression to match the html tags and remove them.\n",
        "2.replace Html character codes with ASCII:Use regulart expression to match the codes and replace them with ascii code.\n",
        "3.Lower case:Series str has api lower to convert characters to lowercase\n",
        "4.remove stop words:First, use nltk to tokenize the string then remove all words in the stopword list."
      ]
    },
    {
      "cell_type": "code",
      "metadata": {
        "id": "qSZoT6S4uyp-",
        "colab_type": "code",
        "colab": {}
      },
      "source": [
        "class DataCleaner(object):\n",
        "  def __init__(self,stop_Word):\n",
        "    \n",
        "    self.stopWord=stop_Word\n",
        "  def clean(self,data):\n",
        "    regex_pat = re.compile(r\"\\s*<.*?>\", flags=re.IGNORECASE)#remove tages\n",
        "    data=data.str.replace(regex_pat,'')\n",
        "    #use replace compile to put regular expression on series, pandas series has many string apis\n",
        "    data=html.unescape(data)#html encoding\n",
        "\n",
        "    regex_link = re.compile(r'\\s*(?:https?:\\/\\/)?[\\w.-]+(?:\\.[\\w.-]+)+[\\w\\-._~:/?#[\\]@!\\$&\\'\\(\\)\\*\\+,;=.]+', flags=re.IGNORECASE)\n",
        "    data=data.str.replace(regex_link,'')#remove links\n",
        "    data=data.str.lower()#to lowercase\n",
        "    regex_NoneChar = re.compile(r\"[^\\s\\w]+\", flags=re.IGNORECASE)\n",
        "    data=data.str.replace(regex_NoneChar,'')\n",
        "\n",
        "    tokenizer = RegexpTokenizer(r'\\w+')\n",
        "    data=data.apply(lambda data: nltk.word_tokenize(data))\n",
        "    data=data.apply(lambda x: [item for item in x if item not in self.stopWord])\n",
        "    \n",
        "    data=data.apply(lambda x:' '.join(x))\n",
        "    return data\n",
        "    \n"
      ],
      "execution_count": 0,
      "outputs": []
    },
    {
      "cell_type": "code",
      "metadata": {
        "id": "a6fQA5TvjFcM",
        "colab_type": "code",
        "colab": {}
      },
      "source": [
        "c1=DataCleaner(stop_words)\n",
        "result=c1.clean(generic_tweets['text'])"
      ],
      "execution_count": 0,
      "outputs": []
    },
    {
      "cell_type": "code",
      "metadata": {
        "id": "Jfz94g48QmQt",
        "colab_type": "code",
        "outputId": "1b5c1e14-2fad-4bac-dae9-23d156a1d2cc",
        "colab": {
          "base_uri": "https://localhost:8080/",
          "height": 119
        }
      },
      "source": [
        "result.head()"
      ],
      "execution_count": 0,
      "outputs": [
        {
          "output_type": "execute_result",
          "data": {
            "text/plain": [
              "0    switchfoot awww bummer shoulda david carr thir...\n",
              "1    upset cant update facebook texting cry result ...\n",
              "2    kenichan dived times ball managed save 50 rest...\n",
              "3                                body feels itchy fire\n",
              "4                    nationwideclass behaving mad cant\n",
              "Name: text, dtype: object"
            ]
          },
          "metadata": {
            "tags": []
          },
          "execution_count": 9
        }
      ]
    },
    {
      "cell_type": "code",
      "metadata": {
        "id": "XihMQzf92Rgn",
        "colab_type": "code",
        "outputId": "8533bb0e-f137-49ff-972a-123a1bf6c2f4",
        "colab": {
          "base_uri": "https://localhost:8080/",
          "height": 323
        }
      },
      "source": [
        "generic_tweets['cleaned_text']=result\n",
        "generic_tweets.head()"
      ],
      "execution_count": 0,
      "outputs": [
        {
          "output_type": "execute_result",
          "data": {
            "text/html": [
              "<div>\n",
              "<style scoped>\n",
              "    .dataframe tbody tr th:only-of-type {\n",
              "        vertical-align: middle;\n",
              "    }\n",
              "\n",
              "    .dataframe tbody tr th {\n",
              "        vertical-align: top;\n",
              "    }\n",
              "\n",
              "    .dataframe thead th {\n",
              "        text-align: right;\n",
              "    }\n",
              "</style>\n",
              "<table border=\"1\" class=\"dataframe\">\n",
              "  <thead>\n",
              "    <tr style=\"text-align: right;\">\n",
              "      <th></th>\n",
              "      <th>class</th>\n",
              "      <th>id</th>\n",
              "      <th>date</th>\n",
              "      <th>query</th>\n",
              "      <th>user</th>\n",
              "      <th>text</th>\n",
              "      <th>cleaned_text</th>\n",
              "    </tr>\n",
              "  </thead>\n",
              "  <tbody>\n",
              "    <tr>\n",
              "      <th>0</th>\n",
              "      <td>0</td>\n",
              "      <td>1467810369</td>\n",
              "      <td>Mon Apr 06 22:19:45 PDT 2009</td>\n",
              "      <td>NO_QUERY</td>\n",
              "      <td>_TheSpecialOne_</td>\n",
              "      <td>@switchfoot http://twitpic.com/2y1zl - Awww, t...</td>\n",
              "      <td>switchfoot awww bummer shoulda david carr thir...</td>\n",
              "    </tr>\n",
              "    <tr>\n",
              "      <th>1</th>\n",
              "      <td>0</td>\n",
              "      <td>1467810672</td>\n",
              "      <td>Mon Apr 06 22:19:49 PDT 2009</td>\n",
              "      <td>NO_QUERY</td>\n",
              "      <td>scotthamilton</td>\n",
              "      <td>is upset that he can't update his Facebook by ...</td>\n",
              "      <td>upset cant update facebook texting cry result ...</td>\n",
              "    </tr>\n",
              "    <tr>\n",
              "      <th>2</th>\n",
              "      <td>0</td>\n",
              "      <td>1467810917</td>\n",
              "      <td>Mon Apr 06 22:19:53 PDT 2009</td>\n",
              "      <td>NO_QUERY</td>\n",
              "      <td>mattycus</td>\n",
              "      <td>@Kenichan I dived many times for the ball. Man...</td>\n",
              "      <td>kenichan dived times ball managed save 50 rest...</td>\n",
              "    </tr>\n",
              "    <tr>\n",
              "      <th>3</th>\n",
              "      <td>0</td>\n",
              "      <td>1467811184</td>\n",
              "      <td>Mon Apr 06 22:19:57 PDT 2009</td>\n",
              "      <td>NO_QUERY</td>\n",
              "      <td>ElleCTF</td>\n",
              "      <td>my whole body feels itchy and like its on fire</td>\n",
              "      <td>body feels itchy fire</td>\n",
              "    </tr>\n",
              "    <tr>\n",
              "      <th>4</th>\n",
              "      <td>0</td>\n",
              "      <td>1467811193</td>\n",
              "      <td>Mon Apr 06 22:19:57 PDT 2009</td>\n",
              "      <td>NO_QUERY</td>\n",
              "      <td>Karoli</td>\n",
              "      <td>@nationwideclass no, it's not behaving at all....</td>\n",
              "      <td>nationwideclass behaving mad cant</td>\n",
              "    </tr>\n",
              "  </tbody>\n",
              "</table>\n",
              "</div>"
            ],
            "text/plain": [
              "   class  ...                                       cleaned_text\n",
              "0      0  ...  switchfoot awww bummer shoulda david carr thir...\n",
              "1      0  ...  upset cant update facebook texting cry result ...\n",
              "2      0  ...  kenichan dived times ball managed save 50 rest...\n",
              "3      0  ...                              body feels itchy fire\n",
              "4      0  ...                  nationwideclass behaving mad cant\n",
              "\n",
              "[5 rows x 7 columns]"
            ]
          },
          "metadata": {
            "tags": []
          },
          "execution_count": 6
        }
      ]
    },
    {
      "cell_type": "markdown",
      "metadata": {
        "id": "AD9fq1Rw5Jas",
        "colab_type": "text"
      },
      "source": [
        "# Exploratory analysis"
      ]
    },
    {
      "cell_type": "markdown",
      "metadata": {
        "id": "Hf-R3KjOHf_A",
        "colab_type": "text"
      },
      "source": [
        "Hash Tag Strategy:\n",
        "1.Find the single word after @ and # symbol:these two symbols are always followed with topic name or party leader account, which can be used to identify the party that the tweet belongs to.\n",
        "2.Select the words that each party is represented and combine them into three lists.\n",
        "3.Tokenize the tweets into list of tokens and match the tokens with the party key word list to identify the party.\n",
        "4.Count the number of each party's apperence in the same tweet and mark the tweet with the party name that occured the most, and if no party token appeared in the tweet, just mark it as none."
      ]
    },
    {
      "cell_type": "code",
      "metadata": {
        "id": "nE2p5bWybQC0",
        "colab_type": "code",
        "colab": {}
      },
      "source": [
        "def hashTag(election_TW):\n",
        "  conservative=['conservatives','andrewscheer','cpc','cpc_hq','conservative','lyingandy',\"harper\", \"steven\"]\n",
        "  liberal=['lpc','justintrudeau','liberal_party','liberal','teamtrudeau','trudeau', 'justin','trudeaumustgo']\n",
        "  ndp=['emilietaman','thejagmeetsingh','ndp','uprisingh',\"orange\",\"quebec\",\"tommulcair\",\"mulcair\",\"ptndp\",\"ready4change\"]\n",
        "  hashTag_list=[]\n",
        "  index=0\n",
        "  for word in election_TW:\n",
        "    tag=' '.join(re.findall(r'(?<=#)[^\\s]+\\s?',word))#find word after #\n",
        "    tagLabel=tag.split()\n",
        "    at=' '.join(re.findall(r'(?<=@)[^\\s]+\\s?',word))#find word after @\n",
        "    atLabel=tag.split()\n",
        "    tagList=tagLabel+atLabel#join two list together\n",
        "\n",
        "    count_liberal=0\n",
        "    count_conservative=0\n",
        "    count_ndp=0\n",
        "    for item in tagList:#count the number of each party afteer symbol\n",
        "      if item in conservative:\n",
        "        count_conservative+=1\n",
        "      if item in liberal:\n",
        "        count_liberal+=1\n",
        "      if item in ndp:\n",
        "        count_ndp+=1\n",
        "    \n",
        "    tokenizer=RegexpTokenizer(r'\\w+')#tokenize the tweet and search for same tokens\n",
        "    word_list=tokenizer.tokenize(word)\n",
        "    if (set(word_list) & set(liberal)):\n",
        "      for i in word_list:\n",
        "        if i in liberal:\n",
        "          count_liberal+=1\n",
        "\n",
        "    if (set(word_list) & set(conservative)):\n",
        "      for i in word_list:\n",
        "        if i in conservative:\n",
        "          count_conservative+=1\n",
        "      \n",
        "    if (set(word_list) & set(ndp)):\n",
        "      for i in word_list:\n",
        "        if i in ndp:\n",
        "          count_ndp+=1\n",
        "          \n",
        "    if count_liberal==0 and count_conservative==0 and count_ndp==0: \n",
        "      hashTag_list.append('none')\n",
        "      continue\n",
        "    most_Count=max(count_liberal,count_conservative,count_ndp)\n",
        "    if count_liberal==most_Count:\n",
        "      hashTag_list.append('liberal')\n",
        "      continue\n",
        "    if count_conservative==most_Count:\n",
        "      hashTag_list.append('conservative')\n",
        "      continue\n",
        "    if count_ndp==most_Count:\n",
        "      hashTag_list.append('ndp')\n",
        "      continue\n",
        "  return hashTag_list\n",
        "      "
      ],
      "execution_count": 0,
      "outputs": []
    },
    {
      "cell_type": "code",
      "metadata": {
        "id": "wurT8Ef5LFXH",
        "colab_type": "code",
        "colab": {}
      },
      "source": [
        "election_tweets['text']=election_tweets['text'].str.lower()\n",
        "election_TW=election_tweets['text'].values"
      ],
      "execution_count": 0,
      "outputs": []
    },
    {
      "cell_type": "code",
      "metadata": {
        "id": "Ii4evRLdMi8D",
        "colab_type": "code",
        "colab": {}
      },
      "source": [
        "partyLabel=hashTag(election_TW)\n",
        "election_tweets['party']=partyLabel"
      ],
      "execution_count": 0,
      "outputs": []
    },
    {
      "cell_type": "code",
      "metadata": {
        "id": "0OdfL5LES7m0",
        "colab_type": "code",
        "outputId": "e59a041c-5bb1-4752-9e33-b82425eee052",
        "colab": {
          "base_uri": "https://localhost:8080/",
          "height": 669
        }
      },
      "source": [
        "election_tweets.head(20)"
      ],
      "execution_count": 0,
      "outputs": [
        {
          "output_type": "execute_result",
          "data": {
            "text/html": [
              "<div>\n",
              "<style scoped>\n",
              "    .dataframe tbody tr th:only-of-type {\n",
              "        vertical-align: middle;\n",
              "    }\n",
              "\n",
              "    .dataframe tbody tr th {\n",
              "        vertical-align: top;\n",
              "    }\n",
              "\n",
              "    .dataframe thead th {\n",
              "        text-align: right;\n",
              "    }\n",
              "</style>\n",
              "<table border=\"1\" class=\"dataframe\">\n",
              "  <thead>\n",
              "    <tr style=\"text-align: right;\">\n",
              "      <th></th>\n",
              "      <th>sentiment</th>\n",
              "      <th>negative_reason</th>\n",
              "      <th>text</th>\n",
              "      <th>party</th>\n",
              "    </tr>\n",
              "  </thead>\n",
              "  <tbody>\n",
              "    <tr>\n",
              "      <th>0</th>\n",
              "      <td>negative</td>\n",
              "      <td>Women Reproductive right and Racism</td>\n",
              "      <td>b\"@rosiebarton so instead of your suggestion, ...</td>\n",
              "      <td>conservative</td>\n",
              "    </tr>\n",
              "    <tr>\n",
              "      <th>1</th>\n",
              "      <td>positive</td>\n",
              "      <td>NaN</td>\n",
              "      <td>b\"#allwomanspacewalk it's real!\\n@space_statio...</td>\n",
              "      <td>none</td>\n",
              "    </tr>\n",
              "    <tr>\n",
              "      <th>2</th>\n",
              "      <td>negative</td>\n",
              "      <td>Economy</td>\n",
              "      <td>b\"#brantford it's going to cost you $94 billio...</td>\n",
              "      <td>liberal</td>\n",
              "    </tr>\n",
              "    <tr>\n",
              "      <th>3</th>\n",
              "      <td>positive</td>\n",
              "      <td>NaN</td>\n",
              "      <td>b\"#canada #canadaelection2019 #canadavotes \\n#...</td>\n",
              "      <td>none</td>\n",
              "    </tr>\n",
              "    <tr>\n",
              "      <th>4</th>\n",
              "      <td>negative</td>\n",
              "      <td>Economy</td>\n",
              "      <td>b\"#canada #taxpayers are sick &amp;amp; tired of h...</td>\n",
              "      <td>liberal</td>\n",
              "    </tr>\n",
              "    <tr>\n",
              "      <th>5</th>\n",
              "      <td>negative</td>\n",
              "      <td>Others</td>\n",
              "      <td>b\"#canadavotes2019 #elxn43 #cdnpoli - facts - ...</td>\n",
              "      <td>conservative</td>\n",
              "    </tr>\n",
              "    <tr>\n",
              "      <th>6</th>\n",
              "      <td>positive</td>\n",
              "      <td>NaN</td>\n",
              "      <td>b\"#cdnmedia #elxn43 #cdnpoli #ppc rocky dong h...</td>\n",
              "      <td>none</td>\n",
              "    </tr>\n",
              "    <tr>\n",
              "      <th>7</th>\n",
              "      <td>positive</td>\n",
              "      <td>NaN</td>\n",
              "      <td>b\"#cdnpoli #elxn43 the liberals ++ more than d...</td>\n",
              "      <td>ndp</td>\n",
              "    </tr>\n",
              "    <tr>\n",
              "      <th>8</th>\n",
              "      <td>negative</td>\n",
              "      <td>Others</td>\n",
              "      <td>b\"#chooseforward #cdnpoli #elxn43\\ncanada, don...</td>\n",
              "      <td>none</td>\n",
              "    </tr>\n",
              "    <tr>\n",
              "      <th>9</th>\n",
              "      <td>negative</td>\n",
              "      <td>Scandal</td>\n",
              "      <td>b\"#cpckinsellagate\\nlet's see the receipts. wh...</td>\n",
              "      <td>none</td>\n",
              "    </tr>\n",
              "    <tr>\n",
              "      <th>10</th>\n",
              "      <td>positive</td>\n",
              "      <td>NaN</td>\n",
              "      <td>b\"#elxn43 is two days away. if you're voting o...</td>\n",
              "      <td>none</td>\n",
              "    </tr>\n",
              "    <tr>\n",
              "      <th>11</th>\n",
              "      <td>positive</td>\n",
              "      <td>NaN</td>\n",
              "      <td>b\"#elxn43 prediction: if justin trudeau's #lpc...</td>\n",
              "      <td>liberal</td>\n",
              "    </tr>\n",
              "    <tr>\n",
              "      <th>12</th>\n",
              "      <td>positive</td>\n",
              "      <td>NaN</td>\n",
              "      <td>b\"#icymi - #analysis - how will ford nation re...</td>\n",
              "      <td>none</td>\n",
              "    </tr>\n",
              "    <tr>\n",
              "      <th>13</th>\n",
              "      <td>positive</td>\n",
              "      <td>NaN</td>\n",
              "      <td>b\"#icymi - #analysis - how will ford nation re...</td>\n",
              "      <td>none</td>\n",
              "    </tr>\n",
              "    <tr>\n",
              "      <th>14</th>\n",
              "      <td>negative</td>\n",
              "      <td>Others</td>\n",
              "      <td>b\"#kinsella runs deep w #cpc...both he and #ly...</td>\n",
              "      <td>conservative</td>\n",
              "    </tr>\n",
              "    <tr>\n",
              "      <th>15</th>\n",
              "      <td>negative</td>\n",
              "      <td>Tell lies</td>\n",
              "      <td>b\"#lyingandy has a history of not answering em...</td>\n",
              "      <td>conservative</td>\n",
              "    </tr>\n",
              "    <tr>\n",
              "      <th>16</th>\n",
              "      <td>positive</td>\n",
              "      <td>NaN</td>\n",
              "      <td>b\"#threadalert \\nhere's a study sheet for an u...</td>\n",
              "      <td>none</td>\n",
              "    </tr>\n",
              "    <tr>\n",
              "      <th>17</th>\n",
              "      <td>positive</td>\n",
              "      <td>NaN</td>\n",
              "      <td>b\"#uprisingh i'm definitely looking forward to...</td>\n",
              "      <td>ndp</td>\n",
              "    </tr>\n",
              "    <tr>\n",
              "      <th>18</th>\n",
              "      <td>positive</td>\n",
              "      <td>NaN</td>\n",
              "      <td>b\"#uptoyouth #cdnpoli #elxn43 today's youth ar...</td>\n",
              "      <td>none</td>\n",
              "    </tr>\n",
              "    <tr>\n",
              "      <th>19</th>\n",
              "      <td>negative</td>\n",
              "      <td>Scandal</td>\n",
              "      <td>b\"*urgent* please watch this video by david ha...</td>\n",
              "      <td>conservative</td>\n",
              "    </tr>\n",
              "  </tbody>\n",
              "</table>\n",
              "</div>"
            ],
            "text/plain": [
              "   sentiment  ...         party\n",
              "0   negative  ...  conservative\n",
              "1   positive  ...          none\n",
              "2   negative  ...       liberal\n",
              "3   positive  ...          none\n",
              "4   negative  ...       liberal\n",
              "5   negative  ...  conservative\n",
              "6   positive  ...          none\n",
              "7   positive  ...           ndp\n",
              "8   negative  ...          none\n",
              "9   negative  ...          none\n",
              "10  positive  ...          none\n",
              "11  positive  ...       liberal\n",
              "12  positive  ...          none\n",
              "13  positive  ...          none\n",
              "14  negative  ...  conservative\n",
              "15  negative  ...  conservative\n",
              "16  positive  ...          none\n",
              "17  positive  ...           ndp\n",
              "18  positive  ...          none\n",
              "19  negative  ...  conservative\n",
              "\n",
              "[20 rows x 4 columns]"
            ]
          },
          "metadata": {
            "tags": []
          },
          "execution_count": 14
        }
      ]
    },
    {
      "cell_type": "code",
      "metadata": {
        "id": "7JY98LS7cNg0",
        "colab_type": "code",
        "outputId": "b64238ed-8666-40d3-effc-c8b9e9f58a49",
        "colab": {
          "base_uri": "https://localhost:8080/",
          "height": 34
        }
      },
      "source": [
        "k=' '.join(re.findall(r'(?<=#)[^\\s]+\\s?','#@data #daim dafad'))\n",
        "print(k.split())"
      ],
      "execution_count": 0,
      "outputs": [
        {
          "output_type": "stream",
          "text": [
            "['@data', 'daim']\n"
          ],
          "name": "stdout"
        }
      ]
    },
    {
      "cell_type": "code",
      "metadata": {
        "id": "-lyz6QYOU_2c",
        "colab_type": "code",
        "outputId": "d8279b16-d5c7-43c1-b8af-0e635529a89a",
        "colab": {
          "base_uri": "https://localhost:8080/",
          "height": 102
        }
      },
      "source": [
        "election_tweets['party'].value_counts()"
      ],
      "execution_count": 0,
      "outputs": [
        {
          "output_type": "execute_result",
          "data": {
            "text/plain": [
              "none            1142\n",
              "liberal          419\n",
              "conservative     409\n",
              "ndp              163\n",
              "Name: party, dtype: int64"
            ]
          },
          "metadata": {
            "tags": []
          },
          "execution_count": 16
        }
      ]
    },
    {
      "cell_type": "markdown",
      "metadata": {
        "id": "he8Rh3VWhOuf",
        "colab_type": "text"
      },
      "source": [
        "# Graph & Plots"
      ]
    },
    {
      "cell_type": "code",
      "metadata": {
        "id": "fzCMwz3nhXrU",
        "colab_type": "code",
        "outputId": "9e68f04f-50a3-4721-a0e8-8a3fc3caee21",
        "colab": {
          "base_uri": "https://localhost:8080/",
          "height": 295
        }
      },
      "source": [
        "plt.hist(election_tweets['party'], bins=10, edgecolor='black')\n",
        "plt.title(\"Canada Election Parties Tweets\")\n",
        "plt.xlabel(\"Political Party\")\n",
        "plt.ylabel(\"Number of Samples\")\n",
        "plt.show()"
      ],
      "execution_count": 0,
      "outputs": [
        {
          "output_type": "display_data",
          "data": {
            "image/png": "[encoded data removed]",
            "text/plain": [
              "<Figure size 432x288 with 1 Axes>"
            ]
          },
          "metadata": {
            "tags": []
          }
        }
      ]
    },
    {
      "cell_type": "markdown",
      "metadata": {
        "id": "cvZqBEaaK82t",
        "colab_type": "text"
      },
      "source": [
        "The above graph shows the relation between the name of each political party and their related tweet number. From the graph we can see that the majority of the tweets does not have information related to any party, in addition to that the liberal and conservative are basically the same in number and both of them are more hot discussed than ndp."
      ]
    },
    {
      "cell_type": "code",
      "metadata": {
        "id": "Yn5HUhKhiLrt",
        "colab_type": "code",
        "outputId": "f444c9d0-22d0-43f0-f0ad-dbc4b09b51bd",
        "colab": {
          "base_uri": "https://localhost:8080/",
          "height": 611
        }
      },
      "source": [
        "liberal_Tweets=election_tweets.loc[election_tweets['party']=='liberal','text']\n",
        "c2=DataCleaner(stop_words)\n",
        "result_liberal_Tweets=c2.clean(liberal_Tweets)\n",
        "liberal_Tweets=result_liberal_Tweets.values\n",
        "liberal_Tweets=' '.join(liberal_Tweets)\n",
        "wordcloud = WordCloud(width = 2000, height = 1000).generate(liberal_Tweets)\n",
        "\n",
        "plt.figure(figsize=(20,10))\n",
        "plt.imshow(wordcloud, interpolation='bilinear')\n",
        "plt.title('Keywords of Tweets about Liberal')\n",
        "plt.axis(\"off\")\n",
        "plt.show()"
      ],
      "execution_count": 0,
      "outputs": [
        {
          "output_type": "display_data",
          "data": {
            "image/png": "[encoded data removed]",
            "text/plain": [
              "<Figure size 1440x720 with 1 Axes>"
            ]
          },
          "metadata": {
            "tags": []
          }
        }
      ]
    },
    {
      "cell_type": "markdown",
      "metadata": {
        "id": "3s7WgLm9O8oe",
        "colab_type": "text"
      },
      "source": [
        "The top ranked words about liberal party."
      ]
    },
    {
      "cell_type": "markdown",
      "metadata": {
        "id": "EWa_oqDqqh8s",
        "colab_type": "text"
      },
      "source": [
        "#Model Preparation"
      ]
    },
    {
      "cell_type": "markdown",
      "metadata": {
        "id": "YlOuTDyWPNGq",
        "colab_type": "text"
      },
      "source": [
        "To encode the tweets into numerical values, I used two methods, tf_idf and bag of words(term frequency).\n",
        "To implement tfidf, I used sklearn TfidfVectorizer which first vectorize the tweets using CounterVectorize then calculate the tf_idf score, to limit the dimension of feature space I limit the maximum number of features to 2000 then sum the tfidf score of words after that rank the words and select the top 500 word as features. \n",
        "For bag of words model, I simply count the number of each word and select the top 500 most common words as features, then jusge if a word appears in the tweet to vectorize the feature."
      ]
    },
    {
      "cell_type": "code",
      "metadata": {
        "id": "VGk9Y36pqyjs",
        "colab_type": "code",
        "colab": {}
      },
      "source": [
        "cleanTweets=generic_tweets['cleaned_text']"
      ],
      "execution_count": 0,
      "outputs": []
    },
    {
      "cell_type": "code",
      "metadata": {
        "id": "9Qzeru0uNFFp",
        "colab_type": "code",
        "colab": {}
      },
      "source": [
        "def getTfidfFeatures(cleanTweets):\n",
        "  #vectorize feature and sum \n",
        "  tfidfV = TfidfVectorizer(max_features=2000)\n",
        "  train_tfidf = tfidfV.fit_transform(cleanTweets)\n",
        "  tfIdfSum=train_tfidf.sum(axis=0)\n",
        "  featureNames=tfidfV.get_feature_names()\n",
        "  #build feature dataframe\n",
        "  featureDF=pd.DataFrame(tfIdfSum, columns=featureNames)\n",
        "  train_tfidf=train_tfidf.toarray()\n",
        "  rawDF=pd.DataFrame(train_tfidf, columns=featureNames)\n",
        "  #rank feature by tf idf score\n",
        "  featureDF=featureDF.sort_values(by=0,axis=1,ascending=True)#not '0'!!!just 0\n",
        "  extractedFeatures=featureDF[featureDF.columns[-500:]]\n",
        "  realFeatureNames=extractedFeatures.columns\n",
        "  rawDF=rawDF.loc[:,realFeatureNames]\n",
        "  return rawDF"
      ],
      "execution_count": 0,
      "outputs": []
    },
    {
      "cell_type": "code",
      "metadata": {
        "id": "2l4t-OuHNmYG",
        "colab_type": "code",
        "colab": {}
      },
      "source": [
        "tfidf_FeatureDF=getTfidfFeatures(cleanTweets)"
      ],
      "execution_count": 0,
      "outputs": []
    },
    {
      "cell_type": "code",
      "metadata": {
        "id": "yqARwtQSN1Yf",
        "colab_type": "code",
        "outputId": "e2e0c6c6-f120-4810-96d0-033841d4a824",
        "colab": {
          "base_uri": "https://localhost:8080/",
          "height": 253
        }
      },
      "source": [
        "tfidf_FeatureDF.head()"
      ],
      "execution_count": 0,
      "outputs": [
        {
          "output_type": "execute_result",
          "data": {
            "text/html": [
              "<div>\n",
              "<style scoped>\n",
              "    .dataframe tbody tr th:only-of-type {\n",
              "        vertical-align: middle;\n",
              "    }\n",
              "\n",
              "    .dataframe tbody tr th {\n",
              "        vertical-align: top;\n",
              "    }\n",
              "\n",
              "    .dataframe thead th {\n",
              "        text-align: right;\n",
              "    }\n",
              "</style>\n",
              "<table border=\"1\" class=\"dataframe\">\n",
              "  <thead>\n",
              "    <tr style=\"text-align: right;\">\n",
              "      <th></th>\n",
              "      <th>spend</th>\n",
              "      <th>prom</th>\n",
              "      <th>absolutely</th>\n",
              "      <th>plan</th>\n",
              "      <th>spent</th>\n",
              "      <th>100</th>\n",
              "      <th>fb</th>\n",
              "      <th>longer</th>\n",
              "      <th>easter</th>\n",
              "      <th>fell</th>\n",
              "      <th>shame</th>\n",
              "      <th>lil</th>\n",
              "      <th>mum</th>\n",
              "      <th>learn</th>\n",
              "      <th>myspace</th>\n",
              "      <th>xxx</th>\n",
              "      <th>horrible</th>\n",
              "      <th>story</th>\n",
              "      <th>worse</th>\n",
              "      <th>pictures</th>\n",
              "      <th>warm</th>\n",
              "      <th>jonas</th>\n",
              "      <th>tickets</th>\n",
              "      <th>sat</th>\n",
              "      <th>youve</th>\n",
              "      <th>store</th>\n",
              "      <th>chance</th>\n",
              "      <th>point</th>\n",
              "      <th>upset</th>\n",
              "      <th>lazy</th>\n",
              "      <th>fair</th>\n",
              "      <th>hanging</th>\n",
              "      <th>hows</th>\n",
              "      <th>bet</th>\n",
              "      <th>three</th>\n",
              "      <th>exams</th>\n",
              "      <th>nap</th>\n",
              "      <th>worst</th>\n",
              "      <th>ice</th>\n",
              "      <th>ppl</th>\n",
              "      <th>...</th>\n",
              "      <th>gon</th>\n",
              "      <th>week</th>\n",
              "      <th>hey</th>\n",
              "      <th>hate</th>\n",
              "      <th>ive</th>\n",
              "      <th>yeah</th>\n",
              "      <th>better</th>\n",
              "      <th>tonight</th>\n",
              "      <th>watching</th>\n",
              "      <th>school</th>\n",
              "      <th>bad</th>\n",
              "      <th>bed</th>\n",
              "      <th>happy</th>\n",
              "      <th>didnt</th>\n",
              "      <th>nice</th>\n",
              "      <th>haha</th>\n",
              "      <th>sad</th>\n",
              "      <th>feel</th>\n",
              "      <th>fun</th>\n",
              "      <th>ill</th>\n",
              "      <th>amp</th>\n",
              "      <th>tomorrow</th>\n",
              "      <th>sleep</th>\n",
              "      <th>hope</th>\n",
              "      <th>great</th>\n",
              "      <th>twitter</th>\n",
              "      <th>morning</th>\n",
              "      <th>well</th>\n",
              "      <th>night</th>\n",
              "      <th>will</th>\n",
              "      <th>lol</th>\n",
              "      <th>time</th>\n",
              "      <th>cant</th>\n",
              "      <th>today</th>\n",
              "      <th>love</th>\n",
              "      <th>going</th>\n",
              "      <th>dont</th>\n",
              "      <th>work</th>\n",
              "      <th>day</th>\n",
              "      <th>good</th>\n",
              "    </tr>\n",
              "  </thead>\n",
              "  <tbody>\n",
              "    <tr>\n",
              "      <th>0</th>\n",
              "      <td>0.0</td>\n",
              "      <td>0.0</td>\n",
              "      <td>0.0</td>\n",
              "      <td>0.0</td>\n",
              "      <td>0.0</td>\n",
              "      <td>0.0</td>\n",
              "      <td>0.0</td>\n",
              "      <td>0.0</td>\n",
              "      <td>0.0</td>\n",
              "      <td>0.0</td>\n",
              "      <td>0.0</td>\n",
              "      <td>0.0</td>\n",
              "      <td>0.0</td>\n",
              "      <td>0.0</td>\n",
              "      <td>0.0</td>\n",
              "      <td>0.0</td>\n",
              "      <td>0.0</td>\n",
              "      <td>0.0</td>\n",
              "      <td>0.0</td>\n",
              "      <td>0.0</td>\n",
              "      <td>0.0</td>\n",
              "      <td>0.0</td>\n",
              "      <td>0.0</td>\n",
              "      <td>0.0</td>\n",
              "      <td>0.0</td>\n",
              "      <td>0.0</td>\n",
              "      <td>0.0</td>\n",
              "      <td>0.0</td>\n",
              "      <td>0.000000</td>\n",
              "      <td>0.0</td>\n",
              "      <td>0.0</td>\n",
              "      <td>0.0</td>\n",
              "      <td>0.0</td>\n",
              "      <td>0.0</td>\n",
              "      <td>0.0</td>\n",
              "      <td>0.0</td>\n",
              "      <td>0.0</td>\n",
              "      <td>0.0</td>\n",
              "      <td>0.0</td>\n",
              "      <td>0.0</td>\n",
              "      <td>...</td>\n",
              "      <td>0.0</td>\n",
              "      <td>0.0</td>\n",
              "      <td>0.0</td>\n",
              "      <td>0.0</td>\n",
              "      <td>0.0</td>\n",
              "      <td>0.0</td>\n",
              "      <td>0.0</td>\n",
              "      <td>0.0</td>\n",
              "      <td>0.0</td>\n",
              "      <td>0.000000</td>\n",
              "      <td>0.0</td>\n",
              "      <td>0.0</td>\n",
              "      <td>0.0</td>\n",
              "      <td>0.0</td>\n",
              "      <td>0.0</td>\n",
              "      <td>0.0</td>\n",
              "      <td>0.0</td>\n",
              "      <td>0.0</td>\n",
              "      <td>0.0</td>\n",
              "      <td>0.0</td>\n",
              "      <td>0.0</td>\n",
              "      <td>0.0</td>\n",
              "      <td>0.0</td>\n",
              "      <td>0.0</td>\n",
              "      <td>0.0</td>\n",
              "      <td>0.0</td>\n",
              "      <td>0.0</td>\n",
              "      <td>0.0</td>\n",
              "      <td>0.0</td>\n",
              "      <td>0.0</td>\n",
              "      <td>0.0</td>\n",
              "      <td>0.0</td>\n",
              "      <td>0.000000</td>\n",
              "      <td>0.000000</td>\n",
              "      <td>0.0</td>\n",
              "      <td>0.0</td>\n",
              "      <td>0.0</td>\n",
              "      <td>0.0</td>\n",
              "      <td>0.246362</td>\n",
              "      <td>0.0</td>\n",
              "    </tr>\n",
              "    <tr>\n",
              "      <th>1</th>\n",
              "      <td>0.0</td>\n",
              "      <td>0.0</td>\n",
              "      <td>0.0</td>\n",
              "      <td>0.0</td>\n",
              "      <td>0.0</td>\n",
              "      <td>0.0</td>\n",
              "      <td>0.0</td>\n",
              "      <td>0.0</td>\n",
              "      <td>0.0</td>\n",
              "      <td>0.0</td>\n",
              "      <td>0.0</td>\n",
              "      <td>0.0</td>\n",
              "      <td>0.0</td>\n",
              "      <td>0.0</td>\n",
              "      <td>0.0</td>\n",
              "      <td>0.0</td>\n",
              "      <td>0.0</td>\n",
              "      <td>0.0</td>\n",
              "      <td>0.0</td>\n",
              "      <td>0.0</td>\n",
              "      <td>0.0</td>\n",
              "      <td>0.0</td>\n",
              "      <td>0.0</td>\n",
              "      <td>0.0</td>\n",
              "      <td>0.0</td>\n",
              "      <td>0.0</td>\n",
              "      <td>0.0</td>\n",
              "      <td>0.0</td>\n",
              "      <td>0.336383</td>\n",
              "      <td>0.0</td>\n",
              "      <td>0.0</td>\n",
              "      <td>0.0</td>\n",
              "      <td>0.0</td>\n",
              "      <td>0.0</td>\n",
              "      <td>0.0</td>\n",
              "      <td>0.0</td>\n",
              "      <td>0.0</td>\n",
              "      <td>0.0</td>\n",
              "      <td>0.0</td>\n",
              "      <td>0.0</td>\n",
              "      <td>...</td>\n",
              "      <td>0.0</td>\n",
              "      <td>0.0</td>\n",
              "      <td>0.0</td>\n",
              "      <td>0.0</td>\n",
              "      <td>0.0</td>\n",
              "      <td>0.0</td>\n",
              "      <td>0.0</td>\n",
              "      <td>0.0</td>\n",
              "      <td>0.0</td>\n",
              "      <td>0.239162</td>\n",
              "      <td>0.0</td>\n",
              "      <td>0.0</td>\n",
              "      <td>0.0</td>\n",
              "      <td>0.0</td>\n",
              "      <td>0.0</td>\n",
              "      <td>0.0</td>\n",
              "      <td>0.0</td>\n",
              "      <td>0.0</td>\n",
              "      <td>0.0</td>\n",
              "      <td>0.0</td>\n",
              "      <td>0.0</td>\n",
              "      <td>0.0</td>\n",
              "      <td>0.0</td>\n",
              "      <td>0.0</td>\n",
              "      <td>0.0</td>\n",
              "      <td>0.0</td>\n",
              "      <td>0.0</td>\n",
              "      <td>0.0</td>\n",
              "      <td>0.0</td>\n",
              "      <td>0.0</td>\n",
              "      <td>0.0</td>\n",
              "      <td>0.0</td>\n",
              "      <td>0.194180</td>\n",
              "      <td>0.191824</td>\n",
              "      <td>0.0</td>\n",
              "      <td>0.0</td>\n",
              "      <td>0.0</td>\n",
              "      <td>0.0</td>\n",
              "      <td>0.000000</td>\n",
              "      <td>0.0</td>\n",
              "    </tr>\n",
              "    <tr>\n",
              "      <th>2</th>\n",
              "      <td>0.0</td>\n",
              "      <td>0.0</td>\n",
              "      <td>0.0</td>\n",
              "      <td>0.0</td>\n",
              "      <td>0.0</td>\n",
              "      <td>0.0</td>\n",
              "      <td>0.0</td>\n",
              "      <td>0.0</td>\n",
              "      <td>0.0</td>\n",
              "      <td>0.0</td>\n",
              "      <td>0.0</td>\n",
              "      <td>0.0</td>\n",
              "      <td>0.0</td>\n",
              "      <td>0.0</td>\n",
              "      <td>0.0</td>\n",
              "      <td>0.0</td>\n",
              "      <td>0.0</td>\n",
              "      <td>0.0</td>\n",
              "      <td>0.0</td>\n",
              "      <td>0.0</td>\n",
              "      <td>0.0</td>\n",
              "      <td>0.0</td>\n",
              "      <td>0.0</td>\n",
              "      <td>0.0</td>\n",
              "      <td>0.0</td>\n",
              "      <td>0.0</td>\n",
              "      <td>0.0</td>\n",
              "      <td>0.0</td>\n",
              "      <td>0.000000</td>\n",
              "      <td>0.0</td>\n",
              "      <td>0.0</td>\n",
              "      <td>0.0</td>\n",
              "      <td>0.0</td>\n",
              "      <td>0.0</td>\n",
              "      <td>0.0</td>\n",
              "      <td>0.0</td>\n",
              "      <td>0.0</td>\n",
              "      <td>0.0</td>\n",
              "      <td>0.0</td>\n",
              "      <td>0.0</td>\n",
              "      <td>...</td>\n",
              "      <td>0.0</td>\n",
              "      <td>0.0</td>\n",
              "      <td>0.0</td>\n",
              "      <td>0.0</td>\n",
              "      <td>0.0</td>\n",
              "      <td>0.0</td>\n",
              "      <td>0.0</td>\n",
              "      <td>0.0</td>\n",
              "      <td>0.0</td>\n",
              "      <td>0.000000</td>\n",
              "      <td>0.0</td>\n",
              "      <td>0.0</td>\n",
              "      <td>0.0</td>\n",
              "      <td>0.0</td>\n",
              "      <td>0.0</td>\n",
              "      <td>0.0</td>\n",
              "      <td>0.0</td>\n",
              "      <td>0.0</td>\n",
              "      <td>0.0</td>\n",
              "      <td>0.0</td>\n",
              "      <td>0.0</td>\n",
              "      <td>0.0</td>\n",
              "      <td>0.0</td>\n",
              "      <td>0.0</td>\n",
              "      <td>0.0</td>\n",
              "      <td>0.0</td>\n",
              "      <td>0.0</td>\n",
              "      <td>0.0</td>\n",
              "      <td>0.0</td>\n",
              "      <td>0.0</td>\n",
              "      <td>0.0</td>\n",
              "      <td>0.0</td>\n",
              "      <td>0.000000</td>\n",
              "      <td>0.000000</td>\n",
              "      <td>0.0</td>\n",
              "      <td>0.0</td>\n",
              "      <td>0.0</td>\n",
              "      <td>0.0</td>\n",
              "      <td>0.000000</td>\n",
              "      <td>0.0</td>\n",
              "    </tr>\n",
              "    <tr>\n",
              "      <th>3</th>\n",
              "      <td>0.0</td>\n",
              "      <td>0.0</td>\n",
              "      <td>0.0</td>\n",
              "      <td>0.0</td>\n",
              "      <td>0.0</td>\n",
              "      <td>0.0</td>\n",
              "      <td>0.0</td>\n",
              "      <td>0.0</td>\n",
              "      <td>0.0</td>\n",
              "      <td>0.0</td>\n",
              "      <td>0.0</td>\n",
              "      <td>0.0</td>\n",
              "      <td>0.0</td>\n",
              "      <td>0.0</td>\n",
              "      <td>0.0</td>\n",
              "      <td>0.0</td>\n",
              "      <td>0.0</td>\n",
              "      <td>0.0</td>\n",
              "      <td>0.0</td>\n",
              "      <td>0.0</td>\n",
              "      <td>0.0</td>\n",
              "      <td>0.0</td>\n",
              "      <td>0.0</td>\n",
              "      <td>0.0</td>\n",
              "      <td>0.0</td>\n",
              "      <td>0.0</td>\n",
              "      <td>0.0</td>\n",
              "      <td>0.0</td>\n",
              "      <td>0.000000</td>\n",
              "      <td>0.0</td>\n",
              "      <td>0.0</td>\n",
              "      <td>0.0</td>\n",
              "      <td>0.0</td>\n",
              "      <td>0.0</td>\n",
              "      <td>0.0</td>\n",
              "      <td>0.0</td>\n",
              "      <td>0.0</td>\n",
              "      <td>0.0</td>\n",
              "      <td>0.0</td>\n",
              "      <td>0.0</td>\n",
              "      <td>...</td>\n",
              "      <td>0.0</td>\n",
              "      <td>0.0</td>\n",
              "      <td>0.0</td>\n",
              "      <td>0.0</td>\n",
              "      <td>0.0</td>\n",
              "      <td>0.0</td>\n",
              "      <td>0.0</td>\n",
              "      <td>0.0</td>\n",
              "      <td>0.0</td>\n",
              "      <td>0.000000</td>\n",
              "      <td>0.0</td>\n",
              "      <td>0.0</td>\n",
              "      <td>0.0</td>\n",
              "      <td>0.0</td>\n",
              "      <td>0.0</td>\n",
              "      <td>0.0</td>\n",
              "      <td>0.0</td>\n",
              "      <td>0.0</td>\n",
              "      <td>0.0</td>\n",
              "      <td>0.0</td>\n",
              "      <td>0.0</td>\n",
              "      <td>0.0</td>\n",
              "      <td>0.0</td>\n",
              "      <td>0.0</td>\n",
              "      <td>0.0</td>\n",
              "      <td>0.0</td>\n",
              "      <td>0.0</td>\n",
              "      <td>0.0</td>\n",
              "      <td>0.0</td>\n",
              "      <td>0.0</td>\n",
              "      <td>0.0</td>\n",
              "      <td>0.0</td>\n",
              "      <td>0.000000</td>\n",
              "      <td>0.000000</td>\n",
              "      <td>0.0</td>\n",
              "      <td>0.0</td>\n",
              "      <td>0.0</td>\n",
              "      <td>0.0</td>\n",
              "      <td>0.000000</td>\n",
              "      <td>0.0</td>\n",
              "    </tr>\n",
              "    <tr>\n",
              "      <th>4</th>\n",
              "      <td>0.0</td>\n",
              "      <td>0.0</td>\n",
              "      <td>0.0</td>\n",
              "      <td>0.0</td>\n",
              "      <td>0.0</td>\n",
              "      <td>0.0</td>\n",
              "      <td>0.0</td>\n",
              "      <td>0.0</td>\n",
              "      <td>0.0</td>\n",
              "      <td>0.0</td>\n",
              "      <td>0.0</td>\n",
              "      <td>0.0</td>\n",
              "      <td>0.0</td>\n",
              "      <td>0.0</td>\n",
              "      <td>0.0</td>\n",
              "      <td>0.0</td>\n",
              "      <td>0.0</td>\n",
              "      <td>0.0</td>\n",
              "      <td>0.0</td>\n",
              "      <td>0.0</td>\n",
              "      <td>0.0</td>\n",
              "      <td>0.0</td>\n",
              "      <td>0.0</td>\n",
              "      <td>0.0</td>\n",
              "      <td>0.0</td>\n",
              "      <td>0.0</td>\n",
              "      <td>0.0</td>\n",
              "      <td>0.0</td>\n",
              "      <td>0.000000</td>\n",
              "      <td>0.0</td>\n",
              "      <td>0.0</td>\n",
              "      <td>0.0</td>\n",
              "      <td>0.0</td>\n",
              "      <td>0.0</td>\n",
              "      <td>0.0</td>\n",
              "      <td>0.0</td>\n",
              "      <td>0.0</td>\n",
              "      <td>0.0</td>\n",
              "      <td>0.0</td>\n",
              "      <td>0.0</td>\n",
              "      <td>...</td>\n",
              "      <td>0.0</td>\n",
              "      <td>0.0</td>\n",
              "      <td>0.0</td>\n",
              "      <td>0.0</td>\n",
              "      <td>0.0</td>\n",
              "      <td>0.0</td>\n",
              "      <td>0.0</td>\n",
              "      <td>0.0</td>\n",
              "      <td>0.0</td>\n",
              "      <td>0.000000</td>\n",
              "      <td>0.0</td>\n",
              "      <td>0.0</td>\n",
              "      <td>0.0</td>\n",
              "      <td>0.0</td>\n",
              "      <td>0.0</td>\n",
              "      <td>0.0</td>\n",
              "      <td>0.0</td>\n",
              "      <td>0.0</td>\n",
              "      <td>0.0</td>\n",
              "      <td>0.0</td>\n",
              "      <td>0.0</td>\n",
              "      <td>0.0</td>\n",
              "      <td>0.0</td>\n",
              "      <td>0.0</td>\n",
              "      <td>0.0</td>\n",
              "      <td>0.0</td>\n",
              "      <td>0.0</td>\n",
              "      <td>0.0</td>\n",
              "      <td>0.0</td>\n",
              "      <td>0.0</td>\n",
              "      <td>0.0</td>\n",
              "      <td>0.0</td>\n",
              "      <td>0.507962</td>\n",
              "      <td>0.000000</td>\n",
              "      <td>0.0</td>\n",
              "      <td>0.0</td>\n",
              "      <td>0.0</td>\n",
              "      <td>0.0</td>\n",
              "      <td>0.000000</td>\n",
              "      <td>0.0</td>\n",
              "    </tr>\n",
              "  </tbody>\n",
              "</table>\n",
              "<p>5 rows × 500 columns</p>\n",
              "</div>"
            ],
            "text/plain": [
              "   spend  prom  absolutely  plan  spent  ...  going  dont  work       day  good\n",
              "0    0.0   0.0         0.0   0.0    0.0  ...    0.0   0.0   0.0  0.246362   0.0\n",
              "1    0.0   0.0         0.0   0.0    0.0  ...    0.0   0.0   0.0  0.000000   0.0\n",
              "2    0.0   0.0         0.0   0.0    0.0  ...    0.0   0.0   0.0  0.000000   0.0\n",
              "3    0.0   0.0         0.0   0.0    0.0  ...    0.0   0.0   0.0  0.000000   0.0\n",
              "4    0.0   0.0         0.0   0.0    0.0  ...    0.0   0.0   0.0  0.000000   0.0\n",
              "\n",
              "[5 rows x 500 columns]"
            ]
          },
          "metadata": {
            "tags": []
          },
          "execution_count": 22
        }
      ]
    },
    {
      "cell_type": "code",
      "metadata": {
        "id": "tpmzK54PJMPD",
        "colab_type": "code",
        "colab": {}
      },
      "source": [
        "genericLabels=generic_tweets['class']\n",
        "genericLabels=genericLabels.replace(4,1)"
      ],
      "execution_count": 0,
      "outputs": []
    },
    {
      "cell_type": "code",
      "metadata": {
        "id": "ppntO-d7KOeM",
        "colab_type": "code",
        "outputId": "3fa3065d-ca47-473e-f881-5b5fba769709",
        "colab": {
          "base_uri": "https://localhost:8080/",
          "height": 34
        }
      },
      "source": [
        "genericLabels.unique()"
      ],
      "execution_count": 0,
      "outputs": [
        {
          "output_type": "execute_result",
          "data": {
            "text/plain": [
              "array([0, 1])"
            ]
          },
          "metadata": {
            "tags": []
          },
          "execution_count": 24
        }
      ]
    },
    {
      "cell_type": "code",
      "metadata": {
        "id": "4iPKe7aLLUKq",
        "colab_type": "code",
        "colab": {}
      },
      "source": [
        "def getBogData(twArray,k):\n",
        "  counter=Counter()\n",
        "  np_array= []\n",
        "  for item in twArray:\n",
        "    counter.update([word for word in re.findall(r'\\w+', item)]) #if word not in noise_word\n",
        "    \n",
        "    # select most frequent k features            \n",
        "  topk = counter.most_common(k) \n",
        "  nameList=[]\n",
        "  for item in topk:\n",
        "    nameList.append(item[0])\n",
        "  print('finish')\n",
        "  for item in twArray:\n",
        "    tempCounter = Counter([word for word in re.findall(r'\\w+', item)] )\n",
        "            # if the word appears in the doc, then count the frequency, else 0\n",
        "    topkintweet = [tempCounter[word] if tempCounter[word] > 0 else 0 for (word,wordCount) in topk]\n",
        "            # create a list for top k words with encoded target and its label\n",
        "    np_array.append(topkintweet)\n",
        "  feature_df = pd.DataFrame(np_array,columns=nameList)\n",
        "  return feature_df"
      ],
      "execution_count": 0,
      "outputs": []
    },
    {
      "cell_type": "code",
      "metadata": {
        "id": "Cujb8-9iOOxI",
        "colab_type": "code",
        "outputId": "72c04eec-d057-42ac-a166-60e8b2c5fe60",
        "colab": {
          "base_uri": "https://localhost:8080/",
          "height": 34
        }
      },
      "source": [
        "twArray=generic_tweets['cleaned_text'].values\n",
        "bogDF=getBogData(twArray,500)"
      ],
      "execution_count": 0,
      "outputs": [
        {
          "output_type": "stream",
          "text": [
            "finish\n"
          ],
          "name": "stdout"
        }
      ]
    },
    {
      "cell_type": "code",
      "metadata": {
        "id": "Jnv-4_xlOmWY",
        "colab_type": "code",
        "outputId": "61a579ab-6ec1-46bb-ac86-58a6f1f6adcc",
        "colab": {
          "base_uri": "https://localhost:8080/",
          "height": 253
        }
      },
      "source": [
        "bogDF.head()"
      ],
      "execution_count": 0,
      "outputs": [
        {
          "output_type": "execute_result",
          "data": {
            "text/html": [
              "<div>\n",
              "<style scoped>\n",
              "    .dataframe tbody tr th:only-of-type {\n",
              "        vertical-align: middle;\n",
              "    }\n",
              "\n",
              "    .dataframe tbody tr th {\n",
              "        vertical-align: top;\n",
              "    }\n",
              "\n",
              "    .dataframe thead th {\n",
              "        text-align: right;\n",
              "    }\n",
              "</style>\n",
              "<table border=\"1\" class=\"dataframe\">\n",
              "  <thead>\n",
              "    <tr style=\"text-align: right;\">\n",
              "      <th></th>\n",
              "      <th>good</th>\n",
              "      <th>day</th>\n",
              "      <th>work</th>\n",
              "      <th>going</th>\n",
              "      <th>dont</th>\n",
              "      <th>today</th>\n",
              "      <th>cant</th>\n",
              "      <th>love</th>\n",
              "      <th>time</th>\n",
              "      <th>will</th>\n",
              "      <th>lol</th>\n",
              "      <th>night</th>\n",
              "      <th>well</th>\n",
              "      <th>morning</th>\n",
              "      <th>amp</th>\n",
              "      <th>twitter</th>\n",
              "      <th>2</th>\n",
              "      <th>great</th>\n",
              "      <th>tomorrow</th>\n",
              "      <th>hope</th>\n",
              "      <th>sleep</th>\n",
              "      <th>ill</th>\n",
              "      <th>feel</th>\n",
              "      <th>fun</th>\n",
              "      <th>didnt</th>\n",
              "      <th>haha</th>\n",
              "      <th>sad</th>\n",
              "      <th>nice</th>\n",
              "      <th>happy</th>\n",
              "      <th>bad</th>\n",
              "      <th>bed</th>\n",
              "      <th>ive</th>\n",
              "      <th>school</th>\n",
              "      <th>better</th>\n",
              "      <th>tonight</th>\n",
              "      <th>watching</th>\n",
              "      <th>week</th>\n",
              "      <th>gon</th>\n",
              "      <th>people</th>\n",
              "      <th>wait</th>\n",
              "      <th>...</th>\n",
              "      <th>yep</th>\n",
              "      <th>asot400</th>\n",
              "      <th>broken</th>\n",
              "      <th>message</th>\n",
              "      <th>easy</th>\n",
              "      <th>30</th>\n",
              "      <th>tickets</th>\n",
              "      <th>lil</th>\n",
              "      <th>jonas</th>\n",
              "      <th>figure</th>\n",
              "      <th>wolverine</th>\n",
              "      <th>chance</th>\n",
              "      <th>xxx</th>\n",
              "      <th>sat</th>\n",
              "      <th>lonely</th>\n",
              "      <th>nap</th>\n",
              "      <th>youve</th>\n",
              "      <th>1st</th>\n",
              "      <th>website</th>\n",
              "      <th>worst</th>\n",
              "      <th>team</th>\n",
              "      <th>lazy</th>\n",
              "      <th>tweeting</th>\n",
              "      <th>word</th>\n",
              "      <th>worse</th>\n",
              "      <th>smile</th>\n",
              "      <th>photo</th>\n",
              "      <th>inside</th>\n",
              "      <th>understand</th>\n",
              "      <th>episode</th>\n",
              "      <th>myspace</th>\n",
              "      <th>exams</th>\n",
              "      <th>story</th>\n",
              "      <th>bank</th>\n",
              "      <th>huge</th>\n",
              "      <th>david</th>\n",
              "      <th>hows</th>\n",
              "      <th>upset</th>\n",
              "      <th>fb</th>\n",
              "      <th>warm</th>\n",
              "    </tr>\n",
              "  </thead>\n",
              "  <tbody>\n",
              "    <tr>\n",
              "      <th>0</th>\n",
              "      <td>0</td>\n",
              "      <td>1</td>\n",
              "      <td>0</td>\n",
              "      <td>0</td>\n",
              "      <td>0</td>\n",
              "      <td>0</td>\n",
              "      <td>0</td>\n",
              "      <td>0</td>\n",
              "      <td>0</td>\n",
              "      <td>0</td>\n",
              "      <td>0</td>\n",
              "      <td>0</td>\n",
              "      <td>0</td>\n",
              "      <td>0</td>\n",
              "      <td>0</td>\n",
              "      <td>0</td>\n",
              "      <td>0</td>\n",
              "      <td>0</td>\n",
              "      <td>0</td>\n",
              "      <td>0</td>\n",
              "      <td>0</td>\n",
              "      <td>0</td>\n",
              "      <td>0</td>\n",
              "      <td>0</td>\n",
              "      <td>0</td>\n",
              "      <td>0</td>\n",
              "      <td>0</td>\n",
              "      <td>0</td>\n",
              "      <td>0</td>\n",
              "      <td>0</td>\n",
              "      <td>0</td>\n",
              "      <td>0</td>\n",
              "      <td>0</td>\n",
              "      <td>0</td>\n",
              "      <td>0</td>\n",
              "      <td>0</td>\n",
              "      <td>0</td>\n",
              "      <td>0</td>\n",
              "      <td>0</td>\n",
              "      <td>0</td>\n",
              "      <td>...</td>\n",
              "      <td>0</td>\n",
              "      <td>0</td>\n",
              "      <td>0</td>\n",
              "      <td>0</td>\n",
              "      <td>0</td>\n",
              "      <td>0</td>\n",
              "      <td>0</td>\n",
              "      <td>0</td>\n",
              "      <td>0</td>\n",
              "      <td>0</td>\n",
              "      <td>0</td>\n",
              "      <td>0</td>\n",
              "      <td>0</td>\n",
              "      <td>0</td>\n",
              "      <td>0</td>\n",
              "      <td>0</td>\n",
              "      <td>0</td>\n",
              "      <td>0</td>\n",
              "      <td>0</td>\n",
              "      <td>0</td>\n",
              "      <td>0</td>\n",
              "      <td>0</td>\n",
              "      <td>0</td>\n",
              "      <td>0</td>\n",
              "      <td>0</td>\n",
              "      <td>0</td>\n",
              "      <td>0</td>\n",
              "      <td>0</td>\n",
              "      <td>0</td>\n",
              "      <td>0</td>\n",
              "      <td>0</td>\n",
              "      <td>0</td>\n",
              "      <td>0</td>\n",
              "      <td>0</td>\n",
              "      <td>0</td>\n",
              "      <td>1</td>\n",
              "      <td>0</td>\n",
              "      <td>0</td>\n",
              "      <td>0</td>\n",
              "      <td>0</td>\n",
              "    </tr>\n",
              "    <tr>\n",
              "      <th>1</th>\n",
              "      <td>0</td>\n",
              "      <td>0</td>\n",
              "      <td>0</td>\n",
              "      <td>0</td>\n",
              "      <td>0</td>\n",
              "      <td>1</td>\n",
              "      <td>1</td>\n",
              "      <td>0</td>\n",
              "      <td>0</td>\n",
              "      <td>0</td>\n",
              "      <td>0</td>\n",
              "      <td>0</td>\n",
              "      <td>0</td>\n",
              "      <td>0</td>\n",
              "      <td>0</td>\n",
              "      <td>0</td>\n",
              "      <td>0</td>\n",
              "      <td>0</td>\n",
              "      <td>0</td>\n",
              "      <td>0</td>\n",
              "      <td>0</td>\n",
              "      <td>0</td>\n",
              "      <td>0</td>\n",
              "      <td>0</td>\n",
              "      <td>0</td>\n",
              "      <td>0</td>\n",
              "      <td>0</td>\n",
              "      <td>0</td>\n",
              "      <td>0</td>\n",
              "      <td>0</td>\n",
              "      <td>0</td>\n",
              "      <td>0</td>\n",
              "      <td>1</td>\n",
              "      <td>0</td>\n",
              "      <td>0</td>\n",
              "      <td>0</td>\n",
              "      <td>0</td>\n",
              "      <td>0</td>\n",
              "      <td>0</td>\n",
              "      <td>0</td>\n",
              "      <td>...</td>\n",
              "      <td>0</td>\n",
              "      <td>0</td>\n",
              "      <td>0</td>\n",
              "      <td>0</td>\n",
              "      <td>0</td>\n",
              "      <td>0</td>\n",
              "      <td>0</td>\n",
              "      <td>0</td>\n",
              "      <td>0</td>\n",
              "      <td>0</td>\n",
              "      <td>0</td>\n",
              "      <td>0</td>\n",
              "      <td>0</td>\n",
              "      <td>0</td>\n",
              "      <td>0</td>\n",
              "      <td>0</td>\n",
              "      <td>0</td>\n",
              "      <td>0</td>\n",
              "      <td>0</td>\n",
              "      <td>0</td>\n",
              "      <td>0</td>\n",
              "      <td>0</td>\n",
              "      <td>0</td>\n",
              "      <td>0</td>\n",
              "      <td>0</td>\n",
              "      <td>0</td>\n",
              "      <td>0</td>\n",
              "      <td>0</td>\n",
              "      <td>0</td>\n",
              "      <td>0</td>\n",
              "      <td>0</td>\n",
              "      <td>0</td>\n",
              "      <td>0</td>\n",
              "      <td>0</td>\n",
              "      <td>0</td>\n",
              "      <td>0</td>\n",
              "      <td>0</td>\n",
              "      <td>1</td>\n",
              "      <td>0</td>\n",
              "      <td>0</td>\n",
              "    </tr>\n",
              "    <tr>\n",
              "      <th>2</th>\n",
              "      <td>0</td>\n",
              "      <td>0</td>\n",
              "      <td>0</td>\n",
              "      <td>0</td>\n",
              "      <td>0</td>\n",
              "      <td>0</td>\n",
              "      <td>0</td>\n",
              "      <td>0</td>\n",
              "      <td>0</td>\n",
              "      <td>0</td>\n",
              "      <td>0</td>\n",
              "      <td>0</td>\n",
              "      <td>0</td>\n",
              "      <td>0</td>\n",
              "      <td>0</td>\n",
              "      <td>0</td>\n",
              "      <td>0</td>\n",
              "      <td>0</td>\n",
              "      <td>0</td>\n",
              "      <td>0</td>\n",
              "      <td>0</td>\n",
              "      <td>0</td>\n",
              "      <td>0</td>\n",
              "      <td>0</td>\n",
              "      <td>0</td>\n",
              "      <td>0</td>\n",
              "      <td>0</td>\n",
              "      <td>0</td>\n",
              "      <td>0</td>\n",
              "      <td>0</td>\n",
              "      <td>0</td>\n",
              "      <td>0</td>\n",
              "      <td>0</td>\n",
              "      <td>0</td>\n",
              "      <td>0</td>\n",
              "      <td>0</td>\n",
              "      <td>0</td>\n",
              "      <td>0</td>\n",
              "      <td>0</td>\n",
              "      <td>0</td>\n",
              "      <td>...</td>\n",
              "      <td>0</td>\n",
              "      <td>0</td>\n",
              "      <td>0</td>\n",
              "      <td>0</td>\n",
              "      <td>0</td>\n",
              "      <td>0</td>\n",
              "      <td>0</td>\n",
              "      <td>0</td>\n",
              "      <td>0</td>\n",
              "      <td>0</td>\n",
              "      <td>0</td>\n",
              "      <td>0</td>\n",
              "      <td>0</td>\n",
              "      <td>0</td>\n",
              "      <td>0</td>\n",
              "      <td>0</td>\n",
              "      <td>0</td>\n",
              "      <td>0</td>\n",
              "      <td>0</td>\n",
              "      <td>0</td>\n",
              "      <td>0</td>\n",
              "      <td>0</td>\n",
              "      <td>0</td>\n",
              "      <td>0</td>\n",
              "      <td>0</td>\n",
              "      <td>0</td>\n",
              "      <td>0</td>\n",
              "      <td>0</td>\n",
              "      <td>0</td>\n",
              "      <td>0</td>\n",
              "      <td>0</td>\n",
              "      <td>0</td>\n",
              "      <td>0</td>\n",
              "      <td>0</td>\n",
              "      <td>0</td>\n",
              "      <td>0</td>\n",
              "      <td>0</td>\n",
              "      <td>0</td>\n",
              "      <td>0</td>\n",
              "      <td>0</td>\n",
              "    </tr>\n",
              "    <tr>\n",
              "      <th>3</th>\n",
              "      <td>0</td>\n",
              "      <td>0</td>\n",
              "      <td>0</td>\n",
              "      <td>0</td>\n",
              "      <td>0</td>\n",
              "      <td>0</td>\n",
              "      <td>0</td>\n",
              "      <td>0</td>\n",
              "      <td>0</td>\n",
              "      <td>0</td>\n",
              "      <td>0</td>\n",
              "      <td>0</td>\n",
              "      <td>0</td>\n",
              "      <td>0</td>\n",
              "      <td>0</td>\n",
              "      <td>0</td>\n",
              "      <td>0</td>\n",
              "      <td>0</td>\n",
              "      <td>0</td>\n",
              "      <td>0</td>\n",
              "      <td>0</td>\n",
              "      <td>0</td>\n",
              "      <td>0</td>\n",
              "      <td>0</td>\n",
              "      <td>0</td>\n",
              "      <td>0</td>\n",
              "      <td>0</td>\n",
              "      <td>0</td>\n",
              "      <td>0</td>\n",
              "      <td>0</td>\n",
              "      <td>0</td>\n",
              "      <td>0</td>\n",
              "      <td>0</td>\n",
              "      <td>0</td>\n",
              "      <td>0</td>\n",
              "      <td>0</td>\n",
              "      <td>0</td>\n",
              "      <td>0</td>\n",
              "      <td>0</td>\n",
              "      <td>0</td>\n",
              "      <td>...</td>\n",
              "      <td>0</td>\n",
              "      <td>0</td>\n",
              "      <td>0</td>\n",
              "      <td>0</td>\n",
              "      <td>0</td>\n",
              "      <td>0</td>\n",
              "      <td>0</td>\n",
              "      <td>0</td>\n",
              "      <td>0</td>\n",
              "      <td>0</td>\n",
              "      <td>0</td>\n",
              "      <td>0</td>\n",
              "      <td>0</td>\n",
              "      <td>0</td>\n",
              "      <td>0</td>\n",
              "      <td>0</td>\n",
              "      <td>0</td>\n",
              "      <td>0</td>\n",
              "      <td>0</td>\n",
              "      <td>0</td>\n",
              "      <td>0</td>\n",
              "      <td>0</td>\n",
              "      <td>0</td>\n",
              "      <td>0</td>\n",
              "      <td>0</td>\n",
              "      <td>0</td>\n",
              "      <td>0</td>\n",
              "      <td>0</td>\n",
              "      <td>0</td>\n",
              "      <td>0</td>\n",
              "      <td>0</td>\n",
              "      <td>0</td>\n",
              "      <td>0</td>\n",
              "      <td>0</td>\n",
              "      <td>0</td>\n",
              "      <td>0</td>\n",
              "      <td>0</td>\n",
              "      <td>0</td>\n",
              "      <td>0</td>\n",
              "      <td>0</td>\n",
              "    </tr>\n",
              "    <tr>\n",
              "      <th>4</th>\n",
              "      <td>0</td>\n",
              "      <td>0</td>\n",
              "      <td>0</td>\n",
              "      <td>0</td>\n",
              "      <td>0</td>\n",
              "      <td>0</td>\n",
              "      <td>1</td>\n",
              "      <td>0</td>\n",
              "      <td>0</td>\n",
              "      <td>0</td>\n",
              "      <td>0</td>\n",
              "      <td>0</td>\n",
              "      <td>0</td>\n",
              "      <td>0</td>\n",
              "      <td>0</td>\n",
              "      <td>0</td>\n",
              "      <td>0</td>\n",
              "      <td>0</td>\n",
              "      <td>0</td>\n",
              "      <td>0</td>\n",
              "      <td>0</td>\n",
              "      <td>0</td>\n",
              "      <td>0</td>\n",
              "      <td>0</td>\n",
              "      <td>0</td>\n",
              "      <td>0</td>\n",
              "      <td>0</td>\n",
              "      <td>0</td>\n",
              "      <td>0</td>\n",
              "      <td>0</td>\n",
              "      <td>0</td>\n",
              "      <td>0</td>\n",
              "      <td>0</td>\n",
              "      <td>0</td>\n",
              "      <td>0</td>\n",
              "      <td>0</td>\n",
              "      <td>0</td>\n",
              "      <td>0</td>\n",
              "      <td>0</td>\n",
              "      <td>0</td>\n",
              "      <td>...</td>\n",
              "      <td>0</td>\n",
              "      <td>0</td>\n",
              "      <td>0</td>\n",
              "      <td>0</td>\n",
              "      <td>0</td>\n",
              "      <td>0</td>\n",
              "      <td>0</td>\n",
              "      <td>0</td>\n",
              "      <td>0</td>\n",
              "      <td>0</td>\n",
              "      <td>0</td>\n",
              "      <td>0</td>\n",
              "      <td>0</td>\n",
              "      <td>0</td>\n",
              "      <td>0</td>\n",
              "      <td>0</td>\n",
              "      <td>0</td>\n",
              "      <td>0</td>\n",
              "      <td>0</td>\n",
              "      <td>0</td>\n",
              "      <td>0</td>\n",
              "      <td>0</td>\n",
              "      <td>0</td>\n",
              "      <td>0</td>\n",
              "      <td>0</td>\n",
              "      <td>0</td>\n",
              "      <td>0</td>\n",
              "      <td>0</td>\n",
              "      <td>0</td>\n",
              "      <td>0</td>\n",
              "      <td>0</td>\n",
              "      <td>0</td>\n",
              "      <td>0</td>\n",
              "      <td>0</td>\n",
              "      <td>0</td>\n",
              "      <td>0</td>\n",
              "      <td>0</td>\n",
              "      <td>0</td>\n",
              "      <td>0</td>\n",
              "      <td>0</td>\n",
              "    </tr>\n",
              "  </tbody>\n",
              "</table>\n",
              "<p>5 rows × 500 columns</p>\n",
              "</div>"
            ],
            "text/plain": [
              "   good  day  work  going  dont  today  ...  huge  david  hows  upset  fb  warm\n",
              "0     0    1     0      0     0      0  ...     0      1     0      0   0     0\n",
              "1     0    0     0      0     0      1  ...     0      0     0      1   0     0\n",
              "2     0    0     0      0     0      0  ...     0      0     0      0   0     0\n",
              "3     0    0     0      0     0      0  ...     0      0     0      0   0     0\n",
              "4     0    0     0      0     0      0  ...     0      0     0      0   0     0\n",
              "\n",
              "[5 rows x 500 columns]"
            ]
          },
          "metadata": {
            "tags": []
          },
          "execution_count": 27
        }
      ]
    },
    {
      "cell_type": "markdown",
      "metadata": {
        "id": "yeaMdXafUFyP",
        "colab_type": "text"
      },
      "source": [
        "#Model Implementation & Results"
      ]
    },
    {
      "cell_type": "code",
      "metadata": {
        "id": "MU8kGW_1XSgy",
        "colab_type": "code",
        "colab": {}
      },
      "source": [
        "from sklearn.linear_model import LogisticRegression\n",
        "from sklearn.naive_bayes import GaussianNB\n",
        "from sklearn.neighbors import KNeighborsClassifier\n",
        "from sklearn.svm import LinearSVC\n",
        "from sklearn.tree import DecisionTreeClassifier\n",
        "from  sklearn.ensemble import RandomForestClassifier,GradientBoostingClassifier\n",
        "import xgboost as xgb\n",
        "from sklearn.metrics import mean_squared_error\n",
        "from sklearn import metrics"
      ],
      "execution_count": 0,
      "outputs": []
    },
    {
      "cell_type": "code",
      "metadata": {
        "id": "T1Jk7XKsXIWh",
        "colab_type": "code",
        "colab": {}
      },
      "source": [
        "import scipy.stats\n",
        "from math import sqrt\n",
        "def mean_confidence_interval(data, confidence=0.95):\n",
        "    a = 1.0*np.array(data)\n",
        "    n = len(a)\n",
        "    mu,sd = np.mean(a),np.std(a)\n",
        "    z = scipy.stats.t.ppf(confidence, n)\n",
        "    h=z*sd/sqrt(n)\n",
        "    return mu, h"
      ],
      "execution_count": 0,
      "outputs": []
    },
    {
      "cell_type": "markdown",
      "metadata": {
        "id": "Fdyn8wlRSDEY",
        "colab_type": "text"
      },
      "source": [
        "splite the dataset into train and test with ratio of 0.7 to 0.3"
      ]
    },
    {
      "cell_type": "code",
      "metadata": {
        "id": "4H3Yxbr4ZUFE",
        "colab_type": "code",
        "colab": {}
      },
      "source": [
        "tfidf_trainData,tfidf_testData,tfidf_trainLabel,tfidf_testLabel=train_test_split(tfidf_FeatureDF, genericLabels, test_size=0.3)\n",
        "bog_trainData,bog_testData,bog_trainLabel,bog_testLabel=train_test_split(bogDF, genericLabels, test_size=0.3)"
      ],
      "execution_count": 0,
      "outputs": []
    },
    {
      "cell_type": "code",
      "metadata": {
        "id": "69ha-dOHYsvH",
        "colab_type": "code",
        "colab": {}
      },
      "source": [
        "def Log_Reg(train_data, train_labels, test_data, test_labels):\n",
        "\n",
        "    train_scores = []\n",
        "    test_scores = []\n",
        "    classifier = LogisticRegression()\n",
        "\n",
        "    clfModel = classifier.fit(train_data, train_labels)\n",
        "        # predict using train data\n",
        "    train_target_pred = clfModel.predict(train_data)\n",
        "        # predict using test data\n",
        "    test_target_pred = clfModel.predict(test_data)\n",
        "\n",
        "    train_scores=metrics.accuracy_score(train_labels, train_target_pred)\n",
        "    test_scores=metrics.accuracy_score(test_labels, test_target_pred)   \n",
        "        \n",
        " \n",
        "    return train_scores,test_scores"
      ],
      "execution_count": 0,
      "outputs": []
    },
    {
      "cell_type": "code",
      "metadata": {
        "id": "nz7__s1vawHl",
        "colab_type": "code",
        "outputId": "630c9138-a4d4-4d35-a2fb-b5908476b686",
        "colab": {
          "base_uri": "https://localhost:8080/",
          "height": 105
        }
      },
      "source": [
        "tfLG_train,tfLG_test=Log_Reg(tfidf_trainData, tfidf_trainLabel, tfidf_testData, tfidf_testLabel)\n",
        "bogLG_train,bogLG_test=Log_Reg(bog_trainData, bog_trainLabel, bog_testData, bog_testLabel)"
      ],
      "execution_count": 0,
      "outputs": [
        {
          "output_type": "stream",
          "text": [
            "/usr/local/lib/python3.6/dist-packages/sklearn/linear_model/logistic.py:432: FutureWarning: Default solver will be changed to 'lbfgs' in 0.22. Specify a solver to silence this warning.\n",
            "  FutureWarning)\n",
            "/usr/local/lib/python3.6/dist-packages/sklearn/linear_model/logistic.py:432: FutureWarning: Default solver will be changed to 'lbfgs' in 0.22. Specify a solver to silence this warning.\n",
            "  FutureWarning)\n"
          ],
          "name": "stderr"
        }
      ]
    },
    {
      "cell_type": "code",
      "metadata": {
        "id": "U1kBHkfJbYQZ",
        "colab_type": "code",
        "outputId": "34a97504-bdac-4e2b-80db-b74e2bb064ee",
        "colab": {
          "base_uri": "https://localhost:8080/",
          "height": 34
        }
      },
      "source": [
        "print(tfLG_train,tfLG_test,bogLG_train,bogLG_test)"
      ],
      "execution_count": 0,
      "outputs": [
        {
          "output_type": "stream",
          "text": [
            "0.7003214285714285 0.7006166666666667 0.6998214285714286 0.6977\n"
          ],
          "name": "stdout"
        }
      ]
    },
    {
      "cell_type": "markdown",
      "metadata": {
        "id": "QFFlmGwCSppo",
        "colab_type": "text"
      },
      "source": [
        "From the compare we can see that tf idf is slightly better than bog model, the logistic regression is implemented using sklearn logistic regression classifier."
      ]
    },
    {
      "cell_type": "code",
      "metadata": {
        "id": "D_2I-oeXeAhz",
        "colab_type": "code",
        "colab": {}
      },
      "source": [
        "def nbClassifier(train_data, train_labels, test_data, test_labels):\n",
        "\n",
        "    classifier = GaussianNB()\n",
        "\n",
        "    clfModel = classifier.fit(train_data, train_labels)\n",
        "        # predict using train data\n",
        "    train_target_pred = clfModel.predict(train_data)\n",
        "        # predict using test data\n",
        "    test_target_pred = clfModel.predict(test_data)\n",
        "\n",
        "    train_scores=metrics.accuracy_score(train_labels, train_target_pred)\n",
        "    test_scores=metrics.accuracy_score(test_labels, test_target_pred)   \n",
        "        \n",
        " \n",
        "    return train_scores,test_scores"
      ],
      "execution_count": 0,
      "outputs": []
    },
    {
      "cell_type": "code",
      "metadata": {
        "id": "HJL-Z5oYeOse",
        "colab_type": "code",
        "colab": {}
      },
      "source": [
        "tfNB_train,tfNB_test=nbClassifier(tfidf_trainData, tfidf_trainLabel, tfidf_testData, tfidf_testLabel)\n",
        "bogNB_train,bogNB_test=nbClassifier(bog_trainData, bog_trainLabel, bog_testData, bog_testLabel)"
      ],
      "execution_count": 0,
      "outputs": []
    },
    {
      "cell_type": "code",
      "metadata": {
        "id": "69ousYKgecr1",
        "colab_type": "code",
        "outputId": "17c1f88a-1a27-4a4d-83a6-12e1d7b8e728",
        "colab": {
          "base_uri": "https://localhost:8080/",
          "height": 34
        }
      },
      "source": [
        "print(tfNB_train,tfNB_test,bogNB_train,bogNB_test)"
      ],
      "execution_count": 0,
      "outputs": [
        {
          "output_type": "stream",
          "text": [
            "0.6770142857142857 0.6769833333333334 0.6704642857142857 0.66875\n"
          ],
          "name": "stdout"
        }
      ]
    },
    {
      "cell_type": "code",
      "metadata": {
        "id": "JsydmL5gZinQ",
        "colab_type": "code",
        "colab": {}
      },
      "source": [
        "from sklearn.decomposition import PCA\n",
        "pca = PCA(n_components=200)\n",
        "pca.fit(tfidf_trainData)\n",
        "knnTfidf_trainData = pca.transform(tfidf_trainData)\n",
        "knnTfidf_trainData = pd.DataFrame(knnTfidf_trainData)\n"
      ],
      "execution_count": 0,
      "outputs": []
    },
    {
      "cell_type": "code",
      "metadata": {
        "id": "SOcPfOlJa2sa",
        "colab_type": "code",
        "colab": {}
      },
      "source": [
        "pca.fit(tfidf_testData)\n",
        "knnTfidf_testData = pca.transform(tfidf_testData)\n",
        "knnTfidf_testData = pd.DataFrame(knnTfidf_testData)"
      ],
      "execution_count": 0,
      "outputs": []
    },
    {
      "cell_type": "code",
      "metadata": {
        "id": "EUKUVnuhbGEL",
        "colab_type": "code",
        "colab": {}
      },
      "source": [
        "pca.fit(bog_trainData)\n",
        "knnBog_trainData = pca.transform(bog_trainData)\n",
        "knnBog_trainData = pd.DataFrame(knnBog_trainData)"
      ],
      "execution_count": 0,
      "outputs": []
    },
    {
      "cell_type": "code",
      "metadata": {
        "id": "Wk-LfC80bGx6",
        "colab_type": "code",
        "colab": {}
      },
      "source": [
        "pca.fit(bog_testData)\n",
        "knnBog_testData = pca.transform(bog_testData)\n",
        "knnBog_testData = pd.DataFrame(knnBog_testData)"
      ],
      "execution_count": 0,
      "outputs": []
    },
    {
      "cell_type": "code",
      "metadata": {
        "id": "-exu8JpwaWO_",
        "colab_type": "code",
        "colab": {}
      },
      "source": [
        "knnTfidf_trainData=knnTfidf_trainData[:50000]\n",
        "knnBog_trainData=knnBog_trainData[:50000]\n",
        "knnTfidf_testData=knnTfidf_testData[:500]\n",
        "knnBog_testData=knnBog_testData[:500]\n",
        "\n",
        "knnTfidf_trainLabel=tfidf_trainLabel[:50000]\n",
        "knnBog_trainLabel=bog_trainLabel[:50000]\n",
        "knnTfidf_testLabel=tfidf_testLabel[:500]\n",
        "knnBog_testLabel=bog_testLabel[:500]"
      ],
      "execution_count": 0,
      "outputs": []
    },
    {
      "cell_type": "code",
      "metadata": {
        "id": "4y3-JdZ4hRhc",
        "colab_type": "code",
        "outputId": "9d02c0b8-67b4-4e31-eacc-39a2bd5d0f76",
        "colab": {
          "base_uri": "https://localhost:8080/",
          "height": 34
        }
      },
      "source": [
        "knnBog_testLabel.shape"
      ],
      "execution_count": 0,
      "outputs": [
        {
          "output_type": "execute_result",
          "data": {
            "text/plain": [
              "(500,)"
            ]
          },
          "metadata": {
            "tags": []
          },
          "execution_count": 34
        }
      ]
    },
    {
      "cell_type": "markdown",
      "metadata": {
        "id": "wuuzYToFTBWw",
        "colab_type": "text"
      },
      "source": [
        "From the compare we can see that tf idf is better than bog model, the NB is implemented using sklearn."
      ]
    },
    {
      "cell_type": "code",
      "metadata": {
        "id": "pnpd4L2wlZlJ",
        "colab_type": "code",
        "colab": {}
      },
      "source": [
        "def knnClassifier(train_data, train_labels, test_data, test_labels):\n",
        "\n",
        "    classifier = KNeighborsClassifier(n_neighbors=3)\n",
        "\n",
        "    clfModel = classifier.fit(train_data, train_labels)\n",
        "    print('fit')\n",
        "        # predict using train data\n",
        "    #train_target_pred = clfModel.predict(train_data)\n",
        "    print('train')\n",
        "        # predict using test data\n",
        "    test_target_pred = clfModel.predict(test_data)\n",
        "    print('test')\n",
        "\n",
        "    #train_scores=metrics.accuracy_score(train_labels, train_target_pred)\n",
        "    test_scores=metrics.accuracy_score(test_labels, test_target_pred)   \n",
        "        \n",
        " \n",
        "    return test_scores"
      ],
      "execution_count": 0,
      "outputs": []
    },
    {
      "cell_type": "code",
      "metadata": {
        "id": "hxq9CEcdVYV0",
        "colab_type": "code",
        "outputId": "8a4f5b52-97be-4ee6-98d9-d40351b744e7",
        "colab": {
          "base_uri": "https://localhost:8080/",
          "height": 119
        }
      },
      "source": [
        "tfKNN_test=knnClassifier(knnTfidf_trainData, knnTfidf_trainLabel, knnTfidf_testData, knnTfidf_testLabel)\n",
        "bogKNN_test=knnClassifier(knnBog_trainData, knnBog_trainLabel, knnBog_testData, knnBog_testLabel)"
      ],
      "execution_count": 0,
      "outputs": [
        {
          "output_type": "stream",
          "text": [
            "fit\n",
            "train\n",
            "test\n",
            "fit\n",
            "train\n",
            "test\n"
          ],
          "name": "stdout"
        }
      ]
    },
    {
      "cell_type": "code",
      "metadata": {
        "id": "vH4BVKZUVdz3",
        "colab_type": "code",
        "outputId": "1ae1d6bd-dc2a-488d-be44-10cf3cf6afb5",
        "colab": {
          "base_uri": "https://localhost:8080/",
          "height": 34
        }
      },
      "source": [
        "print(tfKNN_test,bogKNN_test)"
      ],
      "execution_count": 0,
      "outputs": [
        {
          "output_type": "stream",
          "text": [
            "0.532 0.53\n"
          ],
          "name": "stdout"
        }
      ]
    },
    {
      "cell_type": "markdown",
      "metadata": {
        "id": "rdPKaFdziDO2",
        "colab_type": "text"
      },
      "source": [
        "The prediction process of KNN is extremely slow when the dataset is large, to make the runtime reasonable I implemented PCA to reduce the dimension of the training and testing data from 500 to 200, in addition I also reduced size the training dataset and testing dataset. Since we only care about testing accuracy, I selected a testing dataset of 500 data points and omitted the process of calculating the training accuracy."
      ]
    },
    {
      "cell_type": "code",
      "metadata": {
        "id": "yIqWE9lEnED6",
        "colab_type": "code",
        "colab": {}
      },
      "source": [
        "def svmClassfier(train_data, train_labels, test_data, test_labels):\n",
        "    classifier = LinearSVC(random_state=0, tol=1e-5)\n",
        "    clfModel = classifier.fit(train_data, train_labels)\n",
        "    print('fit')\n",
        "        # predict using train data\n",
        "    train_target_pred = clfModel.predict(train_data)\n",
        "    print('train')\n",
        "        # predict using test data\n",
        "    test_target_pred = clfModel.predict(test_data)\n",
        "    print('test')\n",
        "\n",
        "    train_scores=metrics.accuracy_score(train_labels, train_target_pred)\n",
        "    test_scores=metrics.accuracy_score(test_labels, test_target_pred)   \n",
        "        \n",
        " \n",
        "    return train_scores,test_scores"
      ],
      "execution_count": 0,
      "outputs": []
    },
    {
      "cell_type": "code",
      "metadata": {
        "id": "7bPe1m3Mnh3I",
        "colab_type": "code",
        "outputId": "3db1e9a9-74ad-447a-b2aa-15ea9dc2a87a",
        "colab": {
          "base_uri": "https://localhost:8080/",
          "height": 173
        }
      },
      "source": [
        "tfSVM_train,tfSVM_test=svmClassfier(tfidf_trainData, tfidf_trainLabel, tfidf_testData, tfidf_testLabel)\n",
        "bogSVM_train,bogSVM_test=svmClassfier(bog_trainData, bog_trainLabel, bog_testData, bog_testLabel)"
      ],
      "execution_count": 0,
      "outputs": [
        {
          "output_type": "stream",
          "text": [
            "fit\n",
            "train\n",
            "test\n"
          ],
          "name": "stdout"
        },
        {
          "output_type": "stream",
          "text": [
            "/usr/local/lib/python3.6/dist-packages/sklearn/svm/base.py:929: ConvergenceWarning: Liblinear failed to converge, increase the number of iterations.\n",
            "  \"the number of iterations.\", ConvergenceWarning)\n"
          ],
          "name": "stderr"
        },
        {
          "output_type": "stream",
          "text": [
            "fit\n",
            "train\n",
            "test\n"
          ],
          "name": "stdout"
        }
      ]
    },
    {
      "cell_type": "code",
      "metadata": {
        "id": "2T1kK1wSn2X3",
        "colab_type": "code",
        "outputId": "bf7ad8b8-967c-4a6c-81ce-c347c1ebe6f4",
        "colab": {
          "base_uri": "https://localhost:8080/",
          "height": 34
        }
      },
      "source": [
        "print(tfSVM_train,tfSVM_test,bogSVM_train,bogSVM_test)"
      ],
      "execution_count": 0,
      "outputs": [
        {
          "output_type": "stream",
          "text": [
            "0.6996 0.69885 0.6992357142857143 0.69785\n"
          ],
          "name": "stdout"
        }
      ]
    },
    {
      "cell_type": "code",
      "metadata": {
        "id": "QJ2ciDwloVLs",
        "colab_type": "code",
        "colab": {}
      },
      "source": [
        "\n",
        "def DTClassfier(train_data, train_labels, test_data, test_labels):\n",
        "    classifier = DecisionTreeClassifier(random_state=0,max_depth =10)\n",
        "    clfModel = classifier.fit(train_data, train_labels)\n",
        "    print('fit')\n",
        "        # predict using train data\n",
        "    train_target_pred = clfModel.predict(train_data)\n",
        "    print('train')\n",
        "        # predict using test data\n",
        "    test_target_pred = clfModel.predict(test_data)\n",
        "    print('test')\n",
        "\n",
        "    train_scores=metrics.accuracy_score(train_labels, train_target_pred)\n",
        "    test_scores=metrics.accuracy_score(test_labels, test_target_pred)   \n",
        "        \n",
        " \n",
        "    return train_scores,test_scores"
      ],
      "execution_count": 0,
      "outputs": []
    },
    {
      "cell_type": "code",
      "metadata": {
        "id": "fihaRCcgoeY0",
        "colab_type": "code",
        "outputId": "f1fcddf6-8d87-46e6-cf78-d67e447db4f0",
        "colab": {
          "base_uri": "https://localhost:8080/",
          "height": 119
        }
      },
      "source": [
        "tfDT_train,tfDT_test=DTClassfier(tfidf_trainData, tfidf_trainLabel, tfidf_testData, tfidf_testLabel)\n",
        "bogDT_train,bogDT_test=DTClassfier(bog_trainData, bog_trainLabel, bog_testData, bog_testLabel)"
      ],
      "execution_count": 0,
      "outputs": [
        {
          "output_type": "stream",
          "text": [
            "fit\n",
            "train\n",
            "test\n",
            "fit\n",
            "train\n",
            "test\n"
          ],
          "name": "stdout"
        }
      ]
    },
    {
      "cell_type": "code",
      "metadata": {
        "id": "bZhXaQpAoufu",
        "colab_type": "code",
        "outputId": "29b7a7aa-3528-4e6d-9773-017cb1a4212d",
        "colab": {
          "base_uri": "https://localhost:8080/",
          "height": 34
        }
      },
      "source": [
        "print(tfDT_train,tfDT_test,bogDT_train,bogDT_test)"
      ],
      "execution_count": 0,
      "outputs": [
        {
          "output_type": "stream",
          "text": [
            "0.5752 0.56825 0.5819428571428571 0.5776333333333333\n"
          ],
          "name": "stdout"
        }
      ]
    },
    {
      "cell_type": "markdown",
      "metadata": {
        "id": "_h8q3vgpTRix",
        "colab_type": "text"
      },
      "source": [
        "To make the run time reasonable the depth of decision tree is limited to 10."
      ]
    },
    {
      "cell_type": "code",
      "metadata": {
        "id": "Pah3ac_Y-fzc",
        "colab_type": "code",
        "colab": {}
      },
      "source": [
        "def randomForestClassfier(train_data, train_labels, test_data, test_labels):\n",
        "    classifier = RandomForestClassifier(n_estimators=100, max_depth=3, random_state=0)\n",
        "    clfModel = classifier.fit(train_data, train_labels)\n",
        "    print('fit')\n",
        "        # predict using train data\n",
        "    train_target_pred = clfModel.predict(train_data)\n",
        "    print('train')\n",
        "        # predict using test data\n",
        "    test_target_pred = clfModel.predict(test_data)\n",
        "    print('test')\n",
        "\n",
        "    train_scores=metrics.accuracy_score(train_labels, train_target_pred)\n",
        "    test_scores=metrics.accuracy_score(test_labels, test_target_pred)   \n",
        "        \n",
        " \n",
        "    return train_scores,test_scores"
      ],
      "execution_count": 0,
      "outputs": []
    },
    {
      "cell_type": "code",
      "metadata": {
        "id": "KZUihpTT-91q",
        "colab_type": "code",
        "outputId": "3e0fdec0-1a2e-4112-8dd2-37906e0fa743",
        "colab": {
          "base_uri": "https://localhost:8080/",
          "height": 119
        }
      },
      "source": [
        "tfRF_train,tfRF_test=randomForestClassfier(tfidf_trainData, tfidf_trainLabel, tfidf_testData, tfidf_testLabel)\n",
        "bogRF_train,bogRF_test=randomForestClassfier(bog_trainData, bog_trainLabel, bog_testData, bog_testLabel)"
      ],
      "execution_count": 0,
      "outputs": [
        {
          "output_type": "stream",
          "text": [
            "fit\n",
            "train\n",
            "test\n",
            "fit\n",
            "train\n",
            "test\n"
          ],
          "name": "stdout"
        }
      ]
    },
    {
      "cell_type": "code",
      "metadata": {
        "id": "9gvJHgzW_KQZ",
        "colab_type": "code",
        "outputId": "720c3f69-ebff-41e3-ed41-e7c3c2380d07",
        "colab": {
          "base_uri": "https://localhost:8080/",
          "height": 34
        }
      },
      "source": [
        "print(tfRF_train,tfRF_test,bogRF_train,bogRF_test)"
      ],
      "execution_count": 0,
      "outputs": [
        {
          "output_type": "stream",
          "text": [
            "0.6334071428571428 0.62995 0.6445214285714286 0.6442833333333333\n"
          ],
          "name": "stdout"
        }
      ]
    },
    {
      "cell_type": "markdown",
      "metadata": {
        "id": "NwT_sibJTeIU",
        "colab_type": "text"
      },
      "source": [
        "To make the run time reasonable the depth of tree is limited to 3."
      ]
    },
    {
      "cell_type": "code",
      "metadata": {
        "id": "l84Q32vlUTzK",
        "colab_type": "code",
        "colab": {}
      },
      "source": [
        "def XGBoostingClassfier(train_data, train_labels, test_data, test_labels):\n",
        "    model=xgb.XGBClassifier(random_state=1,learning_rate=0.01)\n",
        "    model.fit(train_data, train_labels)\n",
        "    print('fit')\n",
        "        # predict using train data\n",
        "    train_scores=model.score(train_data,train_labels)\n",
        "    test_scores=model.score(test_data,test_labels)\n",
        "    return train_scores,test_scores"
      ],
      "execution_count": 0,
      "outputs": []
    },
    {
      "cell_type": "code",
      "metadata": {
        "id": "9zWaQLd8Uz4c",
        "colab_type": "code",
        "outputId": "152514e4-5cbd-4727-e888-61845001f57d",
        "colab": {
          "base_uri": "https://localhost:8080/",
          "height": 51
        }
      },
      "source": [
        "tfXGB_train,tfXGB_test=XGBoostingClassfier(tfidf_trainData, tfidf_trainLabel, tfidf_testData, tfidf_testLabel)\n",
        "bogXGB_train,bogXGB_test=XGBoostingClassfier(bog_trainData, bog_trainLabel, bog_testData, bog_testLabel)"
      ],
      "execution_count": 0,
      "outputs": [
        {
          "output_type": "stream",
          "text": [
            "fit\n",
            "fit\n"
          ],
          "name": "stdout"
        }
      ]
    },
    {
      "cell_type": "code",
      "metadata": {
        "id": "3iBwDf88WF0A",
        "colab_type": "code",
        "outputId": "8d5d80bd-ce4e-4e5a-8f86-318ca0fb631b",
        "colab": {
          "base_uri": "https://localhost:8080/",
          "height": 34
        }
      },
      "source": [
        "print(tfXGB_train,tfXGB_test,bogXGB_train,bogXGB_test)"
      ],
      "execution_count": 0,
      "outputs": [
        {
          "output_type": "stream",
          "text": [
            "0.5712214285714285 0.56735 0.5703071428571429 0.56975\n"
          ],
          "name": "stdout"
        }
      ]
    },
    {
      "cell_type": "markdown",
      "metadata": {
        "id": "dxw5HwYxWEqh",
        "colab_type": "text"
      },
      "source": [
        "Since the learning rate can significantly influence the run time, I chose 0.01 to make the program terminate within a reasonable time."
      ]
    },
    {
      "cell_type": "markdown",
      "metadata": {
        "id": "LQylCtN6cy3I",
        "colab_type": "text"
      },
      "source": [
        "###results"
      ]
    },
    {
      "cell_type": "markdown",
      "metadata": {
        "id": "R-qiPQYPDT_e",
        "colab_type": "text"
      },
      "source": [
        "Compare the performance of the classification models, we can see that the logistic regression has the best performance among other algorithms. Thus, I will use logistic regression to analyze the 2019 Canadian election."
      ]
    },
    {
      "cell_type": "code",
      "metadata": {
        "id": "w7L3bFvEFYyl",
        "colab_type": "code",
        "colab": {}
      },
      "source": [
        "electionText=election_tweets['text']\n",
        "electionText=electionText.apply(lambda data: nltk.word_tokenize(data))\n",
        "electionText=electionText.apply(lambda x: [item for item in x if item.isalpha()])#select only the alpha chracters\n",
        "electionText=electionText.apply(lambda x: ' '.join(x))\n",
        "election_tweets['text']=electionText"
      ],
      "execution_count": 0,
      "outputs": []
    },
    {
      "cell_type": "code",
      "metadata": {
        "id": "kYHbYTJ9E9Zc",
        "colab_type": "code",
        "outputId": "045480ab-fe42-49ae-e419-6ce3952bf44e",
        "colab": {
          "base_uri": "https://localhost:8080/",
          "height": 359
        }
      },
      "source": [
        "election_tweets.head(10)"
      ],
      "execution_count": 0,
      "outputs": [
        {
          "output_type": "execute_result",
          "data": {
            "text/html": [
              "<div>\n",
              "<style scoped>\n",
              "    .dataframe tbody tr th:only-of-type {\n",
              "        vertical-align: middle;\n",
              "    }\n",
              "\n",
              "    .dataframe tbody tr th {\n",
              "        vertical-align: top;\n",
              "    }\n",
              "\n",
              "    .dataframe thead th {\n",
              "        text-align: right;\n",
              "    }\n",
              "</style>\n",
              "<table border=\"1\" class=\"dataframe\">\n",
              "  <thead>\n",
              "    <tr style=\"text-align: right;\">\n",
              "      <th></th>\n",
              "      <th>sentiment</th>\n",
              "      <th>negative_reason</th>\n",
              "      <th>text</th>\n",
              "      <th>party</th>\n",
              "    </tr>\n",
              "  </thead>\n",
              "  <tbody>\n",
              "    <tr>\n",
              "      <th>0</th>\n",
              "      <td>negative</td>\n",
              "      <td>Women Reproductive right and Racism</td>\n",
              "      <td>b rosiebarton so instead of your suggestion ho...</td>\n",
              "      <td>conservative</td>\n",
              "    </tr>\n",
              "    <tr>\n",
              "      <th>1</th>\n",
              "      <td>positive</td>\n",
              "      <td>NaN</td>\n",
              "      <td>b allwomanspacewalk it real etobicokenorth cit...</td>\n",
              "      <td>none</td>\n",
              "    </tr>\n",
              "    <tr>\n",
              "      <th>2</th>\n",
              "      <td>negative</td>\n",
              "      <td>Economy</td>\n",
              "      <td>b brantford it going to cost you billion for t...</td>\n",
              "      <td>liberal</td>\n",
              "    </tr>\n",
              "    <tr>\n",
              "      <th>3</th>\n",
              "      <td>positive</td>\n",
              "      <td>NaN</td>\n",
              "      <td>b canada canadavotes decide this should help</td>\n",
              "      <td>none</td>\n",
              "    </tr>\n",
              "    <tr>\n",
              "      <th>4</th>\n",
              "      <td>negative</td>\n",
              "      <td>Economy</td>\n",
              "      <td>b canada taxpayers are sick amp tired of havin...</td>\n",
              "      <td>liberal</td>\n",
              "    </tr>\n",
              "    <tr>\n",
              "      <th>5</th>\n",
              "      <td>negative</td>\n",
              "      <td>Others</td>\n",
              "      <td>b cdnpoli facts blastfromthepast in conservati...</td>\n",
              "      <td>conservative</td>\n",
              "    </tr>\n",
              "    <tr>\n",
              "      <th>6</th>\n",
              "      <td>positive</td>\n",
              "      <td>NaN</td>\n",
              "      <td>b cdnmedia cdnpoli ppc rocky dong hands down h...</td>\n",
              "      <td>none</td>\n",
              "    </tr>\n",
              "    <tr>\n",
              "      <th>7</th>\n",
              "      <td>positive</td>\n",
              "      <td>NaN</td>\n",
              "      <td>b cdnpoli the liberals more than double what w...</td>\n",
              "      <td>ndp</td>\n",
              "    </tr>\n",
              "    <tr>\n",
              "      <th>8</th>\n",
              "      <td>negative</td>\n",
              "      <td>Others</td>\n",
              "      <td>b chooseforward cdnpoli do make america mistak...</td>\n",
              "      <td>none</td>\n",
              "    </tr>\n",
              "    <tr>\n",
              "      <th>9</th>\n",
              "      <td>negative</td>\n",
              "      <td>Scandal</td>\n",
              "      <td>b see the receipts who pays warren kinsella to...</td>\n",
              "      <td>none</td>\n",
              "    </tr>\n",
              "  </tbody>\n",
              "</table>\n",
              "</div>"
            ],
            "text/plain": [
              "  sentiment  ...         party\n",
              "0  negative  ...  conservative\n",
              "1  positive  ...          none\n",
              "2  negative  ...       liberal\n",
              "3  positive  ...          none\n",
              "4  negative  ...       liberal\n",
              "5  negative  ...  conservative\n",
              "6  positive  ...          none\n",
              "7  positive  ...           ndp\n",
              "8  negative  ...          none\n",
              "9  negative  ...          none\n",
              "\n",
              "[10 rows x 4 columns]"
            ]
          },
          "metadata": {
            "tags": []
          },
          "execution_count": 52
        }
      ]
    },
    {
      "cell_type": "code",
      "metadata": {
        "id": "wSYubCv5DuLu",
        "colab_type": "code",
        "colab": {}
      },
      "source": [
        "electionText_feature=getTfidfFeatures(election_tweets['text'])#convert election text to tf idf vectorize"
      ],
      "execution_count": 0,
      "outputs": []
    },
    {
      "cell_type": "code",
      "metadata": {
        "id": "jSaWP5gXH6jc",
        "colab_type": "code",
        "outputId": "6b3268a1-a574-4cde-d17c-5656ea017788",
        "colab": {
          "base_uri": "https://localhost:8080/",
          "height": 253
        }
      },
      "source": [
        "electionText_feature.head()"
      ],
      "execution_count": 0,
      "outputs": [
        {
          "output_type": "execute_result",
          "data": {
            "text/html": [
              "<div>\n",
              "<style scoped>\n",
              "    .dataframe tbody tr th:only-of-type {\n",
              "        vertical-align: middle;\n",
              "    }\n",
              "\n",
              "    .dataframe tbody tr th {\n",
              "        vertical-align: top;\n",
              "    }\n",
              "\n",
              "    .dataframe thead th {\n",
              "        text-align: right;\n",
              "    }\n",
              "</style>\n",
              "<table border=\"1\" class=\"dataframe\">\n",
              "  <thead>\n",
              "    <tr style=\"text-align: right;\">\n",
              "      <th></th>\n",
              "      <th>either</th>\n",
              "      <th>yeah</th>\n",
              "      <th>entire</th>\n",
              "      <th>called</th>\n",
              "      <th>scandal</th>\n",
              "      <th>seat</th>\n",
              "      <th>morning</th>\n",
              "      <th>puglaas</th>\n",
              "      <th>values</th>\n",
              "      <th>already</th>\n",
              "      <th>nbpoli</th>\n",
              "      <th>consulting</th>\n",
              "      <th>racist</th>\n",
              "      <th>leaders</th>\n",
              "      <th>using</th>\n",
              "      <th>voter</th>\n",
              "      <th>wants</th>\n",
              "      <th>women</th>\n",
              "      <th>liar</th>\n",
              "      <th>elect</th>\n",
              "      <th>race</th>\n",
              "      <th>hey</th>\n",
              "      <th>postmedia</th>\n",
              "      <th>tax</th>\n",
              "      <th>threatened</th>\n",
              "      <th>blackface</th>\n",
              "      <th>given</th>\n",
              "      <th>looking</th>\n",
              "      <th>failed</th>\n",
              "      <th>winning</th>\n",
              "      <th>forward</th>\n",
              "      <th>enough</th>\n",
              "      <th>stopscheer</th>\n",
              "      <th>democratic</th>\n",
              "      <th>less</th>\n",
              "      <th>sign</th>\n",
              "      <th>mean</th>\n",
              "      <th>listen</th>\n",
              "      <th>peoplespartyofcanada</th>\n",
              "      <th>point</th>\n",
              "      <th>...</th>\n",
              "      <th>they</th>\n",
              "      <th>party</th>\n",
              "      <th>from</th>\n",
              "      <th>who</th>\n",
              "      <th>do</th>\n",
              "      <th>at</th>\n",
              "      <th>scheer</th>\n",
              "      <th>our</th>\n",
              "      <th>will</th>\n",
              "      <th>andrewscheer</th>\n",
              "      <th>amp</th>\n",
              "      <th>chooseforward</th>\n",
              "      <th>as</th>\n",
              "      <th>all</th>\n",
              "      <th>have</th>\n",
              "      <th>election</th>\n",
              "      <th>canada</th>\n",
              "      <th>about</th>\n",
              "      <th>your</th>\n",
              "      <th>be</th>\n",
              "      <th>with</th>\n",
              "      <th>vote</th>\n",
              "      <th>he</th>\n",
              "      <th>not</th>\n",
              "      <th>we</th>\n",
              "      <th>are</th>\n",
              "      <th>it</th>\n",
              "      <th>that</th>\n",
              "      <th>on</th>\n",
              "      <th>this</th>\n",
              "      <th>you</th>\n",
              "      <th>for</th>\n",
              "      <th>in</th>\n",
              "      <th>is</th>\n",
              "      <th>of</th>\n",
              "      <th>and</th>\n",
              "      <th>cdnpoli</th>\n",
              "      <th>to</th>\n",
              "      <th>https</th>\n",
              "      <th>the</th>\n",
              "    </tr>\n",
              "  </thead>\n",
              "  <tbody>\n",
              "    <tr>\n",
              "      <th>0</th>\n",
              "      <td>0.0</td>\n",
              "      <td>0.0</td>\n",
              "      <td>0.0</td>\n",
              "      <td>0.0</td>\n",
              "      <td>0.0</td>\n",
              "      <td>0.0</td>\n",
              "      <td>0.0</td>\n",
              "      <td>0.0</td>\n",
              "      <td>0.0</td>\n",
              "      <td>0.0</td>\n",
              "      <td>0.0</td>\n",
              "      <td>0.0</td>\n",
              "      <td>0.0</td>\n",
              "      <td>0.0</td>\n",
              "      <td>0.0</td>\n",
              "      <td>0.0</td>\n",
              "      <td>0.0</td>\n",
              "      <td>0.217188</td>\n",
              "      <td>0.0</td>\n",
              "      <td>0.0</td>\n",
              "      <td>0.0</td>\n",
              "      <td>0.0</td>\n",
              "      <td>0.0</td>\n",
              "      <td>0.0</td>\n",
              "      <td>0.0</td>\n",
              "      <td>0.0</td>\n",
              "      <td>0.0</td>\n",
              "      <td>0.0</td>\n",
              "      <td>0.0</td>\n",
              "      <td>0.0</td>\n",
              "      <td>0.0</td>\n",
              "      <td>0.0</td>\n",
              "      <td>0.0</td>\n",
              "      <td>0.0</td>\n",
              "      <td>0.0</td>\n",
              "      <td>0.0</td>\n",
              "      <td>0.0</td>\n",
              "      <td>0.0</td>\n",
              "      <td>0.0</td>\n",
              "      <td>0.0</td>\n",
              "      <td>...</td>\n",
              "      <td>0.0</td>\n",
              "      <td>0.0</td>\n",
              "      <td>0.0</td>\n",
              "      <td>0.0</td>\n",
              "      <td>0.000000</td>\n",
              "      <td>0.0</td>\n",
              "      <td>0.0</td>\n",
              "      <td>0.0</td>\n",
              "      <td>0.124059</td>\n",
              "      <td>0.125602</td>\n",
              "      <td>0.00000</td>\n",
              "      <td>0.0</td>\n",
              "      <td>0.0</td>\n",
              "      <td>0.000000</td>\n",
              "      <td>0.118466</td>\n",
              "      <td>0.0</td>\n",
              "      <td>0.122578</td>\n",
              "      <td>0.122578</td>\n",
              "      <td>0.12463</td>\n",
              "      <td>0.0</td>\n",
              "      <td>0.112639</td>\n",
              "      <td>0.0</td>\n",
              "      <td>0.0</td>\n",
              "      <td>0.228093</td>\n",
              "      <td>0.11912</td>\n",
              "      <td>0.000000</td>\n",
              "      <td>0.000000</td>\n",
              "      <td>0.301296</td>\n",
              "      <td>0.0</td>\n",
              "      <td>0.000000</td>\n",
              "      <td>0.000000</td>\n",
              "      <td>0.000000</td>\n",
              "      <td>0.0</td>\n",
              "      <td>0.000000</td>\n",
              "      <td>0.078524</td>\n",
              "      <td>0.149834</td>\n",
              "      <td>0.059729</td>\n",
              "      <td>0.062728</td>\n",
              "      <td>0.000000</td>\n",
              "      <td>0.000000</td>\n",
              "    </tr>\n",
              "    <tr>\n",
              "      <th>1</th>\n",
              "      <td>0.0</td>\n",
              "      <td>0.0</td>\n",
              "      <td>0.0</td>\n",
              "      <td>0.0</td>\n",
              "      <td>0.0</td>\n",
              "      <td>0.0</td>\n",
              "      <td>0.0</td>\n",
              "      <td>0.0</td>\n",
              "      <td>0.0</td>\n",
              "      <td>0.0</td>\n",
              "      <td>0.0</td>\n",
              "      <td>0.0</td>\n",
              "      <td>0.0</td>\n",
              "      <td>0.0</td>\n",
              "      <td>0.0</td>\n",
              "      <td>0.0</td>\n",
              "      <td>0.0</td>\n",
              "      <td>0.000000</td>\n",
              "      <td>0.0</td>\n",
              "      <td>0.0</td>\n",
              "      <td>0.0</td>\n",
              "      <td>0.0</td>\n",
              "      <td>0.0</td>\n",
              "      <td>0.0</td>\n",
              "      <td>0.0</td>\n",
              "      <td>0.0</td>\n",
              "      <td>0.0</td>\n",
              "      <td>0.0</td>\n",
              "      <td>0.0</td>\n",
              "      <td>0.0</td>\n",
              "      <td>0.0</td>\n",
              "      <td>0.0</td>\n",
              "      <td>0.0</td>\n",
              "      <td>0.0</td>\n",
              "      <td>0.0</td>\n",
              "      <td>0.0</td>\n",
              "      <td>0.0</td>\n",
              "      <td>0.0</td>\n",
              "      <td>0.0</td>\n",
              "      <td>0.0</td>\n",
              "      <td>...</td>\n",
              "      <td>0.0</td>\n",
              "      <td>0.0</td>\n",
              "      <td>0.0</td>\n",
              "      <td>0.0</td>\n",
              "      <td>0.000000</td>\n",
              "      <td>0.0</td>\n",
              "      <td>0.0</td>\n",
              "      <td>0.0</td>\n",
              "      <td>0.000000</td>\n",
              "      <td>0.000000</td>\n",
              "      <td>0.00000</td>\n",
              "      <td>0.0</td>\n",
              "      <td>0.0</td>\n",
              "      <td>0.000000</td>\n",
              "      <td>0.000000</td>\n",
              "      <td>0.0</td>\n",
              "      <td>0.000000</td>\n",
              "      <td>0.000000</td>\n",
              "      <td>0.00000</td>\n",
              "      <td>0.0</td>\n",
              "      <td>0.000000</td>\n",
              "      <td>0.0</td>\n",
              "      <td>0.0</td>\n",
              "      <td>0.000000</td>\n",
              "      <td>0.00000</td>\n",
              "      <td>0.000000</td>\n",
              "      <td>0.270578</td>\n",
              "      <td>0.000000</td>\n",
              "      <td>0.0</td>\n",
              "      <td>0.000000</td>\n",
              "      <td>0.000000</td>\n",
              "      <td>0.000000</td>\n",
              "      <td>0.0</td>\n",
              "      <td>0.000000</td>\n",
              "      <td>0.000000</td>\n",
              "      <td>0.000000</td>\n",
              "      <td>0.150512</td>\n",
              "      <td>0.000000</td>\n",
              "      <td>0.137890</td>\n",
              "      <td>0.000000</td>\n",
              "    </tr>\n",
              "    <tr>\n",
              "      <th>2</th>\n",
              "      <td>0.0</td>\n",
              "      <td>0.0</td>\n",
              "      <td>0.0</td>\n",
              "      <td>0.0</td>\n",
              "      <td>0.0</td>\n",
              "      <td>0.0</td>\n",
              "      <td>0.0</td>\n",
              "      <td>0.0</td>\n",
              "      <td>0.0</td>\n",
              "      <td>0.0</td>\n",
              "      <td>0.0</td>\n",
              "      <td>0.0</td>\n",
              "      <td>0.0</td>\n",
              "      <td>0.0</td>\n",
              "      <td>0.0</td>\n",
              "      <td>0.0</td>\n",
              "      <td>0.0</td>\n",
              "      <td>0.000000</td>\n",
              "      <td>0.0</td>\n",
              "      <td>0.0</td>\n",
              "      <td>0.0</td>\n",
              "      <td>0.0</td>\n",
              "      <td>0.0</td>\n",
              "      <td>0.0</td>\n",
              "      <td>0.0</td>\n",
              "      <td>0.0</td>\n",
              "      <td>0.0</td>\n",
              "      <td>0.0</td>\n",
              "      <td>0.0</td>\n",
              "      <td>0.0</td>\n",
              "      <td>0.0</td>\n",
              "      <td>0.0</td>\n",
              "      <td>0.0</td>\n",
              "      <td>0.0</td>\n",
              "      <td>0.0</td>\n",
              "      <td>0.0</td>\n",
              "      <td>0.0</td>\n",
              "      <td>0.0</td>\n",
              "      <td>0.0</td>\n",
              "      <td>0.0</td>\n",
              "      <td>...</td>\n",
              "      <td>0.0</td>\n",
              "      <td>0.0</td>\n",
              "      <td>0.0</td>\n",
              "      <td>0.0</td>\n",
              "      <td>0.000000</td>\n",
              "      <td>0.0</td>\n",
              "      <td>0.0</td>\n",
              "      <td>0.0</td>\n",
              "      <td>0.000000</td>\n",
              "      <td>0.000000</td>\n",
              "      <td>0.00000</td>\n",
              "      <td>0.0</td>\n",
              "      <td>0.0</td>\n",
              "      <td>0.000000</td>\n",
              "      <td>0.000000</td>\n",
              "      <td>0.0</td>\n",
              "      <td>0.215551</td>\n",
              "      <td>0.000000</td>\n",
              "      <td>0.00000</td>\n",
              "      <td>0.0</td>\n",
              "      <td>0.000000</td>\n",
              "      <td>0.0</td>\n",
              "      <td>0.0</td>\n",
              "      <td>0.000000</td>\n",
              "      <td>0.00000</td>\n",
              "      <td>0.000000</td>\n",
              "      <td>0.188819</td>\n",
              "      <td>0.000000</td>\n",
              "      <td>0.0</td>\n",
              "      <td>0.000000</td>\n",
              "      <td>0.176956</td>\n",
              "      <td>0.147617</td>\n",
              "      <td>0.0</td>\n",
              "      <td>0.000000</td>\n",
              "      <td>0.000000</td>\n",
              "      <td>0.000000</td>\n",
              "      <td>0.105033</td>\n",
              "      <td>0.110306</td>\n",
              "      <td>0.096224</td>\n",
              "      <td>0.102578</td>\n",
              "    </tr>\n",
              "    <tr>\n",
              "      <th>3</th>\n",
              "      <td>0.0</td>\n",
              "      <td>0.0</td>\n",
              "      <td>0.0</td>\n",
              "      <td>0.0</td>\n",
              "      <td>0.0</td>\n",
              "      <td>0.0</td>\n",
              "      <td>0.0</td>\n",
              "      <td>0.0</td>\n",
              "      <td>0.0</td>\n",
              "      <td>0.0</td>\n",
              "      <td>0.0</td>\n",
              "      <td>0.0</td>\n",
              "      <td>0.0</td>\n",
              "      <td>0.0</td>\n",
              "      <td>0.0</td>\n",
              "      <td>0.0</td>\n",
              "      <td>0.0</td>\n",
              "      <td>0.000000</td>\n",
              "      <td>0.0</td>\n",
              "      <td>0.0</td>\n",
              "      <td>0.0</td>\n",
              "      <td>0.0</td>\n",
              "      <td>0.0</td>\n",
              "      <td>0.0</td>\n",
              "      <td>0.0</td>\n",
              "      <td>0.0</td>\n",
              "      <td>0.0</td>\n",
              "      <td>0.0</td>\n",
              "      <td>0.0</td>\n",
              "      <td>0.0</td>\n",
              "      <td>0.0</td>\n",
              "      <td>0.0</td>\n",
              "      <td>0.0</td>\n",
              "      <td>0.0</td>\n",
              "      <td>0.0</td>\n",
              "      <td>0.0</td>\n",
              "      <td>0.0</td>\n",
              "      <td>0.0</td>\n",
              "      <td>0.0</td>\n",
              "      <td>0.0</td>\n",
              "      <td>...</td>\n",
              "      <td>0.0</td>\n",
              "      <td>0.0</td>\n",
              "      <td>0.0</td>\n",
              "      <td>0.0</td>\n",
              "      <td>0.000000</td>\n",
              "      <td>0.0</td>\n",
              "      <td>0.0</td>\n",
              "      <td>0.0</td>\n",
              "      <td>0.000000</td>\n",
              "      <td>0.000000</td>\n",
              "      <td>0.00000</td>\n",
              "      <td>0.0</td>\n",
              "      <td>0.0</td>\n",
              "      <td>0.000000</td>\n",
              "      <td>0.000000</td>\n",
              "      <td>0.0</td>\n",
              "      <td>0.302719</td>\n",
              "      <td>0.000000</td>\n",
              "      <td>0.00000</td>\n",
              "      <td>0.0</td>\n",
              "      <td>0.000000</td>\n",
              "      <td>0.0</td>\n",
              "      <td>0.0</td>\n",
              "      <td>0.000000</td>\n",
              "      <td>0.00000</td>\n",
              "      <td>0.000000</td>\n",
              "      <td>0.000000</td>\n",
              "      <td>0.000000</td>\n",
              "      <td>0.0</td>\n",
              "      <td>0.239203</td>\n",
              "      <td>0.000000</td>\n",
              "      <td>0.000000</td>\n",
              "      <td>0.0</td>\n",
              "      <td>0.000000</td>\n",
              "      <td>0.000000</td>\n",
              "      <td>0.000000</td>\n",
              "      <td>0.000000</td>\n",
              "      <td>0.000000</td>\n",
              "      <td>0.000000</td>\n",
              "      <td>0.000000</td>\n",
              "    </tr>\n",
              "    <tr>\n",
              "      <th>4</th>\n",
              "      <td>0.0</td>\n",
              "      <td>0.0</td>\n",
              "      <td>0.0</td>\n",
              "      <td>0.0</td>\n",
              "      <td>0.0</td>\n",
              "      <td>0.0</td>\n",
              "      <td>0.0</td>\n",
              "      <td>0.0</td>\n",
              "      <td>0.0</td>\n",
              "      <td>0.0</td>\n",
              "      <td>0.0</td>\n",
              "      <td>0.0</td>\n",
              "      <td>0.0</td>\n",
              "      <td>0.0</td>\n",
              "      <td>0.0</td>\n",
              "      <td>0.0</td>\n",
              "      <td>0.0</td>\n",
              "      <td>0.000000</td>\n",
              "      <td>0.0</td>\n",
              "      <td>0.0</td>\n",
              "      <td>0.0</td>\n",
              "      <td>0.0</td>\n",
              "      <td>0.0</td>\n",
              "      <td>0.0</td>\n",
              "      <td>0.0</td>\n",
              "      <td>0.0</td>\n",
              "      <td>0.0</td>\n",
              "      <td>0.0</td>\n",
              "      <td>0.0</td>\n",
              "      <td>0.0</td>\n",
              "      <td>0.0</td>\n",
              "      <td>0.0</td>\n",
              "      <td>0.0</td>\n",
              "      <td>0.0</td>\n",
              "      <td>0.0</td>\n",
              "      <td>0.0</td>\n",
              "      <td>0.0</td>\n",
              "      <td>0.0</td>\n",
              "      <td>0.0</td>\n",
              "      <td>0.0</td>\n",
              "      <td>...</td>\n",
              "      <td>0.0</td>\n",
              "      <td>0.0</td>\n",
              "      <td>0.0</td>\n",
              "      <td>0.0</td>\n",
              "      <td>0.130966</td>\n",
              "      <td>0.0</td>\n",
              "      <td>0.0</td>\n",
              "      <td>0.0</td>\n",
              "      <td>0.000000</td>\n",
              "      <td>0.000000</td>\n",
              "      <td>0.12835</td>\n",
              "      <td>0.0</td>\n",
              "      <td>0.0</td>\n",
              "      <td>0.122708</td>\n",
              "      <td>0.000000</td>\n",
              "      <td>0.0</td>\n",
              "      <td>0.246141</td>\n",
              "      <td>0.000000</td>\n",
              "      <td>0.00000</td>\n",
              "      <td>0.0</td>\n",
              "      <td>0.000000</td>\n",
              "      <td>0.0</td>\n",
              "      <td>0.0</td>\n",
              "      <td>0.000000</td>\n",
              "      <td>0.00000</td>\n",
              "      <td>0.109527</td>\n",
              "      <td>0.107807</td>\n",
              "      <td>0.100835</td>\n",
              "      <td>0.0</td>\n",
              "      <td>0.097248</td>\n",
              "      <td>0.000000</td>\n",
              "      <td>0.084283</td>\n",
              "      <td>0.0</td>\n",
              "      <td>0.080282</td>\n",
              "      <td>0.157680</td>\n",
              "      <td>0.000000</td>\n",
              "      <td>0.059969</td>\n",
              "      <td>0.062980</td>\n",
              "      <td>0.054940</td>\n",
              "      <td>0.000000</td>\n",
              "    </tr>\n",
              "  </tbody>\n",
              "</table>\n",
              "<p>5 rows × 500 columns</p>\n",
              "</div>"
            ],
            "text/plain": [
              "   either  yeah  entire  called  ...   cdnpoli        to     https       the\n",
              "0     0.0   0.0     0.0     0.0  ...  0.059729  0.062728  0.000000  0.000000\n",
              "1     0.0   0.0     0.0     0.0  ...  0.150512  0.000000  0.137890  0.000000\n",
              "2     0.0   0.0     0.0     0.0  ...  0.105033  0.110306  0.096224  0.102578\n",
              "3     0.0   0.0     0.0     0.0  ...  0.000000  0.000000  0.000000  0.000000\n",
              "4     0.0   0.0     0.0     0.0  ...  0.059969  0.062980  0.054940  0.000000\n",
              "\n",
              "[5 rows x 500 columns]"
            ]
          },
          "metadata": {
            "tags": []
          },
          "execution_count": 54
        }
      ]
    },
    {
      "cell_type": "code",
      "metadata": {
        "id": "JGQZ1kuPIHDv",
        "colab_type": "code",
        "colab": {}
      },
      "source": [
        "election_tweets['sentiment']=election_tweets['sentiment'].replace('positive',1)\n",
        "election_tweets['sentiment']=election_tweets['sentiment'].replace('negative',0)\n",
        "#produce label"
      ],
      "execution_count": 0,
      "outputs": []
    },
    {
      "cell_type": "code",
      "metadata": {
        "id": "1kAm1GGxRXzi",
        "colab_type": "code",
        "colab": {}
      },
      "source": [
        "\n",
        "electionText_feature['sentiment values']=election_tweets['sentiment']"
      ],
      "execution_count": 0,
      "outputs": []
    },
    {
      "cell_type": "code",
      "metadata": {
        "id": "UGNFRI02Osk2",
        "colab_type": "code",
        "outputId": "94322146-1845-434b-ca0a-973579ed5afc",
        "colab": {
          "base_uri": "https://localhost:8080/",
          "height": 270
        }
      },
      "source": [
        "electionText_feature.head()"
      ],
      "execution_count": 0,
      "outputs": [
        {
          "output_type": "execute_result",
          "data": {
            "text/html": [
              "<div>\n",
              "<style scoped>\n",
              "    .dataframe tbody tr th:only-of-type {\n",
              "        vertical-align: middle;\n",
              "    }\n",
              "\n",
              "    .dataframe tbody tr th {\n",
              "        vertical-align: top;\n",
              "    }\n",
              "\n",
              "    .dataframe thead th {\n",
              "        text-align: right;\n",
              "    }\n",
              "</style>\n",
              "<table border=\"1\" class=\"dataframe\">\n",
              "  <thead>\n",
              "    <tr style=\"text-align: right;\">\n",
              "      <th></th>\n",
              "      <th>either</th>\n",
              "      <th>yeah</th>\n",
              "      <th>entire</th>\n",
              "      <th>called</th>\n",
              "      <th>scandal</th>\n",
              "      <th>seat</th>\n",
              "      <th>morning</th>\n",
              "      <th>puglaas</th>\n",
              "      <th>values</th>\n",
              "      <th>already</th>\n",
              "      <th>nbpoli</th>\n",
              "      <th>consulting</th>\n",
              "      <th>racist</th>\n",
              "      <th>leaders</th>\n",
              "      <th>using</th>\n",
              "      <th>voter</th>\n",
              "      <th>wants</th>\n",
              "      <th>women</th>\n",
              "      <th>liar</th>\n",
              "      <th>elect</th>\n",
              "      <th>race</th>\n",
              "      <th>hey</th>\n",
              "      <th>postmedia</th>\n",
              "      <th>tax</th>\n",
              "      <th>threatened</th>\n",
              "      <th>blackface</th>\n",
              "      <th>given</th>\n",
              "      <th>looking</th>\n",
              "      <th>failed</th>\n",
              "      <th>winning</th>\n",
              "      <th>forward</th>\n",
              "      <th>enough</th>\n",
              "      <th>stopscheer</th>\n",
              "      <th>democratic</th>\n",
              "      <th>less</th>\n",
              "      <th>sign</th>\n",
              "      <th>mean</th>\n",
              "      <th>listen</th>\n",
              "      <th>peoplespartyofcanada</th>\n",
              "      <th>point</th>\n",
              "      <th>...</th>\n",
              "      <th>party</th>\n",
              "      <th>from</th>\n",
              "      <th>who</th>\n",
              "      <th>do</th>\n",
              "      <th>at</th>\n",
              "      <th>scheer</th>\n",
              "      <th>our</th>\n",
              "      <th>will</th>\n",
              "      <th>andrewscheer</th>\n",
              "      <th>amp</th>\n",
              "      <th>chooseforward</th>\n",
              "      <th>as</th>\n",
              "      <th>all</th>\n",
              "      <th>have</th>\n",
              "      <th>election</th>\n",
              "      <th>canada</th>\n",
              "      <th>about</th>\n",
              "      <th>your</th>\n",
              "      <th>be</th>\n",
              "      <th>with</th>\n",
              "      <th>vote</th>\n",
              "      <th>he</th>\n",
              "      <th>not</th>\n",
              "      <th>we</th>\n",
              "      <th>are</th>\n",
              "      <th>it</th>\n",
              "      <th>that</th>\n",
              "      <th>on</th>\n",
              "      <th>this</th>\n",
              "      <th>you</th>\n",
              "      <th>for</th>\n",
              "      <th>in</th>\n",
              "      <th>is</th>\n",
              "      <th>of</th>\n",
              "      <th>and</th>\n",
              "      <th>cdnpoli</th>\n",
              "      <th>to</th>\n",
              "      <th>https</th>\n",
              "      <th>the</th>\n",
              "      <th>sentiment values</th>\n",
              "    </tr>\n",
              "  </thead>\n",
              "  <tbody>\n",
              "    <tr>\n",
              "      <th>0</th>\n",
              "      <td>0.0</td>\n",
              "      <td>0.0</td>\n",
              "      <td>0.0</td>\n",
              "      <td>0.0</td>\n",
              "      <td>0.0</td>\n",
              "      <td>0.0</td>\n",
              "      <td>0.0</td>\n",
              "      <td>0.0</td>\n",
              "      <td>0.0</td>\n",
              "      <td>0.0</td>\n",
              "      <td>0.0</td>\n",
              "      <td>0.0</td>\n",
              "      <td>0.0</td>\n",
              "      <td>0.0</td>\n",
              "      <td>0.0</td>\n",
              "      <td>0.0</td>\n",
              "      <td>0.0</td>\n",
              "      <td>0.217188</td>\n",
              "      <td>0.0</td>\n",
              "      <td>0.0</td>\n",
              "      <td>0.0</td>\n",
              "      <td>0.0</td>\n",
              "      <td>0.0</td>\n",
              "      <td>0.0</td>\n",
              "      <td>0.0</td>\n",
              "      <td>0.0</td>\n",
              "      <td>0.0</td>\n",
              "      <td>0.0</td>\n",
              "      <td>0.0</td>\n",
              "      <td>0.0</td>\n",
              "      <td>0.0</td>\n",
              "      <td>0.0</td>\n",
              "      <td>0.0</td>\n",
              "      <td>0.0</td>\n",
              "      <td>0.0</td>\n",
              "      <td>0.0</td>\n",
              "      <td>0.0</td>\n",
              "      <td>0.0</td>\n",
              "      <td>0.0</td>\n",
              "      <td>0.0</td>\n",
              "      <td>...</td>\n",
              "      <td>0.0</td>\n",
              "      <td>0.0</td>\n",
              "      <td>0.0</td>\n",
              "      <td>0.000000</td>\n",
              "      <td>0.0</td>\n",
              "      <td>0.0</td>\n",
              "      <td>0.0</td>\n",
              "      <td>0.124059</td>\n",
              "      <td>0.125602</td>\n",
              "      <td>0.00000</td>\n",
              "      <td>0.0</td>\n",
              "      <td>0.0</td>\n",
              "      <td>0.000000</td>\n",
              "      <td>0.118466</td>\n",
              "      <td>0.0</td>\n",
              "      <td>0.122578</td>\n",
              "      <td>0.122578</td>\n",
              "      <td>0.12463</td>\n",
              "      <td>0.0</td>\n",
              "      <td>0.112639</td>\n",
              "      <td>0.0</td>\n",
              "      <td>0.0</td>\n",
              "      <td>0.228093</td>\n",
              "      <td>0.11912</td>\n",
              "      <td>0.000000</td>\n",
              "      <td>0.000000</td>\n",
              "      <td>0.301296</td>\n",
              "      <td>0.0</td>\n",
              "      <td>0.000000</td>\n",
              "      <td>0.000000</td>\n",
              "      <td>0.000000</td>\n",
              "      <td>0.0</td>\n",
              "      <td>0.000000</td>\n",
              "      <td>0.078524</td>\n",
              "      <td>0.149834</td>\n",
              "      <td>0.059729</td>\n",
              "      <td>0.062728</td>\n",
              "      <td>0.000000</td>\n",
              "      <td>0.000000</td>\n",
              "      <td>0</td>\n",
              "    </tr>\n",
              "    <tr>\n",
              "      <th>1</th>\n",
              "      <td>0.0</td>\n",
              "      <td>0.0</td>\n",
              "      <td>0.0</td>\n",
              "      <td>0.0</td>\n",
              "      <td>0.0</td>\n",
              "      <td>0.0</td>\n",
              "      <td>0.0</td>\n",
              "      <td>0.0</td>\n",
              "      <td>0.0</td>\n",
              "      <td>0.0</td>\n",
              "      <td>0.0</td>\n",
              "      <td>0.0</td>\n",
              "      <td>0.0</td>\n",
              "      <td>0.0</td>\n",
              "      <td>0.0</td>\n",
              "      <td>0.0</td>\n",
              "      <td>0.0</td>\n",
              "      <td>0.000000</td>\n",
              "      <td>0.0</td>\n",
              "      <td>0.0</td>\n",
              "      <td>0.0</td>\n",
              "      <td>0.0</td>\n",
              "      <td>0.0</td>\n",
              "      <td>0.0</td>\n",
              "      <td>0.0</td>\n",
              "      <td>0.0</td>\n",
              "      <td>0.0</td>\n",
              "      <td>0.0</td>\n",
              "      <td>0.0</td>\n",
              "      <td>0.0</td>\n",
              "      <td>0.0</td>\n",
              "      <td>0.0</td>\n",
              "      <td>0.0</td>\n",
              "      <td>0.0</td>\n",
              "      <td>0.0</td>\n",
              "      <td>0.0</td>\n",
              "      <td>0.0</td>\n",
              "      <td>0.0</td>\n",
              "      <td>0.0</td>\n",
              "      <td>0.0</td>\n",
              "      <td>...</td>\n",
              "      <td>0.0</td>\n",
              "      <td>0.0</td>\n",
              "      <td>0.0</td>\n",
              "      <td>0.000000</td>\n",
              "      <td>0.0</td>\n",
              "      <td>0.0</td>\n",
              "      <td>0.0</td>\n",
              "      <td>0.000000</td>\n",
              "      <td>0.000000</td>\n",
              "      <td>0.00000</td>\n",
              "      <td>0.0</td>\n",
              "      <td>0.0</td>\n",
              "      <td>0.000000</td>\n",
              "      <td>0.000000</td>\n",
              "      <td>0.0</td>\n",
              "      <td>0.000000</td>\n",
              "      <td>0.000000</td>\n",
              "      <td>0.00000</td>\n",
              "      <td>0.0</td>\n",
              "      <td>0.000000</td>\n",
              "      <td>0.0</td>\n",
              "      <td>0.0</td>\n",
              "      <td>0.000000</td>\n",
              "      <td>0.00000</td>\n",
              "      <td>0.000000</td>\n",
              "      <td>0.270578</td>\n",
              "      <td>0.000000</td>\n",
              "      <td>0.0</td>\n",
              "      <td>0.000000</td>\n",
              "      <td>0.000000</td>\n",
              "      <td>0.000000</td>\n",
              "      <td>0.0</td>\n",
              "      <td>0.000000</td>\n",
              "      <td>0.000000</td>\n",
              "      <td>0.000000</td>\n",
              "      <td>0.150512</td>\n",
              "      <td>0.000000</td>\n",
              "      <td>0.137890</td>\n",
              "      <td>0.000000</td>\n",
              "      <td>1</td>\n",
              "    </tr>\n",
              "    <tr>\n",
              "      <th>2</th>\n",
              "      <td>0.0</td>\n",
              "      <td>0.0</td>\n",
              "      <td>0.0</td>\n",
              "      <td>0.0</td>\n",
              "      <td>0.0</td>\n",
              "      <td>0.0</td>\n",
              "      <td>0.0</td>\n",
              "      <td>0.0</td>\n",
              "      <td>0.0</td>\n",
              "      <td>0.0</td>\n",
              "      <td>0.0</td>\n",
              "      <td>0.0</td>\n",
              "      <td>0.0</td>\n",
              "      <td>0.0</td>\n",
              "      <td>0.0</td>\n",
              "      <td>0.0</td>\n",
              "      <td>0.0</td>\n",
              "      <td>0.000000</td>\n",
              "      <td>0.0</td>\n",
              "      <td>0.0</td>\n",
              "      <td>0.0</td>\n",
              "      <td>0.0</td>\n",
              "      <td>0.0</td>\n",
              "      <td>0.0</td>\n",
              "      <td>0.0</td>\n",
              "      <td>0.0</td>\n",
              "      <td>0.0</td>\n",
              "      <td>0.0</td>\n",
              "      <td>0.0</td>\n",
              "      <td>0.0</td>\n",
              "      <td>0.0</td>\n",
              "      <td>0.0</td>\n",
              "      <td>0.0</td>\n",
              "      <td>0.0</td>\n",
              "      <td>0.0</td>\n",
              "      <td>0.0</td>\n",
              "      <td>0.0</td>\n",
              "      <td>0.0</td>\n",
              "      <td>0.0</td>\n",
              "      <td>0.0</td>\n",
              "      <td>...</td>\n",
              "      <td>0.0</td>\n",
              "      <td>0.0</td>\n",
              "      <td>0.0</td>\n",
              "      <td>0.000000</td>\n",
              "      <td>0.0</td>\n",
              "      <td>0.0</td>\n",
              "      <td>0.0</td>\n",
              "      <td>0.000000</td>\n",
              "      <td>0.000000</td>\n",
              "      <td>0.00000</td>\n",
              "      <td>0.0</td>\n",
              "      <td>0.0</td>\n",
              "      <td>0.000000</td>\n",
              "      <td>0.000000</td>\n",
              "      <td>0.0</td>\n",
              "      <td>0.215551</td>\n",
              "      <td>0.000000</td>\n",
              "      <td>0.00000</td>\n",
              "      <td>0.0</td>\n",
              "      <td>0.000000</td>\n",
              "      <td>0.0</td>\n",
              "      <td>0.0</td>\n",
              "      <td>0.000000</td>\n",
              "      <td>0.00000</td>\n",
              "      <td>0.000000</td>\n",
              "      <td>0.188819</td>\n",
              "      <td>0.000000</td>\n",
              "      <td>0.0</td>\n",
              "      <td>0.000000</td>\n",
              "      <td>0.176956</td>\n",
              "      <td>0.147617</td>\n",
              "      <td>0.0</td>\n",
              "      <td>0.000000</td>\n",
              "      <td>0.000000</td>\n",
              "      <td>0.000000</td>\n",
              "      <td>0.105033</td>\n",
              "      <td>0.110306</td>\n",
              "      <td>0.096224</td>\n",
              "      <td>0.102578</td>\n",
              "      <td>0</td>\n",
              "    </tr>\n",
              "    <tr>\n",
              "      <th>3</th>\n",
              "      <td>0.0</td>\n",
              "      <td>0.0</td>\n",
              "      <td>0.0</td>\n",
              "      <td>0.0</td>\n",
              "      <td>0.0</td>\n",
              "      <td>0.0</td>\n",
              "      <td>0.0</td>\n",
              "      <td>0.0</td>\n",
              "      <td>0.0</td>\n",
              "      <td>0.0</td>\n",
              "      <td>0.0</td>\n",
              "      <td>0.0</td>\n",
              "      <td>0.0</td>\n",
              "      <td>0.0</td>\n",
              "      <td>0.0</td>\n",
              "      <td>0.0</td>\n",
              "      <td>0.0</td>\n",
              "      <td>0.000000</td>\n",
              "      <td>0.0</td>\n",
              "      <td>0.0</td>\n",
              "      <td>0.0</td>\n",
              "      <td>0.0</td>\n",
              "      <td>0.0</td>\n",
              "      <td>0.0</td>\n",
              "      <td>0.0</td>\n",
              "      <td>0.0</td>\n",
              "      <td>0.0</td>\n",
              "      <td>0.0</td>\n",
              "      <td>0.0</td>\n",
              "      <td>0.0</td>\n",
              "      <td>0.0</td>\n",
              "      <td>0.0</td>\n",
              "      <td>0.0</td>\n",
              "      <td>0.0</td>\n",
              "      <td>0.0</td>\n",
              "      <td>0.0</td>\n",
              "      <td>0.0</td>\n",
              "      <td>0.0</td>\n",
              "      <td>0.0</td>\n",
              "      <td>0.0</td>\n",
              "      <td>...</td>\n",
              "      <td>0.0</td>\n",
              "      <td>0.0</td>\n",
              "      <td>0.0</td>\n",
              "      <td>0.000000</td>\n",
              "      <td>0.0</td>\n",
              "      <td>0.0</td>\n",
              "      <td>0.0</td>\n",
              "      <td>0.000000</td>\n",
              "      <td>0.000000</td>\n",
              "      <td>0.00000</td>\n",
              "      <td>0.0</td>\n",
              "      <td>0.0</td>\n",
              "      <td>0.000000</td>\n",
              "      <td>0.000000</td>\n",
              "      <td>0.0</td>\n",
              "      <td>0.302719</td>\n",
              "      <td>0.000000</td>\n",
              "      <td>0.00000</td>\n",
              "      <td>0.0</td>\n",
              "      <td>0.000000</td>\n",
              "      <td>0.0</td>\n",
              "      <td>0.0</td>\n",
              "      <td>0.000000</td>\n",
              "      <td>0.00000</td>\n",
              "      <td>0.000000</td>\n",
              "      <td>0.000000</td>\n",
              "      <td>0.000000</td>\n",
              "      <td>0.0</td>\n",
              "      <td>0.239203</td>\n",
              "      <td>0.000000</td>\n",
              "      <td>0.000000</td>\n",
              "      <td>0.0</td>\n",
              "      <td>0.000000</td>\n",
              "      <td>0.000000</td>\n",
              "      <td>0.000000</td>\n",
              "      <td>0.000000</td>\n",
              "      <td>0.000000</td>\n",
              "      <td>0.000000</td>\n",
              "      <td>0.000000</td>\n",
              "      <td>1</td>\n",
              "    </tr>\n",
              "    <tr>\n",
              "      <th>4</th>\n",
              "      <td>0.0</td>\n",
              "      <td>0.0</td>\n",
              "      <td>0.0</td>\n",
              "      <td>0.0</td>\n",
              "      <td>0.0</td>\n",
              "      <td>0.0</td>\n",
              "      <td>0.0</td>\n",
              "      <td>0.0</td>\n",
              "      <td>0.0</td>\n",
              "      <td>0.0</td>\n",
              "      <td>0.0</td>\n",
              "      <td>0.0</td>\n",
              "      <td>0.0</td>\n",
              "      <td>0.0</td>\n",
              "      <td>0.0</td>\n",
              "      <td>0.0</td>\n",
              "      <td>0.0</td>\n",
              "      <td>0.000000</td>\n",
              "      <td>0.0</td>\n",
              "      <td>0.0</td>\n",
              "      <td>0.0</td>\n",
              "      <td>0.0</td>\n",
              "      <td>0.0</td>\n",
              "      <td>0.0</td>\n",
              "      <td>0.0</td>\n",
              "      <td>0.0</td>\n",
              "      <td>0.0</td>\n",
              "      <td>0.0</td>\n",
              "      <td>0.0</td>\n",
              "      <td>0.0</td>\n",
              "      <td>0.0</td>\n",
              "      <td>0.0</td>\n",
              "      <td>0.0</td>\n",
              "      <td>0.0</td>\n",
              "      <td>0.0</td>\n",
              "      <td>0.0</td>\n",
              "      <td>0.0</td>\n",
              "      <td>0.0</td>\n",
              "      <td>0.0</td>\n",
              "      <td>0.0</td>\n",
              "      <td>...</td>\n",
              "      <td>0.0</td>\n",
              "      <td>0.0</td>\n",
              "      <td>0.0</td>\n",
              "      <td>0.130966</td>\n",
              "      <td>0.0</td>\n",
              "      <td>0.0</td>\n",
              "      <td>0.0</td>\n",
              "      <td>0.000000</td>\n",
              "      <td>0.000000</td>\n",
              "      <td>0.12835</td>\n",
              "      <td>0.0</td>\n",
              "      <td>0.0</td>\n",
              "      <td>0.122708</td>\n",
              "      <td>0.000000</td>\n",
              "      <td>0.0</td>\n",
              "      <td>0.246141</td>\n",
              "      <td>0.000000</td>\n",
              "      <td>0.00000</td>\n",
              "      <td>0.0</td>\n",
              "      <td>0.000000</td>\n",
              "      <td>0.0</td>\n",
              "      <td>0.0</td>\n",
              "      <td>0.000000</td>\n",
              "      <td>0.00000</td>\n",
              "      <td>0.109527</td>\n",
              "      <td>0.107807</td>\n",
              "      <td>0.100835</td>\n",
              "      <td>0.0</td>\n",
              "      <td>0.097248</td>\n",
              "      <td>0.000000</td>\n",
              "      <td>0.084283</td>\n",
              "      <td>0.0</td>\n",
              "      <td>0.080282</td>\n",
              "      <td>0.157680</td>\n",
              "      <td>0.000000</td>\n",
              "      <td>0.059969</td>\n",
              "      <td>0.062980</td>\n",
              "      <td>0.054940</td>\n",
              "      <td>0.000000</td>\n",
              "      <td>0</td>\n",
              "    </tr>\n",
              "  </tbody>\n",
              "</table>\n",
              "<p>5 rows × 501 columns</p>\n",
              "</div>"
            ],
            "text/plain": [
              "   either  yeah  entire  called  ...        to     https       the  sentiment values\n",
              "0     0.0   0.0     0.0     0.0  ...  0.062728  0.000000  0.000000                 0\n",
              "1     0.0   0.0     0.0     0.0  ...  0.000000  0.137890  0.000000                 1\n",
              "2     0.0   0.0     0.0     0.0  ...  0.110306  0.096224  0.102578                 0\n",
              "3     0.0   0.0     0.0     0.0  ...  0.000000  0.000000  0.000000                 1\n",
              "4     0.0   0.0     0.0     0.0  ...  0.062980  0.054940  0.000000                 0\n",
              "\n",
              "[5 rows x 501 columns]"
            ]
          },
          "metadata": {
            "tags": []
          },
          "execution_count": 57
        }
      ]
    },
    {
      "cell_type": "markdown",
      "metadata": {
        "id": "RkwaFYx-Z5Xs",
        "colab_type": "text"
      },
      "source": [
        "In this part, we use the features extracted from generic tweets to predict elction tweets, to do that we first need to train the logistic regression model using generic features then predict the result using election tweet features as input."
      ]
    },
    {
      "cell_type": "code",
      "metadata": {
        "id": "g9jupRmdTINH",
        "colab_type": "code",
        "colab": {}
      },
      "source": [
        "def Sentiment_Predict(classified_df,classified_label,unclassified_df,partyLabel,origin_tweet):\n",
        "\n",
        "    sentiment_list = []\n",
        "    tweet_list = []\n",
        "    party_list = partyLabel\n",
        "    \n",
        "    \n",
        "    features = classified_df\n",
        "    target = classified_label\n",
        "    \n",
        "    predict_features_df = unclassified_df.iloc[:,:-1]\n",
        "    predict_features = predict_features_df.as_matrix()\n",
        "        \n",
        "    classifier = LogisticRegression(C=1)\n",
        "    \n",
        "    # predict using classified tweet features\n",
        "    clfModel = classifier.fit(features, target)\n",
        "    target_pred = clfModel.predict(predict_features)\n",
        "    \n",
        "    for i in range(len(target_pred)):\n",
        "        sentiment_list.append(target_pred[i])\n",
        "        tweet_list.append(origin_tweet[i])\n",
        "        \n",
        "    analysis = pd.DataFrame({\"Sentiment\": sentiment_list, \"Original Tweets\": tweet_list, \"Party\": party_list})\n",
        "    test_scores=metrics.accuracy_score(unclassified_df.iloc[:,-1], target_pred)\n",
        "    print(test_scores)\n",
        "    return analysis"
      ],
      "execution_count": 0,
      "outputs": []
    },
    {
      "cell_type": "code",
      "metadata": {
        "id": "is81CCGpVks_",
        "colab_type": "code",
        "outputId": "e07e11e8-28dc-4bba-f501-2837fb2c5094",
        "colab": {
          "base_uri": "https://localhost:8080/",
          "height": 122
        }
      },
      "source": [
        "election_Analysis=Sentiment_Predict(tfidf_FeatureDF,genericLabels,electionText_feature,partyLabel,election_tweets['text'].values)"
      ],
      "execution_count": 0,
      "outputs": [
        {
          "output_type": "stream",
          "text": [
            "/usr/local/lib/python3.6/dist-packages/ipykernel_launcher.py:12: FutureWarning: Method .as_matrix will be removed in a future version. Use .values instead.\n",
            "  if sys.path[0] == '':\n",
            "/usr/local/lib/python3.6/dist-packages/sklearn/linear_model/logistic.py:432: FutureWarning: Default solver will be changed to 'lbfgs' in 0.22. Specify a solver to silence this warning.\n",
            "  FutureWarning)\n"
          ],
          "name": "stderr"
        },
        {
          "output_type": "stream",
          "text": [
            "0.5128926394749179\n"
          ],
          "name": "stdout"
        }
      ]
    },
    {
      "cell_type": "code",
      "metadata": {
        "id": "R8hWCwYqXJLe",
        "colab_type": "code",
        "outputId": "1231ace0-8232-48ab-8478-cbbe286ef428",
        "colab": {
          "base_uri": "https://localhost:8080/",
          "height": 359
        }
      },
      "source": [
        "election_Analysis.head(10)"
      ],
      "execution_count": 0,
      "outputs": [
        {
          "output_type": "execute_result",
          "data": {
            "text/html": [
              "<div>\n",
              "<style scoped>\n",
              "    .dataframe tbody tr th:only-of-type {\n",
              "        vertical-align: middle;\n",
              "    }\n",
              "\n",
              "    .dataframe tbody tr th {\n",
              "        vertical-align: top;\n",
              "    }\n",
              "\n",
              "    .dataframe thead th {\n",
              "        text-align: right;\n",
              "    }\n",
              "</style>\n",
              "<table border=\"1\" class=\"dataframe\">\n",
              "  <thead>\n",
              "    <tr style=\"text-align: right;\">\n",
              "      <th></th>\n",
              "      <th>Sentiment</th>\n",
              "      <th>Original Tweets</th>\n",
              "      <th>Party</th>\n",
              "    </tr>\n",
              "  </thead>\n",
              "  <tbody>\n",
              "    <tr>\n",
              "      <th>0</th>\n",
              "      <td>0</td>\n",
              "      <td>b rosiebarton so instead of your suggestion ho...</td>\n",
              "      <td>conservative</td>\n",
              "    </tr>\n",
              "    <tr>\n",
              "      <th>1</th>\n",
              "      <td>0</td>\n",
              "      <td>b allwomanspacewalk it real etobicokenorth cit...</td>\n",
              "      <td>none</td>\n",
              "    </tr>\n",
              "    <tr>\n",
              "      <th>2</th>\n",
              "      <td>0</td>\n",
              "      <td>b brantford it going to cost you billion for t...</td>\n",
              "      <td>liberal</td>\n",
              "    </tr>\n",
              "    <tr>\n",
              "      <th>3</th>\n",
              "      <td>0</td>\n",
              "      <td>b canada canadavotes decide this should help</td>\n",
              "      <td>none</td>\n",
              "    </tr>\n",
              "    <tr>\n",
              "      <th>4</th>\n",
              "      <td>0</td>\n",
              "      <td>b canada taxpayers are sick amp tired of havin...</td>\n",
              "      <td>liberal</td>\n",
              "    </tr>\n",
              "    <tr>\n",
              "      <th>5</th>\n",
              "      <td>0</td>\n",
              "      <td>b cdnpoli facts blastfromthepast in conservati...</td>\n",
              "      <td>conservative</td>\n",
              "    </tr>\n",
              "    <tr>\n",
              "      <th>6</th>\n",
              "      <td>1</td>\n",
              "      <td>b cdnmedia cdnpoli ppc rocky dong hands down h...</td>\n",
              "      <td>none</td>\n",
              "    </tr>\n",
              "    <tr>\n",
              "      <th>7</th>\n",
              "      <td>0</td>\n",
              "      <td>b cdnpoli the liberals more than double what w...</td>\n",
              "      <td>ndp</td>\n",
              "    </tr>\n",
              "    <tr>\n",
              "      <th>8</th>\n",
              "      <td>0</td>\n",
              "      <td>b chooseforward cdnpoli do make america mistak...</td>\n",
              "      <td>none</td>\n",
              "    </tr>\n",
              "    <tr>\n",
              "      <th>9</th>\n",
              "      <td>0</td>\n",
              "      <td>b see the receipts who pays warren kinsella to...</td>\n",
              "      <td>none</td>\n",
              "    </tr>\n",
              "  </tbody>\n",
              "</table>\n",
              "</div>"
            ],
            "text/plain": [
              "   Sentiment                                    Original Tweets         Party\n",
              "0          0  b rosiebarton so instead of your suggestion ho...  conservative\n",
              "1          0  b allwomanspacewalk it real etobicokenorth cit...          none\n",
              "2          0  b brantford it going to cost you billion for t...       liberal\n",
              "3          0       b canada canadavotes decide this should help          none\n",
              "4          0  b canada taxpayers are sick amp tired of havin...       liberal\n",
              "5          0  b cdnpoli facts blastfromthepast in conservati...  conservative\n",
              "6          1  b cdnmedia cdnpoli ppc rocky dong hands down h...          none\n",
              "7          0  b cdnpoli the liberals more than double what w...           ndp\n",
              "8          0  b chooseforward cdnpoli do make america mistak...          none\n",
              "9          0  b see the receipts who pays warren kinsella to...          none"
            ]
          },
          "metadata": {
            "tags": []
          },
          "execution_count": 60
        }
      ]
    },
    {
      "cell_type": "markdown",
      "metadata": {
        "id": "NhiJnT2cbSP9",
        "colab_type": "text"
      },
      "source": [
        "To get the the sentiment of each party, we simply select the tweets that are labeled with party names and extract their sentiment prediction results."
      ]
    },
    {
      "cell_type": "code",
      "metadata": {
        "id": "cnXRPCEUcK1Z",
        "colab_type": "code",
        "colab": {}
      },
      "source": [
        "conservative_Predict=election_Analysis.loc[election_Analysis['Party']=='conservative','Sentiment']\n",
        "liberal_Predict=election_Analysis.loc[election_Analysis['Party']=='liberal','Sentiment']\n",
        "ndp_Predict=election_Analysis.loc[election_Analysis['Party']=='ndp','Sentiment']"
      ],
      "execution_count": 0,
      "outputs": []
    },
    {
      "cell_type": "code",
      "metadata": {
        "id": "lYLv-VLZdQmw",
        "colab_type": "code",
        "outputId": "37bc1316-90a1-4daa-d360-65fa15c76b79",
        "colab": {
          "base_uri": "https://localhost:8080/",
          "height": 34
        }
      },
      "source": [
        "conservative_Pos=conservative_Predict.sum(axis=0)\n",
        "liberal_Pos=liberal_Predict.sum(axis=0)\n",
        "ndp_Pos=ndp_Predict.sum(axis=0)\n",
        "\n",
        "print(conservative_Pos,liberal_Pos,ndp_Pos)\n",
        "value_list=[conservative_Predict,liberal_Predict,ndp_Predict]"
      ],
      "execution_count": 0,
      "outputs": [
        {
          "output_type": "stream",
          "text": [
            "153 148 61\n"
          ],
          "name": "stdout"
        }
      ]
    },
    {
      "cell_type": "code",
      "metadata": {
        "id": "8NLwEtJielZs",
        "colab_type": "code",
        "outputId": "1de93cd3-abb6-48db-93dd-eae97441a9c3",
        "colab": {
          "base_uri": "https://localhost:8080/",
          "height": 295
        }
      },
      "source": [
        "plt.hist(value_list, bins=10, edgecolor='black')\n",
        "plt.title(\"Canada Election Parties Tweets\")\n",
        "plt.xlabel(\"Political Party\")\n",
        "plt.ylabel(\"Number of Samples\")\n",
        "plt.show()"
      ],
      "execution_count": 0,
      "outputs": [
        {
          "output_type": "display_data",
          "data": {
            "image/png": "[encoded data removed]",
            "text/plain": [
              "<Figure size 432x288 with 1 Axes>"
            ]
          },
          "metadata": {
            "tags": []
          }
        }
      ]
    },
    {
      "cell_type": "code",
      "metadata": {
        "id": "EQRv_1J6g3Dq",
        "colab_type": "code",
        "colab": {}
      },
      "source": [
        "conservative_true=election_tweets.loc[election_tweets['party']=='conservative','sentiment']\n",
        "liberal_true=election_tweets.loc[election_tweets['party']=='liberal','sentiment']\n",
        "ndp_true=election_tweets.loc[election_tweets['party']=='ndp','sentiment']\n",
        "true_ValueList=[conservative_true,liberal_true,ndp_true]"
      ],
      "execution_count": 0,
      "outputs": []
    },
    {
      "cell_type": "code",
      "metadata": {
        "id": "HsQUdTB-g0jM",
        "colab_type": "code",
        "outputId": "655cba94-f0a2-4b3d-8c0b-2f34ec639475",
        "colab": {
          "base_uri": "https://localhost:8080/",
          "height": 295
        }
      },
      "source": [
        "plt.hist(true_ValueList, bins=10, edgecolor='black')\n",
        "plt.title(\"Canada Election Parties Tweets\")\n",
        "plt.xlabel(\"Political Party\")\n",
        "plt.ylabel(\"Number of Samples\")\n",
        "plt.show()"
      ],
      "execution_count": 0,
      "outputs": [
        {
          "output_type": "display_data",
          "data": {
            "image/png": "[encoded data removed]",
            "text/plain": [
              "<Figure size 432x288 with 1 Axes>"
            ]
          },
          "metadata": {
            "tags": []
          }
        }
      ]
    },
    {
      "cell_type": "markdown",
      "metadata": {
        "id": "kBTPVR81d_GW",
        "colab_type": "text"
      },
      "source": [
        "From ground truth we can see that majority of the tweets about liberal and conservative are negative but for ndp the positive tweet take the trend."
      ]
    },
    {
      "cell_type": "markdown",
      "metadata": {
        "id": "nJ7kz54KbrIh",
        "colab_type": "text"
      },
      "source": [
        "Compare the two graphs above we can see that all three paries have more negative predictions than their ground truth labels, and from the prediction accuracy I think the analysis on generic tweets has little help on predicting the sentiment of election tweets. Here are the potential reasons, the features in generic tweets and election tweet has huge difference and this difference in feature dimension causes a significant bias when applied to election tweet. "
      ]
    },
    {
      "cell_type": "code",
      "metadata": {
        "id": "7tuv8VTDwE0r",
        "colab_type": "code",
        "outputId": "0b618256-652e-4106-dba1-b1fbc717a177",
        "colab": {
          "base_uri": "https://localhost:8080/",
          "height": 204
        }
      },
      "source": [
        "election_tweets.head()"
      ],
      "execution_count": 0,
      "outputs": [
        {
          "output_type": "execute_result",
          "data": {
            "text/html": [
              "<div>\n",
              "<style scoped>\n",
              "    .dataframe tbody tr th:only-of-type {\n",
              "        vertical-align: middle;\n",
              "    }\n",
              "\n",
              "    .dataframe tbody tr th {\n",
              "        vertical-align: top;\n",
              "    }\n",
              "\n",
              "    .dataframe thead th {\n",
              "        text-align: right;\n",
              "    }\n",
              "</style>\n",
              "<table border=\"1\" class=\"dataframe\">\n",
              "  <thead>\n",
              "    <tr style=\"text-align: right;\">\n",
              "      <th></th>\n",
              "      <th>sentiment</th>\n",
              "      <th>negative_reason</th>\n",
              "      <th>text</th>\n",
              "      <th>party</th>\n",
              "    </tr>\n",
              "  </thead>\n",
              "  <tbody>\n",
              "    <tr>\n",
              "      <th>0</th>\n",
              "      <td>0</td>\n",
              "      <td>Women Reproductive right and Racism</td>\n",
              "      <td>b rosiebarton so instead of your suggestion ho...</td>\n",
              "      <td>conservative</td>\n",
              "    </tr>\n",
              "    <tr>\n",
              "      <th>1</th>\n",
              "      <td>1</td>\n",
              "      <td>NaN</td>\n",
              "      <td>b allwomanspacewalk it real etobicokenorth cit...</td>\n",
              "      <td>none</td>\n",
              "    </tr>\n",
              "    <tr>\n",
              "      <th>2</th>\n",
              "      <td>0</td>\n",
              "      <td>Economy</td>\n",
              "      <td>b brantford it going to cost you billion for t...</td>\n",
              "      <td>liberal</td>\n",
              "    </tr>\n",
              "    <tr>\n",
              "      <th>3</th>\n",
              "      <td>1</td>\n",
              "      <td>NaN</td>\n",
              "      <td>b canada canadavotes decide this should help</td>\n",
              "      <td>none</td>\n",
              "    </tr>\n",
              "    <tr>\n",
              "      <th>4</th>\n",
              "      <td>0</td>\n",
              "      <td>Economy</td>\n",
              "      <td>b canada taxpayers are sick amp tired of havin...</td>\n",
              "      <td>liberal</td>\n",
              "    </tr>\n",
              "  </tbody>\n",
              "</table>\n",
              "</div>"
            ],
            "text/plain": [
              "   sentiment  ...         party\n",
              "0          0  ...  conservative\n",
              "1          1  ...          none\n",
              "2          0  ...       liberal\n",
              "3          1  ...          none\n",
              "4          0  ...       liberal\n",
              "\n",
              "[5 rows x 4 columns]"
            ]
          },
          "metadata": {
            "tags": []
          },
          "execution_count": 66
        }
      ]
    },
    {
      "cell_type": "code",
      "metadata": {
        "id": "pRUZzuQ4wNNM",
        "colab_type": "code",
        "outputId": "d3fa8c4a-dceb-46fa-9561-241b31308653",
        "colab": {
          "base_uri": "https://localhost:8080/",
          "height": 54
        }
      },
      "source": [
        "\n",
        "reasons=election_tweets['negative_reason'].unique()\n",
        "reasons=reasons.tolist()\n",
        "cleanedList = [x for x in reasons if str(x) != 'nan']#remove nan\n",
        "print(cleanedList)"
      ],
      "execution_count": 0,
      "outputs": [
        {
          "output_type": "stream",
          "text": [
            "['Women Reproductive right and Racism', 'Economy', 'Others', 'Scandal', 'Tell lies', 'Privilege', 'Climate Problem', 'Healthcare', 'Separation', 'Healthcare and Marijuana']\n"
          ],
          "name": "stdout"
        }
      ]
    },
    {
      "cell_type": "code",
      "metadata": {
        "id": "Ycmz4Q99yWBN",
        "colab_type": "code",
        "colab": {}
      },
      "source": [
        "'''def one_HotEncoding(data,label_List):\n",
        "  \n",
        "  a = np.zeros(shape=(len(data),10))\n",
        "  #print(a.shape)\n",
        "  result=pd.DataFrame(a,columns=label_List)\n",
        "  print(result.shape)\n",
        "  for index in range(len(data)):\n",
        "    result.loc[index,data[index]]=1\n",
        "    #print(data[index][1])\n",
        "  #print(result.shape)\n",
        "  \n",
        "  return result'''\n",
        "def one_HotEncoding(data,label_List):\n",
        "  label_Dict={'Women Reproductive right and Racism':1,'Economy':2,'Others':3,'Scandal':4,'Tell lies':5,'Privilege':6,'Climate Problem':7,'Healthcare':8,'Separation':9, 'Healthcare and Marijuana':10}\n",
        "  a = np.zeros(shape=(len(data),1))\n",
        "  #print(a.shape)\n",
        "  result=pd.DataFrame(a,columns=['label'])\n",
        "  print(result.shape)\n",
        "  for index in range(len(data)):\n",
        "    result.loc[index,'label']=label_Dict[data[index]]\n",
        "    #print(data[index][1])\n",
        "  #print(result.shape)\n",
        "  \n",
        "  return result"
      ],
      "execution_count": 0,
      "outputs": []
    },
    {
      "cell_type": "code",
      "metadata": {
        "id": "z2lKX6pfzjGI",
        "colab_type": "code",
        "outputId": "806cc02b-fc03-4156-8cf8-9b3cfeec1510",
        "colab": {
          "base_uri": "https://localhost:8080/",
          "height": 34
        }
      },
      "source": [
        "labeled_election_tweets=election_tweets[election_tweets['negative_reason'].notnull()]\n",
        "\n",
        "onehot_Label=one_HotEncoding(labeled_election_tweets['negative_reason'].values,cleanedList)"
      ],
      "execution_count": 0,
      "outputs": [
        {
          "output_type": "stream",
          "text": [
            "(1007, 1)\n"
          ],
          "name": "stdout"
        }
      ]
    },
    {
      "cell_type": "code",
      "metadata": {
        "id": "IrLmeyIz3D60",
        "colab_type": "code",
        "outputId": "3e8b3c4f-4402-4508-f3df-3ea2d773e394",
        "colab": {
          "base_uri": "https://localhost:8080/",
          "height": 204
        }
      },
      "source": [
        "onehot_Label.head()"
      ],
      "execution_count": 0,
      "outputs": [
        {
          "output_type": "execute_result",
          "data": {
            "text/html": [
              "<div>\n",
              "<style scoped>\n",
              "    .dataframe tbody tr th:only-of-type {\n",
              "        vertical-align: middle;\n",
              "    }\n",
              "\n",
              "    .dataframe tbody tr th {\n",
              "        vertical-align: top;\n",
              "    }\n",
              "\n",
              "    .dataframe thead th {\n",
              "        text-align: right;\n",
              "    }\n",
              "</style>\n",
              "<table border=\"1\" class=\"dataframe\">\n",
              "  <thead>\n",
              "    <tr style=\"text-align: right;\">\n",
              "      <th></th>\n",
              "      <th>label</th>\n",
              "    </tr>\n",
              "  </thead>\n",
              "  <tbody>\n",
              "    <tr>\n",
              "      <th>0</th>\n",
              "      <td>1.0</td>\n",
              "    </tr>\n",
              "    <tr>\n",
              "      <th>1</th>\n",
              "      <td>2.0</td>\n",
              "    </tr>\n",
              "    <tr>\n",
              "      <th>2</th>\n",
              "      <td>2.0</td>\n",
              "    </tr>\n",
              "    <tr>\n",
              "      <th>3</th>\n",
              "      <td>3.0</td>\n",
              "    </tr>\n",
              "    <tr>\n",
              "      <th>4</th>\n",
              "      <td>3.0</td>\n",
              "    </tr>\n",
              "  </tbody>\n",
              "</table>\n",
              "</div>"
            ],
            "text/plain": [
              "   label\n",
              "0    1.0\n",
              "1    2.0\n",
              "2    2.0\n",
              "3    3.0\n",
              "4    3.0"
            ]
          },
          "metadata": {
            "tags": []
          },
          "execution_count": 70
        }
      ]
    },
    {
      "cell_type": "code",
      "metadata": {
        "id": "e9r7bWQKG_1r",
        "colab_type": "code",
        "colab": {}
      },
      "source": [
        "l1=labeled_election_tweets.index\n",
        "l2=np.arange(0,len(l1))\n",
        "labeled_election_tweets = labeled_election_tweets.rename(index=dict(zip(l1,l2)))#rename dataframe index!!!!\n",
        "labeled_election_tweets=pd.concat([labeled_election_tweets,onehot_Label],axis=1)#combine two dataframe!!!"
      ],
      "execution_count": 0,
      "outputs": []
    },
    {
      "cell_type": "code",
      "metadata": {
        "id": "p8Geu3Ft4LS6",
        "colab_type": "code",
        "outputId": "4c42ec99-e157-48cc-eace-94da23c047cf",
        "colab": {
          "base_uri": "https://localhost:8080/",
          "height": 204
        }
      },
      "source": [
        "labeled_election_tweets.head()"
      ],
      "execution_count": 0,
      "outputs": [
        {
          "output_type": "execute_result",
          "data": {
            "text/html": [
              "<div>\n",
              "<style scoped>\n",
              "    .dataframe tbody tr th:only-of-type {\n",
              "        vertical-align: middle;\n",
              "    }\n",
              "\n",
              "    .dataframe tbody tr th {\n",
              "        vertical-align: top;\n",
              "    }\n",
              "\n",
              "    .dataframe thead th {\n",
              "        text-align: right;\n",
              "    }\n",
              "</style>\n",
              "<table border=\"1\" class=\"dataframe\">\n",
              "  <thead>\n",
              "    <tr style=\"text-align: right;\">\n",
              "      <th></th>\n",
              "      <th>sentiment</th>\n",
              "      <th>negative_reason</th>\n",
              "      <th>text</th>\n",
              "      <th>party</th>\n",
              "      <th>label</th>\n",
              "    </tr>\n",
              "  </thead>\n",
              "  <tbody>\n",
              "    <tr>\n",
              "      <th>0</th>\n",
              "      <td>0</td>\n",
              "      <td>Women Reproductive right and Racism</td>\n",
              "      <td>b rosiebarton so instead of your suggestion ho...</td>\n",
              "      <td>conservative</td>\n",
              "      <td>1.0</td>\n",
              "    </tr>\n",
              "    <tr>\n",
              "      <th>1</th>\n",
              "      <td>0</td>\n",
              "      <td>Economy</td>\n",
              "      <td>b brantford it going to cost you billion for t...</td>\n",
              "      <td>liberal</td>\n",
              "      <td>2.0</td>\n",
              "    </tr>\n",
              "    <tr>\n",
              "      <th>2</th>\n",
              "      <td>0</td>\n",
              "      <td>Economy</td>\n",
              "      <td>b canada taxpayers are sick amp tired of havin...</td>\n",
              "      <td>liberal</td>\n",
              "      <td>2.0</td>\n",
              "    </tr>\n",
              "    <tr>\n",
              "      <th>3</th>\n",
              "      <td>0</td>\n",
              "      <td>Others</td>\n",
              "      <td>b cdnpoli facts blastfromthepast in conservati...</td>\n",
              "      <td>conservative</td>\n",
              "      <td>3.0</td>\n",
              "    </tr>\n",
              "    <tr>\n",
              "      <th>4</th>\n",
              "      <td>0</td>\n",
              "      <td>Others</td>\n",
              "      <td>b chooseforward cdnpoli do make america mistak...</td>\n",
              "      <td>none</td>\n",
              "      <td>3.0</td>\n",
              "    </tr>\n",
              "  </tbody>\n",
              "</table>\n",
              "</div>"
            ],
            "text/plain": [
              "   sentiment                      negative_reason  ...         party label\n",
              "0          0  Women Reproductive right and Racism  ...  conservative   1.0\n",
              "1          0                              Economy  ...       liberal   2.0\n",
              "2          0                              Economy  ...       liberal   2.0\n",
              "3          0                               Others  ...  conservative   3.0\n",
              "4          0                               Others  ...          none   3.0\n",
              "\n",
              "[5 rows x 5 columns]"
            ]
          },
          "metadata": {
            "tags": []
          },
          "execution_count": 72
        }
      ]
    },
    {
      "cell_type": "code",
      "metadata": {
        "id": "tqwGqlnuIaFO",
        "colab_type": "code",
        "colab": {}
      },
      "source": [
        "tfidf_election=getTfidfFeatures(labeled_election_tweets['text'])"
      ],
      "execution_count": 0,
      "outputs": []
    },
    {
      "cell_type": "code",
      "metadata": {
        "id": "GtYctS81H_z0",
        "colab_type": "code",
        "colab": {}
      },
      "source": [
        "elec_trainData,elec_testData,elec_trainLabel,elec_testLabel=train_test_split(tfidf_election, onehot_Label, test_size=0.3)"
      ],
      "execution_count": 0,
      "outputs": []
    },
    {
      "cell_type": "code",
      "metadata": {
        "id": "yZoZ0rKKIw7D",
        "colab_type": "code",
        "outputId": "bfe6bc70-d750-43b1-c6a7-d87bced5f21b",
        "colab": {
          "base_uri": "https://localhost:8080/",
          "height": 156
        }
      },
      "source": [
        "elecLG_train,elecLG_test=Log_Reg(elec_trainData, elec_trainLabel, elec_testData, elec_testLabel)\n",
        "print(elecLG_train,elecLG_test)"
      ],
      "execution_count": 0,
      "outputs": [
        {
          "output_type": "stream",
          "text": [
            "0.6221590909090909 0.429042904290429\n"
          ],
          "name": "stdout"
        },
        {
          "output_type": "stream",
          "text": [
            "/usr/local/lib/python3.6/dist-packages/sklearn/linear_model/logistic.py:432: FutureWarning: Default solver will be changed to 'lbfgs' in 0.22. Specify a solver to silence this warning.\n",
            "  FutureWarning)\n",
            "/usr/local/lib/python3.6/dist-packages/sklearn/utils/validation.py:724: DataConversionWarning: A column-vector y was passed when a 1d array was expected. Please change the shape of y to (n_samples, ), for example using ravel().\n",
            "  y = column_or_1d(y, warn=True)\n",
            "/usr/local/lib/python3.6/dist-packages/sklearn/linear_model/logistic.py:469: FutureWarning: Default multi_class will be changed to 'auto' in 0.22. Specify the multi_class option to silence this warning.\n",
            "  \"this warning.\", FutureWarning)\n"
          ],
          "name": "stderr"
        }
      ]
    },
    {
      "cell_type": "code",
      "metadata": {
        "id": "0Gd5rfFhNujY",
        "colab_type": "code",
        "outputId": "192b1d3c-45d6-4414-cdf1-151eae148633",
        "colab": {
          "base_uri": "https://localhost:8080/",
          "height": 88
        }
      },
      "source": [
        "elecNB_train,elecNB_test=nbClassifier(elec_trainData, elec_trainLabel, elec_testData, elec_testLabel)\n",
        "print(elecNB_train,elecNB_test)"
      ],
      "execution_count": 0,
      "outputs": [
        {
          "output_type": "stream",
          "text": [
            "0.703125 0.3432343234323432\n"
          ],
          "name": "stdout"
        },
        {
          "output_type": "stream",
          "text": [
            "/usr/local/lib/python3.6/dist-packages/sklearn/utils/validation.py:724: DataConversionWarning: A column-vector y was passed when a 1d array was expected. Please change the shape of y to (n_samples, ), for example using ravel().\n",
            "  y = column_or_1d(y, warn=True)\n"
          ],
          "name": "stderr"
        }
      ]
    },
    {
      "cell_type": "code",
      "metadata": {
        "id": "sxXgz4xkOAQg",
        "colab_type": "code",
        "outputId": "cf510fac-bf74-4984-ed5a-af7cc41149f0",
        "colab": {
          "base_uri": "https://localhost:8080/",
          "height": 85
        }
      },
      "source": [
        "elecDT_train,elecDT_test=DTClassfier(elec_trainData, elec_trainLabel, elec_testData, elec_testLabel)\n",
        "print(elecDT_train,elecDT_test)"
      ],
      "execution_count": 0,
      "outputs": [
        {
          "output_type": "stream",
          "text": [
            "fit\n",
            "train\n",
            "test\n",
            "0.5553977272727273 0.46534653465346537\n"
          ],
          "name": "stdout"
        }
      ]
    },
    {
      "cell_type": "markdown",
      "metadata": {
        "id": "ePPIEr1nedxp",
        "colab_type": "text"
      },
      "source": [
        "Potential Wrong Prediciton Cause: Some tweets criticized more than one aspect of the party like in tweet 276 was labeled as tell lies but the publisher also criticized the women rights, thus may introduce some misleading information for classification. In addition, the label is not in one hot format, for some high valued label like 9 and 10, these labels are biased compared to others, which make the model hard to converge on them."
      ]
    },
    {
      "cell_type": "markdown",
      "metadata": {
        "id": "RWh-iaWXghty",
        "colab_type": "text"
      },
      "source": [
        "Ways to Improve:\n",
        "1.Increase the dimension of feature space, so that the chances of election tweets and generic tweet to have same feature will increase.\n",
        "2.\n",
        "The sklearn classifier take one dimension label which force me to mark the different reasons as values from 1 to 10 which is not so well as one hot encoding label, convert the label into one hot format should be able to improve the performance of the second model."
      ]
    },
    {
      "cell_type": "markdown",
      "metadata": {
        "id": "QDeUOMeZf6W8",
        "colab_type": "text"
      },
      "source": [
        "#Bonus"
      ]
    },
    {
      "cell_type": "markdown",
      "metadata": {
        "id": "2VFiNqat64Tz",
        "colab_type": "text"
      },
      "source": [
        "###N_Gram Feature Extraction"
      ]
    },
    {
      "cell_type": "code",
      "metadata": {
        "id": "dLnWbGKz62r-",
        "colab_type": "code",
        "colab": {}
      },
      "source": [
        "import re\n",
        "import gensim\n",
        "from nltk.util import ngrams\n",
        "from sklearn.feature_extraction.text import CountVectorizer"
      ],
      "execution_count": 0,
      "outputs": []
    },
    {
      "cell_type": "code",
      "metadata": {
        "id": "Sjy-YpTuhJQI",
        "colab_type": "code",
        "outputId": "a1af383a-b83e-4acd-b474-12882527c92e",
        "colab": {
          "base_uri": "https://localhost:8080/",
          "height": 323
        }
      },
      "source": [
        "generic_tweets.head()"
      ],
      "execution_count": 0,
      "outputs": [
        {
          "output_type": "execute_result",
          "data": {
            "text/html": [
              "<div>\n",
              "<style scoped>\n",
              "    .dataframe tbody tr th:only-of-type {\n",
              "        vertical-align: middle;\n",
              "    }\n",
              "\n",
              "    .dataframe tbody tr th {\n",
              "        vertical-align: top;\n",
              "    }\n",
              "\n",
              "    .dataframe thead th {\n",
              "        text-align: right;\n",
              "    }\n",
              "</style>\n",
              "<table border=\"1\" class=\"dataframe\">\n",
              "  <thead>\n",
              "    <tr style=\"text-align: right;\">\n",
              "      <th></th>\n",
              "      <th>class</th>\n",
              "      <th>id</th>\n",
              "      <th>date</th>\n",
              "      <th>query</th>\n",
              "      <th>user</th>\n",
              "      <th>text</th>\n",
              "      <th>cleaned_text</th>\n",
              "    </tr>\n",
              "  </thead>\n",
              "  <tbody>\n",
              "    <tr>\n",
              "      <th>0</th>\n",
              "      <td>0</td>\n",
              "      <td>1467810369</td>\n",
              "      <td>Mon Apr 06 22:19:45 PDT 2009</td>\n",
              "      <td>NO_QUERY</td>\n",
              "      <td>_TheSpecialOne_</td>\n",
              "      <td>@switchfoot http://twitpic.com/2y1zl - Awww, t...</td>\n",
              "      <td>switchfoot awww bummer shoulda david carr thir...</td>\n",
              "    </tr>\n",
              "    <tr>\n",
              "      <th>1</th>\n",
              "      <td>0</td>\n",
              "      <td>1467810672</td>\n",
              "      <td>Mon Apr 06 22:19:49 PDT 2009</td>\n",
              "      <td>NO_QUERY</td>\n",
              "      <td>scotthamilton</td>\n",
              "      <td>is upset that he can't update his Facebook by ...</td>\n",
              "      <td>upset cant update facebook texting cry result ...</td>\n",
              "    </tr>\n",
              "    <tr>\n",
              "      <th>2</th>\n",
              "      <td>0</td>\n",
              "      <td>1467810917</td>\n",
              "      <td>Mon Apr 06 22:19:53 PDT 2009</td>\n",
              "      <td>NO_QUERY</td>\n",
              "      <td>mattycus</td>\n",
              "      <td>@Kenichan I dived many times for the ball. Man...</td>\n",
              "      <td>kenichan dived times ball managed save 50 rest...</td>\n",
              "    </tr>\n",
              "    <tr>\n",
              "      <th>3</th>\n",
              "      <td>0</td>\n",
              "      <td>1467811184</td>\n",
              "      <td>Mon Apr 06 22:19:57 PDT 2009</td>\n",
              "      <td>NO_QUERY</td>\n",
              "      <td>ElleCTF</td>\n",
              "      <td>my whole body feels itchy and like its on fire</td>\n",
              "      <td>body feels itchy fire</td>\n",
              "    </tr>\n",
              "    <tr>\n",
              "      <th>4</th>\n",
              "      <td>0</td>\n",
              "      <td>1467811193</td>\n",
              "      <td>Mon Apr 06 22:19:57 PDT 2009</td>\n",
              "      <td>NO_QUERY</td>\n",
              "      <td>Karoli</td>\n",
              "      <td>@nationwideclass no, it's not behaving at all....</td>\n",
              "      <td>nationwideclass behaving mad cant</td>\n",
              "    </tr>\n",
              "  </tbody>\n",
              "</table>\n",
              "</div>"
            ],
            "text/plain": [
              "   class  ...                                       cleaned_text\n",
              "0      0  ...  switchfoot awww bummer shoulda david carr thir...\n",
              "1      0  ...  upset cant update facebook texting cry result ...\n",
              "2      0  ...  kenichan dived times ball managed save 50 rest...\n",
              "3      0  ...                              body feels itchy fire\n",
              "4      0  ...                  nationwideclass behaving mad cant\n",
              "\n",
              "[5 rows x 7 columns]"
            ]
          },
          "metadata": {
            "tags": []
          },
          "execution_count": 86
        }
      ]
    },
    {
      "cell_type": "code",
      "metadata": {
        "id": "31sXh2RuFyzj",
        "colab_type": "code",
        "outputId": "d85d48b4-e421-4935-ed96-1122c2324f1d",
        "colab": {
          "base_uri": "https://localhost:8080/",
          "height": 34
        }
      },
      "source": [
        "generic_CTs=generic_tweets['cleaned_text'].apply(lambda data: nltk.word_tokenize(data))\n",
        "generic_CTs=generic_CTs.apply(lambda x: [item for item in x if item.isalpha()])\n",
        "\n",
        "#list(ngrams(['van','bill','arthur','car','sword'], 3))\n",
        "'''counter=CountVectorizer(ngram_range=(2,2))\n",
        "X = counter.fit_transform(generic_tweets['cleaned_text'].values)'''"
      ],
      "execution_count": 0,
      "outputs": [
        {
          "output_type": "execute_result",
          "data": {
            "text/plain": [
              "\"counter=CountVectorizer(ngram_range=(2,2))\\nX = counter.fit_transform(generic_tweets['cleaned_text'].values)\""
            ]
          },
          "metadata": {
            "tags": []
          },
          "execution_count": 101
        }
      ]
    },
    {
      "cell_type": "code",
      "metadata": {
        "id": "XKlryg9qV7tO",
        "colab_type": "code",
        "outputId": "2ee8c36e-b125-4ca2-e36b-9bca860d80b8",
        "colab": {
          "base_uri": "https://localhost:8080/",
          "height": 71
        }
      },
      "source": [
        "ngram_Tweets=generic_CTs.apply(lambda data:ngrams(data,2) )\n",
        "ngram_Tweets=ngram_Tweets.apply(lambda data:list(data) )"
      ],
      "execution_count": 0,
      "outputs": [
        {
          "output_type": "stream",
          "text": [
            "/usr/local/lib/python3.6/dist-packages/ipykernel_launcher.py:2: DeprecationWarning: generator 'ngrams' raised StopIteration\n",
            "  \n"
          ],
          "name": "stderr"
        }
      ]
    },
    {
      "cell_type": "code",
      "metadata": {
        "id": "2ZEQFrb9ZkBS",
        "colab_type": "code",
        "colab": {}
      },
      "source": [
        "ngram_list=[]\n",
        "for item in ngram_Tweets:\n",
        "  for x in item:\n",
        "    x=' '.join(x)\n",
        "    ngram_list.append(x)"
      ],
      "execution_count": 0,
      "outputs": []
    },
    {
      "cell_type": "code",
      "metadata": {
        "id": "k2ZaN5eCSCX4",
        "colab_type": "code",
        "colab": {}
      },
      "source": [
        "counter=Counter()\n",
        "counter.update(item for item in ngram_list)"
      ],
      "execution_count": 0,
      "outputs": []
    },
    {
      "cell_type": "code",
      "metadata": {
        "id": "eN5pRfVvcpYr",
        "colab_type": "code",
        "colab": {}
      },
      "source": [
        "ngramfeature_List=counter.most_common(500)"
      ],
      "execution_count": 0,
      "outputs": []
    },
    {
      "cell_type": "code",
      "metadata": {
        "id": "4IDlf4RIQiWv",
        "colab_type": "code",
        "outputId": "857b8a04-9ac3-4457-fda1-542a7f6635b0",
        "colab": {
          "base_uri": "https://localhost:8080/",
          "height": 54
        }
      },
      "source": [
        "for index in range(len(ngramfeature_List)):\n",
        "  ngramfeature_List[index]=ngramfeature_List[index][0]\n",
        "print(ngramfeature_List)"
      ],
      "execution_count": 0,
      "outputs": [
        {
          "output_type": "stream",
          "text": [
            "['cant wait', 'good morning', 'cant sleep', 'mothers day', 'good night', 'good luck', 'going bed', 'good day', 'great day', 'feel better', 'dont wan', 'cant find', 'happy birthday', 'school tomorrow', 'work tomorrow', 'work today', 'beautiful day', 'day today', 'dont feel', 'nice day', 'long day', 'swine flu', 'going sleep', 'happy mothers', 'day work', 'ice cream', 'long time', 'fall asleep', 'bank holiday', 'ready work', 'great time', 'sunny day', 'feel bad', 'good thing', 'hannah montana', 'good time', 'going work', 'pretty good', 'sun shining', 'best friend', 'hope great', 'sounds good', 'wait till', 'doesnt work', 'feeling better', 'hope good', 'dont work', 'day tomorrow', 'good times', 'dont worry', 'great weekend', 'feel good', 'ha ha', 'great night', 'hope well', 'star trek', 'sore throat', 'feeling well', 'lovely day', 'sunday morning', 'sweet dreams', 'hours sleep', 'hope feel', 'didnt work', 'spring break', 'late night', 'going school', 'feel sick', 'saturday night', 'today going', 'fell asleep', 'night night', 'sleep well', 'pretty sure', 'dont forget', 'busy day', 'love song', 'feeling good', 'sleep night', 'time work', 'time bed', 'going watch', 'school today', 'today good', 'dont understand', 'love ya', 'love love', 'good idea', 'work work', 'work day', 'monday morning', 'sad day', 'jonas brothers', 'rainy day', 'guess ill', 'tomorrow morning', 'day school', 'today will', 'ta work', 'early morning', 'sure will', 'head hurts', 'good news', 'high school', 'bad day', 'cant help', 'start day', 'god bless', 'well good', 'bed time', 'wide awake', 'isnt working', 'fun night', 'friday night', 'fun day', 'sounds fun', 'ta love', 'years ago', 'watching tv', 'montana movie', 'glad hear', 'hope dont', 'nice weather', 'throat hurts', 'tummy hurts', 'keep company', 'dont care', 'listening music', 'good weekend', 'hope better', 'lol well', 'gon watch', 'ready school', 'tomorrow night', 'laying bed', 'happy sunday', 'poor thing', 'cant watch', 'work week', 'bed early', 'going well', 'gossip girl', 'will work', 'day will', 'cant fall', 'dont school', 'watch tv', 'fingers crossed', 'best friends', 'work morning', 'long weekend', 'today day', 'tomorrow going', 'haha yeah', 'lol good', 'bye bye', 'bad times', 'going good', 'lol dont', 'love guys', 'rain rain', 'work tonight', 'night good', 'good job', 'life good', 'birthday party', 'bad news', 'morning hope', 'dont mind', 'didnt win', 'today dont', 'hope will', 'day going', 'ready bed', 'find good', 'wan work', 'feel free', 'hope fun', 'good stuff', 'time sleep', 'nice meet', 'pretty cool', 'lol love', 'tomorrow will', 'half hour', 'stuck inside', 'didnt sleep', 'ill keep', 'happy bday', 'cant afford', 'morning twitter', 'haha love', 'lonely keep', 'company female', 'bed night', 'wake early', 'will better', 'ive heard', 'day yesterday', 'rest day', 'hard work', 'good good', 'dont leave', 'harry potter', 'sad face', 'falling asleep', 'couple days', 'sleep tonight', 'blog post', 'fun fun', 'better today', 'work hours', 'well ill', 'gettin ready', 'watch movie', 'ill check', 'gorgeous day', 'school work', 'day ahead', 'hopefully will', 'work time', 'miley cyrus', 'days till', 'dont love', 'people follow', 'awesome day', 'good afternoon', 'finished watching', 'dont will', 'bed work', 'work going', 'sad cant', 'feels good', 'going church', 'day good', 'going shopping', 'forward tweets', 'joined twitter', 'going today', 'time will', 'twitter thing', 'gon sleep', 'days left', 'people dont', 'lol yeah', 'stuck work', 'sooo tired', 'big time', 'bike ride', 'day week', 'tummy ache', 'wan watch', 'ill send', 'cant remember', 'dont going', 'susan boyle', 'wonderful day', 'good hear', 'feeling sick', 'cant work', 'well hope', 'will good', 'ipod touch', 'good work', 'taylor swift', 'comic book', 'going long', 'dont ill', 'doesnt feel', 'love life', 'spending day', 'heading bed', 'twitter account', 'day long', 'hair cut', 'hey hey', 'well guess', 'tweet tweet', 'tweetie mac', 'morning good', 'san diego', 'well today', 'ive lost', 'couple weeks', 'help find', 'spend time', 'sunday night', 'weeks ago', 'well time', 'hope enjoy', 'best day', 'day love', 'wan sleep', 'early tomorrow', 'hate sick', 'exam tomorrow', 'poor baby', 'hours ago', 'sleep good', 'hey guys', 'tired cant', 'woke early', 'work dont', 'nice sunny', 'enjoy day', 'lot fun', 'great job', 'sad sad', 'dont hate', 'day day', 'tomorrow day', 'work early', 'good today', 'bad cant', 'day amp', 'today work', 'love movie', 'boom boom', 'sleep cant', 'big fan', 'night sleep', 'david cook', 'cant eat', 'will love', 'haha well', 'good start', 'stuck head', 'sounds great', 'cell phone', 'well dont', 'days ago', 'spent day', 'family guy', 'britney spears', 'watching movie', 'will help', 'long night', 'good mood', 'will keep', 'peanut butter', 'feel going', 'hard time', 'holy crap', 'bad dont', 'good friend', 'day hope', 'happy monday', 'love ur', 'feeling bit', 'couple hours', 'finally going', 'bed good', 'dont time', 'feel well', 'hope feeling', 'today well', 'cup tea', 'good movie', 'going great', 'full day', 'didnt realize', 'happy day', 'dont sleep', 'hope doesnt', 'great start', 'amp cant', 'haha good', 'working today', 'work till', 'today cant', 'stomach hurts', 'dont twitter', 'saturday morning', 'woo hoo', 'time dont', 'feel crap', 'great idea', 'cant bothered', 'haha dont', 'wait hear', 'amazing night', 'american idol', 'day time', 'nighty night', 'twitter friends', 'work well', 'tired work', 'ugh hate', 'work good', 'will check', 'red bull', 'lady gaga', 'guitar hero', 'today hope', 'hope ur', 'weather today', 'profile pic', 'finally finished', 'xmen origins', 'free comic', 'hugh jackman', 'dont dont', 'spending time', 'hurts bad', 'feet hurt', 'uni work', 'ready day', 'good weather', 'ill watch', 'time time', 'music video', 'work cant', 'nice weekend', 'star wars', 'happy happy', 'dont good', 'havent heard', 'well going', 'feel sad', 'time night', 'hate school', 'super tired', 'awesome time', 'night twitter', 'day lol', 'cleaning room', 'spend day', 'goin bed', 'today gon', 'good things', 'good hope', 'britains talent', 'morning beautiful', 'direct message', 'going tonight', 'figure twitter', 'feel pain', 'yeah good', 'feels better', 'ill wait', 'tired dont', 'work will', 'beautiful weather', 'love twitter', 'ready church', 'going buy', 'love music', 'morning work', 'day ill', 'lot work', 'time day', 'cup coffee', 'sleep work', 'isnt going', 'bad idea', 'road trip', 'working day', 'clean room', 'day cant', 'time today', 'hopefully ill', 'today tomorrow', 'good sleep', 'boring day', 'cant stand', 'tonight cant', 'good friends', 'time start', 'shopping today', 'day dont', 'wan school', 'tomorrow school', 'live gt', 'better day', 'stay awake', 'ive missed', 'lost game', 'twitter lol', 'dont remember', 'sure ill', 'doesnt sound', 'lovely sunny', 'day weekend', 'night fun', 'party tonight', 'bday party', 'huge fan', 'lazy sunday', 'time good', 'lost help', 'working hard', 'busy week', 'sad didnt', 'going rain', 'sick today', 'hope find', 'friends twitter', 'well well', 'going eat', 'yeah ive']\n"
          ],
          "name": "stdout"
        }
      ]
    },
    {
      "cell_type": "markdown",
      "metadata": {
        "id": "u8ZyMAGAlNW7",
        "colab_type": "text"
      },
      "source": [
        "I used a bigram processing tool from nltk and selected the top 500 2-grams by term frequency, the extracted 2-grams phrases can be used to form a training dataset via word2vec or other embedding methods."
      ]
    },
    {
      "cell_type": "markdown",
      "metadata": {
        "id": "QAyCWw2393KN",
        "colab_type": "text"
      },
      "source": [
        "###RNN Text Classification"
      ]
    },
    {
      "cell_type": "code",
      "metadata": {
        "id": "IsvEkcZl98s7",
        "colab_type": "code",
        "colab": {}
      },
      "source": [
        "import pandas as pd\n",
        "from __future__ import absolute_import, division, print_function, unicode_literals\n",
        "\n",
        "import collections\n",
        "import matplotlib.pyplot as plt\n",
        "import numpy as np\n",
        "\n",
        "from sklearn.model_selection import train_test_split\n",
        "\n",
        "\n",
        "try:\n",
        "  # %tensorflow_version only exists in Colab.\n",
        "  %tensorflow_version 2.x\n",
        "except Exception:\n",
        "  pass\n",
        "import tensorflow as tf"
      ],
      "execution_count": 0,
      "outputs": []
    },
    {
      "cell_type": "code",
      "metadata": {
        "id": "I9SdGWeOjznJ",
        "colab_type": "code",
        "outputId": "a5c6eb91-b746-4c7a-cf39-871e629f8124",
        "colab": {
          "base_uri": "https://localhost:8080/",
          "height": 34
        }
      },
      "source": [
        "print(tf.__version__)"
      ],
      "execution_count": 0,
      "outputs": [
        {
          "output_type": "stream",
          "text": [
            "2.0.0\n"
          ],
          "name": "stdout"
        }
      ]
    },
    {
      "cell_type": "code",
      "metadata": {
        "id": "wVbzgdLJ-XjD",
        "colab_type": "code",
        "outputId": "e9e4c989-ff99-4782-a10d-aec42574aa66",
        "colab": {
          "base_uri": "https://localhost:8080/",
          "height": 34
        }
      },
      "source": [
        "from __future__ import print_function\n",
        "\n",
        "from keras.preprocessing import sequence\n",
        "from keras.models import Sequential\n",
        "from keras.layers import Dense, Embedding,Dropout,Flatten\n",
        "from keras.layers import LSTM\n",
        "from keras.preprocessing import sequence"
      ],
      "execution_count": 0,
      "outputs": [
        {
          "output_type": "stream",
          "text": [
            "Using TensorFlow backend.\n"
          ],
          "name": "stderr"
        }
      ]
    },
    {
      "cell_type": "code",
      "metadata": {
        "id": "Qw-XkhaA-e7d",
        "colab_type": "code",
        "colab": {}
      },
      "source": [
        "model=tf.keras.Sequential()\n",
        "model.add(tf.keras.layers.LSTM(128,activation='relu'))\n",
        "model.add(tf.keras.layers.Flatten())\n",
        "model.add(tf.keras.layers.Dense(1, activation='sigmoid'))"
      ],
      "execution_count": 0,
      "outputs": []
    },
    {
      "cell_type": "code",
      "metadata": {
        "id": "bcfOiyST-l-2",
        "colab_type": "code",
        "colab": {}
      },
      "source": [
        "model.compile(loss='mean_squared_error',\n",
        "              optimizer='rmsprop',\n",
        "              metrics=['accuracy'])\n"
      ],
      "execution_count": 0,
      "outputs": []
    },
    {
      "cell_type": "code",
      "metadata": {
        "id": "-n5nHEsG-qnU",
        "colab_type": "code",
        "colab": {}
      },
      "source": [
        "tfidf_trainData=tfidf_trainData.values\n",
        "tfidf_trainLabel=tfidf_trainLabel.values\n",
        "tfidf_testData=tfidf_testData.values\n",
        "tfidf_testLabel=tfidf_testLabel.values\n",
        "\n",
        "\n",
        "tfidf_trainData = np.reshape(tfidf_trainData, (tfidf_trainData.shape[0], 1, tfidf_trainData.shape[1]))\n",
        "tfidf_testData = np.reshape(tfidf_testData, (tfidf_testData.shape[0], 1, tfidf_testData.shape[1]))\n",
        "\n"
      ],
      "execution_count": 0,
      "outputs": []
    },
    {
      "cell_type": "code",
      "metadata": {
        "id": "3Ohpg-uyCvi7",
        "colab_type": "code",
        "outputId": "5505ba80-7d11-41fb-f667-3820c4b65dcf",
        "colab": {
          "base_uri": "https://localhost:8080/",
          "height": 241
        }
      },
      "source": [
        "model.fit(tfidf_trainData,tfidf_trainLabel,\n",
        "          batch_size=100,\n",
        "          epochs=5,\n",
        "          validation_data=(tfidf_testData[:10000], tfidf_testLabel[:10000]))"
      ],
      "execution_count": 0,
      "outputs": [
        {
          "output_type": "stream",
          "text": [
            "Train on 140000 samples, validate on 10000 samples\n",
            "Epoch 1/5\n",
            "140000/140000 [==============================] - 19s 134us/sample - loss: 0.1914 - accuracy: 0.7005 - val_loss: 0.1907 - val_accuracy: 0.6993\n",
            "Epoch 2/5\n",
            "140000/140000 [==============================] - 17s 123us/sample - loss: 0.1912 - accuracy: 0.7009 - val_loss: 0.1914 - val_accuracy: 0.6995\n",
            "Epoch 3/5\n",
            "140000/140000 [==============================] - 17s 124us/sample - loss: 0.1911 - accuracy: 0.7013 - val_loss: 0.1912 - val_accuracy: 0.7001\n",
            "Epoch 4/5\n",
            "140000/140000 [==============================] - 17s 123us/sample - loss: 0.1909 - accuracy: 0.7012 - val_loss: 0.1907 - val_accuracy: 0.7001\n",
            "Epoch 5/5\n",
            "140000/140000 [==============================] - 17s 123us/sample - loss: 0.1908 - accuracy: 0.7014 - val_loss: 0.1906 - val_accuracy: 0.6990\n"
          ],
          "name": "stdout"
        },
        {
          "output_type": "execute_result",
          "data": {
            "text/plain": [
              "<tensorflow.python.keras.callbacks.History at 0x7f56477b0a20>"
            ]
          },
          "metadata": {
            "tags": []
          },
          "execution_count": 184
        }
      ]
    },
    {
      "cell_type": "code",
      "metadata": {
        "id": "jPhaszYRCp9H",
        "colab_type": "code",
        "outputId": "56fc2de7-235e-4385-e1f5-e6cc5ed41795",
        "colab": {
          "base_uri": "https://localhost:8080/",
          "height": 51
        }
      },
      "source": [
        "scores,acc = model.evaluate(tfidf_trainData, tfidf_trainLabel, verbose=0)\n",
        "print(acc)\n",
        "\n",
        "test_scores,testacc = model.evaluate(tfidf_testData[10000:], tfidf_testLabel[10000:], verbose=0)\n",
        "print(testacc)"
      ],
      "execution_count": 0,
      "outputs": [
        {
          "output_type": "stream",
          "text": [
            "0.70199287\n",
            "0.70022\n"
          ],
          "name": "stdout"
        }
      ]
    },
    {
      "cell_type": "markdown",
      "metadata": {
        "id": "SCMK7rHanhmU",
        "colab_type": "text"
      },
      "source": [
        "In this section, I implemented a recurrent neural network on LTSM model, which consists of three layer,the LSTM layer acts as both the input layer and hidden layer(since the input is tf_idf encodded, there is no need to design an input layer to embed the raw text) with 128 elements, a flatten layer and a fully connected dense layer for output. The training take a batch size of 100 with 5 epochs in total, the testing result is 0.70022 which was better than that of logstic regression, and I suppose the accuracy can still be imporved with more advanced word embedding techniques."
      ]
    }
  ]
}